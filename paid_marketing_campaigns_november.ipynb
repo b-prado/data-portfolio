{
 "cells": [
  {
   "cell_type": "markdown",
   "id": "940b7004",
   "metadata": {},
   "source": [
    "\n",
    "# 1. Data Loading\n"
   ]
  },
  {
   "cell_type": "code",
   "execution_count": 1,
   "id": "1880a3e4",
   "metadata": {},
   "outputs": [],
   "source": [
    "# Read libraries\n",
    "import pandas as pd\n",
    "import plotly.express as px\n",
    "import plotly.graph_objects as go\n",
    "import numpy as np\n",
    "\n",
    "from plotly.subplots import make_subplots\n",
    "from datetime import datetime\n"
   ]
  },
  {
   "cell_type": "code",
   "execution_count": 2,
   "id": "508e3583",
   "metadata": {},
   "outputs": [],
   "source": [
    "import warnings\n",
    "warnings.filterwarnings(\"ignore\", category=RuntimeWarning)"
   ]
  },
  {
   "cell_type": "code",
   "execution_count": 3,
   "id": "36a4142a",
   "metadata": {},
   "outputs": [],
   "source": [
    "# Define the path to the marketing data file\n",
    "marketing_file = r'./case-study-task-marketing.parquet'\n",
    "\n",
    "# Load the parquet file into a DataFrame\n",
    "df = pd.read_parquet(marketing_file, engine=\"pyarrow\")"
   ]
  },
  {
   "cell_type": "markdown",
   "id": "d4738ade",
   "metadata": {},
   "source": [
    "\n",
    "# 2. Data Overview"
   ]
  },
  {
   "cell_type": "markdown",
   "id": "8d5a8f10",
   "metadata": {},
   "source": [
    "- Use `.info()` to undestand the dtypes\n",
    "\n",
    "- Use `.head()`. to understand structure and contents\n",
    "\n",
    "- Use `.describe()`. to see descriptive statistics\n",
    "    \n",
    "- Look for null values"
   ]
  },
  {
   "cell_type": "code",
   "execution_count": 4,
   "id": "129897b1",
   "metadata": {},
   "outputs": [
    {
     "name": "stdout",
     "output_type": "stream",
     "text": [
      "<class 'pandas.core.frame.DataFrame'>\n",
      "RangeIndex: 2627 entries, 0 to 2626\n",
      "Data columns (total 11 columns):\n",
      " #   Column                Non-Null Count  Dtype  \n",
      "---  ------                --------------  -----  \n",
      " 0   date                  2627 non-null   object \n",
      " 1   platform              2627 non-null   object \n",
      " 2   marketing_channel     2627 non-null   object \n",
      " 3   campaign_id           2627 non-null   object \n",
      " 4   country               2627 non-null   object \n",
      " 5   impressions           2627 non-null   int64  \n",
      " 6   clicks                2627 non-null   int64  \n",
      " 7   app_installs          2627 non-null   int64  \n",
      " 8   conversions           2627 non-null   int64  \n",
      " 9   marketing_spend_euro  2627 non-null   float64\n",
      " 10  revenue_euro          2627 non-null   float64\n",
      "dtypes: float64(2), int64(4), object(5)\n",
      "memory usage: 225.9+ KB\n"
     ]
    }
   ],
   "source": [
    "# Get a summary of the DataFrame (columns, non-null counts, data types)\n",
    "df.info()"
   ]
  },
  {
   "cell_type": "code",
   "execution_count": 5,
   "id": "0ccef24b",
   "metadata": {},
   "outputs": [
    {
     "data": {
      "text/html": [
       "<div>\n",
       "<style scoped>\n",
       "    .dataframe tbody tr th:only-of-type {\n",
       "        vertical-align: middle;\n",
       "    }\n",
       "\n",
       "    .dataframe tbody tr th {\n",
       "        vertical-align: top;\n",
       "    }\n",
       "\n",
       "    .dataframe thead th {\n",
       "        text-align: right;\n",
       "    }\n",
       "</style>\n",
       "<table border=\"1\" class=\"dataframe\">\n",
       "  <thead>\n",
       "    <tr style=\"text-align: right;\">\n",
       "      <th></th>\n",
       "      <th>date</th>\n",
       "      <th>platform</th>\n",
       "      <th>marketing_channel</th>\n",
       "      <th>campaign_id</th>\n",
       "      <th>country</th>\n",
       "      <th>impressions</th>\n",
       "      <th>clicks</th>\n",
       "      <th>app_installs</th>\n",
       "      <th>conversions</th>\n",
       "      <th>marketing_spend_euro</th>\n",
       "      <th>revenue_euro</th>\n",
       "    </tr>\n",
       "  </thead>\n",
       "  <tbody>\n",
       "    <tr>\n",
       "      <th>0</th>\n",
       "      <td>2023-11-01</td>\n",
       "      <td>android</td>\n",
       "      <td>Channel A</td>\n",
       "      <td>12347578214</td>\n",
       "      <td>CH</td>\n",
       "      <td>0</td>\n",
       "      <td>0</td>\n",
       "      <td>3</td>\n",
       "      <td>1</td>\n",
       "      <td>0.00</td>\n",
       "      <td>12.94</td>\n",
       "    </tr>\n",
       "    <tr>\n",
       "      <th>1</th>\n",
       "      <td>2023-11-01</td>\n",
       "      <td>android</td>\n",
       "      <td>Channel A</td>\n",
       "      <td>12347578214</td>\n",
       "      <td>FR</td>\n",
       "      <td>70732</td>\n",
       "      <td>1116</td>\n",
       "      <td>469</td>\n",
       "      <td>37</td>\n",
       "      <td>688.56</td>\n",
       "      <td>915.76</td>\n",
       "    </tr>\n",
       "    <tr>\n",
       "      <th>2</th>\n",
       "      <td>2023-11-01</td>\n",
       "      <td>android</td>\n",
       "      <td>Channel A</td>\n",
       "      <td>12347578214</td>\n",
       "      <td>IT</td>\n",
       "      <td>0</td>\n",
       "      <td>0</td>\n",
       "      <td>1</td>\n",
       "      <td>0</td>\n",
       "      <td>0.00</td>\n",
       "      <td>0.00</td>\n",
       "    </tr>\n",
       "    <tr>\n",
       "      <th>3</th>\n",
       "      <td>2023-11-01</td>\n",
       "      <td>android</td>\n",
       "      <td>Channel A</td>\n",
       "      <td>12579890294</td>\n",
       "      <td>NL</td>\n",
       "      <td>17173</td>\n",
       "      <td>356</td>\n",
       "      <td>145</td>\n",
       "      <td>7</td>\n",
       "      <td>279.76</td>\n",
       "      <td>190.20</td>\n",
       "    </tr>\n",
       "    <tr>\n",
       "      <th>4</th>\n",
       "      <td>2023-11-01</td>\n",
       "      <td>android</td>\n",
       "      <td>Channel A</td>\n",
       "      <td>12581196474</td>\n",
       "      <td>FR</td>\n",
       "      <td>0</td>\n",
       "      <td>0</td>\n",
       "      <td>1</td>\n",
       "      <td>0</td>\n",
       "      <td>0.00</td>\n",
       "      <td>0.00</td>\n",
       "    </tr>\n",
       "  </tbody>\n",
       "</table>\n",
       "</div>"
      ],
      "text/plain": [
       "         date platform marketing_channel  campaign_id country  impressions  \\\n",
       "0  2023-11-01  android         Channel A  12347578214      CH            0   \n",
       "1  2023-11-01  android         Channel A  12347578214      FR        70732   \n",
       "2  2023-11-01  android         Channel A  12347578214      IT            0   \n",
       "3  2023-11-01  android         Channel A  12579890294      NL        17173   \n",
       "4  2023-11-01  android         Channel A  12581196474      FR            0   \n",
       "\n",
       "   clicks  app_installs  conversions  marketing_spend_euro  revenue_euro  \n",
       "0       0             3            1                  0.00         12.94  \n",
       "1    1116           469           37                688.56        915.76  \n",
       "2       0             1            0                  0.00          0.00  \n",
       "3     356           145            7                279.76        190.20  \n",
       "4       0             1            0                  0.00          0.00  "
      ]
     },
     "execution_count": 5,
     "metadata": {},
     "output_type": "execute_result"
    }
   ],
   "source": [
    "# Display the first 5 rows of the DataFrame to understand its structure and contents\n",
    "df.head()"
   ]
  },
  {
   "cell_type": "code",
   "execution_count": 6,
   "id": "e582f6a9",
   "metadata": {},
   "outputs": [
    {
     "name": "stdout",
     "output_type": "stream",
     "text": [
      "## Descriptive Statistics:\n"
     ]
    },
    {
     "data": {
      "text/html": [
       "<div>\n",
       "<style scoped>\n",
       "    .dataframe tbody tr th:only-of-type {\n",
       "        vertical-align: middle;\n",
       "    }\n",
       "\n",
       "    .dataframe tbody tr th {\n",
       "        vertical-align: top;\n",
       "    }\n",
       "\n",
       "    .dataframe thead th {\n",
       "        text-align: right;\n",
       "    }\n",
       "</style>\n",
       "<table border=\"1\" class=\"dataframe\">\n",
       "  <thead>\n",
       "    <tr style=\"text-align: right;\">\n",
       "      <th></th>\n",
       "      <th>impressions</th>\n",
       "      <th>clicks</th>\n",
       "      <th>app_installs</th>\n",
       "      <th>conversions</th>\n",
       "      <th>marketing_spend_euro</th>\n",
       "      <th>revenue_euro</th>\n",
       "    </tr>\n",
       "  </thead>\n",
       "  <tbody>\n",
       "    <tr>\n",
       "      <th>count</th>\n",
       "      <td>2627.000000</td>\n",
       "      <td>2627.000000</td>\n",
       "      <td>2627.000000</td>\n",
       "      <td>2627.000000</td>\n",
       "      <td>2627.000000</td>\n",
       "      <td>2627.000000</td>\n",
       "    </tr>\n",
       "    <tr>\n",
       "      <th>mean</th>\n",
       "      <td>9318.816521</td>\n",
       "      <td>90.460601</td>\n",
       "      <td>38.987438</td>\n",
       "      <td>3.604872</td>\n",
       "      <td>101.878489</td>\n",
       "      <td>101.513129</td>\n",
       "    </tr>\n",
       "    <tr>\n",
       "      <th>std</th>\n",
       "      <td>26912.639949</td>\n",
       "      <td>207.279428</td>\n",
       "      <td>105.853684</td>\n",
       "      <td>11.645432</td>\n",
       "      <td>225.837117</td>\n",
       "      <td>324.971323</td>\n",
       "    </tr>\n",
       "    <tr>\n",
       "      <th>min</th>\n",
       "      <td>0.000000</td>\n",
       "      <td>0.000000</td>\n",
       "      <td>0.000000</td>\n",
       "      <td>0.000000</td>\n",
       "      <td>0.000000</td>\n",
       "      <td>0.000000</td>\n",
       "    </tr>\n",
       "    <tr>\n",
       "      <th>25%</th>\n",
       "      <td>0.000000</td>\n",
       "      <td>0.000000</td>\n",
       "      <td>0.500000</td>\n",
       "      <td>0.000000</td>\n",
       "      <td>0.000000</td>\n",
       "      <td>0.000000</td>\n",
       "    </tr>\n",
       "    <tr>\n",
       "      <th>50%</th>\n",
       "      <td>132.000000</td>\n",
       "      <td>9.000000</td>\n",
       "      <td>2.000000</td>\n",
       "      <td>0.000000</td>\n",
       "      <td>10.640000</td>\n",
       "      <td>0.000000</td>\n",
       "    </tr>\n",
       "    <tr>\n",
       "      <th>75%</th>\n",
       "      <td>3290.500000</td>\n",
       "      <td>94.000000</td>\n",
       "      <td>23.000000</td>\n",
       "      <td>2.000000</td>\n",
       "      <td>100.355000</td>\n",
       "      <td>46.790000</td>\n",
       "    </tr>\n",
       "    <tr>\n",
       "      <th>max</th>\n",
       "      <td>301149.000000</td>\n",
       "      <td>1498.000000</td>\n",
       "      <td>754.000000</td>\n",
       "      <td>133.000000</td>\n",
       "      <td>3248.770000</td>\n",
       "      <td>2983.160000</td>\n",
       "    </tr>\n",
       "  </tbody>\n",
       "</table>\n",
       "</div>"
      ],
      "text/plain": [
       "         impressions       clicks  app_installs  conversions  \\\n",
       "count    2627.000000  2627.000000   2627.000000  2627.000000   \n",
       "mean     9318.816521    90.460601     38.987438     3.604872   \n",
       "std     26912.639949   207.279428    105.853684    11.645432   \n",
       "min         0.000000     0.000000      0.000000     0.000000   \n",
       "25%         0.000000     0.000000      0.500000     0.000000   \n",
       "50%       132.000000     9.000000      2.000000     0.000000   \n",
       "75%      3290.500000    94.000000     23.000000     2.000000   \n",
       "max    301149.000000  1498.000000    754.000000   133.000000   \n",
       "\n",
       "       marketing_spend_euro  revenue_euro  \n",
       "count           2627.000000   2627.000000  \n",
       "mean             101.878489    101.513129  \n",
       "std              225.837117    324.971323  \n",
       "min                0.000000      0.000000  \n",
       "25%                0.000000      0.000000  \n",
       "50%               10.640000      0.000000  \n",
       "75%              100.355000     46.790000  \n",
       "max             3248.770000   2983.160000  "
      ]
     },
     "execution_count": 6,
     "metadata": {},
     "output_type": "execute_result"
    }
   ],
   "source": [
    "# Display descriptive statistics for numerical columns\n",
    "print(\"## Descriptive Statistics:\")\n",
    "df.describe()"
   ]
  },
  {
   "cell_type": "code",
   "execution_count": 7,
   "id": "4770ff29",
   "metadata": {},
   "outputs": [
    {
     "name": "stdout",
     "output_type": "stream",
     "text": [
      "## Null Values Count per Column:\n",
      "\n",
      "date                    0\n",
      "platform                0\n",
      "marketing_channel       0\n",
      "campaign_id             0\n",
      "country                 0\n",
      "impressions             0\n",
      "clicks                  0\n",
      "app_installs            0\n",
      "conversions             0\n",
      "marketing_spend_euro    0\n",
      "revenue_euro            0\n",
      "dtype: int64\n"
     ]
    }
   ],
   "source": [
    "# Check for null values in the DataFrame\n",
    "null_counts = df.isnull().sum()\n",
    "print(\"## Null Values Count per Column:\\n\")\n",
    "print(null_counts)"
   ]
  },
  {
   "cell_type": "code",
   "execution_count": 8,
   "id": "0b3482e1",
   "metadata": {},
   "outputs": [
    {
     "name": "stdout",
     "output_type": "stream",
     "text": [
      "## All clear! There are no null values in the DataFrame.\n"
     ]
    }
   ],
   "source": [
    "# Test to verify if there are no null values in the entire DataFrame\n",
    "if df.isnull().sum().sum() == 0:\n",
    "    print(\"## All clear! There are no null values in the DataFrame.\")\n",
    "else:\n",
    "    raise ValueError(\"There are null values in the DataFrame!\")"
   ]
  },
  {
   "cell_type": "markdown",
   "id": "2d83f76e",
   "metadata": {},
   "source": [
    "> After understanding the dataframe, we can proceed to data transformation."
   ]
  },
  {
   "cell_type": "markdown",
   "id": "e93067a4",
   "metadata": {},
   "source": [
    "# 3. Data Transformation"
   ]
  },
  {
   "cell_type": "markdown",
   "id": "4a53b6e1",
   "metadata": {},
   "source": [
    "Since we want to analyze this data from multiple dimensions (e.g. `country`,`platform `, `marketing_channel`, etc), it is convenient to write a function that can be reused flexibly.\n",
    "\n",
    "I will follow the steps:\n",
    "1. Aggregate the data using pandas `.agg()`\n",
    "2. Calculate the metrics using `calculate_metrics()`\n",
    "3. Style the output using `format_df()`"
   ]
  },
  {
   "cell_type": "markdown",
   "id": "c513d85d",
   "metadata": {},
   "source": [
    "## 3.1  Calculate Metrics"
   ]
  },
  {
   "cell_type": "markdown",
   "id": "7e6a9a11",
   "metadata": {},
   "source": [
    "The `calculate_metrics` function is important in marketing analytics because it ensures precise calculations by aggregating data before deriving metrics. For example, `CTR` is computed as the total clicks divided by the total impressions, avoiding errors that can arise from averaging individual `CTR` values.\n",
    "\n",
    "These metrics represent key stages of the marketing funnel, providing insights into user behavior and campaign performance. Metrics are categorized into:\n",
    "\n",
    "- **Absolute Metrics**: `impressions`, `clicks`, `conversions`...\n",
    "- **Relative Conversion Metrics**: `CTR`, `click_to_install_rate`,`install_to_conversion`...\n",
    "- **Associated Cost Metrics**: `CPC`, `CPI`...\n",
    "- **Business Metrics**: `profit`, `ROAS`...\n",
    "\n",
    "The function's reusable design makes it adaptable for analyzing different groupings, such as by campaign, platform, or time period, streamlining iterative analysis and enabling flexibility in decision-making."
   ]
  },
  {
   "cell_type": "code",
   "execution_count": 9,
   "id": "eaea1148",
   "metadata": {},
   "outputs": [],
   "source": [
    "# Function to Calculate Metrics\n",
    "def calculate_metrics(df):\n",
    "    \"\"\"\n",
    "    Calculates derived, cost, and business metrics for an aggregated DataFrame, replacing infinite values with NaN.\n",
    "\n",
    "    Args:\n",
    "        df (pd.DataFrame): Aggregated DataFrame with base columns.\n",
    "\n",
    "    Returns:\n",
    "        pd.DataFrame: DataFrame with additional calculated metrics.\n",
    "    \"\"\"\n",
    "    # Create a copy to avoid modifying the input DataFrame\n",
    "    df_metrics = df.copy()\n",
    "\n",
    "    # Calculate derived/relative metrics\n",
    "    df_metrics['click_through_rate'] = (df_metrics['clicks'] / df_metrics['impressions'] * 100).round(2)  # Click-through rate\n",
    "    df_metrics['click_to_install_rate'] = (df_metrics['app_installs'] / df_metrics['clicks'] * 100).round(2)  # Install rate\n",
    "    df_metrics['install_to_conversion_rate'] = (df_metrics['conversions'] / df_metrics['app_installs'] * 100).round(2)  # Conversion rate\n",
    "\n",
    "    # Calculate cost-associated metrics\n",
    "    df_metrics['cpm'] = (df_metrics['marketing_spend_euro'] / df_metrics['impressions'] * 1000).round(2)  # Cost per 1000 impressions\n",
    "    df_metrics['cpc'] = (df_metrics['marketing_spend_euro'] / df_metrics['clicks']).round(2)  # Cost per click\n",
    "    df_metrics['cpi'] = (df_metrics['marketing_spend_euro'] / df_metrics['app_installs']).round(2)  # Cost per install\n",
    "    df_metrics['cpa'] = (df_metrics['marketing_spend_euro'] / df_metrics['conversions']).round(2)  # Cost per acquisition (conversion)\n",
    "\n",
    "    # Calculate business metrics\n",
    "    df_metrics['rpa'] = (df_metrics['revenue_euro'] / df_metrics['conversions']).round(2)  # Revenue per acquisition (conversion)\n",
    "    df_metrics['profit'] = (df_metrics['revenue_euro'] - df_metrics['marketing_spend_euro']).round(2)  # Total profit\n",
    "    df_metrics['return_on_ad_spend_percentage'] = (df_metrics['revenue_euro'] / df_metrics['marketing_spend_euro'] * 100).round(2)  # ROAS\n",
    "    df_metrics['return_on_investment_percentage'] = (df_metrics['profit'] / df_metrics['marketing_spend_euro'] * 100).round(2)  # ROI\n",
    "\n",
    "    # Replace infinite values with NaN to avoid problems when plotting\n",
    "    df_metrics.replace([np.inf, -np.inf], np.nan, inplace=True)\n",
    "\n",
    "    return df_metrics"
   ]
  },
  {
   "cell_type": "markdown",
   "id": "6fe6a37d",
   "metadata": {},
   "source": [
    "## 3.2 Format metrics"
   ]
  },
  {
   "cell_type": "code",
   "execution_count": 10,
   "id": "3ef15fc7",
   "metadata": {},
   "outputs": [],
   "source": [
    "# Function to Format Metrics for Display\n",
    "def format_metrics(df):\n",
    "    \"\"\"\n",
    "    Formats metrics for display using pandas Styler to apply consistent formatting, including percentages,\n",
    "    currency, and thousands separators, while allowing visual enhancements like bars.\n",
    "\n",
    "    Args:\n",
    "        df (pd.DataFrame): DataFrame with calculated metrics.\n",
    "\n",
    "    Returns:\n",
    "        pd.io.formats.style.Styler: A styled DataFrame ready for display.\n",
    "    \"\"\"\n",
    "    styled_df = df.style.hide(axis=\"index\") \\\n",
    "        .bar(subset=['app_installs','conversions','marketing_spend_euro','revenue_euro','profit', 'cpi', 'install_to_conversion_rate'], align='mid', color=['#d65f5f', '#8ecbfa']) \\\n",
    "        .format(\n",
    "            formatter={\n",
    "                'impressions': \"{:,}\",\n",
    "                'clicks': \"{:,}\",\n",
    "                'app_installs': \"{:,}\",\n",
    "                'conversions': \"{:,}\",\n",
    "                'marketing_spend_euro': \"€{:.2f}\",\n",
    "                'revenue_euro': \"€{:.2f}\",\n",
    "                'click_through_rate': lambda x: f\"{x:.2f}%\",\n",
    "                'click_to_install_rate': lambda x: f\"{x:.2f}%\",\n",
    "                'install_to_conversion_rate': lambda x: f\"{x:.2f}%\",\n",
    "                'cpm': \"€{:.2f}\",\n",
    "                'cpc': \"€{:.2f}\",\n",
    "                'cpi': \"€{:.2f}\",\n",
    "                'cpa': \"€{:.2f}\",\n",
    "                'profit': \"€{:.2f}\",\n",
    "                'return_on_ad_spend_percentage': lambda x: f\"{x:.2f}%\",\n",
    "                'return_on_investment_percentage': lambda x: f\"{x:.2f}%\",\n",
    "                'rpa': \"€{:.2f}\"\n",
    "            }\n",
    "        )\n",
    "\n",
    "    return styled_df"
   ]
  },
  {
   "cell_type": "code",
   "execution_count": 11,
   "id": "9acfb2cd",
   "metadata": {},
   "outputs": [],
   "source": [
    "# Function to Format Metrics for Display, but for less column (the selected ones)\n",
    "def format_metrics_selected_columns(df):\n",
    "    \"\"\"\n",
    "    Formats metrics for display using pandas Styler to apply consistent formatting, including percentages,\n",
    "    currency, and thousands separators, while allowing visual enhancements like bars.\n",
    "\n",
    "    Args:\n",
    "        df (pd.DataFrame): DataFrame with calculated metrics.\n",
    "\n",
    "    Returns:\n",
    "        pd.io.formats.style.Styler: A styled DataFrame ready for display.\n",
    "    \"\"\"\n",
    "    styled_df = df.style.hide(axis=\"index\") \\\n",
    "        .bar(subset=['app_installs', 'cpi', 'install_to_conversion_rate','profit'], align='mid', color=['#d65f5f', '#8ecbfa']) \\\n",
    "        .format(\n",
    "            formatter={\n",
    "                'impressions': \"{:,}\",\n",
    "                'clicks': \"{:,}\",\n",
    "                'app_installs': \"{:,}\",\n",
    "                'conversions': \"{:,}\",\n",
    "                'marketing_spend_euro': \"€{:.2f}\",\n",
    "                'revenue_euro': \"€{:.2f}\",\n",
    "                'click_through_rate': lambda x: f\"{x:.2f}%\",\n",
    "                'click_to_install_rate': lambda x: f\"{x:.2f}%\",\n",
    "                'install_to_conversion_rate': lambda x: f\"{x:.2f}%\",\n",
    "                'cpm': \"€{:.2f}\",\n",
    "                'cpc': \"€{:.2f}\",\n",
    "                'cpi': \"€{:.2f}\",\n",
    "                'cpa': \"€{:.2f}\",\n",
    "                'profit': \"€{:.2f}\",\n",
    "                'return_on_ad_spend_percentage': lambda x: f\"{x:.2f}%\",\n",
    "                'return_on_investment_percentage': lambda x: f\"{x:.2f}%\",\n",
    "                'rpa': \"€{:.2f}\"\n",
    "            }\n",
    "        )\n",
    "\n",
    "    return styled_df"
   ]
  },
  {
   "cell_type": "code",
   "execution_count": 12,
   "id": "db9daca9",
   "metadata": {},
   "outputs": [],
   "source": [
    "# absolute_columns = ['impressions', 'clicks', 'app_installs', 'conversions', 'marketing_spend_euro', 'revenue_euro']\n",
    "\n",
    "# relative_columns = ['click_through_rate','click_to_install_rate', 'install_to_conversion_rate']\n",
    "\n",
    "# cost_columns = ['cpm', 'cpc', 'cpi', 'cpa']\n",
    "\n",
    "# business_columns =['profit', 'return_on_ad_spend_percentage','return_on_investment_percentage']\n",
    "\n",
    "# main_columns =['marketing_spend_euro','cpa','profit', 'return_on_ad_spend_percentage']\n",
    "\n",
    "# # format_df[main_columns]"
   ]
  },
  {
   "cell_type": "markdown",
   "id": "15a59082",
   "metadata": {},
   "source": [
    "## 3.3 Execute the transformations"
   ]
  },
  {
   "cell_type": "markdown",
   "id": "e8596f62",
   "metadata": {},
   "source": [
    "```python\n",
    "## SNIPPET ##\n",
    "# Aggregate the data with the desired dimensions\n",
    "agg_df = df.groupby([dimensions]).sum(numeric_only=True)\n",
    "\n",
    "# Calculate the metrics\n",
    "df_metrics = calculate_metrics(agg_df).reset_index()\n",
    "\n",
    "# Filter the country\n",
    "filtered_df_de = df_metrics[df_metrics['country'] == 'DE']\n",
    "filtered_df_us = df_metrics[df_metrics['country'] == 'US']\n",
    "\n",
    "# Stytle the output table\n",
    "formatted_df = format_metrics(df_metrics)\n",
    "```"
   ]
  },
  {
   "cell_type": "markdown",
   "id": "2fe51da6",
   "metadata": {},
   "source": [
    "### 3.3.1 Create `df_channels_over_time`"
   ]
  },
  {
   "cell_type": "code",
   "execution_count": 13,
   "id": "e4261554",
   "metadata": {},
   "outputs": [],
   "source": [
    "# Aggregate the data\n",
    "agg_df = df.groupby(['country','marketing_channel','date']).sum(numeric_only=True)\n",
    "\n",
    "#Calculate the metrics\n",
    "df_metrics = calculate_metrics(agg_df).reset_index()\n",
    "\n",
    "# Create the object\n",
    "df_channels_over_time = df_metrics.copy()"
   ]
  },
  {
   "cell_type": "markdown",
   "id": "ca1b5583",
   "metadata": {},
   "source": [
    "# 4. Data Analysis"
   ]
  },
  {
   "cell_type": "markdown",
   "id": "4ebca34b",
   "metadata": {},
   "source": [
    "## 4.1 Main KPIS"
   ]
  },
  {
   "cell_type": "markdown",
   "id": "45c8d4c3",
   "metadata": {},
   "source": [
    "In evaluating the performance of paid marketing campaigns, it is crucial to consider multiple Key Performance Indicators (KPIs) to gain a holistic understanding of campaign effectiveness. Each KPI provides unique insights into different aspects of performance, allowing for a balanced approach to decision-making. \n",
    "\n",
    "Since **the objective of these campaigns is to maximize app installations while maintaining a balanced consideration of financial implications**, keeping in mind the limitation to use few KPIs, I would choose: **Installs**, **Cost Per Install (CPI)**, **Install-to-Conversion Rate**, and **Profit**.\n",
    "\n",
    "- **Installs** reflect the volume of the campaign, showing how many users have been acquired through paid marketing efforts.\n",
    "- **CPI** reflects the cost-efficiency of acquiring app installs, addressing the primary objective of maximizing installations while considering financial constraints.\n",
    "- **Install-to-Conversion Rate** evaluates the quality of installs by measuring how effectively they convert into paying subscribers, ensuring that the installs generate meaningful engagement.\n",
    "- **Profit** captures the financial outcome of campaigns, balancing revenue generation against marketing expenses to highlight overall success."
   ]
  },
  {
   "cell_type": "code",
   "execution_count": 14,
   "id": "db187ef3",
   "metadata": {},
   "outputs": [],
   "source": [
    "selected_columns = ['country','platform','marketing_channel', 'app_installs','cpi','install_to_conversion_rate','profit']"
   ]
  },
  {
   "cell_type": "code",
   "execution_count": 15,
   "id": "fe5c2b93",
   "metadata": {},
   "outputs": [
    {
     "data": {
      "text/html": [
       "<style type=\"text/css\">\n",
       "#T_921a1_row0_col3, #T_921a1_row2_col4, #T_921a1_row3_col5 {\n",
       "  width: 10em;\n",
       "  background: linear-gradient(90deg, #8ecbfa 100.0%, transparent 100.0%);\n",
       "}\n",
       "#T_921a1_row0_col4, #T_921a1_row4_col4 {\n",
       "  width: 10em;\n",
       "  background: linear-gradient(90deg, #8ecbfa 0.2%, transparent 0.2%);\n",
       "}\n",
       "#T_921a1_row0_col5 {\n",
       "  width: 10em;\n",
       "  background: linear-gradient(90deg, #8ecbfa 68.5%, transparent 68.5%);\n",
       "}\n",
       "#T_921a1_row0_col6 {\n",
       "  width: 10em;\n",
       "  background: linear-gradient(90deg, transparent 21.0%, #8ecbfa 21.0%, #8ecbfa 100.0%, transparent 100.0%);\n",
       "}\n",
       "#T_921a1_row1_col3 {\n",
       "  width: 10em;\n",
       "  background: linear-gradient(90deg, #8ecbfa 1.0%, transparent 1.0%);\n",
       "}\n",
       "#T_921a1_row1_col4, #T_921a1_row2_col5, #T_921a1_row7_col3, #T_921a1_row7_col4, #T_921a1_row7_col5 {\n",
       "  width: 10em;\n",
       "}\n",
       "#T_921a1_row1_col5 {\n",
       "  width: 10em;\n",
       "  background: linear-gradient(90deg, #8ecbfa 20.0%, transparent 20.0%);\n",
       "}\n",
       "#T_921a1_row1_col6 {\n",
       "  width: 10em;\n",
       "  background: linear-gradient(90deg, transparent 21.0%, #8ecbfa 21.0%, #8ecbfa 21.4%, transparent 21.4%);\n",
       "}\n",
       "#T_921a1_row2_col3 {\n",
       "  width: 10em;\n",
       "  background: linear-gradient(90deg, #8ecbfa 0.0%, transparent 0.0%);\n",
       "}\n",
       "#T_921a1_row2_col6 {\n",
       "  width: 10em;\n",
       "  background: linear-gradient(90deg, transparent 16.7%, #d65f5f 16.7%, #d65f5f 21.0%, transparent 21.0%);\n",
       "}\n",
       "#T_921a1_row3_col3 {\n",
       "  width: 10em;\n",
       "  background: linear-gradient(90deg, #8ecbfa 0.1%, transparent 0.1%);\n",
       "}\n",
       "#T_921a1_row3_col4 {\n",
       "  width: 10em;\n",
       "  background: linear-gradient(90deg, #8ecbfa 98.5%, transparent 98.5%);\n",
       "}\n",
       "#T_921a1_row3_col6 {\n",
       "  width: 10em;\n",
       "  background: linear-gradient(90deg, #d65f5f 21.0%, transparent 21.0%);\n",
       "}\n",
       "#T_921a1_row4_col3 {\n",
       "  width: 10em;\n",
       "  background: linear-gradient(90deg, #8ecbfa 78.1%, transparent 78.1%);\n",
       "}\n",
       "#T_921a1_row4_col5 {\n",
       "  width: 10em;\n",
       "  background: linear-gradient(90deg, #8ecbfa 48.1%, transparent 48.1%);\n",
       "}\n",
       "#T_921a1_row4_col6 {\n",
       "  width: 10em;\n",
       "  background: linear-gradient(90deg, transparent 21.0%, #8ecbfa 21.0%, #8ecbfa 47.2%, transparent 47.2%);\n",
       "}\n",
       "#T_921a1_row5_col3, #T_921a1_row5_col5 {\n",
       "  width: 10em;\n",
       "  background: linear-gradient(90deg, #8ecbfa 22.1%, transparent 22.1%);\n",
       "}\n",
       "#T_921a1_row5_col4 {\n",
       "  width: 10em;\n",
       "  background: linear-gradient(90deg, #8ecbfa 0.3%, transparent 0.3%);\n",
       "}\n",
       "#T_921a1_row5_col6 {\n",
       "  width: 10em;\n",
       "  background: linear-gradient(90deg, transparent 7.8%, #d65f5f 7.8%, #d65f5f 21.0%, transparent 21.0%);\n",
       "}\n",
       "#T_921a1_row6_col3 {\n",
       "  width: 10em;\n",
       "  background: linear-gradient(90deg, #8ecbfa 10.7%, transparent 10.7%);\n",
       "}\n",
       "#T_921a1_row6_col4 {\n",
       "  width: 10em;\n",
       "  background: linear-gradient(90deg, #8ecbfa 0.6%, transparent 0.6%);\n",
       "}\n",
       "#T_921a1_row6_col5 {\n",
       "  width: 10em;\n",
       "  background: linear-gradient(90deg, #8ecbfa 37.0%, transparent 37.0%);\n",
       "}\n",
       "#T_921a1_row6_col6 {\n",
       "  width: 10em;\n",
       "  background: linear-gradient(90deg, transparent 7.7%, #d65f5f 7.7%, #d65f5f 21.0%, transparent 21.0%);\n",
       "}\n",
       "#T_921a1_row7_col6 {\n",
       "  width: 10em;\n",
       "  background: linear-gradient(90deg, transparent 1.8%, #d65f5f 1.8%, #d65f5f 21.0%, transparent 21.0%);\n",
       "}\n",
       "</style>\n",
       "<table id=\"T_921a1\">\n",
       "  <thead>\n",
       "    <tr>\n",
       "      <th id=\"T_921a1_level0_col0\" class=\"col_heading level0 col0\" >country</th>\n",
       "      <th id=\"T_921a1_level0_col1\" class=\"col_heading level0 col1\" >platform</th>\n",
       "      <th id=\"T_921a1_level0_col2\" class=\"col_heading level0 col2\" >marketing_channel</th>\n",
       "      <th id=\"T_921a1_level0_col3\" class=\"col_heading level0 col3\" >app_installs</th>\n",
       "      <th id=\"T_921a1_level0_col4\" class=\"col_heading level0 col4\" >cpi</th>\n",
       "      <th id=\"T_921a1_level0_col5\" class=\"col_heading level0 col5\" >install_to_conversion_rate</th>\n",
       "      <th id=\"T_921a1_level0_col6\" class=\"col_heading level0 col6\" >profit</th>\n",
       "    </tr>\n",
       "  </thead>\n",
       "  <tbody>\n",
       "    <tr>\n",
       "      <td id=\"T_921a1_row0_col0\" class=\"data row0 col0\" >DE</td>\n",
       "      <td id=\"T_921a1_row0_col1\" class=\"data row0 col1\" >ios</td>\n",
       "      <td id=\"T_921a1_row0_col2\" class=\"data row0 col2\" >Channel C</td>\n",
       "      <td id=\"T_921a1_row0_col3\" class=\"data row0 col3\" >22,972</td>\n",
       "      <td id=\"T_921a1_row0_col4\" class=\"data row0 col4\" >€1.59</td>\n",
       "      <td id=\"T_921a1_row0_col5\" class=\"data row0 col5\" >13.71%</td>\n",
       "      <td id=\"T_921a1_row0_col6\" class=\"data row0 col6\" >€51454.35</td>\n",
       "    </tr>\n",
       "    <tr>\n",
       "      <td id=\"T_921a1_row1_col0\" class=\"data row1 col0\" >DE</td>\n",
       "      <td id=\"T_921a1_row1_col1\" class=\"data row1 col1\" >ios</td>\n",
       "      <td id=\"T_921a1_row1_col2\" class=\"data row1 col2\" >Channel E</td>\n",
       "      <td id=\"T_921a1_row1_col3\" class=\"data row1 col3\" >225</td>\n",
       "      <td id=\"T_921a1_row1_col4\" class=\"data row1 col4\" >€0.00</td>\n",
       "      <td id=\"T_921a1_row1_col5\" class=\"data row1 col5\" >4.00%</td>\n",
       "      <td id=\"T_921a1_row1_col6\" class=\"data row1 col6\" >€250.38</td>\n",
       "    </tr>\n",
       "    <tr>\n",
       "      <td id=\"T_921a1_row2_col0\" class=\"data row2 col0\" >DE</td>\n",
       "      <td id=\"T_921a1_row2_col1\" class=\"data row2 col1\" >ios</td>\n",
       "      <td id=\"T_921a1_row2_col2\" class=\"data row2 col2\" >Channel A</td>\n",
       "      <td id=\"T_921a1_row2_col3\" class=\"data row2 col3\" >3</td>\n",
       "      <td id=\"T_921a1_row2_col4\" class=\"data row2 col4\" >€931.91</td>\n",
       "      <td id=\"T_921a1_row2_col5\" class=\"data row2 col5\" >0.00%</td>\n",
       "      <td id=\"T_921a1_row2_col6\" class=\"data row2 col6\" >€-2795.72</td>\n",
       "    </tr>\n",
       "    <tr>\n",
       "      <td id=\"T_921a1_row3_col0\" class=\"data row3 col0\" >DE</td>\n",
       "      <td id=\"T_921a1_row3_col1\" class=\"data row3 col1\" >ios</td>\n",
       "      <td id=\"T_921a1_row3_col2\" class=\"data row3 col2\" >Channel B</td>\n",
       "      <td id=\"T_921a1_row3_col3\" class=\"data row3 col3\" >15</td>\n",
       "      <td id=\"T_921a1_row3_col4\" class=\"data row3 col4\" >€917.89</td>\n",
       "      <td id=\"T_921a1_row3_col5\" class=\"data row3 col5\" >20.00%</td>\n",
       "      <td id=\"T_921a1_row3_col6\" class=\"data row3 col6\" >€-13658.21</td>\n",
       "    </tr>\n",
       "    <tr>\n",
       "      <td id=\"T_921a1_row4_col0\" class=\"data row4 col0\" >DE</td>\n",
       "      <td id=\"T_921a1_row4_col1\" class=\"data row4 col1\" >android</td>\n",
       "      <td id=\"T_921a1_row4_col2\" class=\"data row4 col2\" >Channel A</td>\n",
       "      <td id=\"T_921a1_row4_col3\" class=\"data row4 col3\" >17,951</td>\n",
       "      <td id=\"T_921a1_row4_col4\" class=\"data row4 col4\" >€1.84</td>\n",
       "      <td id=\"T_921a1_row4_col5\" class=\"data row4 col5\" >9.62%</td>\n",
       "      <td id=\"T_921a1_row4_col6\" class=\"data row4 col6\" >€17064.63</td>\n",
       "    </tr>\n",
       "    <tr>\n",
       "      <td id=\"T_921a1_row5_col0\" class=\"data row5 col0\" >DE</td>\n",
       "      <td id=\"T_921a1_row5_col1\" class=\"data row5 col1\" >android</td>\n",
       "      <td id=\"T_921a1_row5_col2\" class=\"data row5 col2\" >Channel B</td>\n",
       "      <td id=\"T_921a1_row5_col3\" class=\"data row5 col3\" >5,081</td>\n",
       "      <td id=\"T_921a1_row5_col4\" class=\"data row5 col4\" >€3.12</td>\n",
       "      <td id=\"T_921a1_row5_col5\" class=\"data row5 col5\" >4.43%</td>\n",
       "      <td id=\"T_921a1_row5_col6\" class=\"data row5 col6\" >€-8593.46</td>\n",
       "    </tr>\n",
       "    <tr>\n",
       "      <td id=\"T_921a1_row6_col0\" class=\"data row6 col0\" >DE</td>\n",
       "      <td id=\"T_921a1_row6_col1\" class=\"data row6 col1\" >android</td>\n",
       "      <td id=\"T_921a1_row6_col2\" class=\"data row6 col2\" >Channel E</td>\n",
       "      <td id=\"T_921a1_row6_col3\" class=\"data row6 col3\" >2,457</td>\n",
       "      <td id=\"T_921a1_row6_col4\" class=\"data row6 col4\" >€5.86</td>\n",
       "      <td id=\"T_921a1_row6_col5\" class=\"data row6 col5\" >7.41%</td>\n",
       "      <td id=\"T_921a1_row6_col6\" class=\"data row6 col6\" >€-8626.30</td>\n",
       "    </tr>\n",
       "    <tr>\n",
       "      <td id=\"T_921a1_row7_col0\" class=\"data row7 col0\" >DE</td>\n",
       "      <td id=\"T_921a1_row7_col1\" class=\"data row7 col1\" >android</td>\n",
       "      <td id=\"T_921a1_row7_col2\" class=\"data row7 col2\" >Channel D</td>\n",
       "      <td id=\"T_921a1_row7_col3\" class=\"data row7 col3\" >0</td>\n",
       "      <td id=\"T_921a1_row7_col4\" class=\"data row7 col4\" >€0.00</td>\n",
       "      <td id=\"T_921a1_row7_col5\" class=\"data row7 col5\" >0.00%</td>\n",
       "      <td id=\"T_921a1_row7_col6\" class=\"data row7 col6\" >€-12500.97</td>\n",
       "    </tr>\n",
       "  </tbody>\n",
       "</table>\n"
      ],
      "text/plain": [
       "<pandas.io.formats.style.Styler at 0x1693f6c50>"
      ]
     },
     "metadata": {},
     "output_type": "display_data"
    },
    {
     "data": {
      "text/html": [
       "<style type=\"text/css\">\n",
       "#T_b1b05_row0_col3, #T_b1b05_row0_col4, #T_b1b05_row0_col5, #T_b1b05_row0_col6, #T_b1b05_row1_col5, #T_b1b05_row2_col5, #T_b1b05_row4_col4, #T_b1b05_row4_col5, #T_b1b05_row4_col6, #T_b1b05_row5_col3, #T_b1b05_row5_col4, #T_b1b05_row5_col5, #T_b1b05_row5_col6, #T_b1b05_row6_col3, #T_b1b05_row6_col4, #T_b1b05_row6_col5 {\n",
       "  width: 10em;\n",
       "}\n",
       "#T_b1b05_row1_col3, #T_b1b05_row2_col3 {\n",
       "  width: 10em;\n",
       "  background: linear-gradient(90deg, #8ecbfa 0.0%, transparent 0.0%);\n",
       "}\n",
       "#T_b1b05_row1_col4 {\n",
       "  width: 10em;\n",
       "  background: linear-gradient(90deg, #8ecbfa 74.3%, transparent 74.3%);\n",
       "}\n",
       "#T_b1b05_row1_col6 {\n",
       "  width: 10em;\n",
       "  background: linear-gradient(90deg, transparent 54.3%, #d65f5f 54.3%, #d65f5f 100.0%, transparent 100.0%);\n",
       "}\n",
       "#T_b1b05_row2_col4, #T_b1b05_row3_col3, #T_b1b05_row3_col5 {\n",
       "  width: 10em;\n",
       "  background: linear-gradient(90deg, #8ecbfa 100.0%, transparent 100.0%);\n",
       "}\n",
       "#T_b1b05_row2_col6 {\n",
       "  width: 10em;\n",
       "  background: linear-gradient(90deg, transparent 38.4%, #d65f5f 38.4%, #d65f5f 100.0%, transparent 100.0%);\n",
       "}\n",
       "#T_b1b05_row3_col4, #T_b1b05_row7_col4 {\n",
       "  width: 10em;\n",
       "  background: linear-gradient(90deg, #8ecbfa 0.1%, transparent 0.1%);\n",
       "}\n",
       "#T_b1b05_row3_col6 {\n",
       "  width: 10em;\n",
       "  background: linear-gradient(90deg, #d65f5f 100.0%, transparent 100.0%);\n",
       "}\n",
       "#T_b1b05_row4_col3 {\n",
       "  width: 10em;\n",
       "  background: linear-gradient(90deg, #8ecbfa 0.2%, transparent 0.2%);\n",
       "}\n",
       "#T_b1b05_row6_col6 {\n",
       "  width: 10em;\n",
       "  background: linear-gradient(90deg, transparent 73.0%, #d65f5f 73.0%, #d65f5f 100.0%, transparent 100.0%);\n",
       "}\n",
       "#T_b1b05_row7_col3 {\n",
       "  width: 10em;\n",
       "  background: linear-gradient(90deg, #8ecbfa 40.1%, transparent 40.1%);\n",
       "}\n",
       "#T_b1b05_row7_col5 {\n",
       "  width: 10em;\n",
       "  background: linear-gradient(90deg, #8ecbfa 69.0%, transparent 69.0%);\n",
       "}\n",
       "#T_b1b05_row7_col6 {\n",
       "  width: 10em;\n",
       "  background: linear-gradient(90deg, transparent 43.9%, #d65f5f 43.9%, #d65f5f 100.0%, transparent 100.0%);\n",
       "}\n",
       "</style>\n",
       "<table id=\"T_b1b05\">\n",
       "  <thead>\n",
       "    <tr>\n",
       "      <th id=\"T_b1b05_level0_col0\" class=\"col_heading level0 col0\" >country</th>\n",
       "      <th id=\"T_b1b05_level0_col1\" class=\"col_heading level0 col1\" >platform</th>\n",
       "      <th id=\"T_b1b05_level0_col2\" class=\"col_heading level0 col2\" >marketing_channel</th>\n",
       "      <th id=\"T_b1b05_level0_col3\" class=\"col_heading level0 col3\" >app_installs</th>\n",
       "      <th id=\"T_b1b05_level0_col4\" class=\"col_heading level0 col4\" >cpi</th>\n",
       "      <th id=\"T_b1b05_level0_col5\" class=\"col_heading level0 col5\" >install_to_conversion_rate</th>\n",
       "      <th id=\"T_b1b05_level0_col6\" class=\"col_heading level0 col6\" >profit</th>\n",
       "    </tr>\n",
       "  </thead>\n",
       "  <tbody>\n",
       "    <tr>\n",
       "      <td id=\"T_b1b05_row0_col0\" class=\"data row0 col0\" >US</td>\n",
       "      <td id=\"T_b1b05_row0_col1\" class=\"data row0 col1\" >ios</td>\n",
       "      <td id=\"T_b1b05_row0_col2\" class=\"data row0 col2\" >Channel E</td>\n",
       "      <td id=\"T_b1b05_row0_col3\" class=\"data row0 col3\" >0</td>\n",
       "      <td id=\"T_b1b05_row0_col4\" class=\"data row0 col4\" >€0.00</td>\n",
       "      <td id=\"T_b1b05_row0_col5\" class=\"data row0 col5\" >0.00%</td>\n",
       "      <td id=\"T_b1b05_row0_col6\" class=\"data row0 col6\" >€0.00</td>\n",
       "    </tr>\n",
       "    <tr>\n",
       "      <td id=\"T_b1b05_row1_col0\" class=\"data row1 col0\" >US</td>\n",
       "      <td id=\"T_b1b05_row1_col1\" class=\"data row1 col1\" >ios</td>\n",
       "      <td id=\"T_b1b05_row1_col2\" class=\"data row1 col2\" >Channel B</td>\n",
       "      <td id=\"T_b1b05_row1_col3\" class=\"data row1 col3\" >1</td>\n",
       "      <td id=\"T_b1b05_row1_col4\" class=\"data row1 col4\" >€2595.43</td>\n",
       "      <td id=\"T_b1b05_row1_col5\" class=\"data row1 col5\" >0.00%</td>\n",
       "      <td id=\"T_b1b05_row1_col6\" class=\"data row1 col6\" >€-2595.43</td>\n",
       "    </tr>\n",
       "    <tr>\n",
       "      <td id=\"T_b1b05_row2_col0\" class=\"data row2 col0\" >US</td>\n",
       "      <td id=\"T_b1b05_row2_col1\" class=\"data row2 col1\" >ios</td>\n",
       "      <td id=\"T_b1b05_row2_col2\" class=\"data row2 col2\" >Channel A</td>\n",
       "      <td id=\"T_b1b05_row2_col3\" class=\"data row2 col3\" >1</td>\n",
       "      <td id=\"T_b1b05_row2_col4\" class=\"data row2 col4\" >€3494.55</td>\n",
       "      <td id=\"T_b1b05_row2_col5\" class=\"data row2 col5\" >0.00%</td>\n",
       "      <td id=\"T_b1b05_row2_col6\" class=\"data row2 col6\" >€-3494.55</td>\n",
       "    </tr>\n",
       "    <tr>\n",
       "      <td id=\"T_b1b05_row3_col0\" class=\"data row3 col0\" >US</td>\n",
       "      <td id=\"T_b1b05_row3_col1\" class=\"data row3 col1\" >ios</td>\n",
       "      <td id=\"T_b1b05_row3_col2\" class=\"data row3 col2\" >Channel C</td>\n",
       "      <td id=\"T_b1b05_row3_col3\" class=\"data row3 col3\" >3,590</td>\n",
       "      <td id=\"T_b1b05_row3_col4\" class=\"data row3 col4\" >€4.18</td>\n",
       "      <td id=\"T_b1b05_row3_col5\" class=\"data row3 col5\" >10.56%</td>\n",
       "      <td id=\"T_b1b05_row3_col6\" class=\"data row3 col6\" >€-5675.34</td>\n",
       "    </tr>\n",
       "    <tr>\n",
       "      <td id=\"T_b1b05_row4_col0\" class=\"data row4 col0\" >US</td>\n",
       "      <td id=\"T_b1b05_row4_col1\" class=\"data row4 col1\" >android</td>\n",
       "      <td id=\"T_b1b05_row4_col2\" class=\"data row4 col2\" >Channel A</td>\n",
       "      <td id=\"T_b1b05_row4_col3\" class=\"data row4 col3\" >6</td>\n",
       "      <td id=\"T_b1b05_row4_col4\" class=\"data row4 col4\" >€0.00</td>\n",
       "      <td id=\"T_b1b05_row4_col5\" class=\"data row4 col5\" >0.00%</td>\n",
       "      <td id=\"T_b1b05_row4_col6\" class=\"data row4 col6\" >€0.00</td>\n",
       "    </tr>\n",
       "    <tr>\n",
       "      <td id=\"T_b1b05_row5_col0\" class=\"data row5 col0\" >US</td>\n",
       "      <td id=\"T_b1b05_row5_col1\" class=\"data row5 col1\" >android</td>\n",
       "      <td id=\"T_b1b05_row5_col2\" class=\"data row5 col2\" >Channel E</td>\n",
       "      <td id=\"T_b1b05_row5_col3\" class=\"data row5 col3\" >0</td>\n",
       "      <td id=\"T_b1b05_row5_col4\" class=\"data row5 col4\" >€0.00</td>\n",
       "      <td id=\"T_b1b05_row5_col5\" class=\"data row5 col5\" >0.00%</td>\n",
       "      <td id=\"T_b1b05_row5_col6\" class=\"data row5 col6\" >€0.00</td>\n",
       "    </tr>\n",
       "    <tr>\n",
       "      <td id=\"T_b1b05_row6_col0\" class=\"data row6 col0\" >US</td>\n",
       "      <td id=\"T_b1b05_row6_col1\" class=\"data row6 col1\" >android</td>\n",
       "      <td id=\"T_b1b05_row6_col2\" class=\"data row6 col2\" >Channel D</td>\n",
       "      <td id=\"T_b1b05_row6_col3\" class=\"data row6 col3\" >0</td>\n",
       "      <td id=\"T_b1b05_row6_col4\" class=\"data row6 col4\" >€0.00</td>\n",
       "      <td id=\"T_b1b05_row6_col5\" class=\"data row6 col5\" >0.00%</td>\n",
       "      <td id=\"T_b1b05_row6_col6\" class=\"data row6 col6\" >€-1534.93</td>\n",
       "    </tr>\n",
       "    <tr>\n",
       "      <td id=\"T_b1b05_row7_col0\" class=\"data row7 col0\" >US</td>\n",
       "      <td id=\"T_b1b05_row7_col1\" class=\"data row7 col1\" >android</td>\n",
       "      <td id=\"T_b1b05_row7_col2\" class=\"data row7 col2\" >Channel B</td>\n",
       "      <td id=\"T_b1b05_row7_col3\" class=\"data row7 col3\" >1,440</td>\n",
       "      <td id=\"T_b1b05_row7_col4\" class=\"data row7 col4\" >€3.97</td>\n",
       "      <td id=\"T_b1b05_row7_col5\" class=\"data row7 col5\" >7.29%</td>\n",
       "      <td id=\"T_b1b05_row7_col6\" class=\"data row7 col6\" >€-3181.17</td>\n",
       "    </tr>\n",
       "  </tbody>\n",
       "</table>\n"
      ],
      "text/plain": [
       "<pandas.io.formats.style.Styler at 0x16896ff10>"
      ]
     },
     "metadata": {},
     "output_type": "display_data"
    }
   ],
   "source": [
    "agg_df = df.groupby(['country','platform','marketing_channel']).sum(numeric_only=True)\n",
    "\n",
    "df_metrics = calculate_metrics(agg_df).reset_index()\n",
    "selected_df = df_metrics[selected_columns].sort_values(['platform','profit'], ascending=False)\n",
    "\n",
    "filtered_df_de = selected_df[selected_df['country'] == 'DE'].fillna(0)\n",
    "filtered_df_us = selected_df[selected_df['country'] == 'US'].fillna(0)\n",
    "\n",
    "# formatted_df = format_metrics(df_metrics)\n",
    "\n",
    "display(format_metrics_selected_columns(filtered_df_de))\n",
    "\n",
    "display(format_metrics_selected_columns(filtered_df_us))"
   ]
  },
  {
   "cell_type": "markdown",
   "id": "cf1f256b",
   "metadata": {},
   "source": [
    "#### **Germany Insights**\n",
    "\n",
    "1. **Scale High-Performing Channels**:\n",
    "   - Focus on **Channel C (iOS)** and **Channel A (Android)** for their profitability and efficiency(cpi).\n",
    "2. **Reassess Poor Performers**:\n",
    "   - Investigate high CPIs in **Channels A and B (iOS)** and optimize spending.\n",
    "   - Reevaluate **Channel D (Android)** due to zero installs and total loss.\n",
    "\n",
    "3. **Reduce Spending on Loss-Making Channels**:\n",
    "   - Limit investments in **Channel B (Android)** and **Channel E (Android)** due to inefficiency."
   ]
  },
  {
   "cell_type": "markdown",
   "id": "d1f327af",
   "metadata": {},
   "source": [
    "#### **USA Insights**\n",
    "\n",
    "1. **Scale High-Performing Channels**:\n",
    "   - None of the channels in the USA are profitable, so there are no clear candidates for scaling at this point.\n",
    "   - **Channel C (iOS)** shows potential with the highest install volume (3,590) and a decent install-to-conversion rate (10.56%). Efforts should focus on reducing CPI (€4.18) and improving profitability.\n",
    "\n",
    "2. **Reassess Poor Performers**:\n",
    "   - Investigate **Channel B (iOS)** and **Channel A (iOS)** due to extremely high CPIs (€2,595.43 and €3,494.55, respectively) and no conversions.\n",
    "   - Reevaluate **Channel D (Android)**, which incurred a total loss (€-1,534.93) with zero installs.\n",
    "   - Examine **Channel B (Android)**, which has a moderate install volume (1,440) but suffers from a loss (€-3,181.17) and a suboptimal conversion rate (7.29%).\n",
    "\n",
    "3. **Reduce Spending on Loss-Making Channels**:\n",
    "   - Limit investments in **Channels A and B (iOS)** due to inefficient spending and lack of conversions.\n",
    "   - Deprioritize **Channels D and E (Android)**, as they generated no meaningful results.\n",
    "\n",
    "4. **Opportunities for Improvement**:\n",
    "   - Focus on increasing the conversion rates for **Channel C (iOS)** and **Channel B (Android)** to turn high install volumes into meaningful profit.\n",
    "   - Explore alternative strategies for channels that consistently underperform across both platforms."
   ]
  },
  {
   "cell_type": "markdown",
   "id": "f2ebe1c1",
   "metadata": {},
   "source": [
    "#### **Important to mention**\n",
    "- There are €9560 of profit assigned to unknown country. Important to mention that this could be due to data problems, and part of this profit could be coming from Germany or US.\n",
    "- Altough the marketing team is currently focused on DE and US, it is important to mention the economic losses in France are €18806, even bigger than US(€16481)."
   ]
  },
  {
   "cell_type": "markdown",
   "id": "f5d3b839",
   "metadata": {},
   "source": [
    "## 4.2 Complete Funnel"
   ]
  },
  {
   "cell_type": "markdown",
   "id": "112a0223",
   "metadata": {},
   "source": [
    "### 4.2.1 Performance by Channel"
   ]
  },
  {
   "cell_type": "markdown",
   "id": "b5627f7a",
   "metadata": {},
   "source": [
    "\n",
    "**Germany**\n",
    "- Channels A and B with positive profit, install_to_conversion_rate > 0.10%, cost_per_install < 2 euros.\n",
    "- The other Channels have negative profit.\n",
    "\n",
    "**United States**\n",
    "- All Channels with negative or inexistent profit, cost_per_install > 4 euros.\n",
    "- Channel E has more clicks than impressions. There is a data quality problem."
   ]
  },
  {
   "cell_type": "code",
   "execution_count": 16,
   "id": "ef56d830",
   "metadata": {},
   "outputs": [
    {
     "data": {
      "text/html": [
       "<style type=\"text/css\">\n",
       "#T_a6a19_row0_col4 {\n",
       "  width: 10em;\n",
       "  background: linear-gradient(90deg, #8ecbfa 78.2%, transparent 78.2%);\n",
       "}\n",
       "#T_a6a19_row0_col5 {\n",
       "  width: 10em;\n",
       "  background: linear-gradient(90deg, #8ecbfa 54.8%, transparent 54.8%);\n",
       "}\n",
       "#T_a6a19_row0_col6 {\n",
       "  width: 10em;\n",
       "  background: linear-gradient(90deg, #8ecbfa 97.9%, transparent 97.9%);\n",
       "}\n",
       "#T_a6a19_row0_col7 {\n",
       "  width: 10em;\n",
       "  background: linear-gradient(90deg, #8ecbfa 56.9%, transparent 56.9%);\n",
       "}\n",
       "#T_a6a19_row0_col10 {\n",
       "  width: 10em;\n",
       "  background: linear-gradient(90deg, #8ecbfa 70.2%, transparent 70.2%);\n",
       "}\n",
       "#T_a6a19_row0_col13 {\n",
       "  width: 10em;\n",
       "  background: linear-gradient(90deg, #8ecbfa 34.3%, transparent 34.3%);\n",
       "}\n",
       "#T_a6a19_row0_col16 {\n",
       "  width: 10em;\n",
       "  background: linear-gradient(90deg, transparent 30.2%, #8ecbfa 30.2%, #8ecbfa 49.5%, transparent 49.5%);\n",
       "}\n",
       "#T_a6a19_row1_col4 {\n",
       "  width: 10em;\n",
       "  background: linear-gradient(90deg, #8ecbfa 22.2%, transparent 22.2%);\n",
       "}\n",
       "#T_a6a19_row1_col5 {\n",
       "  width: 10em;\n",
       "  background: linear-gradient(90deg, #8ecbfa 7.2%, transparent 7.2%);\n",
       "}\n",
       "#T_a6a19_row1_col6 {\n",
       "  width: 10em;\n",
       "  background: linear-gradient(90deg, #8ecbfa 81.1%, transparent 81.1%);\n",
       "}\n",
       "#T_a6a19_row1_col7 {\n",
       "  width: 10em;\n",
       "  background: linear-gradient(90deg, #8ecbfa 8.4%, transparent 8.4%);\n",
       "}\n",
       "#T_a6a19_row1_col10 {\n",
       "  width: 10em;\n",
       "  background: linear-gradient(90deg, #8ecbfa 32.6%, transparent 32.6%);\n",
       "}\n",
       "#T_a6a19_row1_col13, #T_a6a19_row2_col4, #T_a6a19_row2_col5, #T_a6a19_row2_col6, #T_a6a19_row2_col7, #T_a6a19_row2_col10 {\n",
       "  width: 10em;\n",
       "  background: linear-gradient(90deg, #8ecbfa 100.0%, transparent 100.0%);\n",
       "}\n",
       "#T_a6a19_row1_col16 {\n",
       "  width: 10em;\n",
       "  background: linear-gradient(90deg, #d65f5f 30.2%, transparent 30.2%);\n",
       "}\n",
       "#T_a6a19_row2_col13 {\n",
       "  width: 10em;\n",
       "  background: linear-gradient(90deg, #8ecbfa 27.4%, transparent 27.4%);\n",
       "}\n",
       "#T_a6a19_row2_col16 {\n",
       "  width: 10em;\n",
       "  background: linear-gradient(90deg, transparent 30.2%, #8ecbfa 30.2%, #8ecbfa 100.0%, transparent 100.0%);\n",
       "}\n",
       "#T_a6a19_row3_col4, #T_a6a19_row3_col5, #T_a6a19_row3_col7, #T_a6a19_row3_col10, #T_a6a19_row3_col13 {\n",
       "  width: 10em;\n",
       "}\n",
       "#T_a6a19_row3_col6 {\n",
       "  width: 10em;\n",
       "  background: linear-gradient(90deg, #8ecbfa 34.2%, transparent 34.2%);\n",
       "}\n",
       "#T_a6a19_row3_col16 {\n",
       "  width: 10em;\n",
       "  background: linear-gradient(90deg, transparent 13.2%, #d65f5f 13.2%, #d65f5f 30.2%, transparent 30.2%);\n",
       "}\n",
       "#T_a6a19_row4_col4 {\n",
       "  width: 10em;\n",
       "  background: linear-gradient(90deg, #8ecbfa 11.7%, transparent 11.7%);\n",
       "}\n",
       "#T_a6a19_row4_col5 {\n",
       "  width: 10em;\n",
       "  background: linear-gradient(90deg, #8ecbfa 6.1%, transparent 6.1%);\n",
       "}\n",
       "#T_a6a19_row4_col6 {\n",
       "  width: 10em;\n",
       "  background: linear-gradient(90deg, #8ecbfa 39.4%, transparent 39.4%);\n",
       "}\n",
       "#T_a6a19_row4_col7 {\n",
       "  width: 10em;\n",
       "  background: linear-gradient(90deg, #8ecbfa 6.8%, transparent 6.8%);\n",
       "}\n",
       "#T_a6a19_row4_col10 {\n",
       "  width: 10em;\n",
       "  background: linear-gradient(90deg, #8ecbfa 51.9%, transparent 51.9%);\n",
       "}\n",
       "#T_a6a19_row4_col13 {\n",
       "  width: 10em;\n",
       "  background: linear-gradient(90deg, #8ecbfa 92.4%, transparent 92.4%);\n",
       "}\n",
       "#T_a6a19_row4_col16 {\n",
       "  width: 10em;\n",
       "  background: linear-gradient(90deg, transparent 18.8%, #d65f5f 18.8%, #d65f5f 30.2%, transparent 30.2%);\n",
       "}\n",
       "</style>\n",
       "<table id=\"T_a6a19\">\n",
       "  <thead>\n",
       "    <tr>\n",
       "      <th id=\"T_a6a19_level0_col0\" class=\"col_heading level0 col0\" >country</th>\n",
       "      <th id=\"T_a6a19_level0_col1\" class=\"col_heading level0 col1\" >marketing_channel</th>\n",
       "      <th id=\"T_a6a19_level0_col2\" class=\"col_heading level0 col2\" >impressions</th>\n",
       "      <th id=\"T_a6a19_level0_col3\" class=\"col_heading level0 col3\" >clicks</th>\n",
       "      <th id=\"T_a6a19_level0_col4\" class=\"col_heading level0 col4\" >app_installs</th>\n",
       "      <th id=\"T_a6a19_level0_col5\" class=\"col_heading level0 col5\" >conversions</th>\n",
       "      <th id=\"T_a6a19_level0_col6\" class=\"col_heading level0 col6\" >marketing_spend_euro</th>\n",
       "      <th id=\"T_a6a19_level0_col7\" class=\"col_heading level0 col7\" >revenue_euro</th>\n",
       "      <th id=\"T_a6a19_level0_col8\" class=\"col_heading level0 col8\" >click_through_rate</th>\n",
       "      <th id=\"T_a6a19_level0_col9\" class=\"col_heading level0 col9\" >click_to_install_rate</th>\n",
       "      <th id=\"T_a6a19_level0_col10\" class=\"col_heading level0 col10\" >install_to_conversion_rate</th>\n",
       "      <th id=\"T_a6a19_level0_col11\" class=\"col_heading level0 col11\" >cpm</th>\n",
       "      <th id=\"T_a6a19_level0_col12\" class=\"col_heading level0 col12\" >cpc</th>\n",
       "      <th id=\"T_a6a19_level0_col13\" class=\"col_heading level0 col13\" >cpi</th>\n",
       "      <th id=\"T_a6a19_level0_col14\" class=\"col_heading level0 col14\" >cpa</th>\n",
       "      <th id=\"T_a6a19_level0_col15\" class=\"col_heading level0 col15\" >rpa</th>\n",
       "      <th id=\"T_a6a19_level0_col16\" class=\"col_heading level0 col16\" >profit</th>\n",
       "      <th id=\"T_a6a19_level0_col17\" class=\"col_heading level0 col17\" >return_on_ad_spend_percentage</th>\n",
       "      <th id=\"T_a6a19_level0_col18\" class=\"col_heading level0 col18\" >return_on_investment_percentage</th>\n",
       "    </tr>\n",
       "  </thead>\n",
       "  <tbody>\n",
       "    <tr>\n",
       "      <td id=\"T_a6a19_row0_col0\" class=\"data row0 col0\" >DE</td>\n",
       "      <td id=\"T_a6a19_row0_col1\" class=\"data row0 col1\" >Channel A</td>\n",
       "      <td id=\"T_a6a19_row0_col2\" class=\"data row0 col2\" >2,069,078</td>\n",
       "      <td id=\"T_a6a19_row0_col3\" class=\"data row0 col3\" >42,008</td>\n",
       "      <td id=\"T_a6a19_row0_col4\" class=\"data row0 col4\" >17,954</td>\n",
       "      <td id=\"T_a6a19_row0_col5\" class=\"data row0 col5\" >1,727</td>\n",
       "      <td id=\"T_a6a19_row0_col6\" class=\"data row0 col6\" >€35760.32</td>\n",
       "      <td id=\"T_a6a19_row0_col7\" class=\"data row0 col7\" >€50029.23</td>\n",
       "      <td id=\"T_a6a19_row0_col8\" class=\"data row0 col8\" >2.03%</td>\n",
       "      <td id=\"T_a6a19_row0_col9\" class=\"data row0 col9\" >42.74%</td>\n",
       "      <td id=\"T_a6a19_row0_col10\" class=\"data row0 col10\" >9.62%</td>\n",
       "      <td id=\"T_a6a19_row0_col11\" class=\"data row0 col11\" >€17.28</td>\n",
       "      <td id=\"T_a6a19_row0_col12\" class=\"data row0 col12\" >€0.85</td>\n",
       "      <td id=\"T_a6a19_row0_col13\" class=\"data row0 col13\" >€1.99</td>\n",
       "      <td id=\"T_a6a19_row0_col14\" class=\"data row0 col14\" >€20.71</td>\n",
       "      <td id=\"T_a6a19_row0_col15\" class=\"data row0 col15\" >€28.97</td>\n",
       "      <td id=\"T_a6a19_row0_col16\" class=\"data row0 col16\" >€14268.91</td>\n",
       "      <td id=\"T_a6a19_row0_col17\" class=\"data row0 col17\" >139.90%</td>\n",
       "      <td id=\"T_a6a19_row0_col18\" class=\"data row0 col18\" >39.90%</td>\n",
       "    </tr>\n",
       "    <tr>\n",
       "      <td id=\"T_a6a19_row1_col0\" class=\"data row1 col0\" >DE</td>\n",
       "      <td id=\"T_a6a19_row1_col1\" class=\"data row1 col1\" >Channel B</td>\n",
       "      <td id=\"T_a6a19_row1_col2\" class=\"data row1 col2\" >4,386,420</td>\n",
       "      <td id=\"T_a6a19_row1_col3\" class=\"data row1 col3\" >15,876</td>\n",
       "      <td id=\"T_a6a19_row1_col4\" class=\"data row1 col4\" >5,096</td>\n",
       "      <td id=\"T_a6a19_row1_col5\" class=\"data row1 col5\" >228</td>\n",
       "      <td id=\"T_a6a19_row1_col6\" class=\"data row1 col6\" >€29614.37</td>\n",
       "      <td id=\"T_a6a19_row1_col7\" class=\"data row1 col7\" >€7362.70</td>\n",
       "      <td id=\"T_a6a19_row1_col8\" class=\"data row1 col8\" >0.36%</td>\n",
       "      <td id=\"T_a6a19_row1_col9\" class=\"data row1 col9\" >32.10%</td>\n",
       "      <td id=\"T_a6a19_row1_col10\" class=\"data row1 col10\" >4.47%</td>\n",
       "      <td id=\"T_a6a19_row1_col11\" class=\"data row1 col11\" >€6.75</td>\n",
       "      <td id=\"T_a6a19_row1_col12\" class=\"data row1 col12\" >€1.87</td>\n",
       "      <td id=\"T_a6a19_row1_col13\" class=\"data row1 col13\" >€5.81</td>\n",
       "      <td id=\"T_a6a19_row1_col14\" class=\"data row1 col14\" >€129.89</td>\n",
       "      <td id=\"T_a6a19_row1_col15\" class=\"data row1 col15\" >€32.29</td>\n",
       "      <td id=\"T_a6a19_row1_col16\" class=\"data row1 col16\" >€-22251.67</td>\n",
       "      <td id=\"T_a6a19_row1_col17\" class=\"data row1 col17\" >24.86%</td>\n",
       "      <td id=\"T_a6a19_row1_col18\" class=\"data row1 col18\" >-75.14%</td>\n",
       "    </tr>\n",
       "    <tr>\n",
       "      <td id=\"T_a6a19_row2_col0\" class=\"data row2 col0\" >DE</td>\n",
       "      <td id=\"T_a6a19_row2_col1\" class=\"data row2 col1\" >Channel C</td>\n",
       "      <td id=\"T_a6a19_row2_col2\" class=\"data row2 col2\" >104,013</td>\n",
       "      <td id=\"T_a6a19_row2_col3\" class=\"data row2 col3\" >36,691</td>\n",
       "      <td id=\"T_a6a19_row2_col4\" class=\"data row2 col4\" >22,972</td>\n",
       "      <td id=\"T_a6a19_row2_col5\" class=\"data row2 col5\" >3,150</td>\n",
       "      <td id=\"T_a6a19_row2_col6\" class=\"data row2 col6\" >€36512.65</td>\n",
       "      <td id=\"T_a6a19_row2_col7\" class=\"data row2 col7\" >€87967.00</td>\n",
       "      <td id=\"T_a6a19_row2_col8\" class=\"data row2 col8\" >35.28%</td>\n",
       "      <td id=\"T_a6a19_row2_col9\" class=\"data row2 col9\" >62.61%</td>\n",
       "      <td id=\"T_a6a19_row2_col10\" class=\"data row2 col10\" >13.71%</td>\n",
       "      <td id=\"T_a6a19_row2_col11\" class=\"data row2 col11\" >€351.04</td>\n",
       "      <td id=\"T_a6a19_row2_col12\" class=\"data row2 col12\" >€1.00</td>\n",
       "      <td id=\"T_a6a19_row2_col13\" class=\"data row2 col13\" >€1.59</td>\n",
       "      <td id=\"T_a6a19_row2_col14\" class=\"data row2 col14\" >€11.59</td>\n",
       "      <td id=\"T_a6a19_row2_col15\" class=\"data row2 col15\" >€27.93</td>\n",
       "      <td id=\"T_a6a19_row2_col16\" class=\"data row2 col16\" >€51454.35</td>\n",
       "      <td id=\"T_a6a19_row2_col17\" class=\"data row2 col17\" >240.92%</td>\n",
       "      <td id=\"T_a6a19_row2_col18\" class=\"data row2 col18\" >140.92%</td>\n",
       "    </tr>\n",
       "    <tr>\n",
       "      <td id=\"T_a6a19_row3_col0\" class=\"data row3 col0\" >DE</td>\n",
       "      <td id=\"T_a6a19_row3_col1\" class=\"data row3 col1\" >Channel D</td>\n",
       "      <td id=\"T_a6a19_row3_col2\" class=\"data row3 col2\" >0</td>\n",
       "      <td id=\"T_a6a19_row3_col3\" class=\"data row3 col3\" >0</td>\n",
       "      <td id=\"T_a6a19_row3_col4\" class=\"data row3 col4\" >0</td>\n",
       "      <td id=\"T_a6a19_row3_col5\" class=\"data row3 col5\" >0</td>\n",
       "      <td id=\"T_a6a19_row3_col6\" class=\"data row3 col6\" >€12500.97</td>\n",
       "      <td id=\"T_a6a19_row3_col7\" class=\"data row3 col7\" >€0.00</td>\n",
       "      <td id=\"T_a6a19_row3_col8\" class=\"data row3 col8\" >nan%</td>\n",
       "      <td id=\"T_a6a19_row3_col9\" class=\"data row3 col9\" >nan%</td>\n",
       "      <td id=\"T_a6a19_row3_col10\" class=\"data row3 col10\" >nan%</td>\n",
       "      <td id=\"T_a6a19_row3_col11\" class=\"data row3 col11\" >€nan</td>\n",
       "      <td id=\"T_a6a19_row3_col12\" class=\"data row3 col12\" >€nan</td>\n",
       "      <td id=\"T_a6a19_row3_col13\" class=\"data row3 col13\" >€nan</td>\n",
       "      <td id=\"T_a6a19_row3_col14\" class=\"data row3 col14\" >€nan</td>\n",
       "      <td id=\"T_a6a19_row3_col15\" class=\"data row3 col15\" >€nan</td>\n",
       "      <td id=\"T_a6a19_row3_col16\" class=\"data row3 col16\" >€-12500.97</td>\n",
       "      <td id=\"T_a6a19_row3_col17\" class=\"data row3 col17\" >0.00%</td>\n",
       "      <td id=\"T_a6a19_row3_col18\" class=\"data row3 col18\" >-100.00%</td>\n",
       "    </tr>\n",
       "    <tr>\n",
       "      <td id=\"T_a6a19_row4_col0\" class=\"data row4 col0\" >DE</td>\n",
       "      <td id=\"T_a6a19_row4_col1\" class=\"data row4 col1\" >Channel E</td>\n",
       "      <td id=\"T_a6a19_row4_col2\" class=\"data row4 col2\" >6,922,072</td>\n",
       "      <td id=\"T_a6a19_row4_col3\" class=\"data row4 col3\" >14,971</td>\n",
       "      <td id=\"T_a6a19_row4_col4\" class=\"data row4 col4\" >2,682</td>\n",
       "      <td id=\"T_a6a19_row4_col5\" class=\"data row4 col5\" >191</td>\n",
       "      <td id=\"T_a6a19_row4_col6\" class=\"data row4 col6\" >€14400.22</td>\n",
       "      <td id=\"T_a6a19_row4_col7\" class=\"data row4 col7\" >€6024.30</td>\n",
       "      <td id=\"T_a6a19_row4_col8\" class=\"data row4 col8\" >0.22%</td>\n",
       "      <td id=\"T_a6a19_row4_col9\" class=\"data row4 col9\" >17.91%</td>\n",
       "      <td id=\"T_a6a19_row4_col10\" class=\"data row4 col10\" >7.12%</td>\n",
       "      <td id=\"T_a6a19_row4_col11\" class=\"data row4 col11\" >€2.08</td>\n",
       "      <td id=\"T_a6a19_row4_col12\" class=\"data row4 col12\" >€0.96</td>\n",
       "      <td id=\"T_a6a19_row4_col13\" class=\"data row4 col13\" >€5.37</td>\n",
       "      <td id=\"T_a6a19_row4_col14\" class=\"data row4 col14\" >€75.39</td>\n",
       "      <td id=\"T_a6a19_row4_col15\" class=\"data row4 col15\" >€31.54</td>\n",
       "      <td id=\"T_a6a19_row4_col16\" class=\"data row4 col16\" >€-8375.92</td>\n",
       "      <td id=\"T_a6a19_row4_col17\" class=\"data row4 col17\" >41.83%</td>\n",
       "      <td id=\"T_a6a19_row4_col18\" class=\"data row4 col18\" >-58.17%</td>\n",
       "    </tr>\n",
       "  </tbody>\n",
       "</table>\n"
      ],
      "text/plain": [
       "<pandas.io.formats.style.Styler at 0x173ee7810>"
      ]
     },
     "metadata": {},
     "output_type": "display_data"
    },
    {
     "data": {
      "text/html": [
       "<style type=\"text/css\">\n",
       "#T_1d75d_row0_col4 {\n",
       "  width: 10em;\n",
       "  background: linear-gradient(90deg, #8ecbfa 0.2%, transparent 0.2%);\n",
       "}\n",
       "#T_1d75d_row0_col5, #T_1d75d_row0_col7, #T_1d75d_row0_col10, #T_1d75d_row3_col4, #T_1d75d_row3_col5, #T_1d75d_row3_col7, #T_1d75d_row3_col10, #T_1d75d_row3_col13, #T_1d75d_row4_col4, #T_1d75d_row4_col5, #T_1d75d_row4_col6, #T_1d75d_row4_col7, #T_1d75d_row4_col10, #T_1d75d_row4_col13, #T_1d75d_row4_col16 {\n",
       "  width: 10em;\n",
       "}\n",
       "#T_1d75d_row0_col6 {\n",
       "  width: 10em;\n",
       "  background: linear-gradient(90deg, #8ecbfa 23.3%, transparent 23.3%);\n",
       "}\n",
       "#T_1d75d_row0_col13, #T_1d75d_row2_col4, #T_1d75d_row2_col5, #T_1d75d_row2_col6, #T_1d75d_row2_col7, #T_1d75d_row2_col10 {\n",
       "  width: 10em;\n",
       "  background: linear-gradient(90deg, #8ecbfa 100.0%, transparent 100.0%);\n",
       "}\n",
       "#T_1d75d_row0_col16 {\n",
       "  width: 10em;\n",
       "  background: linear-gradient(90deg, transparent 39.5%, #d65f5f 39.5%, #d65f5f 100.0%, transparent 100.0%);\n",
       "}\n",
       "#T_1d75d_row1_col4 {\n",
       "  width: 10em;\n",
       "  background: linear-gradient(90deg, #8ecbfa 40.1%, transparent 40.1%);\n",
       "}\n",
       "#T_1d75d_row1_col5 {\n",
       "  width: 10em;\n",
       "  background: linear-gradient(90deg, #8ecbfa 27.7%, transparent 27.7%);\n",
       "}\n",
       "#T_1d75d_row1_col6 {\n",
       "  width: 10em;\n",
       "  background: linear-gradient(90deg, #8ecbfa 55.4%, transparent 55.4%);\n",
       "}\n",
       "#T_1d75d_row1_col7 {\n",
       "  width: 10em;\n",
       "  background: linear-gradient(90deg, #8ecbfa 27.2%, transparent 27.2%);\n",
       "}\n",
       "#T_1d75d_row1_col10 {\n",
       "  width: 10em;\n",
       "  background: linear-gradient(90deg, #8ecbfa 69.0%, transparent 69.0%);\n",
       "}\n",
       "#T_1d75d_row1_col13 {\n",
       "  width: 10em;\n",
       "  background: linear-gradient(90deg, #8ecbfa 1.2%, transparent 1.2%);\n",
       "}\n",
       "#T_1d75d_row1_col16 {\n",
       "  width: 10em;\n",
       "  background: linear-gradient(90deg, #d65f5f 100.0%, transparent 100.0%);\n",
       "}\n",
       "#T_1d75d_row2_col13 {\n",
       "  width: 10em;\n",
       "  background: linear-gradient(90deg, #8ecbfa 0.8%, transparent 0.8%);\n",
       "}\n",
       "#T_1d75d_row2_col16 {\n",
       "  width: 10em;\n",
       "  background: linear-gradient(90deg, transparent 1.8%, #d65f5f 1.8%, #d65f5f 100.0%, transparent 100.0%);\n",
       "}\n",
       "#T_1d75d_row3_col6 {\n",
       "  width: 10em;\n",
       "  background: linear-gradient(90deg, #8ecbfa 10.2%, transparent 10.2%);\n",
       "}\n",
       "#T_1d75d_row3_col16 {\n",
       "  width: 10em;\n",
       "  background: linear-gradient(90deg, transparent 73.4%, #d65f5f 73.4%, #d65f5f 100.0%, transparent 100.0%);\n",
       "}\n",
       "</style>\n",
       "<table id=\"T_1d75d\">\n",
       "  <thead>\n",
       "    <tr>\n",
       "      <th id=\"T_1d75d_level0_col0\" class=\"col_heading level0 col0\" >country</th>\n",
       "      <th id=\"T_1d75d_level0_col1\" class=\"col_heading level0 col1\" >marketing_channel</th>\n",
       "      <th id=\"T_1d75d_level0_col2\" class=\"col_heading level0 col2\" >impressions</th>\n",
       "      <th id=\"T_1d75d_level0_col3\" class=\"col_heading level0 col3\" >clicks</th>\n",
       "      <th id=\"T_1d75d_level0_col4\" class=\"col_heading level0 col4\" >app_installs</th>\n",
       "      <th id=\"T_1d75d_level0_col5\" class=\"col_heading level0 col5\" >conversions</th>\n",
       "      <th id=\"T_1d75d_level0_col6\" class=\"col_heading level0 col6\" >marketing_spend_euro</th>\n",
       "      <th id=\"T_1d75d_level0_col7\" class=\"col_heading level0 col7\" >revenue_euro</th>\n",
       "      <th id=\"T_1d75d_level0_col8\" class=\"col_heading level0 col8\" >click_through_rate</th>\n",
       "      <th id=\"T_1d75d_level0_col9\" class=\"col_heading level0 col9\" >click_to_install_rate</th>\n",
       "      <th id=\"T_1d75d_level0_col10\" class=\"col_heading level0 col10\" >install_to_conversion_rate</th>\n",
       "      <th id=\"T_1d75d_level0_col11\" class=\"col_heading level0 col11\" >cpm</th>\n",
       "      <th id=\"T_1d75d_level0_col12\" class=\"col_heading level0 col12\" >cpc</th>\n",
       "      <th id=\"T_1d75d_level0_col13\" class=\"col_heading level0 col13\" >cpi</th>\n",
       "      <th id=\"T_1d75d_level0_col14\" class=\"col_heading level0 col14\" >cpa</th>\n",
       "      <th id=\"T_1d75d_level0_col15\" class=\"col_heading level0 col15\" >rpa</th>\n",
       "      <th id=\"T_1d75d_level0_col16\" class=\"col_heading level0 col16\" >profit</th>\n",
       "      <th id=\"T_1d75d_level0_col17\" class=\"col_heading level0 col17\" >return_on_ad_spend_percentage</th>\n",
       "      <th id=\"T_1d75d_level0_col18\" class=\"col_heading level0 col18\" >return_on_investment_percentage</th>\n",
       "    </tr>\n",
       "  </thead>\n",
       "  <tbody>\n",
       "    <tr>\n",
       "      <td id=\"T_1d75d_row0_col0\" class=\"data row0 col0\" >US</td>\n",
       "      <td id=\"T_1d75d_row0_col1\" class=\"data row0 col1\" >Channel A</td>\n",
       "      <td id=\"T_1d75d_row0_col2\" class=\"data row0 col2\" >1,634,556</td>\n",
       "      <td id=\"T_1d75d_row0_col3\" class=\"data row0 col3\" >1,904</td>\n",
       "      <td id=\"T_1d75d_row0_col4\" class=\"data row0 col4\" >7</td>\n",
       "      <td id=\"T_1d75d_row0_col5\" class=\"data row0 col5\" >0</td>\n",
       "      <td id=\"T_1d75d_row0_col6\" class=\"data row0 col6\" >€3494.55</td>\n",
       "      <td id=\"T_1d75d_row0_col7\" class=\"data row0 col7\" >€0.00</td>\n",
       "      <td id=\"T_1d75d_row0_col8\" class=\"data row0 col8\" >0.12%</td>\n",
       "      <td id=\"T_1d75d_row0_col9\" class=\"data row0 col9\" >0.37%</td>\n",
       "      <td id=\"T_1d75d_row0_col10\" class=\"data row0 col10\" >0.00%</td>\n",
       "      <td id=\"T_1d75d_row0_col11\" class=\"data row0 col11\" >€2.14</td>\n",
       "      <td id=\"T_1d75d_row0_col12\" class=\"data row0 col12\" >€1.84</td>\n",
       "      <td id=\"T_1d75d_row0_col13\" class=\"data row0 col13\" >€499.22</td>\n",
       "      <td id=\"T_1d75d_row0_col14\" class=\"data row0 col14\" >€nan</td>\n",
       "      <td id=\"T_1d75d_row0_col15\" class=\"data row0 col15\" >€nan</td>\n",
       "      <td id=\"T_1d75d_row0_col16\" class=\"data row0 col16\" >€-3494.55</td>\n",
       "      <td id=\"T_1d75d_row0_col17\" class=\"data row0 col17\" >0.00%</td>\n",
       "      <td id=\"T_1d75d_row0_col18\" class=\"data row0 col18\" >-100.00%</td>\n",
       "    </tr>\n",
       "    <tr>\n",
       "      <td id=\"T_1d75d_row1_col0\" class=\"data row1 col0\" >US</td>\n",
       "      <td id=\"T_1d75d_row1_col1\" class=\"data row1 col1\" >Channel B</td>\n",
       "      <td id=\"T_1d75d_row1_col2\" class=\"data row1 col2\" >789,069</td>\n",
       "      <td id=\"T_1d75d_row1_col3\" class=\"data row1 col3\" >4,031</td>\n",
       "      <td id=\"T_1d75d_row1_col4\" class=\"data row1 col4\" >1,441</td>\n",
       "      <td id=\"T_1d75d_row1_col5\" class=\"data row1 col5\" >105</td>\n",
       "      <td id=\"T_1d75d_row1_col6\" class=\"data row1 col6\" >€8309.59</td>\n",
       "      <td id=\"T_1d75d_row1_col7\" class=\"data row1 col7\" >€2532.99</td>\n",
       "      <td id=\"T_1d75d_row1_col8\" class=\"data row1 col8\" >0.51%</td>\n",
       "      <td id=\"T_1d75d_row1_col9\" class=\"data row1 col9\" >35.75%</td>\n",
       "      <td id=\"T_1d75d_row1_col10\" class=\"data row1 col10\" >7.29%</td>\n",
       "      <td id=\"T_1d75d_row1_col11\" class=\"data row1 col11\" >€10.53</td>\n",
       "      <td id=\"T_1d75d_row1_col12\" class=\"data row1 col12\" >€2.06</td>\n",
       "      <td id=\"T_1d75d_row1_col13\" class=\"data row1 col13\" >€5.77</td>\n",
       "      <td id=\"T_1d75d_row1_col14\" class=\"data row1 col14\" >€79.14</td>\n",
       "      <td id=\"T_1d75d_row1_col15\" class=\"data row1 col15\" >€24.12</td>\n",
       "      <td id=\"T_1d75d_row1_col16\" class=\"data row1 col16\" >€-5776.60</td>\n",
       "      <td id=\"T_1d75d_row1_col17\" class=\"data row1 col17\" >30.48%</td>\n",
       "      <td id=\"T_1d75d_row1_col18\" class=\"data row1 col18\" >-69.52%</td>\n",
       "    </tr>\n",
       "    <tr>\n",
       "      <td id=\"T_1d75d_row2_col0\" class=\"data row2 col0\" >US</td>\n",
       "      <td id=\"T_1d75d_row2_col1\" class=\"data row2 col1\" >Channel C</td>\n",
       "      <td id=\"T_1d75d_row2_col2\" class=\"data row2 col2\" >78,645</td>\n",
       "      <td id=\"T_1d75d_row2_col3\" class=\"data row2 col3\" >8,056</td>\n",
       "      <td id=\"T_1d75d_row2_col4\" class=\"data row2 col4\" >3,590</td>\n",
       "      <td id=\"T_1d75d_row2_col5\" class=\"data row2 col5\" >379</td>\n",
       "      <td id=\"T_1d75d_row2_col6\" class=\"data row2 col6\" >€15001.15</td>\n",
       "      <td id=\"T_1d75d_row2_col7\" class=\"data row2 col7\" >€9325.81</td>\n",
       "      <td id=\"T_1d75d_row2_col8\" class=\"data row2 col8\" >10.24%</td>\n",
       "      <td id=\"T_1d75d_row2_col9\" class=\"data row2 col9\" >44.56%</td>\n",
       "      <td id=\"T_1d75d_row2_col10\" class=\"data row2 col10\" >10.56%</td>\n",
       "      <td id=\"T_1d75d_row2_col11\" class=\"data row2 col11\" >€190.75</td>\n",
       "      <td id=\"T_1d75d_row2_col12\" class=\"data row2 col12\" >€1.86</td>\n",
       "      <td id=\"T_1d75d_row2_col13\" class=\"data row2 col13\" >€4.18</td>\n",
       "      <td id=\"T_1d75d_row2_col14\" class=\"data row2 col14\" >€39.58</td>\n",
       "      <td id=\"T_1d75d_row2_col15\" class=\"data row2 col15\" >€24.61</td>\n",
       "      <td id=\"T_1d75d_row2_col16\" class=\"data row2 col16\" >€-5675.34</td>\n",
       "      <td id=\"T_1d75d_row2_col17\" class=\"data row2 col17\" >62.17%</td>\n",
       "      <td id=\"T_1d75d_row2_col18\" class=\"data row2 col18\" >-37.83%</td>\n",
       "    </tr>\n",
       "    <tr>\n",
       "      <td id=\"T_1d75d_row3_col0\" class=\"data row3 col0\" >US</td>\n",
       "      <td id=\"T_1d75d_row3_col1\" class=\"data row3 col1\" >Channel D</td>\n",
       "      <td id=\"T_1d75d_row3_col2\" class=\"data row3 col2\" >0</td>\n",
       "      <td id=\"T_1d75d_row3_col3\" class=\"data row3 col3\" >0</td>\n",
       "      <td id=\"T_1d75d_row3_col4\" class=\"data row3 col4\" >0</td>\n",
       "      <td id=\"T_1d75d_row3_col5\" class=\"data row3 col5\" >0</td>\n",
       "      <td id=\"T_1d75d_row3_col6\" class=\"data row3 col6\" >€1534.93</td>\n",
       "      <td id=\"T_1d75d_row3_col7\" class=\"data row3 col7\" >€0.00</td>\n",
       "      <td id=\"T_1d75d_row3_col8\" class=\"data row3 col8\" >nan%</td>\n",
       "      <td id=\"T_1d75d_row3_col9\" class=\"data row3 col9\" >nan%</td>\n",
       "      <td id=\"T_1d75d_row3_col10\" class=\"data row3 col10\" >nan%</td>\n",
       "      <td id=\"T_1d75d_row3_col11\" class=\"data row3 col11\" >€nan</td>\n",
       "      <td id=\"T_1d75d_row3_col12\" class=\"data row3 col12\" >€nan</td>\n",
       "      <td id=\"T_1d75d_row3_col13\" class=\"data row3 col13\" >€nan</td>\n",
       "      <td id=\"T_1d75d_row3_col14\" class=\"data row3 col14\" >€nan</td>\n",
       "      <td id=\"T_1d75d_row3_col15\" class=\"data row3 col15\" >€nan</td>\n",
       "      <td id=\"T_1d75d_row3_col16\" class=\"data row3 col16\" >€-1534.93</td>\n",
       "      <td id=\"T_1d75d_row3_col17\" class=\"data row3 col17\" >0.00%</td>\n",
       "      <td id=\"T_1d75d_row3_col18\" class=\"data row3 col18\" >-100.00%</td>\n",
       "    </tr>\n",
       "    <tr>\n",
       "      <td id=\"T_1d75d_row4_col0\" class=\"data row4 col0\" >US</td>\n",
       "      <td id=\"T_1d75d_row4_col1\" class=\"data row4 col1\" >Channel E</td>\n",
       "      <td id=\"T_1d75d_row4_col2\" class=\"data row4 col2\" >923</td>\n",
       "      <td id=\"T_1d75d_row4_col3\" class=\"data row4 col3\" >11,775</td>\n",
       "      <td id=\"T_1d75d_row4_col4\" class=\"data row4 col4\" >0</td>\n",
       "      <td id=\"T_1d75d_row4_col5\" class=\"data row4 col5\" >0</td>\n",
       "      <td id=\"T_1d75d_row4_col6\" class=\"data row4 col6\" >€0.00</td>\n",
       "      <td id=\"T_1d75d_row4_col7\" class=\"data row4 col7\" >€0.00</td>\n",
       "      <td id=\"T_1d75d_row4_col8\" class=\"data row4 col8\" >1275.73%</td>\n",
       "      <td id=\"T_1d75d_row4_col9\" class=\"data row4 col9\" >0.00%</td>\n",
       "      <td id=\"T_1d75d_row4_col10\" class=\"data row4 col10\" >nan%</td>\n",
       "      <td id=\"T_1d75d_row4_col11\" class=\"data row4 col11\" >€0.00</td>\n",
       "      <td id=\"T_1d75d_row4_col12\" class=\"data row4 col12\" >€0.00</td>\n",
       "      <td id=\"T_1d75d_row4_col13\" class=\"data row4 col13\" >€nan</td>\n",
       "      <td id=\"T_1d75d_row4_col14\" class=\"data row4 col14\" >€nan</td>\n",
       "      <td id=\"T_1d75d_row4_col15\" class=\"data row4 col15\" >€nan</td>\n",
       "      <td id=\"T_1d75d_row4_col16\" class=\"data row4 col16\" >€0.00</td>\n",
       "      <td id=\"T_1d75d_row4_col17\" class=\"data row4 col17\" >nan%</td>\n",
       "      <td id=\"T_1d75d_row4_col18\" class=\"data row4 col18\" >nan%</td>\n",
       "    </tr>\n",
       "  </tbody>\n",
       "</table>\n"
      ],
      "text/plain": [
       "<pandas.io.formats.style.Styler at 0x173ee7810>"
      ]
     },
     "metadata": {},
     "output_type": "display_data"
    }
   ],
   "source": [
    "agg_df = df.groupby(['country','marketing_channel']).sum(numeric_only=True)\n",
    "\n",
    "df_metrics = calculate_metrics(agg_df).reset_index()\n",
    "\n",
    "filtered_df_de = df_metrics[df_metrics['country'] == 'DE']\n",
    "filtered_df_us = df_metrics[df_metrics['country'] == 'US']\n",
    "\n",
    "# formatted_df = format_metrics(df_metrics)\n",
    "\n",
    "display(format_metrics(filtered_df_de))\n",
    "\n",
    "display(format_metrics(filtered_df_us))"
   ]
  },
  {
   "cell_type": "markdown",
   "id": "46b20c52",
   "metadata": {},
   "source": [
    "### 4.2.2 Performance by Platform"
   ]
  },
  {
   "cell_type": "markdown",
   "id": "2920ff7c",
   "metadata": {},
   "source": [
    "\n",
    "**Germany**\n",
    "- Similar volume of installs to android and ios\n",
    "- ios profit: `€35250`\n",
    "- android profit: `-€12656`\n",
    "\n",
    "**United States**\n",
    "- 70% of installs from ios, 30% from android\n",
    "- ios profit: `-€11765`\t\n",
    "- android profit: `-€4716`\t"
   ]
  },
  {
   "cell_type": "code",
   "execution_count": 17,
   "id": "92a46522",
   "metadata": {},
   "outputs": [
    {
     "data": {
      "text/html": [
       "<style type=\"text/css\">\n",
       "#T_ecf4a_row0_col4, #T_ecf4a_row0_col6, #T_ecf4a_row0_col13, #T_ecf4a_row1_col5, #T_ecf4a_row1_col7, #T_ecf4a_row1_col10 {\n",
       "  width: 10em;\n",
       "  background: linear-gradient(90deg, #8ecbfa 100.0%, transparent 100.0%);\n",
       "}\n",
       "#T_ecf4a_row0_col5 {\n",
       "  width: 10em;\n",
       "  background: linear-gradient(90deg, #8ecbfa 67.5%, transparent 67.5%);\n",
       "}\n",
       "#T_ecf4a_row0_col7 {\n",
       "  width: 10em;\n",
       "  background: linear-gradient(90deg, #8ecbfa 71.4%, transparent 71.4%);\n",
       "}\n",
       "#T_ecf4a_row0_col10 {\n",
       "  width: 10em;\n",
       "  background: linear-gradient(90deg, #8ecbfa 61.5%, transparent 61.5%);\n",
       "}\n",
       "#T_ecf4a_row0_col16 {\n",
       "  width: 10em;\n",
       "  background: linear-gradient(90deg, #d65f5f 26.4%, transparent 26.4%);\n",
       "}\n",
       "#T_ecf4a_row1_col4 {\n",
       "  width: 10em;\n",
       "  background: linear-gradient(90deg, #8ecbfa 91.1%, transparent 91.1%);\n",
       "}\n",
       "#T_ecf4a_row1_col6 {\n",
       "  width: 10em;\n",
       "  background: linear-gradient(90deg, #8ecbfa 70.1%, transparent 70.1%);\n",
       "}\n",
       "#T_ecf4a_row1_col13 {\n",
       "  width: 10em;\n",
       "  background: linear-gradient(90deg, #8ecbfa 77.1%, transparent 77.1%);\n",
       "}\n",
       "#T_ecf4a_row1_col16 {\n",
       "  width: 10em;\n",
       "  background: linear-gradient(90deg, transparent 26.4%, #8ecbfa 26.4%, #8ecbfa 100.0%, transparent 100.0%);\n",
       "}\n",
       "</style>\n",
       "<table id=\"T_ecf4a\">\n",
       "  <thead>\n",
       "    <tr>\n",
       "      <th id=\"T_ecf4a_level0_col0\" class=\"col_heading level0 col0\" >country</th>\n",
       "      <th id=\"T_ecf4a_level0_col1\" class=\"col_heading level0 col1\" >platform</th>\n",
       "      <th id=\"T_ecf4a_level0_col2\" class=\"col_heading level0 col2\" >impressions</th>\n",
       "      <th id=\"T_ecf4a_level0_col3\" class=\"col_heading level0 col3\" >clicks</th>\n",
       "      <th id=\"T_ecf4a_level0_col4\" class=\"col_heading level0 col4\" >app_installs</th>\n",
       "      <th id=\"T_ecf4a_level0_col5\" class=\"col_heading level0 col5\" >conversions</th>\n",
       "      <th id=\"T_ecf4a_level0_col6\" class=\"col_heading level0 col6\" >marketing_spend_euro</th>\n",
       "      <th id=\"T_ecf4a_level0_col7\" class=\"col_heading level0 col7\" >revenue_euro</th>\n",
       "      <th id=\"T_ecf4a_level0_col8\" class=\"col_heading level0 col8\" >click_through_rate</th>\n",
       "      <th id=\"T_ecf4a_level0_col9\" class=\"col_heading level0 col9\" >click_to_install_rate</th>\n",
       "      <th id=\"T_ecf4a_level0_col10\" class=\"col_heading level0 col10\" >install_to_conversion_rate</th>\n",
       "      <th id=\"T_ecf4a_level0_col11\" class=\"col_heading level0 col11\" >cpm</th>\n",
       "      <th id=\"T_ecf4a_level0_col12\" class=\"col_heading level0 col12\" >cpc</th>\n",
       "      <th id=\"T_ecf4a_level0_col13\" class=\"col_heading level0 col13\" >cpi</th>\n",
       "      <th id=\"T_ecf4a_level0_col14\" class=\"col_heading level0 col14\" >cpa</th>\n",
       "      <th id=\"T_ecf4a_level0_col15\" class=\"col_heading level0 col15\" >rpa</th>\n",
       "      <th id=\"T_ecf4a_level0_col16\" class=\"col_heading level0 col16\" >profit</th>\n",
       "      <th id=\"T_ecf4a_level0_col17\" class=\"col_heading level0 col17\" >return_on_ad_spend_percentage</th>\n",
       "      <th id=\"T_ecf4a_level0_col18\" class=\"col_heading level0 col18\" >return_on_investment_percentage</th>\n",
       "    </tr>\n",
       "  </thead>\n",
       "  <tbody>\n",
       "    <tr>\n",
       "      <td id=\"T_ecf4a_row0_col0\" class=\"data row0 col0\" >DE</td>\n",
       "      <td id=\"T_ecf4a_row0_col1\" class=\"data row0 col1\" >android</td>\n",
       "      <td id=\"T_ecf4a_row0_col2\" class=\"data row0 col2\" >10,757,864</td>\n",
       "      <td id=\"T_ecf4a_row0_col3\" class=\"data row0 col3\" >61,614</td>\n",
       "      <td id=\"T_ecf4a_row0_col4\" class=\"data row0 col4\" >25,489</td>\n",
       "      <td id=\"T_ecf4a_row0_col5\" class=\"data row0 col5\" >2,134</td>\n",
       "      <td id=\"T_ecf4a_row0_col6\" class=\"data row0 col6\" >€75711.80</td>\n",
       "      <td id=\"T_ecf4a_row0_col7\" class=\"data row0 col7\" >€63055.70</td>\n",
       "      <td id=\"T_ecf4a_row0_col8\" class=\"data row0 col8\" >0.57%</td>\n",
       "      <td id=\"T_ecf4a_row0_col9\" class=\"data row0 col9\" >41.37%</td>\n",
       "      <td id=\"T_ecf4a_row0_col10\" class=\"data row0 col10\" >8.37%</td>\n",
       "      <td id=\"T_ecf4a_row0_col11\" class=\"data row0 col11\" >€7.04</td>\n",
       "      <td id=\"T_ecf4a_row0_col12\" class=\"data row0 col12\" >€1.23</td>\n",
       "      <td id=\"T_ecf4a_row0_col13\" class=\"data row0 col13\" >€2.97</td>\n",
       "      <td id=\"T_ecf4a_row0_col14\" class=\"data row0 col14\" >€35.48</td>\n",
       "      <td id=\"T_ecf4a_row0_col15\" class=\"data row0 col15\" >€29.55</td>\n",
       "      <td id=\"T_ecf4a_row0_col16\" class=\"data row0 col16\" >€-12656.10</td>\n",
       "      <td id=\"T_ecf4a_row0_col17\" class=\"data row0 col17\" >83.28%</td>\n",
       "      <td id=\"T_ecf4a_row0_col18\" class=\"data row0 col18\" >-16.72%</td>\n",
       "    </tr>\n",
       "    <tr>\n",
       "      <td id=\"T_ecf4a_row1_col0\" class=\"data row1 col0\" >DE</td>\n",
       "      <td id=\"T_ecf4a_row1_col1\" class=\"data row1 col1\" >ios</td>\n",
       "      <td id=\"T_ecf4a_row1_col2\" class=\"data row1 col2\" >2,723,719</td>\n",
       "      <td id=\"T_ecf4a_row1_col3\" class=\"data row1 col3\" >47,932</td>\n",
       "      <td id=\"T_ecf4a_row1_col4\" class=\"data row1 col4\" >23,215</td>\n",
       "      <td id=\"T_ecf4a_row1_col5\" class=\"data row1 col5\" >3,162</td>\n",
       "      <td id=\"T_ecf4a_row1_col6\" class=\"data row1 col6\" >€53076.73</td>\n",
       "      <td id=\"T_ecf4a_row1_col7\" class=\"data row1 col7\" >€88327.53</td>\n",
       "      <td id=\"T_ecf4a_row1_col8\" class=\"data row1 col8\" >1.76%</td>\n",
       "      <td id=\"T_ecf4a_row1_col9\" class=\"data row1 col9\" >48.43%</td>\n",
       "      <td id=\"T_ecf4a_row1_col10\" class=\"data row1 col10\" >13.62%</td>\n",
       "      <td id=\"T_ecf4a_row1_col11\" class=\"data row1 col11\" >€19.49</td>\n",
       "      <td id=\"T_ecf4a_row1_col12\" class=\"data row1 col12\" >€1.11</td>\n",
       "      <td id=\"T_ecf4a_row1_col13\" class=\"data row1 col13\" >€2.29</td>\n",
       "      <td id=\"T_ecf4a_row1_col14\" class=\"data row1 col14\" >€16.79</td>\n",
       "      <td id=\"T_ecf4a_row1_col15\" class=\"data row1 col15\" >€27.93</td>\n",
       "      <td id=\"T_ecf4a_row1_col16\" class=\"data row1 col16\" >€35250.80</td>\n",
       "      <td id=\"T_ecf4a_row1_col17\" class=\"data row1 col17\" >166.41%</td>\n",
       "      <td id=\"T_ecf4a_row1_col18\" class=\"data row1 col18\" >66.41%</td>\n",
       "    </tr>\n",
       "  </tbody>\n",
       "</table>\n"
      ],
      "text/plain": [
       "<pandas.io.formats.style.Styler at 0x173ce6a90>"
      ]
     },
     "metadata": {},
     "output_type": "display_data"
    },
    {
     "data": {
      "text/html": [
       "<style type=\"text/css\">\n",
       "#T_e18f6_row0_col4 {\n",
       "  width: 10em;\n",
       "  background: linear-gradient(90deg, #8ecbfa 40.3%, transparent 40.3%);\n",
       "}\n",
       "#T_e18f6_row0_col5 {\n",
       "  width: 10em;\n",
       "  background: linear-gradient(90deg, #8ecbfa 27.7%, transparent 27.7%);\n",
       "}\n",
       "#T_e18f6_row0_col6 {\n",
       "  width: 10em;\n",
       "  background: linear-gradient(90deg, #8ecbfa 34.4%, transparent 34.4%);\n",
       "}\n",
       "#T_e18f6_row0_col7 {\n",
       "  width: 10em;\n",
       "  background: linear-gradient(90deg, #8ecbfa 27.2%, transparent 27.2%);\n",
       "}\n",
       "#T_e18f6_row0_col10 {\n",
       "  width: 10em;\n",
       "  background: linear-gradient(90deg, #8ecbfa 68.8%, transparent 68.8%);\n",
       "}\n",
       "#T_e18f6_row0_col13 {\n",
       "  width: 10em;\n",
       "  background: linear-gradient(90deg, #8ecbfa 85.3%, transparent 85.3%);\n",
       "}\n",
       "#T_e18f6_row0_col16 {\n",
       "  width: 10em;\n",
       "  background: linear-gradient(90deg, transparent 59.9%, #d65f5f 59.9%, #d65f5f 100.0%, transparent 100.0%);\n",
       "}\n",
       "#T_e18f6_row1_col4, #T_e18f6_row1_col5, #T_e18f6_row1_col6, #T_e18f6_row1_col7, #T_e18f6_row1_col10, #T_e18f6_row1_col13 {\n",
       "  width: 10em;\n",
       "  background: linear-gradient(90deg, #8ecbfa 100.0%, transparent 100.0%);\n",
       "}\n",
       "#T_e18f6_row1_col16 {\n",
       "  width: 10em;\n",
       "  background: linear-gradient(90deg, #d65f5f 100.0%, transparent 100.0%);\n",
       "}\n",
       "</style>\n",
       "<table id=\"T_e18f6\">\n",
       "  <thead>\n",
       "    <tr>\n",
       "      <th id=\"T_e18f6_level0_col0\" class=\"col_heading level0 col0\" >country</th>\n",
       "      <th id=\"T_e18f6_level0_col1\" class=\"col_heading level0 col1\" >platform</th>\n",
       "      <th id=\"T_e18f6_level0_col2\" class=\"col_heading level0 col2\" >impressions</th>\n",
       "      <th id=\"T_e18f6_level0_col3\" class=\"col_heading level0 col3\" >clicks</th>\n",
       "      <th id=\"T_e18f6_level0_col4\" class=\"col_heading level0 col4\" >app_installs</th>\n",
       "      <th id=\"T_e18f6_level0_col5\" class=\"col_heading level0 col5\" >conversions</th>\n",
       "      <th id=\"T_e18f6_level0_col6\" class=\"col_heading level0 col6\" >marketing_spend_euro</th>\n",
       "      <th id=\"T_e18f6_level0_col7\" class=\"col_heading level0 col7\" >revenue_euro</th>\n",
       "      <th id=\"T_e18f6_level0_col8\" class=\"col_heading level0 col8\" >click_through_rate</th>\n",
       "      <th id=\"T_e18f6_level0_col9\" class=\"col_heading level0 col9\" >click_to_install_rate</th>\n",
       "      <th id=\"T_e18f6_level0_col10\" class=\"col_heading level0 col10\" >install_to_conversion_rate</th>\n",
       "      <th id=\"T_e18f6_level0_col11\" class=\"col_heading level0 col11\" >cpm</th>\n",
       "      <th id=\"T_e18f6_level0_col12\" class=\"col_heading level0 col12\" >cpc</th>\n",
       "      <th id=\"T_e18f6_level0_col13\" class=\"col_heading level0 col13\" >cpi</th>\n",
       "      <th id=\"T_e18f6_level0_col14\" class=\"col_heading level0 col14\" >cpa</th>\n",
       "      <th id=\"T_e18f6_level0_col15\" class=\"col_heading level0 col15\" >rpa</th>\n",
       "      <th id=\"T_e18f6_level0_col16\" class=\"col_heading level0 col16\" >profit</th>\n",
       "      <th id=\"T_e18f6_level0_col17\" class=\"col_heading level0 col17\" >return_on_ad_spend_percentage</th>\n",
       "      <th id=\"T_e18f6_level0_col18\" class=\"col_heading level0 col18\" >return_on_investment_percentage</th>\n",
       "    </tr>\n",
       "  </thead>\n",
       "  <tbody>\n",
       "    <tr>\n",
       "      <td id=\"T_e18f6_row0_col0\" class=\"data row0 col0\" >US</td>\n",
       "      <td id=\"T_e18f6_row0_col1\" class=\"data row0 col1\" >android</td>\n",
       "      <td id=\"T_e18f6_row0_col2\" class=\"data row0 col2\" >330,401</td>\n",
       "      <td id=\"T_e18f6_row0_col3\" class=\"data row0 col3\" >13,962</td>\n",
       "      <td id=\"T_e18f6_row0_col4\" class=\"data row0 col4\" >1,446</td>\n",
       "      <td id=\"T_e18f6_row0_col5\" class=\"data row0 col5\" >105</td>\n",
       "      <td id=\"T_e18f6_row0_col6\" class=\"data row0 col6\" >€7249.09</td>\n",
       "      <td id=\"T_e18f6_row0_col7\" class=\"data row0 col7\" >€2532.99</td>\n",
       "      <td id=\"T_e18f6_row0_col8\" class=\"data row0 col8\" >4.23%</td>\n",
       "      <td id=\"T_e18f6_row0_col9\" class=\"data row0 col9\" >10.36%</td>\n",
       "      <td id=\"T_e18f6_row0_col10\" class=\"data row0 col10\" >7.26%</td>\n",
       "      <td id=\"T_e18f6_row0_col11\" class=\"data row0 col11\" >€21.94</td>\n",
       "      <td id=\"T_e18f6_row0_col12\" class=\"data row0 col12\" >€0.52</td>\n",
       "      <td id=\"T_e18f6_row0_col13\" class=\"data row0 col13\" >€5.01</td>\n",
       "      <td id=\"T_e18f6_row0_col14\" class=\"data row0 col14\" >€69.04</td>\n",
       "      <td id=\"T_e18f6_row0_col15\" class=\"data row0 col15\" >€24.12</td>\n",
       "      <td id=\"T_e18f6_row0_col16\" class=\"data row0 col16\" >€-4716.10</td>\n",
       "      <td id=\"T_e18f6_row0_col17\" class=\"data row0 col17\" >34.94%</td>\n",
       "      <td id=\"T_e18f6_row0_col18\" class=\"data row0 col18\" >-65.06%</td>\n",
       "    </tr>\n",
       "    <tr>\n",
       "      <td id=\"T_e18f6_row1_col0\" class=\"data row1 col0\" >US</td>\n",
       "      <td id=\"T_e18f6_row1_col1\" class=\"data row1 col1\" >ios</td>\n",
       "      <td id=\"T_e18f6_row1_col2\" class=\"data row1 col2\" >2,172,792</td>\n",
       "      <td id=\"T_e18f6_row1_col3\" class=\"data row1 col3\" >11,804</td>\n",
       "      <td id=\"T_e18f6_row1_col4\" class=\"data row1 col4\" >3,592</td>\n",
       "      <td id=\"T_e18f6_row1_col5\" class=\"data row1 col5\" >379</td>\n",
       "      <td id=\"T_e18f6_row1_col6\" class=\"data row1 col6\" >€21091.13</td>\n",
       "      <td id=\"T_e18f6_row1_col7\" class=\"data row1 col7\" >€9325.81</td>\n",
       "      <td id=\"T_e18f6_row1_col8\" class=\"data row1 col8\" >0.54%</td>\n",
       "      <td id=\"T_e18f6_row1_col9\" class=\"data row1 col9\" >30.43%</td>\n",
       "      <td id=\"T_e18f6_row1_col10\" class=\"data row1 col10\" >10.55%</td>\n",
       "      <td id=\"T_e18f6_row1_col11\" class=\"data row1 col11\" >€9.71</td>\n",
       "      <td id=\"T_e18f6_row1_col12\" class=\"data row1 col12\" >€1.79</td>\n",
       "      <td id=\"T_e18f6_row1_col13\" class=\"data row1 col13\" >€5.87</td>\n",
       "      <td id=\"T_e18f6_row1_col14\" class=\"data row1 col14\" >€55.65</td>\n",
       "      <td id=\"T_e18f6_row1_col15\" class=\"data row1 col15\" >€24.61</td>\n",
       "      <td id=\"T_e18f6_row1_col16\" class=\"data row1 col16\" >€-11765.32</td>\n",
       "      <td id=\"T_e18f6_row1_col17\" class=\"data row1 col17\" >44.22%</td>\n",
       "      <td id=\"T_e18f6_row1_col18\" class=\"data row1 col18\" >-55.78%</td>\n",
       "    </tr>\n",
       "  </tbody>\n",
       "</table>\n"
      ],
      "text/plain": [
       "<pandas.io.formats.style.Styler at 0x115007510>"
      ]
     },
     "metadata": {},
     "output_type": "display_data"
    }
   ],
   "source": [
    "agg_df = df.groupby(['country','platform']).sum(numeric_only=True)\n",
    "\n",
    "df_metrics = calculate_metrics(agg_df).reset_index()\n",
    "\n",
    "filtered_df_de = df_metrics[df_metrics['country'] == 'DE']\n",
    "filtered_df_us = df_metrics[df_metrics['country'] == 'US']\n",
    "\n",
    "# formatted_df = format_metrics(df_metrics)\n",
    "\n",
    "display(format_metrics(filtered_df_de))\n",
    "\n",
    "display(format_metrics(filtered_df_us))"
   ]
  },
  {
   "cell_type": "markdown",
   "id": "a462a56b",
   "metadata": {},
   "source": [
    "### 4.2.3 Performance by Platform and Channel"
   ]
  },
  {
   "cell_type": "markdown",
   "id": "8db1fc76",
   "metadata": {},
   "source": [
    "\n",
    "**Germany**\n",
    "- The profitability comes mainly from ios on Channel C\n",
    "\n",
    "**United States**\n",
    "- The channel with the highest spend has the highest loss."
   ]
  },
  {
   "cell_type": "code",
   "execution_count": 18,
   "id": "5c5961c8",
   "metadata": {},
   "outputs": [
    {
     "data": {
      "text/html": [
       "<style type=\"text/css\">\n",
       "#T_70b84_row0_col5 {\n",
       "  width: 10em;\n",
       "  background: linear-gradient(90deg, #8ecbfa 78.1%, transparent 78.1%);\n",
       "}\n",
       "#T_70b84_row0_col6 {\n",
       "  width: 10em;\n",
       "  background: linear-gradient(90deg, #8ecbfa 54.8%, transparent 54.8%);\n",
       "}\n",
       "#T_70b84_row0_col7 {\n",
       "  width: 10em;\n",
       "  background: linear-gradient(90deg, #8ecbfa 90.3%, transparent 90.3%);\n",
       "}\n",
       "#T_70b84_row0_col8 {\n",
       "  width: 10em;\n",
       "  background: linear-gradient(90deg, #8ecbfa 56.9%, transparent 56.9%);\n",
       "}\n",
       "#T_70b84_row0_col11 {\n",
       "  width: 10em;\n",
       "  background: linear-gradient(90deg, #8ecbfa 48.1%, transparent 48.1%);\n",
       "}\n",
       "#T_70b84_row0_col14, #T_70b84_row6_col14 {\n",
       "  width: 10em;\n",
       "  background: linear-gradient(90deg, #8ecbfa 0.2%, transparent 0.2%);\n",
       "}\n",
       "#T_70b84_row0_col17 {\n",
       "  width: 10em;\n",
       "  background: linear-gradient(90deg, transparent 21.0%, #8ecbfa 21.0%, #8ecbfa 47.2%, transparent 47.2%);\n",
       "}\n",
       "#T_70b84_row1_col5, #T_70b84_row1_col11 {\n",
       "  width: 10em;\n",
       "  background: linear-gradient(90deg, #8ecbfa 22.1%, transparent 22.1%);\n",
       "}\n",
       "#T_70b84_row1_col6 {\n",
       "  width: 10em;\n",
       "  background: linear-gradient(90deg, #8ecbfa 7.1%, transparent 7.1%);\n",
       "}\n",
       "#T_70b84_row1_col7 {\n",
       "  width: 10em;\n",
       "  background: linear-gradient(90deg, #8ecbfa 43.4%, transparent 43.4%);\n",
       "}\n",
       "#T_70b84_row1_col8 {\n",
       "  width: 10em;\n",
       "  background: linear-gradient(90deg, #8ecbfa 8.2%, transparent 8.2%);\n",
       "}\n",
       "#T_70b84_row1_col14, #T_70b84_row7_col6, #T_70b84_row7_col8 {\n",
       "  width: 10em;\n",
       "  background: linear-gradient(90deg, #8ecbfa 0.3%, transparent 0.3%);\n",
       "}\n",
       "#T_70b84_row1_col17 {\n",
       "  width: 10em;\n",
       "  background: linear-gradient(90deg, transparent 7.8%, #d65f5f 7.8%, #d65f5f 21.0%, transparent 21.0%);\n",
       "}\n",
       "#T_70b84_row2_col5, #T_70b84_row2_col6, #T_70b84_row2_col8, #T_70b84_row2_col11, #T_70b84_row2_col14, #T_70b84_row4_col6, #T_70b84_row4_col8, #T_70b84_row4_col11, #T_70b84_row7_col7, #T_70b84_row7_col14 {\n",
       "  width: 10em;\n",
       "}\n",
       "#T_70b84_row2_col7 {\n",
       "  width: 10em;\n",
       "  background: linear-gradient(90deg, #8ecbfa 34.2%, transparent 34.2%);\n",
       "}\n",
       "#T_70b84_row2_col17 {\n",
       "  width: 10em;\n",
       "  background: linear-gradient(90deg, transparent 1.8%, #d65f5f 1.8%, #d65f5f 21.0%, transparent 21.0%);\n",
       "}\n",
       "#T_70b84_row3_col5 {\n",
       "  width: 10em;\n",
       "  background: linear-gradient(90deg, #8ecbfa 10.7%, transparent 10.7%);\n",
       "}\n",
       "#T_70b84_row3_col6 {\n",
       "  width: 10em;\n",
       "  background: linear-gradient(90deg, #8ecbfa 5.8%, transparent 5.8%);\n",
       "}\n",
       "#T_70b84_row3_col7 {\n",
       "  width: 10em;\n",
       "  background: linear-gradient(90deg, #8ecbfa 39.4%, transparent 39.4%);\n",
       "}\n",
       "#T_70b84_row3_col8 {\n",
       "  width: 10em;\n",
       "  background: linear-gradient(90deg, #8ecbfa 6.6%, transparent 6.6%);\n",
       "}\n",
       "#T_70b84_row3_col11 {\n",
       "  width: 10em;\n",
       "  background: linear-gradient(90deg, #8ecbfa 37.0%, transparent 37.0%);\n",
       "}\n",
       "#T_70b84_row3_col14 {\n",
       "  width: 10em;\n",
       "  background: linear-gradient(90deg, #8ecbfa 0.6%, transparent 0.6%);\n",
       "}\n",
       "#T_70b84_row3_col17 {\n",
       "  width: 10em;\n",
       "  background: linear-gradient(90deg, transparent 7.7%, #d65f5f 7.7%, #d65f5f 21.0%, transparent 21.0%);\n",
       "}\n",
       "#T_70b84_row4_col5 {\n",
       "  width: 10em;\n",
       "  background: linear-gradient(90deg, #8ecbfa 0.0%, transparent 0.0%);\n",
       "}\n",
       "#T_70b84_row4_col7 {\n",
       "  width: 10em;\n",
       "  background: linear-gradient(90deg, #8ecbfa 7.7%, transparent 7.7%);\n",
       "}\n",
       "#T_70b84_row4_col14, #T_70b84_row5_col11, #T_70b84_row6_col5, #T_70b84_row6_col6, #T_70b84_row6_col7, #T_70b84_row6_col8 {\n",
       "  width: 10em;\n",
       "  background: linear-gradient(90deg, #8ecbfa 100.0%, transparent 100.0%);\n",
       "}\n",
       "#T_70b84_row4_col17 {\n",
       "  width: 10em;\n",
       "  background: linear-gradient(90deg, transparent 16.7%, #d65f5f 16.7%, #d65f5f 21.0%, transparent 21.0%);\n",
       "}\n",
       "#T_70b84_row5_col5, #T_70b84_row5_col6, #T_70b84_row5_col8 {\n",
       "  width: 10em;\n",
       "  background: linear-gradient(90deg, #8ecbfa 0.1%, transparent 0.1%);\n",
       "}\n",
       "#T_70b84_row5_col7 {\n",
       "  width: 10em;\n",
       "  background: linear-gradient(90deg, #8ecbfa 37.7%, transparent 37.7%);\n",
       "}\n",
       "#T_70b84_row5_col14 {\n",
       "  width: 10em;\n",
       "  background: linear-gradient(90deg, #8ecbfa 98.5%, transparent 98.5%);\n",
       "}\n",
       "#T_70b84_row5_col17 {\n",
       "  width: 10em;\n",
       "  background: linear-gradient(90deg, #d65f5f 21.0%, transparent 21.0%);\n",
       "}\n",
       "#T_70b84_row6_col11 {\n",
       "  width: 10em;\n",
       "  background: linear-gradient(90deg, #8ecbfa 68.5%, transparent 68.5%);\n",
       "}\n",
       "#T_70b84_row6_col17 {\n",
       "  width: 10em;\n",
       "  background: linear-gradient(90deg, transparent 21.0%, #8ecbfa 21.0%, #8ecbfa 100.0%, transparent 100.0%);\n",
       "}\n",
       "#T_70b84_row7_col5 {\n",
       "  width: 10em;\n",
       "  background: linear-gradient(90deg, #8ecbfa 1.0%, transparent 1.0%);\n",
       "}\n",
       "#T_70b84_row7_col11 {\n",
       "  width: 10em;\n",
       "  background: linear-gradient(90deg, #8ecbfa 20.0%, transparent 20.0%);\n",
       "}\n",
       "#T_70b84_row7_col17 {\n",
       "  width: 10em;\n",
       "  background: linear-gradient(90deg, transparent 21.0%, #8ecbfa 21.0%, #8ecbfa 21.4%, transparent 21.4%);\n",
       "}\n",
       "</style>\n",
       "<table id=\"T_70b84\">\n",
       "  <thead>\n",
       "    <tr>\n",
       "      <th id=\"T_70b84_level0_col0\" class=\"col_heading level0 col0\" >country</th>\n",
       "      <th id=\"T_70b84_level0_col1\" class=\"col_heading level0 col1\" >platform</th>\n",
       "      <th id=\"T_70b84_level0_col2\" class=\"col_heading level0 col2\" >marketing_channel</th>\n",
       "      <th id=\"T_70b84_level0_col3\" class=\"col_heading level0 col3\" >impressions</th>\n",
       "      <th id=\"T_70b84_level0_col4\" class=\"col_heading level0 col4\" >clicks</th>\n",
       "      <th id=\"T_70b84_level0_col5\" class=\"col_heading level0 col5\" >app_installs</th>\n",
       "      <th id=\"T_70b84_level0_col6\" class=\"col_heading level0 col6\" >conversions</th>\n",
       "      <th id=\"T_70b84_level0_col7\" class=\"col_heading level0 col7\" >marketing_spend_euro</th>\n",
       "      <th id=\"T_70b84_level0_col8\" class=\"col_heading level0 col8\" >revenue_euro</th>\n",
       "      <th id=\"T_70b84_level0_col9\" class=\"col_heading level0 col9\" >click_through_rate</th>\n",
       "      <th id=\"T_70b84_level0_col10\" class=\"col_heading level0 col10\" >click_to_install_rate</th>\n",
       "      <th id=\"T_70b84_level0_col11\" class=\"col_heading level0 col11\" >install_to_conversion_rate</th>\n",
       "      <th id=\"T_70b84_level0_col12\" class=\"col_heading level0 col12\" >cpm</th>\n",
       "      <th id=\"T_70b84_level0_col13\" class=\"col_heading level0 col13\" >cpc</th>\n",
       "      <th id=\"T_70b84_level0_col14\" class=\"col_heading level0 col14\" >cpi</th>\n",
       "      <th id=\"T_70b84_level0_col15\" class=\"col_heading level0 col15\" >cpa</th>\n",
       "      <th id=\"T_70b84_level0_col16\" class=\"col_heading level0 col16\" >rpa</th>\n",
       "      <th id=\"T_70b84_level0_col17\" class=\"col_heading level0 col17\" >profit</th>\n",
       "      <th id=\"T_70b84_level0_col18\" class=\"col_heading level0 col18\" >return_on_ad_spend_percentage</th>\n",
       "      <th id=\"T_70b84_level0_col19\" class=\"col_heading level0 col19\" >return_on_investment_percentage</th>\n",
       "    </tr>\n",
       "  </thead>\n",
       "  <tbody>\n",
       "    <tr>\n",
       "      <td id=\"T_70b84_row0_col0\" class=\"data row0 col0\" >DE</td>\n",
       "      <td id=\"T_70b84_row0_col1\" class=\"data row0 col1\" >android</td>\n",
       "      <td id=\"T_70b84_row0_col2\" class=\"data row0 col2\" >Channel A</td>\n",
       "      <td id=\"T_70b84_row0_col3\" class=\"data row0 col3\" >1,627,339</td>\n",
       "      <td id=\"T_70b84_row0_col4\" class=\"data row0 col4\" >38,801</td>\n",
       "      <td id=\"T_70b84_row0_col5\" class=\"data row0 col5\" >17,951</td>\n",
       "      <td id=\"T_70b84_row0_col6\" class=\"data row0 col6\" >1,727</td>\n",
       "      <td id=\"T_70b84_row0_col7\" class=\"data row0 col7\" >€32964.60</td>\n",
       "      <td id=\"T_70b84_row0_col8\" class=\"data row0 col8\" >€50029.23</td>\n",
       "      <td id=\"T_70b84_row0_col9\" class=\"data row0 col9\" >2.38%</td>\n",
       "      <td id=\"T_70b84_row0_col10\" class=\"data row0 col10\" >46.26%</td>\n",
       "      <td id=\"T_70b84_row0_col11\" class=\"data row0 col11\" >9.62%</td>\n",
       "      <td id=\"T_70b84_row0_col12\" class=\"data row0 col12\" >€20.26</td>\n",
       "      <td id=\"T_70b84_row0_col13\" class=\"data row0 col13\" >€0.85</td>\n",
       "      <td id=\"T_70b84_row0_col14\" class=\"data row0 col14\" >€1.84</td>\n",
       "      <td id=\"T_70b84_row0_col15\" class=\"data row0 col15\" >€19.09</td>\n",
       "      <td id=\"T_70b84_row0_col16\" class=\"data row0 col16\" >€28.97</td>\n",
       "      <td id=\"T_70b84_row0_col17\" class=\"data row0 col17\" >€17064.63</td>\n",
       "      <td id=\"T_70b84_row0_col18\" class=\"data row0 col18\" >151.77%</td>\n",
       "      <td id=\"T_70b84_row0_col19\" class=\"data row0 col19\" >51.77%</td>\n",
       "    </tr>\n",
       "    <tr>\n",
       "      <td id=\"T_70b84_row1_col0\" class=\"data row1 col0\" >DE</td>\n",
       "      <td id=\"T_70b84_row1_col1\" class=\"data row1 col1\" >android</td>\n",
       "      <td id=\"T_70b84_row1_col2\" class=\"data row1 col2\" >Channel B</td>\n",
       "      <td id=\"T_70b84_row1_col3\" class=\"data row1 col3\" >2,330,812</td>\n",
       "      <td id=\"T_70b84_row1_col4\" class=\"data row1 col4\" >9,314</td>\n",
       "      <td id=\"T_70b84_row1_col5\" class=\"data row1 col5\" >5,081</td>\n",
       "      <td id=\"T_70b84_row1_col6\" class=\"data row1 col6\" >225</td>\n",
       "      <td id=\"T_70b84_row1_col7\" class=\"data row1 col7\" >€15846.01</td>\n",
       "      <td id=\"T_70b84_row1_col8\" class=\"data row1 col8\" >€7252.55</td>\n",
       "      <td id=\"T_70b84_row1_col9\" class=\"data row1 col9\" >0.40%</td>\n",
       "      <td id=\"T_70b84_row1_col10\" class=\"data row1 col10\" >54.55%</td>\n",
       "      <td id=\"T_70b84_row1_col11\" class=\"data row1 col11\" >4.43%</td>\n",
       "      <td id=\"T_70b84_row1_col12\" class=\"data row1 col12\" >€6.80</td>\n",
       "      <td id=\"T_70b84_row1_col13\" class=\"data row1 col13\" >€1.70</td>\n",
       "      <td id=\"T_70b84_row1_col14\" class=\"data row1 col14\" >€3.12</td>\n",
       "      <td id=\"T_70b84_row1_col15\" class=\"data row1 col15\" >€70.43</td>\n",
       "      <td id=\"T_70b84_row1_col16\" class=\"data row1 col16\" >€32.23</td>\n",
       "      <td id=\"T_70b84_row1_col17\" class=\"data row1 col17\" >€-8593.46</td>\n",
       "      <td id=\"T_70b84_row1_col18\" class=\"data row1 col18\" >45.77%</td>\n",
       "      <td id=\"T_70b84_row1_col19\" class=\"data row1 col19\" >-54.23%</td>\n",
       "    </tr>\n",
       "    <tr>\n",
       "      <td id=\"T_70b84_row2_col0\" class=\"data row2 col0\" >DE</td>\n",
       "      <td id=\"T_70b84_row2_col1\" class=\"data row2 col1\" >android</td>\n",
       "      <td id=\"T_70b84_row2_col2\" class=\"data row2 col2\" >Channel D</td>\n",
       "      <td id=\"T_70b84_row2_col3\" class=\"data row2 col3\" >0</td>\n",
       "      <td id=\"T_70b84_row2_col4\" class=\"data row2 col4\" >0</td>\n",
       "      <td id=\"T_70b84_row2_col5\" class=\"data row2 col5\" >0</td>\n",
       "      <td id=\"T_70b84_row2_col6\" class=\"data row2 col6\" >0</td>\n",
       "      <td id=\"T_70b84_row2_col7\" class=\"data row2 col7\" >€12500.97</td>\n",
       "      <td id=\"T_70b84_row2_col8\" class=\"data row2 col8\" >€0.00</td>\n",
       "      <td id=\"T_70b84_row2_col9\" class=\"data row2 col9\" >nan%</td>\n",
       "      <td id=\"T_70b84_row2_col10\" class=\"data row2 col10\" >nan%</td>\n",
       "      <td id=\"T_70b84_row2_col11\" class=\"data row2 col11\" >nan%</td>\n",
       "      <td id=\"T_70b84_row2_col12\" class=\"data row2 col12\" >€nan</td>\n",
       "      <td id=\"T_70b84_row2_col13\" class=\"data row2 col13\" >€nan</td>\n",
       "      <td id=\"T_70b84_row2_col14\" class=\"data row2 col14\" >€nan</td>\n",
       "      <td id=\"T_70b84_row2_col15\" class=\"data row2 col15\" >€nan</td>\n",
       "      <td id=\"T_70b84_row2_col16\" class=\"data row2 col16\" >€nan</td>\n",
       "      <td id=\"T_70b84_row2_col17\" class=\"data row2 col17\" >€-12500.97</td>\n",
       "      <td id=\"T_70b84_row2_col18\" class=\"data row2 col18\" >0.00%</td>\n",
       "      <td id=\"T_70b84_row2_col19\" class=\"data row2 col19\" >-100.00%</td>\n",
       "    </tr>\n",
       "    <tr>\n",
       "      <td id=\"T_70b84_row3_col0\" class=\"data row3 col0\" >DE</td>\n",
       "      <td id=\"T_70b84_row3_col1\" class=\"data row3 col1\" >android</td>\n",
       "      <td id=\"T_70b84_row3_col2\" class=\"data row3 col2\" >Channel E</td>\n",
       "      <td id=\"T_70b84_row3_col3\" class=\"data row3 col3\" >6,799,713</td>\n",
       "      <td id=\"T_70b84_row3_col4\" class=\"data row3 col4\" >13,499</td>\n",
       "      <td id=\"T_70b84_row3_col5\" class=\"data row3 col5\" >2,457</td>\n",
       "      <td id=\"T_70b84_row3_col6\" class=\"data row3 col6\" >182</td>\n",
       "      <td id=\"T_70b84_row3_col7\" class=\"data row3 col7\" >€14400.22</td>\n",
       "      <td id=\"T_70b84_row3_col8\" class=\"data row3 col8\" >€5773.92</td>\n",
       "      <td id=\"T_70b84_row3_col9\" class=\"data row3 col9\" >0.20%</td>\n",
       "      <td id=\"T_70b84_row3_col10\" class=\"data row3 col10\" >18.20%</td>\n",
       "      <td id=\"T_70b84_row3_col11\" class=\"data row3 col11\" >7.41%</td>\n",
       "      <td id=\"T_70b84_row3_col12\" class=\"data row3 col12\" >€2.12</td>\n",
       "      <td id=\"T_70b84_row3_col13\" class=\"data row3 col13\" >€1.07</td>\n",
       "      <td id=\"T_70b84_row3_col14\" class=\"data row3 col14\" >€5.86</td>\n",
       "      <td id=\"T_70b84_row3_col15\" class=\"data row3 col15\" >€79.12</td>\n",
       "      <td id=\"T_70b84_row3_col16\" class=\"data row3 col16\" >€31.72</td>\n",
       "      <td id=\"T_70b84_row3_col17\" class=\"data row3 col17\" >€-8626.30</td>\n",
       "      <td id=\"T_70b84_row3_col18\" class=\"data row3 col18\" >40.10%</td>\n",
       "      <td id=\"T_70b84_row3_col19\" class=\"data row3 col19\" >-59.90%</td>\n",
       "    </tr>\n",
       "    <tr>\n",
       "      <td id=\"T_70b84_row4_col0\" class=\"data row4 col0\" >DE</td>\n",
       "      <td id=\"T_70b84_row4_col1\" class=\"data row4 col1\" >ios</td>\n",
       "      <td id=\"T_70b84_row4_col2\" class=\"data row4 col2\" >Channel A</td>\n",
       "      <td id=\"T_70b84_row4_col3\" class=\"data row4 col3\" >441,739</td>\n",
       "      <td id=\"T_70b84_row4_col4\" class=\"data row4 col4\" >3,207</td>\n",
       "      <td id=\"T_70b84_row4_col5\" class=\"data row4 col5\" >3</td>\n",
       "      <td id=\"T_70b84_row4_col6\" class=\"data row4 col6\" >0</td>\n",
       "      <td id=\"T_70b84_row4_col7\" class=\"data row4 col7\" >€2795.72</td>\n",
       "      <td id=\"T_70b84_row4_col8\" class=\"data row4 col8\" >€0.00</td>\n",
       "      <td id=\"T_70b84_row4_col9\" class=\"data row4 col9\" >0.73%</td>\n",
       "      <td id=\"T_70b84_row4_col10\" class=\"data row4 col10\" >0.09%</td>\n",
       "      <td id=\"T_70b84_row4_col11\" class=\"data row4 col11\" >0.00%</td>\n",
       "      <td id=\"T_70b84_row4_col12\" class=\"data row4 col12\" >€6.33</td>\n",
       "      <td id=\"T_70b84_row4_col13\" class=\"data row4 col13\" >€0.87</td>\n",
       "      <td id=\"T_70b84_row4_col14\" class=\"data row4 col14\" >€931.91</td>\n",
       "      <td id=\"T_70b84_row4_col15\" class=\"data row4 col15\" >€nan</td>\n",
       "      <td id=\"T_70b84_row4_col16\" class=\"data row4 col16\" >€nan</td>\n",
       "      <td id=\"T_70b84_row4_col17\" class=\"data row4 col17\" >€-2795.72</td>\n",
       "      <td id=\"T_70b84_row4_col18\" class=\"data row4 col18\" >0.00%</td>\n",
       "      <td id=\"T_70b84_row4_col19\" class=\"data row4 col19\" >-100.00%</td>\n",
       "    </tr>\n",
       "    <tr>\n",
       "      <td id=\"T_70b84_row5_col0\" class=\"data row5 col0\" >DE</td>\n",
       "      <td id=\"T_70b84_row5_col1\" class=\"data row5 col1\" >ios</td>\n",
       "      <td id=\"T_70b84_row5_col2\" class=\"data row5 col2\" >Channel B</td>\n",
       "      <td id=\"T_70b84_row5_col3\" class=\"data row5 col3\" >2,055,608</td>\n",
       "      <td id=\"T_70b84_row5_col4\" class=\"data row5 col4\" >6,562</td>\n",
       "      <td id=\"T_70b84_row5_col5\" class=\"data row5 col5\" >15</td>\n",
       "      <td id=\"T_70b84_row5_col6\" class=\"data row5 col6\" >3</td>\n",
       "      <td id=\"T_70b84_row5_col7\" class=\"data row5 col7\" >€13768.36</td>\n",
       "      <td id=\"T_70b84_row5_col8\" class=\"data row5 col8\" >€110.15</td>\n",
       "      <td id=\"T_70b84_row5_col9\" class=\"data row5 col9\" >0.32%</td>\n",
       "      <td id=\"T_70b84_row5_col10\" class=\"data row5 col10\" >0.23%</td>\n",
       "      <td id=\"T_70b84_row5_col11\" class=\"data row5 col11\" >20.00%</td>\n",
       "      <td id=\"T_70b84_row5_col12\" class=\"data row5 col12\" >€6.70</td>\n",
       "      <td id=\"T_70b84_row5_col13\" class=\"data row5 col13\" >€2.10</td>\n",
       "      <td id=\"T_70b84_row5_col14\" class=\"data row5 col14\" >€917.89</td>\n",
       "      <td id=\"T_70b84_row5_col15\" class=\"data row5 col15\" >€4589.45</td>\n",
       "      <td id=\"T_70b84_row5_col16\" class=\"data row5 col16\" >€36.72</td>\n",
       "      <td id=\"T_70b84_row5_col17\" class=\"data row5 col17\" >€-13658.21</td>\n",
       "      <td id=\"T_70b84_row5_col18\" class=\"data row5 col18\" >0.80%</td>\n",
       "      <td id=\"T_70b84_row5_col19\" class=\"data row5 col19\" >-99.20%</td>\n",
       "    </tr>\n",
       "    <tr>\n",
       "      <td id=\"T_70b84_row6_col0\" class=\"data row6 col0\" >DE</td>\n",
       "      <td id=\"T_70b84_row6_col1\" class=\"data row6 col1\" >ios</td>\n",
       "      <td id=\"T_70b84_row6_col2\" class=\"data row6 col2\" >Channel C</td>\n",
       "      <td id=\"T_70b84_row6_col3\" class=\"data row6 col3\" >104,013</td>\n",
       "      <td id=\"T_70b84_row6_col4\" class=\"data row6 col4\" >36,691</td>\n",
       "      <td id=\"T_70b84_row6_col5\" class=\"data row6 col5\" >22,972</td>\n",
       "      <td id=\"T_70b84_row6_col6\" class=\"data row6 col6\" >3,150</td>\n",
       "      <td id=\"T_70b84_row6_col7\" class=\"data row6 col7\" >€36512.65</td>\n",
       "      <td id=\"T_70b84_row6_col8\" class=\"data row6 col8\" >€87967.00</td>\n",
       "      <td id=\"T_70b84_row6_col9\" class=\"data row6 col9\" >35.28%</td>\n",
       "      <td id=\"T_70b84_row6_col10\" class=\"data row6 col10\" >62.61%</td>\n",
       "      <td id=\"T_70b84_row6_col11\" class=\"data row6 col11\" >13.71%</td>\n",
       "      <td id=\"T_70b84_row6_col12\" class=\"data row6 col12\" >€351.04</td>\n",
       "      <td id=\"T_70b84_row6_col13\" class=\"data row6 col13\" >€1.00</td>\n",
       "      <td id=\"T_70b84_row6_col14\" class=\"data row6 col14\" >€1.59</td>\n",
       "      <td id=\"T_70b84_row6_col15\" class=\"data row6 col15\" >€11.59</td>\n",
       "      <td id=\"T_70b84_row6_col16\" class=\"data row6 col16\" >€27.93</td>\n",
       "      <td id=\"T_70b84_row6_col17\" class=\"data row6 col17\" >€51454.35</td>\n",
       "      <td id=\"T_70b84_row6_col18\" class=\"data row6 col18\" >240.92%</td>\n",
       "      <td id=\"T_70b84_row6_col19\" class=\"data row6 col19\" >140.92%</td>\n",
       "    </tr>\n",
       "    <tr>\n",
       "      <td id=\"T_70b84_row7_col0\" class=\"data row7 col0\" >DE</td>\n",
       "      <td id=\"T_70b84_row7_col1\" class=\"data row7 col1\" >ios</td>\n",
       "      <td id=\"T_70b84_row7_col2\" class=\"data row7 col2\" >Channel E</td>\n",
       "      <td id=\"T_70b84_row7_col3\" class=\"data row7 col3\" >122,359</td>\n",
       "      <td id=\"T_70b84_row7_col4\" class=\"data row7 col4\" >1,472</td>\n",
       "      <td id=\"T_70b84_row7_col5\" class=\"data row7 col5\" >225</td>\n",
       "      <td id=\"T_70b84_row7_col6\" class=\"data row7 col6\" >9</td>\n",
       "      <td id=\"T_70b84_row7_col7\" class=\"data row7 col7\" >€0.00</td>\n",
       "      <td id=\"T_70b84_row7_col8\" class=\"data row7 col8\" >€250.38</td>\n",
       "      <td id=\"T_70b84_row7_col9\" class=\"data row7 col9\" >1.20%</td>\n",
       "      <td id=\"T_70b84_row7_col10\" class=\"data row7 col10\" >15.29%</td>\n",
       "      <td id=\"T_70b84_row7_col11\" class=\"data row7 col11\" >4.00%</td>\n",
       "      <td id=\"T_70b84_row7_col12\" class=\"data row7 col12\" >€0.00</td>\n",
       "      <td id=\"T_70b84_row7_col13\" class=\"data row7 col13\" >€0.00</td>\n",
       "      <td id=\"T_70b84_row7_col14\" class=\"data row7 col14\" >€0.00</td>\n",
       "      <td id=\"T_70b84_row7_col15\" class=\"data row7 col15\" >€0.00</td>\n",
       "      <td id=\"T_70b84_row7_col16\" class=\"data row7 col16\" >€27.82</td>\n",
       "      <td id=\"T_70b84_row7_col17\" class=\"data row7 col17\" >€250.38</td>\n",
       "      <td id=\"T_70b84_row7_col18\" class=\"data row7 col18\" >nan%</td>\n",
       "      <td id=\"T_70b84_row7_col19\" class=\"data row7 col19\" >nan%</td>\n",
       "    </tr>\n",
       "  </tbody>\n",
       "</table>\n"
      ],
      "text/plain": [
       "<pandas.io.formats.style.Styler at 0x174923910>"
      ]
     },
     "metadata": {},
     "output_type": "display_data"
    },
    {
     "data": {
      "text/html": [
       "<style type=\"text/css\">\n",
       "#T_d4d64_row0_col5 {\n",
       "  width: 10em;\n",
       "  background: linear-gradient(90deg, #8ecbfa 0.2%, transparent 0.2%);\n",
       "}\n",
       "#T_d4d64_row0_col6, #T_d4d64_row0_col7, #T_d4d64_row0_col8, #T_d4d64_row0_col11, #T_d4d64_row0_col14, #T_d4d64_row0_col17, #T_d4d64_row2_col5, #T_d4d64_row2_col6, #T_d4d64_row2_col8, #T_d4d64_row2_col11, #T_d4d64_row2_col14, #T_d4d64_row3_col5, #T_d4d64_row3_col6, #T_d4d64_row3_col7, #T_d4d64_row3_col8, #T_d4d64_row3_col11, #T_d4d64_row3_col14, #T_d4d64_row3_col17, #T_d4d64_row4_col6, #T_d4d64_row4_col8, #T_d4d64_row4_col11, #T_d4d64_row5_col6, #T_d4d64_row5_col8, #T_d4d64_row5_col11, #T_d4d64_row7_col5, #T_d4d64_row7_col6, #T_d4d64_row7_col7, #T_d4d64_row7_col8, #T_d4d64_row7_col11, #T_d4d64_row7_col14, #T_d4d64_row7_col17 {\n",
       "  width: 10em;\n",
       "}\n",
       "#T_d4d64_row1_col5 {\n",
       "  width: 10em;\n",
       "  background: linear-gradient(90deg, #8ecbfa 40.1%, transparent 40.1%);\n",
       "}\n",
       "#T_d4d64_row1_col6 {\n",
       "  width: 10em;\n",
       "  background: linear-gradient(90deg, #8ecbfa 27.7%, transparent 27.7%);\n",
       "}\n",
       "#T_d4d64_row1_col7 {\n",
       "  width: 10em;\n",
       "  background: linear-gradient(90deg, #8ecbfa 38.1%, transparent 38.1%);\n",
       "}\n",
       "#T_d4d64_row1_col8 {\n",
       "  width: 10em;\n",
       "  background: linear-gradient(90deg, #8ecbfa 27.2%, transparent 27.2%);\n",
       "}\n",
       "#T_d4d64_row1_col11 {\n",
       "  width: 10em;\n",
       "  background: linear-gradient(90deg, #8ecbfa 69.0%, transparent 69.0%);\n",
       "}\n",
       "#T_d4d64_row1_col14, #T_d4d64_row6_col14 {\n",
       "  width: 10em;\n",
       "  background: linear-gradient(90deg, #8ecbfa 0.1%, transparent 0.1%);\n",
       "}\n",
       "#T_d4d64_row1_col17 {\n",
       "  width: 10em;\n",
       "  background: linear-gradient(90deg, transparent 43.9%, #d65f5f 43.9%, #d65f5f 100.0%, transparent 100.0%);\n",
       "}\n",
       "#T_d4d64_row2_col7 {\n",
       "  width: 10em;\n",
       "  background: linear-gradient(90deg, #8ecbfa 10.2%, transparent 10.2%);\n",
       "}\n",
       "#T_d4d64_row2_col17 {\n",
       "  width: 10em;\n",
       "  background: linear-gradient(90deg, transparent 73.0%, #d65f5f 73.0%, #d65f5f 100.0%, transparent 100.0%);\n",
       "}\n",
       "#T_d4d64_row4_col5, #T_d4d64_row5_col5 {\n",
       "  width: 10em;\n",
       "  background: linear-gradient(90deg, #8ecbfa 0.0%, transparent 0.0%);\n",
       "}\n",
       "#T_d4d64_row4_col7 {\n",
       "  width: 10em;\n",
       "  background: linear-gradient(90deg, #8ecbfa 23.3%, transparent 23.3%);\n",
       "}\n",
       "#T_d4d64_row4_col14, #T_d4d64_row6_col5, #T_d4d64_row6_col6, #T_d4d64_row6_col7, #T_d4d64_row6_col8, #T_d4d64_row6_col11 {\n",
       "  width: 10em;\n",
       "  background: linear-gradient(90deg, #8ecbfa 100.0%, transparent 100.0%);\n",
       "}\n",
       "#T_d4d64_row4_col17 {\n",
       "  width: 10em;\n",
       "  background: linear-gradient(90deg, transparent 38.4%, #d65f5f 38.4%, #d65f5f 100.0%, transparent 100.0%);\n",
       "}\n",
       "#T_d4d64_row5_col7 {\n",
       "  width: 10em;\n",
       "  background: linear-gradient(90deg, #8ecbfa 17.3%, transparent 17.3%);\n",
       "}\n",
       "#T_d4d64_row5_col14 {\n",
       "  width: 10em;\n",
       "  background: linear-gradient(90deg, #8ecbfa 74.3%, transparent 74.3%);\n",
       "}\n",
       "#T_d4d64_row5_col17 {\n",
       "  width: 10em;\n",
       "  background: linear-gradient(90deg, transparent 54.3%, #d65f5f 54.3%, #d65f5f 100.0%, transparent 100.0%);\n",
       "}\n",
       "#T_d4d64_row6_col17 {\n",
       "  width: 10em;\n",
       "  background: linear-gradient(90deg, #d65f5f 100.0%, transparent 100.0%);\n",
       "}\n",
       "</style>\n",
       "<table id=\"T_d4d64\">\n",
       "  <thead>\n",
       "    <tr>\n",
       "      <th id=\"T_d4d64_level0_col0\" class=\"col_heading level0 col0\" >country</th>\n",
       "      <th id=\"T_d4d64_level0_col1\" class=\"col_heading level0 col1\" >platform</th>\n",
       "      <th id=\"T_d4d64_level0_col2\" class=\"col_heading level0 col2\" >marketing_channel</th>\n",
       "      <th id=\"T_d4d64_level0_col3\" class=\"col_heading level0 col3\" >impressions</th>\n",
       "      <th id=\"T_d4d64_level0_col4\" class=\"col_heading level0 col4\" >clicks</th>\n",
       "      <th id=\"T_d4d64_level0_col5\" class=\"col_heading level0 col5\" >app_installs</th>\n",
       "      <th id=\"T_d4d64_level0_col6\" class=\"col_heading level0 col6\" >conversions</th>\n",
       "      <th id=\"T_d4d64_level0_col7\" class=\"col_heading level0 col7\" >marketing_spend_euro</th>\n",
       "      <th id=\"T_d4d64_level0_col8\" class=\"col_heading level0 col8\" >revenue_euro</th>\n",
       "      <th id=\"T_d4d64_level0_col9\" class=\"col_heading level0 col9\" >click_through_rate</th>\n",
       "      <th id=\"T_d4d64_level0_col10\" class=\"col_heading level0 col10\" >click_to_install_rate</th>\n",
       "      <th id=\"T_d4d64_level0_col11\" class=\"col_heading level0 col11\" >install_to_conversion_rate</th>\n",
       "      <th id=\"T_d4d64_level0_col12\" class=\"col_heading level0 col12\" >cpm</th>\n",
       "      <th id=\"T_d4d64_level0_col13\" class=\"col_heading level0 col13\" >cpc</th>\n",
       "      <th id=\"T_d4d64_level0_col14\" class=\"col_heading level0 col14\" >cpi</th>\n",
       "      <th id=\"T_d4d64_level0_col15\" class=\"col_heading level0 col15\" >cpa</th>\n",
       "      <th id=\"T_d4d64_level0_col16\" class=\"col_heading level0 col16\" >rpa</th>\n",
       "      <th id=\"T_d4d64_level0_col17\" class=\"col_heading level0 col17\" >profit</th>\n",
       "      <th id=\"T_d4d64_level0_col18\" class=\"col_heading level0 col18\" >return_on_ad_spend_percentage</th>\n",
       "      <th id=\"T_d4d64_level0_col19\" class=\"col_heading level0 col19\" >return_on_investment_percentage</th>\n",
       "    </tr>\n",
       "  </thead>\n",
       "  <tbody>\n",
       "    <tr>\n",
       "      <td id=\"T_d4d64_row0_col0\" class=\"data row0 col0\" >US</td>\n",
       "      <td id=\"T_d4d64_row0_col1\" class=\"data row0 col1\" >android</td>\n",
       "      <td id=\"T_d4d64_row0_col2\" class=\"data row0 col2\" >Channel A</td>\n",
       "      <td id=\"T_d4d64_row0_col3\" class=\"data row0 col3\" >0</td>\n",
       "      <td id=\"T_d4d64_row0_col4\" class=\"data row0 col4\" >0</td>\n",
       "      <td id=\"T_d4d64_row0_col5\" class=\"data row0 col5\" >6</td>\n",
       "      <td id=\"T_d4d64_row0_col6\" class=\"data row0 col6\" >0</td>\n",
       "      <td id=\"T_d4d64_row0_col7\" class=\"data row0 col7\" >€0.00</td>\n",
       "      <td id=\"T_d4d64_row0_col8\" class=\"data row0 col8\" >€0.00</td>\n",
       "      <td id=\"T_d4d64_row0_col9\" class=\"data row0 col9\" >nan%</td>\n",
       "      <td id=\"T_d4d64_row0_col10\" class=\"data row0 col10\" >nan%</td>\n",
       "      <td id=\"T_d4d64_row0_col11\" class=\"data row0 col11\" >0.00%</td>\n",
       "      <td id=\"T_d4d64_row0_col12\" class=\"data row0 col12\" >€nan</td>\n",
       "      <td id=\"T_d4d64_row0_col13\" class=\"data row0 col13\" >€nan</td>\n",
       "      <td id=\"T_d4d64_row0_col14\" class=\"data row0 col14\" >€0.00</td>\n",
       "      <td id=\"T_d4d64_row0_col15\" class=\"data row0 col15\" >€nan</td>\n",
       "      <td id=\"T_d4d64_row0_col16\" class=\"data row0 col16\" >€nan</td>\n",
       "      <td id=\"T_d4d64_row0_col17\" class=\"data row0 col17\" >€0.00</td>\n",
       "      <td id=\"T_d4d64_row0_col18\" class=\"data row0 col18\" >nan%</td>\n",
       "      <td id=\"T_d4d64_row0_col19\" class=\"data row0 col19\" >nan%</td>\n",
       "    </tr>\n",
       "    <tr>\n",
       "      <td id=\"T_d4d64_row1_col0\" class=\"data row1 col0\" >US</td>\n",
       "      <td id=\"T_d4d64_row1_col1\" class=\"data row1 col1\" >android</td>\n",
       "      <td id=\"T_d4d64_row1_col2\" class=\"data row1 col2\" >Channel B</td>\n",
       "      <td id=\"T_d4d64_row1_col3\" class=\"data row1 col3\" >329,551</td>\n",
       "      <td id=\"T_d4d64_row1_col4\" class=\"data row1 col4\" >2,500</td>\n",
       "      <td id=\"T_d4d64_row1_col5\" class=\"data row1 col5\" >1,440</td>\n",
       "      <td id=\"T_d4d64_row1_col6\" class=\"data row1 col6\" >105</td>\n",
       "      <td id=\"T_d4d64_row1_col7\" class=\"data row1 col7\" >€5714.16</td>\n",
       "      <td id=\"T_d4d64_row1_col8\" class=\"data row1 col8\" >€2532.99</td>\n",
       "      <td id=\"T_d4d64_row1_col9\" class=\"data row1 col9\" >0.76%</td>\n",
       "      <td id=\"T_d4d64_row1_col10\" class=\"data row1 col10\" >57.60%</td>\n",
       "      <td id=\"T_d4d64_row1_col11\" class=\"data row1 col11\" >7.29%</td>\n",
       "      <td id=\"T_d4d64_row1_col12\" class=\"data row1 col12\" >€17.34</td>\n",
       "      <td id=\"T_d4d64_row1_col13\" class=\"data row1 col13\" >€2.29</td>\n",
       "      <td id=\"T_d4d64_row1_col14\" class=\"data row1 col14\" >€3.97</td>\n",
       "      <td id=\"T_d4d64_row1_col15\" class=\"data row1 col15\" >€54.42</td>\n",
       "      <td id=\"T_d4d64_row1_col16\" class=\"data row1 col16\" >€24.12</td>\n",
       "      <td id=\"T_d4d64_row1_col17\" class=\"data row1 col17\" >€-3181.17</td>\n",
       "      <td id=\"T_d4d64_row1_col18\" class=\"data row1 col18\" >44.33%</td>\n",
       "      <td id=\"T_d4d64_row1_col19\" class=\"data row1 col19\" >-55.67%</td>\n",
       "    </tr>\n",
       "    <tr>\n",
       "      <td id=\"T_d4d64_row2_col0\" class=\"data row2 col0\" >US</td>\n",
       "      <td id=\"T_d4d64_row2_col1\" class=\"data row2 col1\" >android</td>\n",
       "      <td id=\"T_d4d64_row2_col2\" class=\"data row2 col2\" >Channel D</td>\n",
       "      <td id=\"T_d4d64_row2_col3\" class=\"data row2 col3\" >0</td>\n",
       "      <td id=\"T_d4d64_row2_col4\" class=\"data row2 col4\" >0</td>\n",
       "      <td id=\"T_d4d64_row2_col5\" class=\"data row2 col5\" >0</td>\n",
       "      <td id=\"T_d4d64_row2_col6\" class=\"data row2 col6\" >0</td>\n",
       "      <td id=\"T_d4d64_row2_col7\" class=\"data row2 col7\" >€1534.93</td>\n",
       "      <td id=\"T_d4d64_row2_col8\" class=\"data row2 col8\" >€0.00</td>\n",
       "      <td id=\"T_d4d64_row2_col9\" class=\"data row2 col9\" >nan%</td>\n",
       "      <td id=\"T_d4d64_row2_col10\" class=\"data row2 col10\" >nan%</td>\n",
       "      <td id=\"T_d4d64_row2_col11\" class=\"data row2 col11\" >nan%</td>\n",
       "      <td id=\"T_d4d64_row2_col12\" class=\"data row2 col12\" >€nan</td>\n",
       "      <td id=\"T_d4d64_row2_col13\" class=\"data row2 col13\" >€nan</td>\n",
       "      <td id=\"T_d4d64_row2_col14\" class=\"data row2 col14\" >€nan</td>\n",
       "      <td id=\"T_d4d64_row2_col15\" class=\"data row2 col15\" >€nan</td>\n",
       "      <td id=\"T_d4d64_row2_col16\" class=\"data row2 col16\" >€nan</td>\n",
       "      <td id=\"T_d4d64_row2_col17\" class=\"data row2 col17\" >€-1534.93</td>\n",
       "      <td id=\"T_d4d64_row2_col18\" class=\"data row2 col18\" >0.00%</td>\n",
       "      <td id=\"T_d4d64_row2_col19\" class=\"data row2 col19\" >-100.00%</td>\n",
       "    </tr>\n",
       "    <tr>\n",
       "      <td id=\"T_d4d64_row3_col0\" class=\"data row3 col0\" >US</td>\n",
       "      <td id=\"T_d4d64_row3_col1\" class=\"data row3 col1\" >android</td>\n",
       "      <td id=\"T_d4d64_row3_col2\" class=\"data row3 col2\" >Channel E</td>\n",
       "      <td id=\"T_d4d64_row3_col3\" class=\"data row3 col3\" >850</td>\n",
       "      <td id=\"T_d4d64_row3_col4\" class=\"data row3 col4\" >11,462</td>\n",
       "      <td id=\"T_d4d64_row3_col5\" class=\"data row3 col5\" >0</td>\n",
       "      <td id=\"T_d4d64_row3_col6\" class=\"data row3 col6\" >0</td>\n",
       "      <td id=\"T_d4d64_row3_col7\" class=\"data row3 col7\" >€0.00</td>\n",
       "      <td id=\"T_d4d64_row3_col8\" class=\"data row3 col8\" >€0.00</td>\n",
       "      <td id=\"T_d4d64_row3_col9\" class=\"data row3 col9\" >1348.47%</td>\n",
       "      <td id=\"T_d4d64_row3_col10\" class=\"data row3 col10\" >0.00%</td>\n",
       "      <td id=\"T_d4d64_row3_col11\" class=\"data row3 col11\" >nan%</td>\n",
       "      <td id=\"T_d4d64_row3_col12\" class=\"data row3 col12\" >€0.00</td>\n",
       "      <td id=\"T_d4d64_row3_col13\" class=\"data row3 col13\" >€0.00</td>\n",
       "      <td id=\"T_d4d64_row3_col14\" class=\"data row3 col14\" >€nan</td>\n",
       "      <td id=\"T_d4d64_row3_col15\" class=\"data row3 col15\" >€nan</td>\n",
       "      <td id=\"T_d4d64_row3_col16\" class=\"data row3 col16\" >€nan</td>\n",
       "      <td id=\"T_d4d64_row3_col17\" class=\"data row3 col17\" >€0.00</td>\n",
       "      <td id=\"T_d4d64_row3_col18\" class=\"data row3 col18\" >nan%</td>\n",
       "      <td id=\"T_d4d64_row3_col19\" class=\"data row3 col19\" >nan%</td>\n",
       "    </tr>\n",
       "    <tr>\n",
       "      <td id=\"T_d4d64_row4_col0\" class=\"data row4 col0\" >US</td>\n",
       "      <td id=\"T_d4d64_row4_col1\" class=\"data row4 col1\" >ios</td>\n",
       "      <td id=\"T_d4d64_row4_col2\" class=\"data row4 col2\" >Channel A</td>\n",
       "      <td id=\"T_d4d64_row4_col3\" class=\"data row4 col3\" >1,634,556</td>\n",
       "      <td id=\"T_d4d64_row4_col4\" class=\"data row4 col4\" >1,904</td>\n",
       "      <td id=\"T_d4d64_row4_col5\" class=\"data row4 col5\" >1</td>\n",
       "      <td id=\"T_d4d64_row4_col6\" class=\"data row4 col6\" >0</td>\n",
       "      <td id=\"T_d4d64_row4_col7\" class=\"data row4 col7\" >€3494.55</td>\n",
       "      <td id=\"T_d4d64_row4_col8\" class=\"data row4 col8\" >€0.00</td>\n",
       "      <td id=\"T_d4d64_row4_col9\" class=\"data row4 col9\" >0.12%</td>\n",
       "      <td id=\"T_d4d64_row4_col10\" class=\"data row4 col10\" >0.05%</td>\n",
       "      <td id=\"T_d4d64_row4_col11\" class=\"data row4 col11\" >0.00%</td>\n",
       "      <td id=\"T_d4d64_row4_col12\" class=\"data row4 col12\" >€2.14</td>\n",
       "      <td id=\"T_d4d64_row4_col13\" class=\"data row4 col13\" >€1.84</td>\n",
       "      <td id=\"T_d4d64_row4_col14\" class=\"data row4 col14\" >€3494.55</td>\n",
       "      <td id=\"T_d4d64_row4_col15\" class=\"data row4 col15\" >€nan</td>\n",
       "      <td id=\"T_d4d64_row4_col16\" class=\"data row4 col16\" >€nan</td>\n",
       "      <td id=\"T_d4d64_row4_col17\" class=\"data row4 col17\" >€-3494.55</td>\n",
       "      <td id=\"T_d4d64_row4_col18\" class=\"data row4 col18\" >0.00%</td>\n",
       "      <td id=\"T_d4d64_row4_col19\" class=\"data row4 col19\" >-100.00%</td>\n",
       "    </tr>\n",
       "    <tr>\n",
       "      <td id=\"T_d4d64_row5_col0\" class=\"data row5 col0\" >US</td>\n",
       "      <td id=\"T_d4d64_row5_col1\" class=\"data row5 col1\" >ios</td>\n",
       "      <td id=\"T_d4d64_row5_col2\" class=\"data row5 col2\" >Channel B</td>\n",
       "      <td id=\"T_d4d64_row5_col3\" class=\"data row5 col3\" >459,518</td>\n",
       "      <td id=\"T_d4d64_row5_col4\" class=\"data row5 col4\" >1,531</td>\n",
       "      <td id=\"T_d4d64_row5_col5\" class=\"data row5 col5\" >1</td>\n",
       "      <td id=\"T_d4d64_row5_col6\" class=\"data row5 col6\" >0</td>\n",
       "      <td id=\"T_d4d64_row5_col7\" class=\"data row5 col7\" >€2595.43</td>\n",
       "      <td id=\"T_d4d64_row5_col8\" class=\"data row5 col8\" >€0.00</td>\n",
       "      <td id=\"T_d4d64_row5_col9\" class=\"data row5 col9\" >0.33%</td>\n",
       "      <td id=\"T_d4d64_row5_col10\" class=\"data row5 col10\" >0.07%</td>\n",
       "      <td id=\"T_d4d64_row5_col11\" class=\"data row5 col11\" >0.00%</td>\n",
       "      <td id=\"T_d4d64_row5_col12\" class=\"data row5 col12\" >€5.65</td>\n",
       "      <td id=\"T_d4d64_row5_col13\" class=\"data row5 col13\" >€1.70</td>\n",
       "      <td id=\"T_d4d64_row5_col14\" class=\"data row5 col14\" >€2595.43</td>\n",
       "      <td id=\"T_d4d64_row5_col15\" class=\"data row5 col15\" >€nan</td>\n",
       "      <td id=\"T_d4d64_row5_col16\" class=\"data row5 col16\" >€nan</td>\n",
       "      <td id=\"T_d4d64_row5_col17\" class=\"data row5 col17\" >€-2595.43</td>\n",
       "      <td id=\"T_d4d64_row5_col18\" class=\"data row5 col18\" >0.00%</td>\n",
       "      <td id=\"T_d4d64_row5_col19\" class=\"data row5 col19\" >-100.00%</td>\n",
       "    </tr>\n",
       "    <tr>\n",
       "      <td id=\"T_d4d64_row6_col0\" class=\"data row6 col0\" >US</td>\n",
       "      <td id=\"T_d4d64_row6_col1\" class=\"data row6 col1\" >ios</td>\n",
       "      <td id=\"T_d4d64_row6_col2\" class=\"data row6 col2\" >Channel C</td>\n",
       "      <td id=\"T_d4d64_row6_col3\" class=\"data row6 col3\" >78,645</td>\n",
       "      <td id=\"T_d4d64_row6_col4\" class=\"data row6 col4\" >8,056</td>\n",
       "      <td id=\"T_d4d64_row6_col5\" class=\"data row6 col5\" >3,590</td>\n",
       "      <td id=\"T_d4d64_row6_col6\" class=\"data row6 col6\" >379</td>\n",
       "      <td id=\"T_d4d64_row6_col7\" class=\"data row6 col7\" >€15001.15</td>\n",
       "      <td id=\"T_d4d64_row6_col8\" class=\"data row6 col8\" >€9325.81</td>\n",
       "      <td id=\"T_d4d64_row6_col9\" class=\"data row6 col9\" >10.24%</td>\n",
       "      <td id=\"T_d4d64_row6_col10\" class=\"data row6 col10\" >44.56%</td>\n",
       "      <td id=\"T_d4d64_row6_col11\" class=\"data row6 col11\" >10.56%</td>\n",
       "      <td id=\"T_d4d64_row6_col12\" class=\"data row6 col12\" >€190.75</td>\n",
       "      <td id=\"T_d4d64_row6_col13\" class=\"data row6 col13\" >€1.86</td>\n",
       "      <td id=\"T_d4d64_row6_col14\" class=\"data row6 col14\" >€4.18</td>\n",
       "      <td id=\"T_d4d64_row6_col15\" class=\"data row6 col15\" >€39.58</td>\n",
       "      <td id=\"T_d4d64_row6_col16\" class=\"data row6 col16\" >€24.61</td>\n",
       "      <td id=\"T_d4d64_row6_col17\" class=\"data row6 col17\" >€-5675.34</td>\n",
       "      <td id=\"T_d4d64_row6_col18\" class=\"data row6 col18\" >62.17%</td>\n",
       "      <td id=\"T_d4d64_row6_col19\" class=\"data row6 col19\" >-37.83%</td>\n",
       "    </tr>\n",
       "    <tr>\n",
       "      <td id=\"T_d4d64_row7_col0\" class=\"data row7 col0\" >US</td>\n",
       "      <td id=\"T_d4d64_row7_col1\" class=\"data row7 col1\" >ios</td>\n",
       "      <td id=\"T_d4d64_row7_col2\" class=\"data row7 col2\" >Channel E</td>\n",
       "      <td id=\"T_d4d64_row7_col3\" class=\"data row7 col3\" >73</td>\n",
       "      <td id=\"T_d4d64_row7_col4\" class=\"data row7 col4\" >313</td>\n",
       "      <td id=\"T_d4d64_row7_col5\" class=\"data row7 col5\" >0</td>\n",
       "      <td id=\"T_d4d64_row7_col6\" class=\"data row7 col6\" >0</td>\n",
       "      <td id=\"T_d4d64_row7_col7\" class=\"data row7 col7\" >€0.00</td>\n",
       "      <td id=\"T_d4d64_row7_col8\" class=\"data row7 col8\" >€0.00</td>\n",
       "      <td id=\"T_d4d64_row7_col9\" class=\"data row7 col9\" >428.77%</td>\n",
       "      <td id=\"T_d4d64_row7_col10\" class=\"data row7 col10\" >0.00%</td>\n",
       "      <td id=\"T_d4d64_row7_col11\" class=\"data row7 col11\" >nan%</td>\n",
       "      <td id=\"T_d4d64_row7_col12\" class=\"data row7 col12\" >€0.00</td>\n",
       "      <td id=\"T_d4d64_row7_col13\" class=\"data row7 col13\" >€0.00</td>\n",
       "      <td id=\"T_d4d64_row7_col14\" class=\"data row7 col14\" >€nan</td>\n",
       "      <td id=\"T_d4d64_row7_col15\" class=\"data row7 col15\" >€nan</td>\n",
       "      <td id=\"T_d4d64_row7_col16\" class=\"data row7 col16\" >€nan</td>\n",
       "      <td id=\"T_d4d64_row7_col17\" class=\"data row7 col17\" >€0.00</td>\n",
       "      <td id=\"T_d4d64_row7_col18\" class=\"data row7 col18\" >nan%</td>\n",
       "      <td id=\"T_d4d64_row7_col19\" class=\"data row7 col19\" >nan%</td>\n",
       "    </tr>\n",
       "  </tbody>\n",
       "</table>\n"
      ],
      "text/plain": [
       "<pandas.io.formats.style.Styler at 0x169435310>"
      ]
     },
     "metadata": {},
     "output_type": "display_data"
    }
   ],
   "source": [
    "agg_df = df.groupby(['country','platform','marketing_channel']).sum(numeric_only=True)\n",
    "\n",
    "df_metrics = calculate_metrics(agg_df).reset_index()\n",
    "\n",
    "filtered_df_de = df_metrics[df_metrics['country'] == 'DE']\n",
    "filtered_df_us = df_metrics[df_metrics['country'] == 'US']\n",
    "\n",
    "# formatted_df = format_metrics(df_metrics)\n",
    "\n",
    "display(format_metrics(filtered_df_de))\n",
    "\n",
    "display(format_metrics(filtered_df_us))"
   ]
  },
  {
   "cell_type": "markdown",
   "id": "edac842a",
   "metadata": {},
   "source": [
    "### 4.2.4 Performance by Country"
   ]
  },
  {
   "cell_type": "markdown",
   "id": "5db15c19",
   "metadata": {},
   "source": [
    "\n",
    "- There is €9560 of profit assigned to unknown country. Important to mention that this could be due to data problems, and part of this profit could be coming from Germany or US.\n",
    "- Altough the marketing team is currently focused on DE and US, it is important to mention the economic losses in France are €18806, even bigger than US(€16481)."
   ]
  },
  {
   "cell_type": "code",
   "execution_count": 19,
   "id": "3d256a84",
   "metadata": {},
   "outputs": [
    {
     "data": {
      "text/html": [
       "<style type=\"text/css\">\n",
       "#T_e2e50_row0_col3 {\n",
       "  width: 10em;\n",
       "  background: linear-gradient(90deg, #8ecbfa 11.4%, transparent 11.4%);\n",
       "}\n",
       "#T_e2e50_row0_col4 {\n",
       "  width: 10em;\n",
       "  background: linear-gradient(90deg, #8ecbfa 9.6%, transparent 9.6%);\n",
       "}\n",
       "#T_e2e50_row0_col5 {\n",
       "  width: 10em;\n",
       "  background: linear-gradient(90deg, #8ecbfa 12.5%, transparent 12.5%);\n",
       "}\n",
       "#T_e2e50_row0_col6 {\n",
       "  width: 10em;\n",
       "  background: linear-gradient(90deg, #8ecbfa 10.4%, transparent 10.4%);\n",
       "}\n",
       "#T_e2e50_row0_col9 {\n",
       "  width: 10em;\n",
       "  background: linear-gradient(90deg, #8ecbfa 67.3%, transparent 67.3%);\n",
       "}\n",
       "#T_e2e50_row0_col12 {\n",
       "  width: 10em;\n",
       "  background: linear-gradient(90deg, #8ecbfa 51.5%, transparent 51.5%);\n",
       "}\n",
       "#T_e2e50_row0_col15 {\n",
       "  width: 10em;\n",
       "  background: linear-gradient(90deg, transparent 44.5%, #d65f5f 44.5%, #d65f5f 45.4%, transparent 45.4%);\n",
       "}\n",
       "#T_e2e50_row1_col3, #T_e2e50_row4_col5, #T_e2e50_row7_col6 {\n",
       "  width: 10em;\n",
       "  background: linear-gradient(90deg, #8ecbfa 6.3%, transparent 6.3%);\n",
       "}\n",
       "#T_e2e50_row1_col4 {\n",
       "  width: 10em;\n",
       "  background: linear-gradient(90deg, #8ecbfa 7.9%, transparent 7.9%);\n",
       "}\n",
       "#T_e2e50_row1_col5 {\n",
       "  width: 10em;\n",
       "  background: linear-gradient(90deg, #8ecbfa 10.7%, transparent 10.7%);\n",
       "}\n",
       "#T_e2e50_row1_col6 {\n",
       "  width: 10em;\n",
       "  background: linear-gradient(90deg, #8ecbfa 14.3%, transparent 14.3%);\n",
       "}\n",
       "#T_e2e50_row1_col9, #T_e2e50_row2_col3, #T_e2e50_row2_col4, #T_e2e50_row2_col5, #T_e2e50_row2_col6, #T_e2e50_row6_col12 {\n",
       "  width: 10em;\n",
       "  background: linear-gradient(90deg, #8ecbfa 100.0%, transparent 100.0%);\n",
       "}\n",
       "#T_e2e50_row1_col12 {\n",
       "  width: 10em;\n",
       "  background: linear-gradient(90deg, #8ecbfa 79.4%, transparent 79.4%);\n",
       "}\n",
       "#T_e2e50_row1_col15 {\n",
       "  width: 10em;\n",
       "  background: linear-gradient(90deg, transparent 45.4%, #8ecbfa 45.4%, #8ecbfa 64.4%, transparent 64.4%);\n",
       "}\n",
       "#T_e2e50_row2_col9 {\n",
       "  width: 10em;\n",
       "  background: linear-gradient(90deg, #8ecbfa 80.3%, transparent 80.3%);\n",
       "}\n",
       "#T_e2e50_row2_col12, #T_e2e50_row3_col12 {\n",
       "  width: 10em;\n",
       "  background: linear-gradient(90deg, #8ecbfa 46.9%, transparent 46.9%);\n",
       "}\n",
       "#T_e2e50_row2_col15 {\n",
       "  width: 10em;\n",
       "  background: linear-gradient(90deg, transparent 45.4%, #8ecbfa 45.4%, #8ecbfa 100.0%, transparent 100.0%);\n",
       "}\n",
       "#T_e2e50_row3_col3 {\n",
       "  width: 10em;\n",
       "  background: linear-gradient(90deg, #8ecbfa 44.5%, transparent 44.5%);\n",
       "}\n",
       "#T_e2e50_row3_col4 {\n",
       "  width: 10em;\n",
       "  background: linear-gradient(90deg, #8ecbfa 29.5%, transparent 29.5%);\n",
       "}\n",
       "#T_e2e50_row3_col5 {\n",
       "  width: 10em;\n",
       "  background: linear-gradient(90deg, #8ecbfa 44.4%, transparent 44.4%);\n",
       "}\n",
       "#T_e2e50_row3_col6 {\n",
       "  width: 10em;\n",
       "  background: linear-gradient(90deg, #8ecbfa 25.4%, transparent 25.4%);\n",
       "}\n",
       "#T_e2e50_row3_col9 {\n",
       "  width: 10em;\n",
       "  background: linear-gradient(90deg, #8ecbfa 53.3%, transparent 53.3%);\n",
       "}\n",
       "#T_e2e50_row3_col15 {\n",
       "  width: 10em;\n",
       "  background: linear-gradient(90deg, #d65f5f 45.4%, transparent 45.4%);\n",
       "}\n",
       "#T_e2e50_row4_col3 {\n",
       "  width: 10em;\n",
       "  background: linear-gradient(90deg, #8ecbfa 18.1%, transparent 18.1%);\n",
       "}\n",
       "#T_e2e50_row4_col4 {\n",
       "  width: 10em;\n",
       "  background: linear-gradient(90deg, #8ecbfa 9.7%, transparent 9.7%);\n",
       "}\n",
       "#T_e2e50_row4_col6 {\n",
       "  width: 10em;\n",
       "  background: linear-gradient(90deg, #8ecbfa 6.1%, transparent 6.1%);\n",
       "}\n",
       "#T_e2e50_row4_col9 {\n",
       "  width: 10em;\n",
       "  background: linear-gradient(90deg, #8ecbfa 42.9%, transparent 42.9%);\n",
       "}\n",
       "#T_e2e50_row4_col12 {\n",
       "  width: 10em;\n",
       "  background: linear-gradient(90deg, #8ecbfa 16.3%, transparent 16.3%);\n",
       "}\n",
       "#T_e2e50_row4_col15 {\n",
       "  width: 10em;\n",
       "  background: linear-gradient(90deg, transparent 45.4%, #8ecbfa 45.4%, #8ecbfa 48.1%, transparent 48.1%);\n",
       "}\n",
       "#T_e2e50_row5_col3 {\n",
       "  width: 10em;\n",
       "  background: linear-gradient(90deg, #8ecbfa 9.4%, transparent 9.4%);\n",
       "}\n",
       "#T_e2e50_row5_col4 {\n",
       "  width: 10em;\n",
       "  background: linear-gradient(90deg, #8ecbfa 6.6%, transparent 6.6%);\n",
       "}\n",
       "#T_e2e50_row5_col5 {\n",
       "  width: 10em;\n",
       "  background: linear-gradient(90deg, #8ecbfa 11.9%, transparent 11.9%);\n",
       "}\n",
       "#T_e2e50_row5_col6 {\n",
       "  width: 10em;\n",
       "  background: linear-gradient(90deg, #8ecbfa 5.9%, transparent 5.9%);\n",
       "}\n",
       "#T_e2e50_row5_col9 {\n",
       "  width: 10em;\n",
       "  background: linear-gradient(90deg, #8ecbfa 56.2%, transparent 56.2%);\n",
       "}\n",
       "#T_e2e50_row5_col12 {\n",
       "  width: 10em;\n",
       "  background: linear-gradient(90deg, #8ecbfa 59.1%, transparent 59.1%);\n",
       "}\n",
       "#T_e2e50_row5_col15 {\n",
       "  width: 10em;\n",
       "  background: linear-gradient(90deg, transparent 30.0%, #d65f5f 30.0%, #d65f5f 45.4%, transparent 45.4%);\n",
       "}\n",
       "#T_e2e50_row6_col3 {\n",
       "  width: 10em;\n",
       "  background: linear-gradient(90deg, #8ecbfa 10.3%, transparent 10.3%);\n",
       "}\n",
       "#T_e2e50_row6_col4 {\n",
       "  width: 10em;\n",
       "  background: linear-gradient(90deg, #8ecbfa 9.1%, transparent 9.1%);\n",
       "}\n",
       "#T_e2e50_row6_col5 {\n",
       "  width: 10em;\n",
       "  background: linear-gradient(90deg, #8ecbfa 22.0%, transparent 22.0%);\n",
       "}\n",
       "#T_e2e50_row6_col6 {\n",
       "  width: 10em;\n",
       "  background: linear-gradient(90deg, #8ecbfa 7.8%, transparent 7.8%);\n",
       "}\n",
       "#T_e2e50_row6_col9 {\n",
       "  width: 10em;\n",
       "  background: linear-gradient(90deg, #8ecbfa 71.0%, transparent 71.0%);\n",
       "}\n",
       "#T_e2e50_row6_col15 {\n",
       "  width: 10em;\n",
       "  background: linear-gradient(90deg, transparent 5.6%, #d65f5f 5.6%, #d65f5f 45.4%, transparent 45.4%);\n",
       "}\n",
       "#T_e2e50_row7_col3 {\n",
       "  width: 10em;\n",
       "  background: linear-gradient(90deg, #8ecbfa 10.1%, transparent 10.1%);\n",
       "}\n",
       "#T_e2e50_row7_col4 {\n",
       "  width: 10em;\n",
       "  background: linear-gradient(90deg, #8ecbfa 6.5%, transparent 6.5%);\n",
       "}\n",
       "#T_e2e50_row7_col5, #T_e2e50_row7_col12 {\n",
       "  width: 10em;\n",
       "}\n",
       "#T_e2e50_row7_col9 {\n",
       "  width: 10em;\n",
       "  background: linear-gradient(90deg, #8ecbfa 51.3%, transparent 51.3%);\n",
       "}\n",
       "#T_e2e50_row7_col15 {\n",
       "  width: 10em;\n",
       "  background: linear-gradient(90deg, transparent 45.4%, #8ecbfa 45.4%, #8ecbfa 68.5%, transparent 68.5%);\n",
       "}\n",
       "</style>\n",
       "<table id=\"T_e2e50\">\n",
       "  <thead>\n",
       "    <tr>\n",
       "      <th id=\"T_e2e50_level0_col0\" class=\"col_heading level0 col0\" >country</th>\n",
       "      <th id=\"T_e2e50_level0_col1\" class=\"col_heading level0 col1\" >impressions</th>\n",
       "      <th id=\"T_e2e50_level0_col2\" class=\"col_heading level0 col2\" >clicks</th>\n",
       "      <th id=\"T_e2e50_level0_col3\" class=\"col_heading level0 col3\" >app_installs</th>\n",
       "      <th id=\"T_e2e50_level0_col4\" class=\"col_heading level0 col4\" >conversions</th>\n",
       "      <th id=\"T_e2e50_level0_col5\" class=\"col_heading level0 col5\" >marketing_spend_euro</th>\n",
       "      <th id=\"T_e2e50_level0_col6\" class=\"col_heading level0 col6\" >revenue_euro</th>\n",
       "      <th id=\"T_e2e50_level0_col7\" class=\"col_heading level0 col7\" >click_through_rate</th>\n",
       "      <th id=\"T_e2e50_level0_col8\" class=\"col_heading level0 col8\" >click_to_install_rate</th>\n",
       "      <th id=\"T_e2e50_level0_col9\" class=\"col_heading level0 col9\" >install_to_conversion_rate</th>\n",
       "      <th id=\"T_e2e50_level0_col10\" class=\"col_heading level0 col10\" >cpm</th>\n",
       "      <th id=\"T_e2e50_level0_col11\" class=\"col_heading level0 col11\" >cpc</th>\n",
       "      <th id=\"T_e2e50_level0_col12\" class=\"col_heading level0 col12\" >cpi</th>\n",
       "      <th id=\"T_e2e50_level0_col13\" class=\"col_heading level0 col13\" >cpa</th>\n",
       "      <th id=\"T_e2e50_level0_col14\" class=\"col_heading level0 col14\" >rpa</th>\n",
       "      <th id=\"T_e2e50_level0_col15\" class=\"col_heading level0 col15\" >profit</th>\n",
       "      <th id=\"T_e2e50_level0_col16\" class=\"col_heading level0 col16\" >return_on_ad_spend_percentage</th>\n",
       "      <th id=\"T_e2e50_level0_col17\" class=\"col_heading level0 col17\" >return_on_investment_percentage</th>\n",
       "    </tr>\n",
       "  </thead>\n",
       "  <tbody>\n",
       "    <tr>\n",
       "      <td id=\"T_e2e50_row0_col0\" class=\"data row0 col0\" >AT</td>\n",
       "      <td id=\"T_e2e50_row0_col1\" class=\"data row0 col1\" >2,412,052</td>\n",
       "      <td id=\"T_e2e50_row0_col2\" class=\"data row0 col2\" >14,168</td>\n",
       "      <td id=\"T_e2e50_row0_col3\" class=\"data row0 col3\" >5,553</td>\n",
       "      <td id=\"T_e2e50_row0_col4\" class=\"data row0 col4\" >506</td>\n",
       "      <td id=\"T_e2e50_row0_col5\" class=\"data row0 col5\" >€16083.78</td>\n",
       "      <td id=\"T_e2e50_row0_col6\" class=\"data row0 col6\" >€15680.84</td>\n",
       "      <td id=\"T_e2e50_row0_col7\" class=\"data row0 col7\" >0.59%</td>\n",
       "      <td id=\"T_e2e50_row0_col8\" class=\"data row0 col8\" >39.19%</td>\n",
       "      <td id=\"T_e2e50_row0_col9\" class=\"data row0 col9\" >9.11%</td>\n",
       "      <td id=\"T_e2e50_row0_col10\" class=\"data row0 col10\" >€6.67</td>\n",
       "      <td id=\"T_e2e50_row0_col11\" class=\"data row0 col11\" >€1.14</td>\n",
       "      <td id=\"T_e2e50_row0_col12\" class=\"data row0 col12\" >€2.90</td>\n",
       "      <td id=\"T_e2e50_row0_col13\" class=\"data row0 col13\" >€31.79</td>\n",
       "      <td id=\"T_e2e50_row0_col14\" class=\"data row0 col14\" >€30.99</td>\n",
       "      <td id=\"T_e2e50_row0_col15\" class=\"data row0 col15\" >€-402.94</td>\n",
       "      <td id=\"T_e2e50_row0_col16\" class=\"data row0 col16\" >97.49%</td>\n",
       "      <td id=\"T_e2e50_row0_col17\" class=\"data row0 col17\" >-2.51%</td>\n",
       "    </tr>\n",
       "    <tr>\n",
       "      <td id=\"T_e2e50_row1_col0\" class=\"data row1 col0\" >CH</td>\n",
       "      <td id=\"T_e2e50_row1_col1\" class=\"data row1 col1\" >1,291,583</td>\n",
       "      <td id=\"T_e2e50_row1_col2\" class=\"data row1 col2\" >8,373</td>\n",
       "      <td id=\"T_e2e50_row1_col3\" class=\"data row1 col3\" >3,082</td>\n",
       "      <td id=\"T_e2e50_row1_col4\" class=\"data row1 col4\" >417</td>\n",
       "      <td id=\"T_e2e50_row1_col5\" class=\"data row1 col5\" >€13764.33</td>\n",
       "      <td id=\"T_e2e50_row1_col6\" class=\"data row1 col6\" >€21639.79</td>\n",
       "      <td id=\"T_e2e50_row1_col7\" class=\"data row1 col7\" >0.65%</td>\n",
       "      <td id=\"T_e2e50_row1_col8\" class=\"data row1 col8\" >36.81%</td>\n",
       "      <td id=\"T_e2e50_row1_col9\" class=\"data row1 col9\" >13.53%</td>\n",
       "      <td id=\"T_e2e50_row1_col10\" class=\"data row1 col10\" >€10.66</td>\n",
       "      <td id=\"T_e2e50_row1_col11\" class=\"data row1 col11\" >€1.64</td>\n",
       "      <td id=\"T_e2e50_row1_col12\" class=\"data row1 col12\" >€4.47</td>\n",
       "      <td id=\"T_e2e50_row1_col13\" class=\"data row1 col13\" >€33.01</td>\n",
       "      <td id=\"T_e2e50_row1_col14\" class=\"data row1 col14\" >€51.89</td>\n",
       "      <td id=\"T_e2e50_row1_col15\" class=\"data row1 col15\" >€7875.46</td>\n",
       "      <td id=\"T_e2e50_row1_col16\" class=\"data row1 col16\" >157.22%</td>\n",
       "      <td id=\"T_e2e50_row1_col17\" class=\"data row1 col17\" >57.22%</td>\n",
       "    </tr>\n",
       "    <tr>\n",
       "      <td id=\"T_e2e50_row2_col0\" class=\"data row2 col0\" >DE</td>\n",
       "      <td id=\"T_e2e50_row2_col1\" class=\"data row2 col1\" >13,481,583</td>\n",
       "      <td id=\"T_e2e50_row2_col2\" class=\"data row2 col2\" >109,546</td>\n",
       "      <td id=\"T_e2e50_row2_col3\" class=\"data row2 col3\" >48,704</td>\n",
       "      <td id=\"T_e2e50_row2_col4\" class=\"data row2 col4\" >5,296</td>\n",
       "      <td id=\"T_e2e50_row2_col5\" class=\"data row2 col5\" >€128788.53</td>\n",
       "      <td id=\"T_e2e50_row2_col6\" class=\"data row2 col6\" >€151383.23</td>\n",
       "      <td id=\"T_e2e50_row2_col7\" class=\"data row2 col7\" >0.81%</td>\n",
       "      <td id=\"T_e2e50_row2_col8\" class=\"data row2 col8\" >44.46%</td>\n",
       "      <td id=\"T_e2e50_row2_col9\" class=\"data row2 col9\" >10.87%</td>\n",
       "      <td id=\"T_e2e50_row2_col10\" class=\"data row2 col10\" >€9.55</td>\n",
       "      <td id=\"T_e2e50_row2_col11\" class=\"data row2 col11\" >€1.18</td>\n",
       "      <td id=\"T_e2e50_row2_col12\" class=\"data row2 col12\" >€2.64</td>\n",
       "      <td id=\"T_e2e50_row2_col13\" class=\"data row2 col13\" >€24.32</td>\n",
       "      <td id=\"T_e2e50_row2_col14\" class=\"data row2 col14\" >€28.58</td>\n",
       "      <td id=\"T_e2e50_row2_col15\" class=\"data row2 col15\" >€22594.70</td>\n",
       "      <td id=\"T_e2e50_row2_col16\" class=\"data row2 col16\" >117.54%</td>\n",
       "      <td id=\"T_e2e50_row2_col17\" class=\"data row2 col17\" >17.54%</td>\n",
       "    </tr>\n",
       "    <tr>\n",
       "      <td id=\"T_e2e50_row3_col0\" class=\"data row3 col0\" >FR</td>\n",
       "      <td id=\"T_e2e50_row3_col1\" class=\"data row3 col1\" >3,263,826</td>\n",
       "      <td id=\"T_e2e50_row3_col2\" class=\"data row3 col2\" >49,313</td>\n",
       "      <td id=\"T_e2e50_row3_col3\" class=\"data row3 col3\" >21,694</td>\n",
       "      <td id=\"T_e2e50_row3_col4\" class=\"data row3 col4\" >1,564</td>\n",
       "      <td id=\"T_e2e50_row3_col5\" class=\"data row3 col5\" >€57216.98</td>\n",
       "      <td id=\"T_e2e50_row3_col6\" class=\"data row3 col6\" >€38410.02</td>\n",
       "      <td id=\"T_e2e50_row3_col7\" class=\"data row3 col7\" >1.51%</td>\n",
       "      <td id=\"T_e2e50_row3_col8\" class=\"data row3 col8\" >43.99%</td>\n",
       "      <td id=\"T_e2e50_row3_col9\" class=\"data row3 col9\" >7.21%</td>\n",
       "      <td id=\"T_e2e50_row3_col10\" class=\"data row3 col10\" >€17.53</td>\n",
       "      <td id=\"T_e2e50_row3_col11\" class=\"data row3 col11\" >€1.16</td>\n",
       "      <td id=\"T_e2e50_row3_col12\" class=\"data row3 col12\" >€2.64</td>\n",
       "      <td id=\"T_e2e50_row3_col13\" class=\"data row3 col13\" >€36.58</td>\n",
       "      <td id=\"T_e2e50_row3_col14\" class=\"data row3 col14\" >€24.56</td>\n",
       "      <td id=\"T_e2e50_row3_col15\" class=\"data row3 col15\" >€-18806.96</td>\n",
       "      <td id=\"T_e2e50_row3_col16\" class=\"data row3 col16\" >67.13%</td>\n",
       "      <td id=\"T_e2e50_row3_col17\" class=\"data row3 col17\" >-32.87%</td>\n",
       "    </tr>\n",
       "    <tr>\n",
       "      <td id=\"T_e2e50_row4_col0\" class=\"data row4 col0\" >IT</td>\n",
       "      <td id=\"T_e2e50_row4_col1\" class=\"data row4 col1\" >82,531</td>\n",
       "      <td id=\"T_e2e50_row4_col2\" class=\"data row4 col2\" >14,822</td>\n",
       "      <td id=\"T_e2e50_row4_col3\" class=\"data row4 col3\" >8,832</td>\n",
       "      <td id=\"T_e2e50_row4_col4\" class=\"data row4 col4\" >512</td>\n",
       "      <td id=\"T_e2e50_row4_col5\" class=\"data row4 col5\" >€8143.63</td>\n",
       "      <td id=\"T_e2e50_row4_col6\" class=\"data row4 col6\" >€9234.64</td>\n",
       "      <td id=\"T_e2e50_row4_col7\" class=\"data row4 col7\" >17.96%</td>\n",
       "      <td id=\"T_e2e50_row4_col8\" class=\"data row4 col8\" >59.59%</td>\n",
       "      <td id=\"T_e2e50_row4_col9\" class=\"data row4 col9\" >5.80%</td>\n",
       "      <td id=\"T_e2e50_row4_col10\" class=\"data row4 col10\" >€98.67</td>\n",
       "      <td id=\"T_e2e50_row4_col11\" class=\"data row4 col11\" >€0.55</td>\n",
       "      <td id=\"T_e2e50_row4_col12\" class=\"data row4 col12\" >€0.92</td>\n",
       "      <td id=\"T_e2e50_row4_col13\" class=\"data row4 col13\" >€15.91</td>\n",
       "      <td id=\"T_e2e50_row4_col14\" class=\"data row4 col14\" >€18.04</td>\n",
       "      <td id=\"T_e2e50_row4_col15\" class=\"data row4 col15\" >€1091.01</td>\n",
       "      <td id=\"T_e2e50_row4_col16\" class=\"data row4 col16\" >113.40%</td>\n",
       "      <td id=\"T_e2e50_row4_col17\" class=\"data row4 col17\" >13.40%</td>\n",
       "    </tr>\n",
       "    <tr>\n",
       "      <td id=\"T_e2e50_row5_col0\" class=\"data row5 col0\" >NL</td>\n",
       "      <td id=\"T_e2e50_row5_col1\" class=\"data row5 col1\" >1,445,763</td>\n",
       "      <td id=\"T_e2e50_row5_col2\" class=\"data row5 col2\" >15,652</td>\n",
       "      <td id=\"T_e2e50_row5_col3\" class=\"data row5 col3\" >4,588</td>\n",
       "      <td id=\"T_e2e50_row5_col4\" class=\"data row5 col4\" >349</td>\n",
       "      <td id=\"T_e2e50_row5_col5\" class=\"data row5 col5\" >€15297.32</td>\n",
       "      <td id=\"T_e2e50_row5_col6\" class=\"data row5 col6\" >€8906.77</td>\n",
       "      <td id=\"T_e2e50_row5_col7\" class=\"data row5 col7\" >1.08%</td>\n",
       "      <td id=\"T_e2e50_row5_col8\" class=\"data row5 col8\" >29.31%</td>\n",
       "      <td id=\"T_e2e50_row5_col9\" class=\"data row5 col9\" >7.61%</td>\n",
       "      <td id=\"T_e2e50_row5_col10\" class=\"data row5 col10\" >€10.58</td>\n",
       "      <td id=\"T_e2e50_row5_col11\" class=\"data row5 col11\" >€0.98</td>\n",
       "      <td id=\"T_e2e50_row5_col12\" class=\"data row5 col12\" >€3.33</td>\n",
       "      <td id=\"T_e2e50_row5_col13\" class=\"data row5 col13\" >€43.83</td>\n",
       "      <td id=\"T_e2e50_row5_col14\" class=\"data row5 col14\" >€25.52</td>\n",
       "      <td id=\"T_e2e50_row5_col15\" class=\"data row5 col15\" >€-6390.55</td>\n",
       "      <td id=\"T_e2e50_row5_col16\" class=\"data row5 col16\" >58.22%</td>\n",
       "      <td id=\"T_e2e50_row5_col17\" class=\"data row5 col17\" >-41.78%</td>\n",
       "    </tr>\n",
       "    <tr>\n",
       "      <td id=\"T_e2e50_row6_col0\" class=\"data row6 col0\" >US</td>\n",
       "      <td id=\"T_e2e50_row6_col1\" class=\"data row6 col1\" >2,503,193</td>\n",
       "      <td id=\"T_e2e50_row6_col2\" class=\"data row6 col2\" >25,766</td>\n",
       "      <td id=\"T_e2e50_row6_col3\" class=\"data row6 col3\" >5,038</td>\n",
       "      <td id=\"T_e2e50_row6_col4\" class=\"data row6 col4\" >484</td>\n",
       "      <td id=\"T_e2e50_row6_col5\" class=\"data row6 col5\" >€28340.22</td>\n",
       "      <td id=\"T_e2e50_row6_col6\" class=\"data row6 col6\" >€11858.80</td>\n",
       "      <td id=\"T_e2e50_row6_col7\" class=\"data row6 col7\" >1.03%</td>\n",
       "      <td id=\"T_e2e50_row6_col8\" class=\"data row6 col8\" >19.55%</td>\n",
       "      <td id=\"T_e2e50_row6_col9\" class=\"data row6 col9\" >9.61%</td>\n",
       "      <td id=\"T_e2e50_row6_col10\" class=\"data row6 col10\" >€11.32</td>\n",
       "      <td id=\"T_e2e50_row6_col11\" class=\"data row6 col11\" >€1.10</td>\n",
       "      <td id=\"T_e2e50_row6_col12\" class=\"data row6 col12\" >€5.63</td>\n",
       "      <td id=\"T_e2e50_row6_col13\" class=\"data row6 col13\" >€58.55</td>\n",
       "      <td id=\"T_e2e50_row6_col14\" class=\"data row6 col14\" >€24.50</td>\n",
       "      <td id=\"T_e2e50_row6_col15\" class=\"data row6 col15\" >€-16481.42</td>\n",
       "      <td id=\"T_e2e50_row6_col16\" class=\"data row6 col16\" >41.84%</td>\n",
       "      <td id=\"T_e2e50_row6_col17\" class=\"data row6 col17\" >-58.16%</td>\n",
       "    </tr>\n",
       "    <tr>\n",
       "      <td id=\"T_e2e50_row7_col0\" class=\"data row7 col0\" >unknown</td>\n",
       "      <td id=\"T_e2e50_row7_col1\" class=\"data row7 col1\" >0</td>\n",
       "      <td id=\"T_e2e50_row7_col2\" class=\"data row7 col2\" >0</td>\n",
       "      <td id=\"T_e2e50_row7_col3\" class=\"data row7 col3\" >4,929</td>\n",
       "      <td id=\"T_e2e50_row7_col4\" class=\"data row7 col4\" >342</td>\n",
       "      <td id=\"T_e2e50_row7_col5\" class=\"data row7 col5\" >€0.00</td>\n",
       "      <td id=\"T_e2e50_row7_col6\" class=\"data row7 col6\" >€9560.90</td>\n",
       "      <td id=\"T_e2e50_row7_col7\" class=\"data row7 col7\" >nan%</td>\n",
       "      <td id=\"T_e2e50_row7_col8\" class=\"data row7 col8\" >nan%</td>\n",
       "      <td id=\"T_e2e50_row7_col9\" class=\"data row7 col9\" >6.94%</td>\n",
       "      <td id=\"T_e2e50_row7_col10\" class=\"data row7 col10\" >€nan</td>\n",
       "      <td id=\"T_e2e50_row7_col11\" class=\"data row7 col11\" >€nan</td>\n",
       "      <td id=\"T_e2e50_row7_col12\" class=\"data row7 col12\" >€0.00</td>\n",
       "      <td id=\"T_e2e50_row7_col13\" class=\"data row7 col13\" >€0.00</td>\n",
       "      <td id=\"T_e2e50_row7_col14\" class=\"data row7 col14\" >€27.96</td>\n",
       "      <td id=\"T_e2e50_row7_col15\" class=\"data row7 col15\" >€9560.90</td>\n",
       "      <td id=\"T_e2e50_row7_col16\" class=\"data row7 col16\" >nan%</td>\n",
       "      <td id=\"T_e2e50_row7_col17\" class=\"data row7 col17\" >nan%</td>\n",
       "    </tr>\n",
       "  </tbody>\n",
       "</table>\n"
      ],
      "text/plain": [
       "<pandas.io.formats.style.Styler at 0x11512c810>"
      ]
     },
     "metadata": {},
     "output_type": "display_data"
    }
   ],
   "source": [
    "agg_df = df.groupby(['country']).sum(numeric_only=True)\n",
    "\n",
    "df_metrics = calculate_metrics(agg_df).reset_index()\n",
    "\n",
    "display(format_metrics(df_metrics))"
   ]
  },
  {
   "cell_type": "markdown",
   "id": "81ff262a",
   "metadata": {},
   "source": [
    "## 4.3 Main KPIs over time"
   ]
  },
  {
   "cell_type": "markdown",
   "id": "5a9d0b6e",
   "metadata": {},
   "source": [
    "### Germany"
   ]
  },
  {
   "cell_type": "code",
   "execution_count": 20,
   "id": "67746fdb",
   "metadata": {},
   "outputs": [
    {
     "data": {
      "application/vnd.plotly.v1+json": {
       "config": {
        "plotlyServerURL": "https://plot.ly"
       },
       "data": [
        {
         "mode": "lines",
         "name": "App Installs",
         "type": "scatter",
         "x": [
          "2023-11-01T00:00:00",
          "2023-11-02T00:00:00",
          "2023-11-03T00:00:00",
          "2023-11-04T00:00:00",
          "2023-11-05T00:00:00",
          "2023-11-06T00:00:00",
          "2023-11-07T00:00:00",
          "2023-11-08T00:00:00",
          "2023-11-09T00:00:00",
          "2023-11-10T00:00:00",
          "2023-11-11T00:00:00",
          "2023-11-12T00:00:00",
          "2023-11-13T00:00:00",
          "2023-11-14T00:00:00",
          "2023-11-15T00:00:00",
          "2023-11-16T00:00:00",
          "2023-11-17T00:00:00",
          "2023-11-18T00:00:00",
          "2023-11-19T00:00:00",
          "2023-11-20T00:00:00",
          "2023-11-21T00:00:00",
          "2023-11-22T00:00:00",
          "2023-11-23T00:00:00",
          "2023-11-24T00:00:00",
          "2023-11-25T00:00:00",
          "2023-11-26T00:00:00",
          "2023-11-27T00:00:00",
          "2023-11-28T00:00:00",
          "2023-11-29T00:00:00",
          "2023-11-30T00:00:00"
         ],
         "xaxis": "x",
         "y": [
          2159,
          1833,
          1618,
          1704,
          2159,
          1645,
          1705,
          1439,
          1325,
          1239,
          1402,
          1704,
          1648,
          1503,
          1625,
          1440,
          1349,
          1306,
          1609,
          1591,
          1717,
          1811,
          1700,
          1458,
          1540,
          1858,
          1828,
          1711,
          1656,
          1422
         ],
         "yaxis": "y"
        },
        {
         "mode": "lines",
         "name": "CPI",
         "type": "scatter",
         "x": [
          "2023-11-01T00:00:00",
          "2023-11-02T00:00:00",
          "2023-11-03T00:00:00",
          "2023-11-04T00:00:00",
          "2023-11-05T00:00:00",
          "2023-11-06T00:00:00",
          "2023-11-07T00:00:00",
          "2023-11-08T00:00:00",
          "2023-11-09T00:00:00",
          "2023-11-10T00:00:00",
          "2023-11-11T00:00:00",
          "2023-11-12T00:00:00",
          "2023-11-13T00:00:00",
          "2023-11-14T00:00:00",
          "2023-11-15T00:00:00",
          "2023-11-16T00:00:00",
          "2023-11-17T00:00:00",
          "2023-11-18T00:00:00",
          "2023-11-19T00:00:00",
          "2023-11-20T00:00:00",
          "2023-11-21T00:00:00",
          "2023-11-22T00:00:00",
          "2023-11-23T00:00:00",
          "2023-11-24T00:00:00",
          "2023-11-25T00:00:00",
          "2023-11-26T00:00:00",
          "2023-11-27T00:00:00",
          "2023-11-28T00:00:00",
          "2023-11-29T00:00:00",
          "2023-11-30T00:00:00"
         ],
         "xaxis": "x2",
         "y": [
          2.47,
          2.95,
          3.17,
          3.07,
          2.97,
          3.22,
          2.9,
          3.04,
          3.09,
          3.22,
          2.86,
          2.05,
          2.02,
          2.18,
          2.05,
          2.17,
          2.32,
          2.32,
          4.22,
          2.01,
          2.3,
          3.38,
          2.38,
          2.61,
          2.34,
          2.32,
          2.21,
          2.28,
          2.16,
          3.14
         ],
         "yaxis": "y2"
        },
        {
         "mode": "lines",
         "name": "Install to Conversion Rate",
         "type": "scatter",
         "x": [
          "2023-11-01T00:00:00",
          "2023-11-02T00:00:00",
          "2023-11-03T00:00:00",
          "2023-11-04T00:00:00",
          "2023-11-05T00:00:00",
          "2023-11-06T00:00:00",
          "2023-11-07T00:00:00",
          "2023-11-08T00:00:00",
          "2023-11-09T00:00:00",
          "2023-11-10T00:00:00",
          "2023-11-11T00:00:00",
          "2023-11-12T00:00:00",
          "2023-11-13T00:00:00",
          "2023-11-14T00:00:00",
          "2023-11-15T00:00:00",
          "2023-11-16T00:00:00",
          "2023-11-17T00:00:00",
          "2023-11-18T00:00:00",
          "2023-11-19T00:00:00",
          "2023-11-20T00:00:00",
          "2023-11-21T00:00:00",
          "2023-11-22T00:00:00",
          "2023-11-23T00:00:00",
          "2023-11-24T00:00:00",
          "2023-11-25T00:00:00",
          "2023-11-26T00:00:00",
          "2023-11-27T00:00:00",
          "2023-11-28T00:00:00",
          "2023-11-29T00:00:00",
          "2023-11-30T00:00:00"
         ],
         "xaxis": "x3",
         "y": [
          9.87,
          8.67,
          9.58,
          9.15,
          9.5,
          9.54,
          10.21,
          9.59,
          10.11,
          10.17,
          12.05,
          9.57,
          11.41,
          10.11,
          9.91,
          10.56,
          11.05,
          9.49,
          9.26,
          12.51,
          11.07,
          10.93,
          10.18,
          13.03,
          13.12,
          13.46,
          14.06,
          12.86,
          13.04,
          12.45
         ],
         "yaxis": "y3"
        },
        {
         "name": "Profit",
         "type": "bar",
         "x": [
          "2023-11-01T00:00:00",
          "2023-11-02T00:00:00",
          "2023-11-03T00:00:00",
          "2023-11-04T00:00:00",
          "2023-11-05T00:00:00",
          "2023-11-06T00:00:00",
          "2023-11-07T00:00:00",
          "2023-11-08T00:00:00",
          "2023-11-09T00:00:00",
          "2023-11-10T00:00:00",
          "2023-11-11T00:00:00",
          "2023-11-12T00:00:00",
          "2023-11-13T00:00:00",
          "2023-11-14T00:00:00",
          "2023-11-15T00:00:00",
          "2023-11-16T00:00:00",
          "2023-11-17T00:00:00",
          "2023-11-18T00:00:00",
          "2023-11-19T00:00:00",
          "2023-11-20T00:00:00",
          "2023-11-21T00:00:00",
          "2023-11-22T00:00:00",
          "2023-11-23T00:00:00",
          "2023-11-24T00:00:00",
          "2023-11-25T00:00:00",
          "2023-11-26T00:00:00",
          "2023-11-27T00:00:00",
          "2023-11-28T00:00:00",
          "2023-11-29T00:00:00",
          "2023-11-30T00:00:00"
         ],
         "xaxis": "x4",
         "y": [
          1650.43,
          -165.79,
          -246.52,
          -305.91,
          191.01,
          76.44,
          679.19,
          82.71,
          268.14,
          33.16,
          -51.46,
          1756.57,
          2658.35,
          1500.03,
          1376.38,
          1333.48,
          753.93,
          -237.11,
          -1934.45,
          2904.22,
          1574.93,
          -211.11,
          1094.58,
          837.2,
          1135.05,
          1399.04,
          1727.15,
          1403.32,
          1523.13,
          -211.39
         ],
         "yaxis": "y4"
        }
       ],
       "layout": {
        "annotations": [
         {
          "align": "center",
          "font": {
           "color": "red",
           "size": 12
          },
          "showarrow": false,
          "text": "Black Friday",
          "x": "2023-11-24T00:00:00",
          "xref": "x",
          "y": 1,
          "yref": "paper"
         }
        ],
        "height": 800,
        "shapes": [
         {
          "line": {
           "color": "red",
           "dash": "dash",
           "width": 2
          },
          "type": "line",
          "x0": "2023-11-24T00:00:00",
          "x1": "2023-11-24T00:00:00",
          "xref": "x",
          "y0": 0,
          "y1": 1,
          "yref": "paper"
         }
        ],
        "showlegend": false,
        "template": {
         "data": {
          "bar": [
           {
            "error_x": {
             "color": "#2a3f5f"
            },
            "error_y": {
             "color": "#2a3f5f"
            },
            "marker": {
             "line": {
              "color": "#E5ECF6",
              "width": 0.5
             },
             "pattern": {
              "fillmode": "overlay",
              "size": 10,
              "solidity": 0.2
             }
            },
            "type": "bar"
           }
          ],
          "barpolar": [
           {
            "marker": {
             "line": {
              "color": "#E5ECF6",
              "width": 0.5
             },
             "pattern": {
              "fillmode": "overlay",
              "size": 10,
              "solidity": 0.2
             }
            },
            "type": "barpolar"
           }
          ],
          "carpet": [
           {
            "aaxis": {
             "endlinecolor": "#2a3f5f",
             "gridcolor": "white",
             "linecolor": "white",
             "minorgridcolor": "white",
             "startlinecolor": "#2a3f5f"
            },
            "baxis": {
             "endlinecolor": "#2a3f5f",
             "gridcolor": "white",
             "linecolor": "white",
             "minorgridcolor": "white",
             "startlinecolor": "#2a3f5f"
            },
            "type": "carpet"
           }
          ],
          "choropleth": [
           {
            "colorbar": {
             "outlinewidth": 0,
             "ticks": ""
            },
            "type": "choropleth"
           }
          ],
          "contour": [
           {
            "colorbar": {
             "outlinewidth": 0,
             "ticks": ""
            },
            "colorscale": [
             [
              0,
              "#0d0887"
             ],
             [
              0.1111111111111111,
              "#46039f"
             ],
             [
              0.2222222222222222,
              "#7201a8"
             ],
             [
              0.3333333333333333,
              "#9c179e"
             ],
             [
              0.4444444444444444,
              "#bd3786"
             ],
             [
              0.5555555555555556,
              "#d8576b"
             ],
             [
              0.6666666666666666,
              "#ed7953"
             ],
             [
              0.7777777777777778,
              "#fb9f3a"
             ],
             [
              0.8888888888888888,
              "#fdca26"
             ],
             [
              1,
              "#f0f921"
             ]
            ],
            "type": "contour"
           }
          ],
          "contourcarpet": [
           {
            "colorbar": {
             "outlinewidth": 0,
             "ticks": ""
            },
            "type": "contourcarpet"
           }
          ],
          "heatmap": [
           {
            "colorbar": {
             "outlinewidth": 0,
             "ticks": ""
            },
            "colorscale": [
             [
              0,
              "#0d0887"
             ],
             [
              0.1111111111111111,
              "#46039f"
             ],
             [
              0.2222222222222222,
              "#7201a8"
             ],
             [
              0.3333333333333333,
              "#9c179e"
             ],
             [
              0.4444444444444444,
              "#bd3786"
             ],
             [
              0.5555555555555556,
              "#d8576b"
             ],
             [
              0.6666666666666666,
              "#ed7953"
             ],
             [
              0.7777777777777778,
              "#fb9f3a"
             ],
             [
              0.8888888888888888,
              "#fdca26"
             ],
             [
              1,
              "#f0f921"
             ]
            ],
            "type": "heatmap"
           }
          ],
          "heatmapgl": [
           {
            "colorbar": {
             "outlinewidth": 0,
             "ticks": ""
            },
            "colorscale": [
             [
              0,
              "#0d0887"
             ],
             [
              0.1111111111111111,
              "#46039f"
             ],
             [
              0.2222222222222222,
              "#7201a8"
             ],
             [
              0.3333333333333333,
              "#9c179e"
             ],
             [
              0.4444444444444444,
              "#bd3786"
             ],
             [
              0.5555555555555556,
              "#d8576b"
             ],
             [
              0.6666666666666666,
              "#ed7953"
             ],
             [
              0.7777777777777778,
              "#fb9f3a"
             ],
             [
              0.8888888888888888,
              "#fdca26"
             ],
             [
              1,
              "#f0f921"
             ]
            ],
            "type": "heatmapgl"
           }
          ],
          "histogram": [
           {
            "marker": {
             "pattern": {
              "fillmode": "overlay",
              "size": 10,
              "solidity": 0.2
             }
            },
            "type": "histogram"
           }
          ],
          "histogram2d": [
           {
            "colorbar": {
             "outlinewidth": 0,
             "ticks": ""
            },
            "colorscale": [
             [
              0,
              "#0d0887"
             ],
             [
              0.1111111111111111,
              "#46039f"
             ],
             [
              0.2222222222222222,
              "#7201a8"
             ],
             [
              0.3333333333333333,
              "#9c179e"
             ],
             [
              0.4444444444444444,
              "#bd3786"
             ],
             [
              0.5555555555555556,
              "#d8576b"
             ],
             [
              0.6666666666666666,
              "#ed7953"
             ],
             [
              0.7777777777777778,
              "#fb9f3a"
             ],
             [
              0.8888888888888888,
              "#fdca26"
             ],
             [
              1,
              "#f0f921"
             ]
            ],
            "type": "histogram2d"
           }
          ],
          "histogram2dcontour": [
           {
            "colorbar": {
             "outlinewidth": 0,
             "ticks": ""
            },
            "colorscale": [
             [
              0,
              "#0d0887"
             ],
             [
              0.1111111111111111,
              "#46039f"
             ],
             [
              0.2222222222222222,
              "#7201a8"
             ],
             [
              0.3333333333333333,
              "#9c179e"
             ],
             [
              0.4444444444444444,
              "#bd3786"
             ],
             [
              0.5555555555555556,
              "#d8576b"
             ],
             [
              0.6666666666666666,
              "#ed7953"
             ],
             [
              0.7777777777777778,
              "#fb9f3a"
             ],
             [
              0.8888888888888888,
              "#fdca26"
             ],
             [
              1,
              "#f0f921"
             ]
            ],
            "type": "histogram2dcontour"
           }
          ],
          "mesh3d": [
           {
            "colorbar": {
             "outlinewidth": 0,
             "ticks": ""
            },
            "type": "mesh3d"
           }
          ],
          "parcoords": [
           {
            "line": {
             "colorbar": {
              "outlinewidth": 0,
              "ticks": ""
             }
            },
            "type": "parcoords"
           }
          ],
          "pie": [
           {
            "automargin": true,
            "type": "pie"
           }
          ],
          "scatter": [
           {
            "fillpattern": {
             "fillmode": "overlay",
             "size": 10,
             "solidity": 0.2
            },
            "type": "scatter"
           }
          ],
          "scatter3d": [
           {
            "line": {
             "colorbar": {
              "outlinewidth": 0,
              "ticks": ""
             }
            },
            "marker": {
             "colorbar": {
              "outlinewidth": 0,
              "ticks": ""
             }
            },
            "type": "scatter3d"
           }
          ],
          "scattercarpet": [
           {
            "marker": {
             "colorbar": {
              "outlinewidth": 0,
              "ticks": ""
             }
            },
            "type": "scattercarpet"
           }
          ],
          "scattergeo": [
           {
            "marker": {
             "colorbar": {
              "outlinewidth": 0,
              "ticks": ""
             }
            },
            "type": "scattergeo"
           }
          ],
          "scattergl": [
           {
            "marker": {
             "colorbar": {
              "outlinewidth": 0,
              "ticks": ""
             }
            },
            "type": "scattergl"
           }
          ],
          "scattermapbox": [
           {
            "marker": {
             "colorbar": {
              "outlinewidth": 0,
              "ticks": ""
             }
            },
            "type": "scattermapbox"
           }
          ],
          "scatterpolar": [
           {
            "marker": {
             "colorbar": {
              "outlinewidth": 0,
              "ticks": ""
             }
            },
            "type": "scatterpolar"
           }
          ],
          "scatterpolargl": [
           {
            "marker": {
             "colorbar": {
              "outlinewidth": 0,
              "ticks": ""
             }
            },
            "type": "scatterpolargl"
           }
          ],
          "scatterternary": [
           {
            "marker": {
             "colorbar": {
              "outlinewidth": 0,
              "ticks": ""
             }
            },
            "type": "scatterternary"
           }
          ],
          "surface": [
           {
            "colorbar": {
             "outlinewidth": 0,
             "ticks": ""
            },
            "colorscale": [
             [
              0,
              "#0d0887"
             ],
             [
              0.1111111111111111,
              "#46039f"
             ],
             [
              0.2222222222222222,
              "#7201a8"
             ],
             [
              0.3333333333333333,
              "#9c179e"
             ],
             [
              0.4444444444444444,
              "#bd3786"
             ],
             [
              0.5555555555555556,
              "#d8576b"
             ],
             [
              0.6666666666666666,
              "#ed7953"
             ],
             [
              0.7777777777777778,
              "#fb9f3a"
             ],
             [
              0.8888888888888888,
              "#fdca26"
             ],
             [
              1,
              "#f0f921"
             ]
            ],
            "type": "surface"
           }
          ],
          "table": [
           {
            "cells": {
             "fill": {
              "color": "#EBF0F8"
             },
             "line": {
              "color": "white"
             }
            },
            "header": {
             "fill": {
              "color": "#C8D4E3"
             },
             "line": {
              "color": "white"
             }
            },
            "type": "table"
           }
          ]
         },
         "layout": {
          "annotationdefaults": {
           "arrowcolor": "#2a3f5f",
           "arrowhead": 0,
           "arrowwidth": 1
          },
          "autotypenumbers": "strict",
          "coloraxis": {
           "colorbar": {
            "outlinewidth": 0,
            "ticks": ""
           }
          },
          "colorscale": {
           "diverging": [
            [
             0,
             "#8e0152"
            ],
            [
             0.1,
             "#c51b7d"
            ],
            [
             0.2,
             "#de77ae"
            ],
            [
             0.3,
             "#f1b6da"
            ],
            [
             0.4,
             "#fde0ef"
            ],
            [
             0.5,
             "#f7f7f7"
            ],
            [
             0.6,
             "#e6f5d0"
            ],
            [
             0.7,
             "#b8e186"
            ],
            [
             0.8,
             "#7fbc41"
            ],
            [
             0.9,
             "#4d9221"
            ],
            [
             1,
             "#276419"
            ]
           ],
           "sequential": [
            [
             0,
             "#0d0887"
            ],
            [
             0.1111111111111111,
             "#46039f"
            ],
            [
             0.2222222222222222,
             "#7201a8"
            ],
            [
             0.3333333333333333,
             "#9c179e"
            ],
            [
             0.4444444444444444,
             "#bd3786"
            ],
            [
             0.5555555555555556,
             "#d8576b"
            ],
            [
             0.6666666666666666,
             "#ed7953"
            ],
            [
             0.7777777777777778,
             "#fb9f3a"
            ],
            [
             0.8888888888888888,
             "#fdca26"
            ],
            [
             1,
             "#f0f921"
            ]
           ],
           "sequentialminus": [
            [
             0,
             "#0d0887"
            ],
            [
             0.1111111111111111,
             "#46039f"
            ],
            [
             0.2222222222222222,
             "#7201a8"
            ],
            [
             0.3333333333333333,
             "#9c179e"
            ],
            [
             0.4444444444444444,
             "#bd3786"
            ],
            [
             0.5555555555555556,
             "#d8576b"
            ],
            [
             0.6666666666666666,
             "#ed7953"
            ],
            [
             0.7777777777777778,
             "#fb9f3a"
            ],
            [
             0.8888888888888888,
             "#fdca26"
            ],
            [
             1,
             "#f0f921"
            ]
           ]
          },
          "colorway": [
           "#636efa",
           "#EF553B",
           "#00cc96",
           "#ab63fa",
           "#FFA15A",
           "#19d3f3",
           "#FF6692",
           "#B6E880",
           "#FF97FF",
           "#FECB52"
          ],
          "font": {
           "color": "#2a3f5f"
          },
          "geo": {
           "bgcolor": "white",
           "lakecolor": "white",
           "landcolor": "#E5ECF6",
           "showlakes": true,
           "showland": true,
           "subunitcolor": "white"
          },
          "hoverlabel": {
           "align": "left"
          },
          "hovermode": "closest",
          "mapbox": {
           "style": "light"
          },
          "paper_bgcolor": "white",
          "plot_bgcolor": "#E5ECF6",
          "polar": {
           "angularaxis": {
            "gridcolor": "white",
            "linecolor": "white",
            "ticks": ""
           },
           "bgcolor": "#E5ECF6",
           "radialaxis": {
            "gridcolor": "white",
            "linecolor": "white",
            "ticks": ""
           }
          },
          "scene": {
           "xaxis": {
            "backgroundcolor": "#E5ECF6",
            "gridcolor": "white",
            "gridwidth": 2,
            "linecolor": "white",
            "showbackground": true,
            "ticks": "",
            "zerolinecolor": "white"
           },
           "yaxis": {
            "backgroundcolor": "#E5ECF6",
            "gridcolor": "white",
            "gridwidth": 2,
            "linecolor": "white",
            "showbackground": true,
            "ticks": "",
            "zerolinecolor": "white"
           },
           "zaxis": {
            "backgroundcolor": "#E5ECF6",
            "gridcolor": "white",
            "gridwidth": 2,
            "linecolor": "white",
            "showbackground": true,
            "ticks": "",
            "zerolinecolor": "white"
           }
          },
          "shapedefaults": {
           "line": {
            "color": "#2a3f5f"
           }
          },
          "ternary": {
           "aaxis": {
            "gridcolor": "white",
            "linecolor": "white",
            "ticks": ""
           },
           "baxis": {
            "gridcolor": "white",
            "linecolor": "white",
            "ticks": ""
           },
           "bgcolor": "#E5ECF6",
           "caxis": {
            "gridcolor": "white",
            "linecolor": "white",
            "ticks": ""
           }
          },
          "title": {
           "x": 0.05
          },
          "xaxis": {
           "automargin": true,
           "gridcolor": "white",
           "linecolor": "white",
           "ticks": "",
           "title": {
            "standoff": 15
           },
           "zerolinecolor": "white",
           "zerolinewidth": 2
          },
          "yaxis": {
           "automargin": true,
           "gridcolor": "white",
           "linecolor": "white",
           "ticks": "",
           "title": {
            "standoff": 15
           },
           "zerolinecolor": "white",
           "zerolinewidth": 2
          }
         }
        },
        "title": {
         "text": "Metrics Over Time - Germany"
        },
        "xaxis": {
         "anchor": "y",
         "domain": [
          0,
          1
         ],
         "matches": "x4",
         "showticklabels": false
        },
        "xaxis2": {
         "anchor": "y2",
         "domain": [
          0,
          1
         ],
         "matches": "x4",
         "showticklabels": false
        },
        "xaxis3": {
         "anchor": "y3",
         "domain": [
          0,
          1
         ],
         "matches": "x4",
         "showticklabels": false
        },
        "xaxis4": {
         "anchor": "y4",
         "domain": [
          0,
          1
         ],
         "title": {
          "text": "Date"
         }
        },
        "yaxis": {
         "anchor": "x",
         "domain": [
          0.7875,
          1
         ],
         "title": {
          "text": "App Installs"
         }
        },
        "yaxis2": {
         "anchor": "x2",
         "domain": [
          0.525,
          0.7375
         ],
         "range": [
          0,
          null
         ],
         "title": {
          "text": "CPI (Euro)"
         }
        },
        "yaxis3": {
         "anchor": "x3",
         "domain": [
          0.2625,
          0.475
         ],
         "range": [
          0,
          null
         ],
         "title": {
          "text": "Install to Conversion Rate (%)"
         }
        },
        "yaxis4": {
         "anchor": "x4",
         "domain": [
          0,
          0.2125
         ],
         "title": {
          "text": "Profit (Euro)"
         }
        }
       }
      }
     },
     "metadata": {},
     "output_type": "display_data"
    }
   ],
   "source": [
    "### PREPARE THE DATA ###\n",
    "\n",
    "# Aggregate the data\n",
    "agg_df = df.groupby(['country','date']).sum(numeric_only=True)\n",
    "#agg_df = df[df.marketing_channel == \"Channel C\"].groupby(['country','date']).sum(numeric_only=True) # filter channel c\n",
    "\n",
    "#Calculate the metrics\n",
    "df_metrics = calculate_metrics(agg_df).reset_index()\n",
    "\n",
    "# Create the object\n",
    "df_main_over_time = df_metrics.copy()\n",
    "\n",
    "# Filter the country\n",
    "df_filtered_plot = df_main_over_time[df_main_over_time.country==\"DE\"].copy()\n",
    "\n",
    "# Ensure the 'date' column in the DataFrame is in datetime format\n",
    "df_filtered_plot['date'] = pd.to_datetime(df_filtered_plot['date'])\n",
    "\n",
    "# Create a subplot figure with 4 rows, 1 column\n",
    "fig = make_subplots(\n",
    "    rows=4, cols=1,\n",
    "    shared_xaxes=True,  # Align x-axes\n",
    "    vertical_spacing=0.05  # Adjust spacing between plots\n",
    ")\n",
    "\n",
    "# Add traces for each metric\n",
    "metrics = ['app_installs', 'cpi', 'install_to_conversion_rate', 'profit']\n",
    "titles = [\n",
    "    'App Installs',\n",
    "    'Cost Per Install (CPI)',\n",
    "    'Install to Conversion Rate (%)',\n",
    "    'Profit (Euro)'\n",
    "]\n",
    "\n",
    "# Plot App Installs (Row 1)\n",
    "fig.add_trace(\n",
    "    go.Scatter(x=df_filtered_plot['date'], y=df_filtered_plot['app_installs'], mode='lines', name='App Installs'),\n",
    "    row=1, col=1\n",
    ")\n",
    "\n",
    "# Plot CPI (Row 2) with y-axis starting at 0\n",
    "fig.add_trace(\n",
    "    go.Scatter(x=df_filtered_plot['date'], y=df_filtered_plot['cpi'], mode='lines', name='CPI'),\n",
    "    row=2, col=1\n",
    ")\n",
    "fig.update_yaxes(range=[0, None], row=2, col=1)\n",
    "\n",
    "# Plot Install to Conversion Rate (Row 3) with y-axis starting at 0\n",
    "fig.add_trace(\n",
    "    go.Scatter(x=df_filtered_plot['date'], y=df_filtered_plot['install_to_conversion_rate'], mode='lines', name='Install to Conversion Rate'),\n",
    "    row=3, col=1\n",
    ")\n",
    "fig.update_yaxes(range=[0, None], row=3, col=1)\n",
    "\n",
    "# Plot Profit (Row 4) as a bar chart\n",
    "fig.add_trace(\n",
    "    go.Bar(x=df_filtered_plot['date'], y=df_filtered_plot['profit'], name='Profit'),\n",
    "    row=4, col=1\n",
    ")\n",
    "\n",
    "# Add a vertical line and text annotation for Black Friday\n",
    "black_friday_date = datetime(2023, 11, 24)  # Use a raw datetime object\n",
    "\n",
    "# Add a shape for the vertical line\n",
    "fig.add_shape(\n",
    "    type=\"line\",\n",
    "    x0=black_friday_date, x1=black_friday_date,\n",
    "    y0=0, y1=1,  # Relative to the y-axis (scaled by domain)\n",
    "    xref=\"x\", yref=\"paper\",  # 'paper' ensures it spans all plots\n",
    "    line=dict(color=\"red\", width=2, dash=\"dash\")\n",
    ")\n",
    "\n",
    "# Add a text annotation\n",
    "fig.add_annotation(\n",
    "    x=black_friday_date,\n",
    "    y=1,  # Place it at the top of the plot area\n",
    "    text=\"Black Friday\",\n",
    "    showarrow=False,\n",
    "    xref=\"x\", yref=\"paper\",\n",
    "    font=dict(size=12, color=\"red\"),\n",
    "    align=\"center\"\n",
    ")\n",
    "\n",
    "# Update layout for better appearance\n",
    "fig.update_layout(\n",
    "    height=800,  # Adjust height\n",
    "    title_text=\"Metrics Over Time - Germany\",\n",
    "    showlegend=False,  # Hide legend for clarity\n",
    ")\n",
    "\n",
    "# Update individual axes titles\n",
    "fig.update_yaxes(title_text=\"App Installs\", row=1, col=1)\n",
    "fig.update_yaxes(title_text=\"CPI (Euro)\", row=2, col=1)\n",
    "fig.update_yaxes(title_text=\"Install to Conversion Rate (%)\", row=3, col=1)\n",
    "fig.update_yaxes(title_text=\"Profit (Euro)\", row=4, col=1)\n",
    "fig.update_xaxes(title_text=\"Date\", row=4, col=1)\n",
    "\n",
    "# Show the plot\n",
    "fig.show()\n"
   ]
  },
  {
   "cell_type": "markdown",
   "id": "c35944cb",
   "metadata": {},
   "source": [
    "- There is an increase in installs after black friday.\n",
    "- The cost per install is higher 1 week before black friday.\n",
    "- The install to conversion rate increases at black friday, probably because of a good offer.\n",
    "- The beginning of the month is not profitable.\n",
    "- There is a CPI max on 19/11 that contributes to a profit minimum."
   ]
  },
  {
   "cell_type": "markdown",
   "id": "c226e05d",
   "metadata": {},
   "source": [
    "### Germany - Specific Channel"
   ]
  },
  {
   "cell_type": "code",
   "execution_count": 21,
   "id": "2ec5a43c",
   "metadata": {},
   "outputs": [
    {
     "data": {
      "application/vnd.plotly.v1+json": {
       "config": {
        "plotlyServerURL": "https://plot.ly"
       },
       "data": [
        {
         "mode": "lines",
         "name": "App Installs",
         "type": "scatter",
         "x": [
          "2023-11-01T00:00:00",
          "2023-11-02T00:00:00",
          "2023-11-03T00:00:00",
          "2023-11-04T00:00:00",
          "2023-11-05T00:00:00",
          "2023-11-06T00:00:00",
          "2023-11-07T00:00:00",
          "2023-11-08T00:00:00",
          "2023-11-09T00:00:00",
          "2023-11-10T00:00:00",
          "2023-11-11T00:00:00",
          "2023-11-12T00:00:00",
          "2023-11-13T00:00:00",
          "2023-11-14T00:00:00",
          "2023-11-15T00:00:00",
          "2023-11-16T00:00:00",
          "2023-11-17T00:00:00",
          "2023-11-18T00:00:00",
          "2023-11-19T00:00:00",
          "2023-11-20T00:00:00",
          "2023-11-21T00:00:00",
          "2023-11-22T00:00:00",
          "2023-11-23T00:00:00",
          "2023-11-24T00:00:00",
          "2023-11-25T00:00:00",
          "2023-11-26T00:00:00",
          "2023-11-27T00:00:00",
          "2023-11-28T00:00:00",
          "2023-11-29T00:00:00",
          "2023-11-30T00:00:00"
         ],
         "xaxis": "x",
         "y": [
          987,
          744,
          707,
          690,
          738,
          487,
          621,
          597,
          544,
          507,
          578,
          691,
          707,
          715,
          842,
          651,
          654,
          547,
          674,
          707,
          854,
          1023,
          974,
          830,
          905,
          1046,
          1088,
          1055,
          971,
          838
         ],
         "yaxis": "y"
        },
        {
         "mode": "lines",
         "name": "CPI",
         "type": "scatter",
         "x": [
          "2023-11-01T00:00:00",
          "2023-11-02T00:00:00",
          "2023-11-03T00:00:00",
          "2023-11-04T00:00:00",
          "2023-11-05T00:00:00",
          "2023-11-06T00:00:00",
          "2023-11-07T00:00:00",
          "2023-11-08T00:00:00",
          "2023-11-09T00:00:00",
          "2023-11-10T00:00:00",
          "2023-11-11T00:00:00",
          "2023-11-12T00:00:00",
          "2023-11-13T00:00:00",
          "2023-11-14T00:00:00",
          "2023-11-15T00:00:00",
          "2023-11-16T00:00:00",
          "2023-11-17T00:00:00",
          "2023-11-18T00:00:00",
          "2023-11-19T00:00:00",
          "2023-11-20T00:00:00",
          "2023-11-21T00:00:00",
          "2023-11-22T00:00:00",
          "2023-11-23T00:00:00",
          "2023-11-24T00:00:00",
          "2023-11-25T00:00:00",
          "2023-11-26T00:00:00",
          "2023-11-27T00:00:00",
          "2023-11-28T00:00:00",
          "2023-11-29T00:00:00",
          "2023-11-30T00:00:00"
         ],
         "xaxis": "x2",
         "y": [
          1.44,
          1.76,
          1.82,
          1.92,
          1.89,
          1.97,
          1.53,
          1.64,
          1.47,
          1.53,
          1.54,
          1.58,
          1.43,
          1.42,
          1.34,
          1.4,
          1.42,
          1.52,
          1.31,
          1.6,
          1.78,
          1.68,
          1.56,
          1.6,
          1.48,
          1.63,
          1.64,
          1.64,
          1.55,
          1.59
         ],
         "yaxis": "y2"
        },
        {
         "mode": "lines",
         "name": "Install to Conversion Rate",
         "type": "scatter",
         "x": [
          "2023-11-01T00:00:00",
          "2023-11-02T00:00:00",
          "2023-11-03T00:00:00",
          "2023-11-04T00:00:00",
          "2023-11-05T00:00:00",
          "2023-11-06T00:00:00",
          "2023-11-07T00:00:00",
          "2023-11-08T00:00:00",
          "2023-11-09T00:00:00",
          "2023-11-10T00:00:00",
          "2023-11-11T00:00:00",
          "2023-11-12T00:00:00",
          "2023-11-13T00:00:00",
          "2023-11-14T00:00:00",
          "2023-11-15T00:00:00",
          "2023-11-16T00:00:00",
          "2023-11-17T00:00:00",
          "2023-11-18T00:00:00",
          "2023-11-19T00:00:00",
          "2023-11-20T00:00:00",
          "2023-11-21T00:00:00",
          "2023-11-22T00:00:00",
          "2023-11-23T00:00:00",
          "2023-11-24T00:00:00",
          "2023-11-25T00:00:00",
          "2023-11-26T00:00:00",
          "2023-11-27T00:00:00",
          "2023-11-28T00:00:00",
          "2023-11-29T00:00:00",
          "2023-11-30T00:00:00"
         ],
         "xaxis": "x3",
         "y": [
          12.06,
          12.1,
          12.02,
          11.45,
          13.55,
          13.55,
          13.69,
          14.57,
          13.05,
          13.02,
          16.26,
          12.59,
          14.71,
          11.89,
          11.52,
          14.29,
          14.22,
          9.69,
          10.98,
          15.28,
          13.23,
          13.1,
          11.5,
          15.18,
          16.13,
          17.78,
          15.99,
          14.12,
          15.24,
          15.04
         ],
         "yaxis": "y3"
        },
        {
         "name": "Profit",
         "type": "bar",
         "x": [
          "2023-11-01T00:00:00",
          "2023-11-02T00:00:00",
          "2023-11-03T00:00:00",
          "2023-11-04T00:00:00",
          "2023-11-05T00:00:00",
          "2023-11-06T00:00:00",
          "2023-11-07T00:00:00",
          "2023-11-08T00:00:00",
          "2023-11-09T00:00:00",
          "2023-11-10T00:00:00",
          "2023-11-11T00:00:00",
          "2023-11-12T00:00:00",
          "2023-11-13T00:00:00",
          "2023-11-14T00:00:00",
          "2023-11-15T00:00:00",
          "2023-11-16T00:00:00",
          "2023-11-17T00:00:00",
          "2023-11-18T00:00:00",
          "2023-11-19T00:00:00",
          "2023-11-20T00:00:00",
          "2023-11-21T00:00:00",
          "2023-11-22T00:00:00",
          "2023-11-23T00:00:00",
          "2023-11-24T00:00:00",
          "2023-11-25T00:00:00",
          "2023-11-26T00:00:00",
          "2023-11-27T00:00:00",
          "2023-11-28T00:00:00",
          "2023-11-29T00:00:00",
          "2023-11-30T00:00:00"
         ],
         "xaxis": "x4",
         "y": [
          2367.54,
          1634.91,
          1418.33,
          1322.5,
          1744.56,
          1347.99,
          1871.49,
          1628.88,
          1540.35,
          1267.02,
          1209.01,
          1719.04,
          2395.3,
          1531.97,
          1710.63,
          1731.15,
          1575.14,
          246.38,
          1674.22,
          2193.5,
          1700.45,
          2258.75,
          1843.17,
          1911.18,
          1948.73,
          2425.66,
          1998.25,
          1802.46,
          1779.83,
          1655.96
         ],
         "yaxis": "y4"
        }
       ],
       "layout": {
        "annotations": [
         {
          "align": "center",
          "font": {
           "color": "red",
           "size": 12
          },
          "showarrow": false,
          "text": "Black Friday",
          "x": "2023-11-24T00:00:00",
          "xref": "x",
          "y": 1,
          "yref": "paper"
         }
        ],
        "height": 900,
        "shapes": [
         {
          "line": {
           "color": "red",
           "dash": "dash",
           "width": 2
          },
          "type": "line",
          "x0": "2023-11-24T00:00:00",
          "x1": "2023-11-24T00:00:00",
          "xref": "x",
          "y0": 0,
          "y1": 1,
          "yref": "paper"
         }
        ],
        "showlegend": false,
        "template": {
         "data": {
          "bar": [
           {
            "error_x": {
             "color": "#2a3f5f"
            },
            "error_y": {
             "color": "#2a3f5f"
            },
            "marker": {
             "line": {
              "color": "#E5ECF6",
              "width": 0.5
             },
             "pattern": {
              "fillmode": "overlay",
              "size": 10,
              "solidity": 0.2
             }
            },
            "type": "bar"
           }
          ],
          "barpolar": [
           {
            "marker": {
             "line": {
              "color": "#E5ECF6",
              "width": 0.5
             },
             "pattern": {
              "fillmode": "overlay",
              "size": 10,
              "solidity": 0.2
             }
            },
            "type": "barpolar"
           }
          ],
          "carpet": [
           {
            "aaxis": {
             "endlinecolor": "#2a3f5f",
             "gridcolor": "white",
             "linecolor": "white",
             "minorgridcolor": "white",
             "startlinecolor": "#2a3f5f"
            },
            "baxis": {
             "endlinecolor": "#2a3f5f",
             "gridcolor": "white",
             "linecolor": "white",
             "minorgridcolor": "white",
             "startlinecolor": "#2a3f5f"
            },
            "type": "carpet"
           }
          ],
          "choropleth": [
           {
            "colorbar": {
             "outlinewidth": 0,
             "ticks": ""
            },
            "type": "choropleth"
           }
          ],
          "contour": [
           {
            "colorbar": {
             "outlinewidth": 0,
             "ticks": ""
            },
            "colorscale": [
             [
              0,
              "#0d0887"
             ],
             [
              0.1111111111111111,
              "#46039f"
             ],
             [
              0.2222222222222222,
              "#7201a8"
             ],
             [
              0.3333333333333333,
              "#9c179e"
             ],
             [
              0.4444444444444444,
              "#bd3786"
             ],
             [
              0.5555555555555556,
              "#d8576b"
             ],
             [
              0.6666666666666666,
              "#ed7953"
             ],
             [
              0.7777777777777778,
              "#fb9f3a"
             ],
             [
              0.8888888888888888,
              "#fdca26"
             ],
             [
              1,
              "#f0f921"
             ]
            ],
            "type": "contour"
           }
          ],
          "contourcarpet": [
           {
            "colorbar": {
             "outlinewidth": 0,
             "ticks": ""
            },
            "type": "contourcarpet"
           }
          ],
          "heatmap": [
           {
            "colorbar": {
             "outlinewidth": 0,
             "ticks": ""
            },
            "colorscale": [
             [
              0,
              "#0d0887"
             ],
             [
              0.1111111111111111,
              "#46039f"
             ],
             [
              0.2222222222222222,
              "#7201a8"
             ],
             [
              0.3333333333333333,
              "#9c179e"
             ],
             [
              0.4444444444444444,
              "#bd3786"
             ],
             [
              0.5555555555555556,
              "#d8576b"
             ],
             [
              0.6666666666666666,
              "#ed7953"
             ],
             [
              0.7777777777777778,
              "#fb9f3a"
             ],
             [
              0.8888888888888888,
              "#fdca26"
             ],
             [
              1,
              "#f0f921"
             ]
            ],
            "type": "heatmap"
           }
          ],
          "heatmapgl": [
           {
            "colorbar": {
             "outlinewidth": 0,
             "ticks": ""
            },
            "colorscale": [
             [
              0,
              "#0d0887"
             ],
             [
              0.1111111111111111,
              "#46039f"
             ],
             [
              0.2222222222222222,
              "#7201a8"
             ],
             [
              0.3333333333333333,
              "#9c179e"
             ],
             [
              0.4444444444444444,
              "#bd3786"
             ],
             [
              0.5555555555555556,
              "#d8576b"
             ],
             [
              0.6666666666666666,
              "#ed7953"
             ],
             [
              0.7777777777777778,
              "#fb9f3a"
             ],
             [
              0.8888888888888888,
              "#fdca26"
             ],
             [
              1,
              "#f0f921"
             ]
            ],
            "type": "heatmapgl"
           }
          ],
          "histogram": [
           {
            "marker": {
             "pattern": {
              "fillmode": "overlay",
              "size": 10,
              "solidity": 0.2
             }
            },
            "type": "histogram"
           }
          ],
          "histogram2d": [
           {
            "colorbar": {
             "outlinewidth": 0,
             "ticks": ""
            },
            "colorscale": [
             [
              0,
              "#0d0887"
             ],
             [
              0.1111111111111111,
              "#46039f"
             ],
             [
              0.2222222222222222,
              "#7201a8"
             ],
             [
              0.3333333333333333,
              "#9c179e"
             ],
             [
              0.4444444444444444,
              "#bd3786"
             ],
             [
              0.5555555555555556,
              "#d8576b"
             ],
             [
              0.6666666666666666,
              "#ed7953"
             ],
             [
              0.7777777777777778,
              "#fb9f3a"
             ],
             [
              0.8888888888888888,
              "#fdca26"
             ],
             [
              1,
              "#f0f921"
             ]
            ],
            "type": "histogram2d"
           }
          ],
          "histogram2dcontour": [
           {
            "colorbar": {
             "outlinewidth": 0,
             "ticks": ""
            },
            "colorscale": [
             [
              0,
              "#0d0887"
             ],
             [
              0.1111111111111111,
              "#46039f"
             ],
             [
              0.2222222222222222,
              "#7201a8"
             ],
             [
              0.3333333333333333,
              "#9c179e"
             ],
             [
              0.4444444444444444,
              "#bd3786"
             ],
             [
              0.5555555555555556,
              "#d8576b"
             ],
             [
              0.6666666666666666,
              "#ed7953"
             ],
             [
              0.7777777777777778,
              "#fb9f3a"
             ],
             [
              0.8888888888888888,
              "#fdca26"
             ],
             [
              1,
              "#f0f921"
             ]
            ],
            "type": "histogram2dcontour"
           }
          ],
          "mesh3d": [
           {
            "colorbar": {
             "outlinewidth": 0,
             "ticks": ""
            },
            "type": "mesh3d"
           }
          ],
          "parcoords": [
           {
            "line": {
             "colorbar": {
              "outlinewidth": 0,
              "ticks": ""
             }
            },
            "type": "parcoords"
           }
          ],
          "pie": [
           {
            "automargin": true,
            "type": "pie"
           }
          ],
          "scatter": [
           {
            "fillpattern": {
             "fillmode": "overlay",
             "size": 10,
             "solidity": 0.2
            },
            "type": "scatter"
           }
          ],
          "scatter3d": [
           {
            "line": {
             "colorbar": {
              "outlinewidth": 0,
              "ticks": ""
             }
            },
            "marker": {
             "colorbar": {
              "outlinewidth": 0,
              "ticks": ""
             }
            },
            "type": "scatter3d"
           }
          ],
          "scattercarpet": [
           {
            "marker": {
             "colorbar": {
              "outlinewidth": 0,
              "ticks": ""
             }
            },
            "type": "scattercarpet"
           }
          ],
          "scattergeo": [
           {
            "marker": {
             "colorbar": {
              "outlinewidth": 0,
              "ticks": ""
             }
            },
            "type": "scattergeo"
           }
          ],
          "scattergl": [
           {
            "marker": {
             "colorbar": {
              "outlinewidth": 0,
              "ticks": ""
             }
            },
            "type": "scattergl"
           }
          ],
          "scattermapbox": [
           {
            "marker": {
             "colorbar": {
              "outlinewidth": 0,
              "ticks": ""
             }
            },
            "type": "scattermapbox"
           }
          ],
          "scatterpolar": [
           {
            "marker": {
             "colorbar": {
              "outlinewidth": 0,
              "ticks": ""
             }
            },
            "type": "scatterpolar"
           }
          ],
          "scatterpolargl": [
           {
            "marker": {
             "colorbar": {
              "outlinewidth": 0,
              "ticks": ""
             }
            },
            "type": "scatterpolargl"
           }
          ],
          "scatterternary": [
           {
            "marker": {
             "colorbar": {
              "outlinewidth": 0,
              "ticks": ""
             }
            },
            "type": "scatterternary"
           }
          ],
          "surface": [
           {
            "colorbar": {
             "outlinewidth": 0,
             "ticks": ""
            },
            "colorscale": [
             [
              0,
              "#0d0887"
             ],
             [
              0.1111111111111111,
              "#46039f"
             ],
             [
              0.2222222222222222,
              "#7201a8"
             ],
             [
              0.3333333333333333,
              "#9c179e"
             ],
             [
              0.4444444444444444,
              "#bd3786"
             ],
             [
              0.5555555555555556,
              "#d8576b"
             ],
             [
              0.6666666666666666,
              "#ed7953"
             ],
             [
              0.7777777777777778,
              "#fb9f3a"
             ],
             [
              0.8888888888888888,
              "#fdca26"
             ],
             [
              1,
              "#f0f921"
             ]
            ],
            "type": "surface"
           }
          ],
          "table": [
           {
            "cells": {
             "fill": {
              "color": "#EBF0F8"
             },
             "line": {
              "color": "white"
             }
            },
            "header": {
             "fill": {
              "color": "#C8D4E3"
             },
             "line": {
              "color": "white"
             }
            },
            "type": "table"
           }
          ]
         },
         "layout": {
          "annotationdefaults": {
           "arrowcolor": "#2a3f5f",
           "arrowhead": 0,
           "arrowwidth": 1
          },
          "autotypenumbers": "strict",
          "coloraxis": {
           "colorbar": {
            "outlinewidth": 0,
            "ticks": ""
           }
          },
          "colorscale": {
           "diverging": [
            [
             0,
             "#8e0152"
            ],
            [
             0.1,
             "#c51b7d"
            ],
            [
             0.2,
             "#de77ae"
            ],
            [
             0.3,
             "#f1b6da"
            ],
            [
             0.4,
             "#fde0ef"
            ],
            [
             0.5,
             "#f7f7f7"
            ],
            [
             0.6,
             "#e6f5d0"
            ],
            [
             0.7,
             "#b8e186"
            ],
            [
             0.8,
             "#7fbc41"
            ],
            [
             0.9,
             "#4d9221"
            ],
            [
             1,
             "#276419"
            ]
           ],
           "sequential": [
            [
             0,
             "#0d0887"
            ],
            [
             0.1111111111111111,
             "#46039f"
            ],
            [
             0.2222222222222222,
             "#7201a8"
            ],
            [
             0.3333333333333333,
             "#9c179e"
            ],
            [
             0.4444444444444444,
             "#bd3786"
            ],
            [
             0.5555555555555556,
             "#d8576b"
            ],
            [
             0.6666666666666666,
             "#ed7953"
            ],
            [
             0.7777777777777778,
             "#fb9f3a"
            ],
            [
             0.8888888888888888,
             "#fdca26"
            ],
            [
             1,
             "#f0f921"
            ]
           ],
           "sequentialminus": [
            [
             0,
             "#0d0887"
            ],
            [
             0.1111111111111111,
             "#46039f"
            ],
            [
             0.2222222222222222,
             "#7201a8"
            ],
            [
             0.3333333333333333,
             "#9c179e"
            ],
            [
             0.4444444444444444,
             "#bd3786"
            ],
            [
             0.5555555555555556,
             "#d8576b"
            ],
            [
             0.6666666666666666,
             "#ed7953"
            ],
            [
             0.7777777777777778,
             "#fb9f3a"
            ],
            [
             0.8888888888888888,
             "#fdca26"
            ],
            [
             1,
             "#f0f921"
            ]
           ]
          },
          "colorway": [
           "#636efa",
           "#EF553B",
           "#00cc96",
           "#ab63fa",
           "#FFA15A",
           "#19d3f3",
           "#FF6692",
           "#B6E880",
           "#FF97FF",
           "#FECB52"
          ],
          "font": {
           "color": "#2a3f5f"
          },
          "geo": {
           "bgcolor": "white",
           "lakecolor": "white",
           "landcolor": "#E5ECF6",
           "showlakes": true,
           "showland": true,
           "subunitcolor": "white"
          },
          "hoverlabel": {
           "align": "left"
          },
          "hovermode": "closest",
          "mapbox": {
           "style": "light"
          },
          "paper_bgcolor": "white",
          "plot_bgcolor": "#E5ECF6",
          "polar": {
           "angularaxis": {
            "gridcolor": "white",
            "linecolor": "white",
            "ticks": ""
           },
           "bgcolor": "#E5ECF6",
           "radialaxis": {
            "gridcolor": "white",
            "linecolor": "white",
            "ticks": ""
           }
          },
          "scene": {
           "xaxis": {
            "backgroundcolor": "#E5ECF6",
            "gridcolor": "white",
            "gridwidth": 2,
            "linecolor": "white",
            "showbackground": true,
            "ticks": "",
            "zerolinecolor": "white"
           },
           "yaxis": {
            "backgroundcolor": "#E5ECF6",
            "gridcolor": "white",
            "gridwidth": 2,
            "linecolor": "white",
            "showbackground": true,
            "ticks": "",
            "zerolinecolor": "white"
           },
           "zaxis": {
            "backgroundcolor": "#E5ECF6",
            "gridcolor": "white",
            "gridwidth": 2,
            "linecolor": "white",
            "showbackground": true,
            "ticks": "",
            "zerolinecolor": "white"
           }
          },
          "shapedefaults": {
           "line": {
            "color": "#2a3f5f"
           }
          },
          "ternary": {
           "aaxis": {
            "gridcolor": "white",
            "linecolor": "white",
            "ticks": ""
           },
           "baxis": {
            "gridcolor": "white",
            "linecolor": "white",
            "ticks": ""
           },
           "bgcolor": "#E5ECF6",
           "caxis": {
            "gridcolor": "white",
            "linecolor": "white",
            "ticks": ""
           }
          },
          "title": {
           "x": 0.05
          },
          "xaxis": {
           "automargin": true,
           "gridcolor": "white",
           "linecolor": "white",
           "ticks": "",
           "title": {
            "standoff": 15
           },
           "zerolinecolor": "white",
           "zerolinewidth": 2
          },
          "yaxis": {
           "automargin": true,
           "gridcolor": "white",
           "linecolor": "white",
           "ticks": "",
           "title": {
            "standoff": 15
           },
           "zerolinecolor": "white",
           "zerolinewidth": 2
          }
         }
        },
        "title": {
         "text": "Metrics Over Time - Germany - Channel C"
        },
        "xaxis": {
         "anchor": "y",
         "domain": [
          0,
          1
         ],
         "matches": "x4",
         "showticklabels": false
        },
        "xaxis2": {
         "anchor": "y2",
         "domain": [
          0,
          1
         ],
         "matches": "x4",
         "showticklabels": false
        },
        "xaxis3": {
         "anchor": "y3",
         "domain": [
          0,
          1
         ],
         "matches": "x4",
         "showticklabels": false
        },
        "xaxis4": {
         "anchor": "y4",
         "domain": [
          0,
          1
         ],
         "title": {
          "text": "Date"
         }
        },
        "yaxis": {
         "anchor": "x",
         "domain": [
          0.7875,
          1
         ],
         "title": {
          "text": "App Installs"
         }
        },
        "yaxis2": {
         "anchor": "x2",
         "domain": [
          0.525,
          0.7375
         ],
         "range": [
          0,
          null
         ],
         "title": {
          "text": "CPI (Euro)"
         }
        },
        "yaxis3": {
         "anchor": "x3",
         "domain": [
          0.2625,
          0.475
         ],
         "range": [
          0,
          null
         ],
         "title": {
          "text": "Install to Conversion Rate (%)"
         }
        },
        "yaxis4": {
         "anchor": "x4",
         "domain": [
          0,
          0.2125
         ],
         "title": {
          "text": "Profit (Euro)"
         }
        }
       }
      }
     },
     "metadata": {},
     "output_type": "display_data"
    }
   ],
   "source": [
    "### PREPARE THE DATA ###\n",
    "\n",
    "# Aggregate the data\n",
    "agg_df = df[df.marketing_channel == \"Channel C\"].groupby(['country','date']).sum(numeric_only=True)\n",
    "\n",
    "#Calculate the metrics\n",
    "df_metrics = calculate_metrics(agg_df).reset_index()\n",
    "\n",
    "# Create the object\n",
    "df_main_over_time = df_metrics.copy()\n",
    "\n",
    "\n",
    "# Filter the country\n",
    "df_filtered_plot = df_main_over_time[df_main_over_time.country==\"DE\"].copy()\n",
    "\n",
    "# Ensure the 'date' column in the DataFrame is in datetime format\n",
    "df_filtered_plot['date'] = pd.to_datetime(df_filtered_plot['date'])\n",
    "\n",
    "### PLOT ###\n",
    "\n",
    "# Create a subplot figure with 4 rows, 1 column\n",
    "fig = make_subplots(\n",
    "    rows=4, cols=1,\n",
    "    shared_xaxes=True,  # Align x-axes\n",
    "    vertical_spacing=0.05  # Adjust spacing between plots\n",
    ")\n",
    "\n",
    "# Add traces for each metric\n",
    "metrics = ['app_installs', 'cpi', 'install_to_conversion_rate', 'profit']\n",
    "titles = [\n",
    "    'App Installs',\n",
    "    'Cost Per Install (CPI)',\n",
    "    'Install to Conversion Rate (%)',\n",
    "    'Profit (Euro)'\n",
    "]\n",
    "\n",
    "# Plot App Installs (Row 1)\n",
    "fig.add_trace(\n",
    "    go.Scatter(x=df_filtered_plot['date'], y=df_filtered_plot['app_installs'], mode='lines', name='App Installs'),\n",
    "    row=1, col=1\n",
    ")\n",
    "\n",
    "# Plot CPI (Row 2) with y-axis starting at 0\n",
    "fig.add_trace(\n",
    "    go.Scatter(x=df_filtered_plot['date'], y=df_filtered_plot['cpi'], mode='lines', name='CPI'),\n",
    "    row=2, col=1\n",
    ")\n",
    "fig.update_yaxes(range=[0, None], row=2, col=1)\n",
    "\n",
    "# Plot Install to Conversion Rate (Row 3) with y-axis starting at 0\n",
    "fig.add_trace(\n",
    "    go.Scatter(x=df_filtered_plot['date'], y=df_filtered_plot['install_to_conversion_rate'], mode='lines', name='Install to Conversion Rate'),\n",
    "    row=3, col=1\n",
    ")\n",
    "fig.update_yaxes(range=[0, None], row=3, col=1)\n",
    "\n",
    "# Plot Profit (Row 4) as a bar chart\n",
    "fig.add_trace(\n",
    "    go.Bar(x=df_filtered_plot['date'], y=df_filtered_plot['profit'], name='Profit'),\n",
    "    row=4, col=1\n",
    ")\n",
    "\n",
    "# Add a vertical line and text annotation for Black Friday\n",
    "black_friday_date = datetime(2023, 11, 24)  # Use a raw datetime object\n",
    "\n",
    "# Add a shape for the vertical line\n",
    "fig.add_shape(\n",
    "    type=\"line\",\n",
    "    x0=black_friday_date, x1=black_friday_date,\n",
    "    y0=0, y1=1,  # Relative to the y-axis (scaled by domain)\n",
    "    xref=\"x\", yref=\"paper\",  # 'paper' ensures it spans all plots\n",
    "    line=dict(color=\"red\", width=2, dash=\"dash\")\n",
    ")\n",
    "\n",
    "# Add a text annotation\n",
    "fig.add_annotation(\n",
    "    x=black_friday_date,\n",
    "    y=1,  # Place it at the top of the plot area\n",
    "    text=\"Black Friday\",\n",
    "    showarrow=False,\n",
    "    xref=\"x\", yref=\"paper\",\n",
    "    font=dict(size=12, color=\"red\"),\n",
    "    align=\"center\"\n",
    ")\n",
    "\n",
    "# Update layout for better appearance\n",
    "fig.update_layout(\n",
    "    height=900,  # Adjust height\n",
    "    title_text=\"Metrics Over Time - Germany - Channel C\",\n",
    "    showlegend=False,  # Hide legend for clarity\n",
    ")\n",
    "\n",
    "# Update individual axes titles\n",
    "fig.update_yaxes(title_text=\"App Installs\", row=1, col=1)\n",
    "fig.update_yaxes(title_text=\"CPI (Euro)\", row=2, col=1)\n",
    "fig.update_yaxes(title_text=\"Install to Conversion Rate (%)\", row=3, col=1)\n",
    "fig.update_yaxes(title_text=\"Profit (Euro)\", row=4, col=1)\n",
    "fig.update_xaxes(title_text=\"Date\", row=4, col=1)\n",
    "\n",
    "# Show the plot\n",
    "fig.show()\n"
   ]
  },
  {
   "cell_type": "markdown",
   "id": "ca5652e6",
   "metadata": {},
   "source": [
    "### United States"
   ]
  },
  {
   "cell_type": "code",
   "execution_count": 22,
   "id": "832bdbad",
   "metadata": {},
   "outputs": [
    {
     "data": {
      "application/vnd.plotly.v1+json": {
       "config": {
        "plotlyServerURL": "https://plot.ly"
       },
       "data": [
        {
         "mode": "lines",
         "name": "App Installs",
         "type": "scatter",
         "x": [
          "2023-11-01T00:00:00",
          "2023-11-02T00:00:00",
          "2023-11-03T00:00:00",
          "2023-11-04T00:00:00",
          "2023-11-05T00:00:00",
          "2023-11-06T00:00:00",
          "2023-11-07T00:00:00",
          "2023-11-08T00:00:00",
          "2023-11-09T00:00:00",
          "2023-11-10T00:00:00",
          "2023-11-11T00:00:00",
          "2023-11-12T00:00:00",
          "2023-11-13T00:00:00",
          "2023-11-14T00:00:00",
          "2023-11-15T00:00:00",
          "2023-11-16T00:00:00",
          "2023-11-17T00:00:00",
          "2023-11-18T00:00:00",
          "2023-11-19T00:00:00",
          "2023-11-20T00:00:00",
          "2023-11-21T00:00:00",
          "2023-11-22T00:00:00",
          "2023-11-23T00:00:00",
          "2023-11-24T00:00:00",
          "2023-11-25T00:00:00",
          "2023-11-26T00:00:00",
          "2023-11-27T00:00:00",
          "2023-11-28T00:00:00",
          "2023-11-29T00:00:00",
          "2023-11-30T00:00:00"
         ],
         "xaxis": "x",
         "y": [
          139,
          113,
          110,
          104,
          134,
          174,
          160,
          163,
          138,
          110,
          126,
          141,
          157,
          136,
          137,
          137,
          87,
          101,
          112,
          130,
          96,
          105,
          66,
          92,
          95,
          103,
          115,
          103,
          90,
          116
         ],
         "yaxis": "y"
        },
        {
         "mode": "lines",
         "name": "CPI",
         "type": "scatter",
         "x": [
          "2023-11-01T00:00:00",
          "2023-11-02T00:00:00",
          "2023-11-03T00:00:00",
          "2023-11-04T00:00:00",
          "2023-11-05T00:00:00",
          "2023-11-06T00:00:00",
          "2023-11-07T00:00:00",
          "2023-11-08T00:00:00",
          "2023-11-09T00:00:00",
          "2023-11-10T00:00:00",
          "2023-11-11T00:00:00",
          "2023-11-12T00:00:00",
          "2023-11-13T00:00:00",
          "2023-11-14T00:00:00",
          "2023-11-15T00:00:00",
          "2023-11-16T00:00:00",
          "2023-11-17T00:00:00",
          "2023-11-18T00:00:00",
          "2023-11-19T00:00:00",
          "2023-11-20T00:00:00",
          "2023-11-21T00:00:00",
          "2023-11-22T00:00:00",
          "2023-11-23T00:00:00",
          "2023-11-24T00:00:00",
          "2023-11-25T00:00:00",
          "2023-11-26T00:00:00",
          "2023-11-27T00:00:00",
          "2023-11-28T00:00:00",
          "2023-11-29T00:00:00",
          "2023-11-30T00:00:00"
         ],
         "xaxis": "x2",
         "y": [
          3.22,
          4.47,
          4.42,
          4.21,
          3.78,
          3.59,
          3.54,
          3.37,
          4,
          5.12,
          4.43,
          3.71,
          4.16,
          4.24,
          4.05,
          3.8,
          5.25,
          4.32,
          3.82,
          4,
          4.72,
          4.38,
          6,
          4.99,
          4.79,
          4.5,
          4.07,
          4.76,
          4.77,
          3.99
         ],
         "yaxis": "y2"
        },
        {
         "mode": "lines",
         "name": "Install to Conversion Rate",
         "type": "scatter",
         "x": [
          "2023-11-01T00:00:00",
          "2023-11-02T00:00:00",
          "2023-11-03T00:00:00",
          "2023-11-04T00:00:00",
          "2023-11-05T00:00:00",
          "2023-11-06T00:00:00",
          "2023-11-07T00:00:00",
          "2023-11-08T00:00:00",
          "2023-11-09T00:00:00",
          "2023-11-10T00:00:00",
          "2023-11-11T00:00:00",
          "2023-11-12T00:00:00",
          "2023-11-13T00:00:00",
          "2023-11-14T00:00:00",
          "2023-11-15T00:00:00",
          "2023-11-16T00:00:00",
          "2023-11-17T00:00:00",
          "2023-11-18T00:00:00",
          "2023-11-19T00:00:00",
          "2023-11-20T00:00:00",
          "2023-11-21T00:00:00",
          "2023-11-22T00:00:00",
          "2023-11-23T00:00:00",
          "2023-11-24T00:00:00",
          "2023-11-25T00:00:00",
          "2023-11-26T00:00:00",
          "2023-11-27T00:00:00",
          "2023-11-28T00:00:00",
          "2023-11-29T00:00:00",
          "2023-11-30T00:00:00"
         ],
         "xaxis": "x3",
         "y": [
          8.63,
          12.39,
          10,
          8.65,
          15.67,
          15.52,
          9.38,
          8.59,
          10.87,
          7.27,
          11.11,
          4.96,
          12.1,
          11.03,
          11.68,
          10.22,
          10.34,
          7.92,
          9.82,
          13.85,
          9.38,
          4.76,
          6.06,
          11.96,
          12.63,
          14.56,
          8.7,
          9.71,
          10,
          14.66
         ],
         "yaxis": "y3"
        },
        {
         "name": "Profit",
         "type": "bar",
         "x": [
          "2023-11-01T00:00:00",
          "2023-11-02T00:00:00",
          "2023-11-03T00:00:00",
          "2023-11-04T00:00:00",
          "2023-11-05T00:00:00",
          "2023-11-06T00:00:00",
          "2023-11-07T00:00:00",
          "2023-11-08T00:00:00",
          "2023-11-09T00:00:00",
          "2023-11-10T00:00:00",
          "2023-11-11T00:00:00",
          "2023-11-12T00:00:00",
          "2023-11-13T00:00:00",
          "2023-11-14T00:00:00",
          "2023-11-15T00:00:00",
          "2023-11-16T00:00:00",
          "2023-11-17T00:00:00",
          "2023-11-18T00:00:00",
          "2023-11-19T00:00:00",
          "2023-11-20T00:00:00",
          "2023-11-21T00:00:00",
          "2023-11-22T00:00:00",
          "2023-11-23T00:00:00",
          "2023-11-24T00:00:00",
          "2023-11-25T00:00:00",
          "2023-11-26T00:00:00",
          "2023-11-27T00:00:00",
          "2023-11-28T00:00:00",
          "2023-11-29T00:00:00",
          "2023-11-30T00:00:00"
         ],
         "xaxis": "x4",
         "y": [
          -37.41,
          -165.07,
          -167.11,
          -204.8,
          70.97,
          133.54,
          -152.17,
          -217.58,
          -201.94,
          -413.33,
          -286.81,
          -345.95,
          -204.41,
          -192.94,
          -105.58,
          -188.63,
          -272.87,
          -207.53,
          -171.49,
          -81.39,
          -243.2,
          -349.54,
          -279.11,
          -214.69,
          -190.16,
          -182.55,
          -239.22,
          -271.73,
          -166.12,
          -126.52
         ],
         "yaxis": "y4"
        }
       ],
       "layout": {
        "annotations": [
         {
          "align": "center",
          "font": {
           "color": "red",
           "size": 12
          },
          "showarrow": false,
          "text": "Black Friday",
          "x": "2023-11-24T00:00:00",
          "xref": "x",
          "y": 1,
          "yref": "paper"
         }
        ],
        "height": 900,
        "shapes": [
         {
          "line": {
           "color": "red",
           "dash": "dash",
           "width": 2
          },
          "type": "line",
          "x0": "2023-11-24T00:00:00",
          "x1": "2023-11-24T00:00:00",
          "xref": "x",
          "y0": 0,
          "y1": 1,
          "yref": "paper"
         }
        ],
        "showlegend": false,
        "template": {
         "data": {
          "bar": [
           {
            "error_x": {
             "color": "#2a3f5f"
            },
            "error_y": {
             "color": "#2a3f5f"
            },
            "marker": {
             "line": {
              "color": "#E5ECF6",
              "width": 0.5
             },
             "pattern": {
              "fillmode": "overlay",
              "size": 10,
              "solidity": 0.2
             }
            },
            "type": "bar"
           }
          ],
          "barpolar": [
           {
            "marker": {
             "line": {
              "color": "#E5ECF6",
              "width": 0.5
             },
             "pattern": {
              "fillmode": "overlay",
              "size": 10,
              "solidity": 0.2
             }
            },
            "type": "barpolar"
           }
          ],
          "carpet": [
           {
            "aaxis": {
             "endlinecolor": "#2a3f5f",
             "gridcolor": "white",
             "linecolor": "white",
             "minorgridcolor": "white",
             "startlinecolor": "#2a3f5f"
            },
            "baxis": {
             "endlinecolor": "#2a3f5f",
             "gridcolor": "white",
             "linecolor": "white",
             "minorgridcolor": "white",
             "startlinecolor": "#2a3f5f"
            },
            "type": "carpet"
           }
          ],
          "choropleth": [
           {
            "colorbar": {
             "outlinewidth": 0,
             "ticks": ""
            },
            "type": "choropleth"
           }
          ],
          "contour": [
           {
            "colorbar": {
             "outlinewidth": 0,
             "ticks": ""
            },
            "colorscale": [
             [
              0,
              "#0d0887"
             ],
             [
              0.1111111111111111,
              "#46039f"
             ],
             [
              0.2222222222222222,
              "#7201a8"
             ],
             [
              0.3333333333333333,
              "#9c179e"
             ],
             [
              0.4444444444444444,
              "#bd3786"
             ],
             [
              0.5555555555555556,
              "#d8576b"
             ],
             [
              0.6666666666666666,
              "#ed7953"
             ],
             [
              0.7777777777777778,
              "#fb9f3a"
             ],
             [
              0.8888888888888888,
              "#fdca26"
             ],
             [
              1,
              "#f0f921"
             ]
            ],
            "type": "contour"
           }
          ],
          "contourcarpet": [
           {
            "colorbar": {
             "outlinewidth": 0,
             "ticks": ""
            },
            "type": "contourcarpet"
           }
          ],
          "heatmap": [
           {
            "colorbar": {
             "outlinewidth": 0,
             "ticks": ""
            },
            "colorscale": [
             [
              0,
              "#0d0887"
             ],
             [
              0.1111111111111111,
              "#46039f"
             ],
             [
              0.2222222222222222,
              "#7201a8"
             ],
             [
              0.3333333333333333,
              "#9c179e"
             ],
             [
              0.4444444444444444,
              "#bd3786"
             ],
             [
              0.5555555555555556,
              "#d8576b"
             ],
             [
              0.6666666666666666,
              "#ed7953"
             ],
             [
              0.7777777777777778,
              "#fb9f3a"
             ],
             [
              0.8888888888888888,
              "#fdca26"
             ],
             [
              1,
              "#f0f921"
             ]
            ],
            "type": "heatmap"
           }
          ],
          "heatmapgl": [
           {
            "colorbar": {
             "outlinewidth": 0,
             "ticks": ""
            },
            "colorscale": [
             [
              0,
              "#0d0887"
             ],
             [
              0.1111111111111111,
              "#46039f"
             ],
             [
              0.2222222222222222,
              "#7201a8"
             ],
             [
              0.3333333333333333,
              "#9c179e"
             ],
             [
              0.4444444444444444,
              "#bd3786"
             ],
             [
              0.5555555555555556,
              "#d8576b"
             ],
             [
              0.6666666666666666,
              "#ed7953"
             ],
             [
              0.7777777777777778,
              "#fb9f3a"
             ],
             [
              0.8888888888888888,
              "#fdca26"
             ],
             [
              1,
              "#f0f921"
             ]
            ],
            "type": "heatmapgl"
           }
          ],
          "histogram": [
           {
            "marker": {
             "pattern": {
              "fillmode": "overlay",
              "size": 10,
              "solidity": 0.2
             }
            },
            "type": "histogram"
           }
          ],
          "histogram2d": [
           {
            "colorbar": {
             "outlinewidth": 0,
             "ticks": ""
            },
            "colorscale": [
             [
              0,
              "#0d0887"
             ],
             [
              0.1111111111111111,
              "#46039f"
             ],
             [
              0.2222222222222222,
              "#7201a8"
             ],
             [
              0.3333333333333333,
              "#9c179e"
             ],
             [
              0.4444444444444444,
              "#bd3786"
             ],
             [
              0.5555555555555556,
              "#d8576b"
             ],
             [
              0.6666666666666666,
              "#ed7953"
             ],
             [
              0.7777777777777778,
              "#fb9f3a"
             ],
             [
              0.8888888888888888,
              "#fdca26"
             ],
             [
              1,
              "#f0f921"
             ]
            ],
            "type": "histogram2d"
           }
          ],
          "histogram2dcontour": [
           {
            "colorbar": {
             "outlinewidth": 0,
             "ticks": ""
            },
            "colorscale": [
             [
              0,
              "#0d0887"
             ],
             [
              0.1111111111111111,
              "#46039f"
             ],
             [
              0.2222222222222222,
              "#7201a8"
             ],
             [
              0.3333333333333333,
              "#9c179e"
             ],
             [
              0.4444444444444444,
              "#bd3786"
             ],
             [
              0.5555555555555556,
              "#d8576b"
             ],
             [
              0.6666666666666666,
              "#ed7953"
             ],
             [
              0.7777777777777778,
              "#fb9f3a"
             ],
             [
              0.8888888888888888,
              "#fdca26"
             ],
             [
              1,
              "#f0f921"
             ]
            ],
            "type": "histogram2dcontour"
           }
          ],
          "mesh3d": [
           {
            "colorbar": {
             "outlinewidth": 0,
             "ticks": ""
            },
            "type": "mesh3d"
           }
          ],
          "parcoords": [
           {
            "line": {
             "colorbar": {
              "outlinewidth": 0,
              "ticks": ""
             }
            },
            "type": "parcoords"
           }
          ],
          "pie": [
           {
            "automargin": true,
            "type": "pie"
           }
          ],
          "scatter": [
           {
            "fillpattern": {
             "fillmode": "overlay",
             "size": 10,
             "solidity": 0.2
            },
            "type": "scatter"
           }
          ],
          "scatter3d": [
           {
            "line": {
             "colorbar": {
              "outlinewidth": 0,
              "ticks": ""
             }
            },
            "marker": {
             "colorbar": {
              "outlinewidth": 0,
              "ticks": ""
             }
            },
            "type": "scatter3d"
           }
          ],
          "scattercarpet": [
           {
            "marker": {
             "colorbar": {
              "outlinewidth": 0,
              "ticks": ""
             }
            },
            "type": "scattercarpet"
           }
          ],
          "scattergeo": [
           {
            "marker": {
             "colorbar": {
              "outlinewidth": 0,
              "ticks": ""
             }
            },
            "type": "scattergeo"
           }
          ],
          "scattergl": [
           {
            "marker": {
             "colorbar": {
              "outlinewidth": 0,
              "ticks": ""
             }
            },
            "type": "scattergl"
           }
          ],
          "scattermapbox": [
           {
            "marker": {
             "colorbar": {
              "outlinewidth": 0,
              "ticks": ""
             }
            },
            "type": "scattermapbox"
           }
          ],
          "scatterpolar": [
           {
            "marker": {
             "colorbar": {
              "outlinewidth": 0,
              "ticks": ""
             }
            },
            "type": "scatterpolar"
           }
          ],
          "scatterpolargl": [
           {
            "marker": {
             "colorbar": {
              "outlinewidth": 0,
              "ticks": ""
             }
            },
            "type": "scatterpolargl"
           }
          ],
          "scatterternary": [
           {
            "marker": {
             "colorbar": {
              "outlinewidth": 0,
              "ticks": ""
             }
            },
            "type": "scatterternary"
           }
          ],
          "surface": [
           {
            "colorbar": {
             "outlinewidth": 0,
             "ticks": ""
            },
            "colorscale": [
             [
              0,
              "#0d0887"
             ],
             [
              0.1111111111111111,
              "#46039f"
             ],
             [
              0.2222222222222222,
              "#7201a8"
             ],
             [
              0.3333333333333333,
              "#9c179e"
             ],
             [
              0.4444444444444444,
              "#bd3786"
             ],
             [
              0.5555555555555556,
              "#d8576b"
             ],
             [
              0.6666666666666666,
              "#ed7953"
             ],
             [
              0.7777777777777778,
              "#fb9f3a"
             ],
             [
              0.8888888888888888,
              "#fdca26"
             ],
             [
              1,
              "#f0f921"
             ]
            ],
            "type": "surface"
           }
          ],
          "table": [
           {
            "cells": {
             "fill": {
              "color": "#EBF0F8"
             },
             "line": {
              "color": "white"
             }
            },
            "header": {
             "fill": {
              "color": "#C8D4E3"
             },
             "line": {
              "color": "white"
             }
            },
            "type": "table"
           }
          ]
         },
         "layout": {
          "annotationdefaults": {
           "arrowcolor": "#2a3f5f",
           "arrowhead": 0,
           "arrowwidth": 1
          },
          "autotypenumbers": "strict",
          "coloraxis": {
           "colorbar": {
            "outlinewidth": 0,
            "ticks": ""
           }
          },
          "colorscale": {
           "diverging": [
            [
             0,
             "#8e0152"
            ],
            [
             0.1,
             "#c51b7d"
            ],
            [
             0.2,
             "#de77ae"
            ],
            [
             0.3,
             "#f1b6da"
            ],
            [
             0.4,
             "#fde0ef"
            ],
            [
             0.5,
             "#f7f7f7"
            ],
            [
             0.6,
             "#e6f5d0"
            ],
            [
             0.7,
             "#b8e186"
            ],
            [
             0.8,
             "#7fbc41"
            ],
            [
             0.9,
             "#4d9221"
            ],
            [
             1,
             "#276419"
            ]
           ],
           "sequential": [
            [
             0,
             "#0d0887"
            ],
            [
             0.1111111111111111,
             "#46039f"
            ],
            [
             0.2222222222222222,
             "#7201a8"
            ],
            [
             0.3333333333333333,
             "#9c179e"
            ],
            [
             0.4444444444444444,
             "#bd3786"
            ],
            [
             0.5555555555555556,
             "#d8576b"
            ],
            [
             0.6666666666666666,
             "#ed7953"
            ],
            [
             0.7777777777777778,
             "#fb9f3a"
            ],
            [
             0.8888888888888888,
             "#fdca26"
            ],
            [
             1,
             "#f0f921"
            ]
           ],
           "sequentialminus": [
            [
             0,
             "#0d0887"
            ],
            [
             0.1111111111111111,
             "#46039f"
            ],
            [
             0.2222222222222222,
             "#7201a8"
            ],
            [
             0.3333333333333333,
             "#9c179e"
            ],
            [
             0.4444444444444444,
             "#bd3786"
            ],
            [
             0.5555555555555556,
             "#d8576b"
            ],
            [
             0.6666666666666666,
             "#ed7953"
            ],
            [
             0.7777777777777778,
             "#fb9f3a"
            ],
            [
             0.8888888888888888,
             "#fdca26"
            ],
            [
             1,
             "#f0f921"
            ]
           ]
          },
          "colorway": [
           "#636efa",
           "#EF553B",
           "#00cc96",
           "#ab63fa",
           "#FFA15A",
           "#19d3f3",
           "#FF6692",
           "#B6E880",
           "#FF97FF",
           "#FECB52"
          ],
          "font": {
           "color": "#2a3f5f"
          },
          "geo": {
           "bgcolor": "white",
           "lakecolor": "white",
           "landcolor": "#E5ECF6",
           "showlakes": true,
           "showland": true,
           "subunitcolor": "white"
          },
          "hoverlabel": {
           "align": "left"
          },
          "hovermode": "closest",
          "mapbox": {
           "style": "light"
          },
          "paper_bgcolor": "white",
          "plot_bgcolor": "#E5ECF6",
          "polar": {
           "angularaxis": {
            "gridcolor": "white",
            "linecolor": "white",
            "ticks": ""
           },
           "bgcolor": "#E5ECF6",
           "radialaxis": {
            "gridcolor": "white",
            "linecolor": "white",
            "ticks": ""
           }
          },
          "scene": {
           "xaxis": {
            "backgroundcolor": "#E5ECF6",
            "gridcolor": "white",
            "gridwidth": 2,
            "linecolor": "white",
            "showbackground": true,
            "ticks": "",
            "zerolinecolor": "white"
           },
           "yaxis": {
            "backgroundcolor": "#E5ECF6",
            "gridcolor": "white",
            "gridwidth": 2,
            "linecolor": "white",
            "showbackground": true,
            "ticks": "",
            "zerolinecolor": "white"
           },
           "zaxis": {
            "backgroundcolor": "#E5ECF6",
            "gridcolor": "white",
            "gridwidth": 2,
            "linecolor": "white",
            "showbackground": true,
            "ticks": "",
            "zerolinecolor": "white"
           }
          },
          "shapedefaults": {
           "line": {
            "color": "#2a3f5f"
           }
          },
          "ternary": {
           "aaxis": {
            "gridcolor": "white",
            "linecolor": "white",
            "ticks": ""
           },
           "baxis": {
            "gridcolor": "white",
            "linecolor": "white",
            "ticks": ""
           },
           "bgcolor": "#E5ECF6",
           "caxis": {
            "gridcolor": "white",
            "linecolor": "white",
            "ticks": ""
           }
          },
          "title": {
           "x": 0.05
          },
          "xaxis": {
           "automargin": true,
           "gridcolor": "white",
           "linecolor": "white",
           "ticks": "",
           "title": {
            "standoff": 15
           },
           "zerolinecolor": "white",
           "zerolinewidth": 2
          },
          "yaxis": {
           "automargin": true,
           "gridcolor": "white",
           "linecolor": "white",
           "ticks": "",
           "title": {
            "standoff": 15
           },
           "zerolinecolor": "white",
           "zerolinewidth": 2
          }
         }
        },
        "title": {
         "text": "Metrics Over Time - United States"
        },
        "xaxis": {
         "anchor": "y",
         "domain": [
          0,
          1
         ],
         "matches": "x4",
         "showticklabels": false
        },
        "xaxis2": {
         "anchor": "y2",
         "domain": [
          0,
          1
         ],
         "matches": "x4",
         "showticklabels": false
        },
        "xaxis3": {
         "anchor": "y3",
         "domain": [
          0,
          1
         ],
         "matches": "x4",
         "showticklabels": false
        },
        "xaxis4": {
         "anchor": "y4",
         "domain": [
          0,
          1
         ],
         "title": {
          "text": "Date"
         }
        },
        "yaxis": {
         "anchor": "x",
         "domain": [
          0.7875,
          1
         ],
         "title": {
          "text": "App Installs"
         }
        },
        "yaxis2": {
         "anchor": "x2",
         "domain": [
          0.525,
          0.7375
         ],
         "range": [
          0,
          null
         ],
         "title": {
          "text": "CPI (Euro)"
         }
        },
        "yaxis3": {
         "anchor": "x3",
         "domain": [
          0.2625,
          0.475
         ],
         "range": [
          0,
          null
         ],
         "title": {
          "text": "Install to Conversion Rate (%)"
         }
        },
        "yaxis4": {
         "anchor": "x4",
         "domain": [
          0,
          0.2125
         ],
         "title": {
          "text": "Profit (Euro)"
         }
        }
       }
      }
     },
     "metadata": {},
     "output_type": "display_data"
    }
   ],
   "source": [
    "# Filter the country\n",
    "df_filtered_plot = df_main_over_time[df_main_over_time.country==\"US\"].copy()\n",
    "\n",
    "# Ensure the 'date' column in the DataFrame is in datetime format\n",
    "df_filtered_plot['date'] = pd.to_datetime(df_filtered_plot['date'])\n",
    "\n",
    "# Create a subplot figure with 4 rows, 1 column\n",
    "fig = make_subplots(\n",
    "    rows=4, cols=1,\n",
    "    shared_xaxes=True,  # Align x-axes\n",
    "    vertical_spacing=0.05  # Adjust spacing between plots\n",
    ")\n",
    "\n",
    "# Add traces for each metric\n",
    "metrics = ['app_installs', 'cpi', 'install_to_conversion_rate', 'profit']\n",
    "titles = [\n",
    "    'App Installs',\n",
    "    'Cost Per Install (CPI)',\n",
    "    'Install to Conversion Rate (%)',\n",
    "    'Profit (Euro)'\n",
    "]\n",
    "\n",
    "# Plot App Installs (Row 1)\n",
    "fig.add_trace(\n",
    "    go.Scatter(x=df_filtered_plot['date'], y=df_filtered_plot['app_installs'], mode='lines', name='App Installs'),\n",
    "    row=1, col=1\n",
    ")\n",
    "\n",
    "# Plot CPI (Row 2) with y-axis starting at 0\n",
    "fig.add_trace(\n",
    "    go.Scatter(x=df_filtered_plot['date'], y=df_filtered_plot['cpi'], mode='lines', name='CPI'),\n",
    "    row=2, col=1\n",
    ")\n",
    "fig.update_yaxes(range=[0, None], row=2, col=1)\n",
    "\n",
    "# Plot Install to Conversion Rate (Row 3) with y-axis starting at 0\n",
    "fig.add_trace(\n",
    "    go.Scatter(x=df_filtered_plot['date'], y=df_filtered_plot['install_to_conversion_rate'], mode='lines', name='Install to Conversion Rate'),\n",
    "    row=3, col=1\n",
    ")\n",
    "fig.update_yaxes(range=[0, None], row=3, col=1)\n",
    "\n",
    "# Plot Profit (Row 4) as a bar chart\n",
    "fig.add_trace(\n",
    "    go.Bar(x=df_filtered_plot['date'], y=df_filtered_plot['profit'], name='Profit'),\n",
    "    row=4, col=1\n",
    ")\n",
    "\n",
    "# Add a vertical line and text annotation for Black Friday\n",
    "black_friday_date = datetime(2023, 11, 24)  # Use a raw datetime object\n",
    "\n",
    "# Add a shape for the vertical line\n",
    "fig.add_shape(\n",
    "    type=\"line\",\n",
    "    x0=black_friday_date, x1=black_friday_date,\n",
    "    y0=0, y1=1,  # Relative to the y-axis (scaled by domain)\n",
    "    xref=\"x\", yref=\"paper\",  # 'paper' ensures it spans all plots\n",
    "    line=dict(color=\"red\", width=2, dash=\"dash\")\n",
    ")\n",
    "\n",
    "# Add a text annotation\n",
    "fig.add_annotation(\n",
    "    x=black_friday_date,\n",
    "    y=1,  # Place it at the top of the plot area\n",
    "    text=\"Black Friday\",\n",
    "    showarrow=False,\n",
    "    xref=\"x\", yref=\"paper\",\n",
    "    font=dict(size=12, color=\"red\"),\n",
    "    align=\"center\"\n",
    ")\n",
    "\n",
    "# Update layout for better appearance\n",
    "fig.update_layout(\n",
    "    height=900,  # Adjust height\n",
    "    title_text=\"Metrics Over Time - United States\",\n",
    "    showlegend=False,  # Hide legend for clarity\n",
    ")\n",
    "\n",
    "# Update individual axes titles\n",
    "fig.update_yaxes(title_text=\"App Installs\", row=1, col=1)\n",
    "fig.update_yaxes(title_text=\"CPI (Euro)\", row=2, col=1)\n",
    "fig.update_yaxes(title_text=\"Install to Conversion Rate (%)\", row=3, col=1)\n",
    "fig.update_yaxes(title_text=\"Profit (Euro)\", row=4, col=1)\n",
    "fig.update_xaxes(title_text=\"Date\", row=4, col=1)\n",
    "\n",
    "# Show the plot\n",
    "fig.show()\n"
   ]
  },
  {
   "cell_type": "markdown",
   "id": "008456e5",
   "metadata": {},
   "source": [
    "- There is an drop on installs on the last 15 days.\n",
    "- The cost per install is relatively stable, with a peak one day before black friday.\n",
    "- The conversion rate has high variability.\n",
    "- The profit is negative in all days but 5th and 6th of November"
   ]
  },
  {
   "cell_type": "markdown",
   "id": "1d78c83e",
   "metadata": {},
   "source": [
    "### By channel - Germany"
   ]
  },
  {
   "cell_type": "code",
   "execution_count": 23,
   "id": "5dd565b5",
   "metadata": {},
   "outputs": [],
   "source": [
    "import plotly.graph_objects as go\n",
    "\n",
    "def create_grouped_line_chart(df, x_column, y_column, group_column, y_label, width=1000, height=600):\n",
    "    \"\"\"\n",
    "    Create a grouped line chart with multiple lines and an annotation for Black Friday.\n",
    "\n",
    "    Args:\n",
    "        df (pd.DataFrame): DataFrame containing the data to plot.\n",
    "        x_column (str): Name of the column for the x-axis.\n",
    "        y_column (str): Name of the column for the y-axis.\n",
    "        group_column (str): Name of the column to differentiate the lines.\n",
    "        y_label (str): Label for the y-axis.\n",
    "        width (int): Width of the figure (default: 1000).\n",
    "        height (int): Height of the figure (default: 600).\n",
    "\n",
    "    Returns:\n",
    "        None\n",
    "    \"\"\"\n",
    "    title = f\"{y_column.replace('_', ' ').capitalize()} Over Time by {group_column.replace('_', ' ').capitalize()}\"\n",
    "\n",
    "    fig = go.Figure()\n",
    "\n",
    "    # Create a line for each group\n",
    "    for group, group_data in df.groupby(group_column):\n",
    "        fig.add_trace(go.Scatter(\n",
    "            x=group_data[x_column],\n",
    "            y=group_data[y_column],\n",
    "            mode='lines',\n",
    "            name=group  # Use the group name for legend\n",
    "        ))\n",
    "\n",
    "    # Add annotation for Black Friday\n",
    "    fig.add_annotation(\n",
    "        x=\"2023-11-24\",\n",
    "        y=df[y_column].max(),\n",
    "        text=\"Black Friday\",\n",
    "        showarrow=True,\n",
    "        arrowhead=2,\n",
    "        ax=0,\n",
    "        ay=-40\n",
    "    )\n",
    "\n",
    "    # Customize layout\n",
    "    fig.update_layout(\n",
    "        title=title,\n",
    "        xaxis=dict(title=x_column.capitalize()),\n",
    "        yaxis=dict(title=y_label),\n",
    "        legend=dict(title=group_column.replace('_', ' ').capitalize()),\n",
    "        width=width,\n",
    "        height=height\n",
    "    )\n",
    "\n",
    "    fig.show()\n"
   ]
  },
  {
   "cell_type": "code",
   "execution_count": 24,
   "id": "542e93dd",
   "metadata": {},
   "outputs": [],
   "source": [
    "agg_df = df.groupby(['country','platform','marketing_channel','date']).sum(numeric_only=True)\n",
    "\n",
    "df_metrics = calculate_metrics(agg_df).reset_index()\n",
    "\n",
    "df_metrics['platform_and_channel'] = df_metrics['platform'] + \"_\" + df_metrics['marketing_channel']"
   ]
  },
  {
   "cell_type": "code",
   "execution_count": 25,
   "id": "5d8eb30e",
   "metadata": {},
   "outputs": [
    {
     "data": {
      "application/vnd.plotly.v1+json": {
       "config": {
        "plotlyServerURL": "https://plot.ly"
       },
       "data": [
        {
         "mode": "lines",
         "name": "Channel A",
         "type": "scatter",
         "x": [
          "2023-11-01",
          "2023-11-02",
          "2023-11-03",
          "2023-11-04",
          "2023-11-05",
          "2023-11-06",
          "2023-11-07",
          "2023-11-08",
          "2023-11-09",
          "2023-11-10",
          "2023-11-11",
          "2023-11-12",
          "2023-11-13",
          "2023-11-14",
          "2023-11-15",
          "2023-11-16",
          "2023-11-17",
          "2023-11-18",
          "2023-11-19",
          "2023-11-20",
          "2023-11-21",
          "2023-11-22",
          "2023-11-23",
          "2023-11-24",
          "2023-11-25",
          "2023-11-26",
          "2023-11-27",
          "2023-11-28",
          "2023-11-29",
          "2023-11-30"
         ],
         "y": [
          700,
          708,
          586,
          617,
          671,
          677,
          676,
          586,
          570,
          534,
          563,
          720,
          701,
          553,
          567,
          588,
          497,
          538,
          698,
          680,
          678,
          609,
          555,
          485,
          472,
          609,
          601,
          514,
          550,
          451
         ]
        },
        {
         "mode": "lines",
         "name": "Channel B",
         "type": "scatter",
         "x": [
          "2023-11-01",
          "2023-11-02",
          "2023-11-03",
          "2023-11-04",
          "2023-11-05",
          "2023-11-06",
          "2023-11-07",
          "2023-11-08",
          "2023-11-09",
          "2023-11-10",
          "2023-11-11",
          "2023-11-12",
          "2023-11-13",
          "2023-11-14",
          "2023-11-15",
          "2023-11-16",
          "2023-11-17",
          "2023-11-18",
          "2023-11-19",
          "2023-11-20",
          "2023-11-21",
          "2023-11-22",
          "2023-11-23",
          "2023-11-24",
          "2023-11-25",
          "2023-11-26",
          "2023-11-27",
          "2023-11-28",
          "2023-11-29",
          "2023-11-30"
         ],
         "y": [
          368,
          292,
          259,
          317,
          396,
          296,
          298,
          154,
          116,
          115,
          163,
          165,
          152,
          140,
          145,
          134,
          120,
          119,
          163,
          149,
          135,
          120,
          112,
          102,
          108,
          142,
          89,
          84,
          67,
          76
         ]
        },
        {
         "mode": "lines",
         "name": "Channel C",
         "type": "scatter",
         "x": [
          "2023-11-01",
          "2023-11-02",
          "2023-11-03",
          "2023-11-04",
          "2023-11-05",
          "2023-11-06",
          "2023-11-07",
          "2023-11-08",
          "2023-11-09",
          "2023-11-10",
          "2023-11-11",
          "2023-11-12",
          "2023-11-13",
          "2023-11-14",
          "2023-11-15",
          "2023-11-16",
          "2023-11-17",
          "2023-11-18",
          "2023-11-19",
          "2023-11-20",
          "2023-11-21",
          "2023-11-22",
          "2023-11-23",
          "2023-11-24",
          "2023-11-25",
          "2023-11-26",
          "2023-11-27",
          "2023-11-28",
          "2023-11-29",
          "2023-11-30"
         ],
         "y": [
          987,
          744,
          707,
          690,
          738,
          487,
          621,
          597,
          544,
          507,
          578,
          691,
          707,
          715,
          842,
          651,
          654,
          547,
          674,
          707,
          854,
          1023,
          974,
          830,
          905,
          1046,
          1088,
          1055,
          971,
          838
         ]
        },
        {
         "mode": "lines",
         "name": "Channel D",
         "type": "scatter",
         "x": [
          "2023-11-01",
          "2023-11-02",
          "2023-11-03",
          "2023-11-04",
          "2023-11-05",
          "2023-11-06",
          "2023-11-07",
          "2023-11-08",
          "2023-11-09",
          "2023-11-10",
          "2023-11-11",
          "2023-11-12",
          "2023-11-13",
          "2023-11-14",
          "2023-11-15",
          "2023-11-16",
          "2023-11-17",
          "2023-11-18",
          "2023-11-19",
          "2023-11-20",
          "2023-11-21",
          "2023-11-22",
          "2023-11-23",
          "2023-11-24",
          "2023-11-25",
          "2023-11-26",
          "2023-11-27",
          "2023-11-28",
          "2023-11-29",
          "2023-11-30"
         ],
         "y": [
          0,
          0,
          0,
          0,
          0,
          0,
          0,
          0,
          0,
          0,
          0,
          0,
          0,
          0,
          0,
          0,
          0,
          0,
          0,
          0,
          0,
          0,
          0,
          0,
          0,
          0,
          0,
          0,
          0,
          0
         ]
        },
        {
         "mode": "lines",
         "name": "Channel E",
         "type": "scatter",
         "x": [
          "2023-11-01",
          "2023-11-02",
          "2023-11-03",
          "2023-11-04",
          "2023-11-05",
          "2023-11-06",
          "2023-11-07",
          "2023-11-08",
          "2023-11-09",
          "2023-11-10",
          "2023-11-11",
          "2023-11-12",
          "2023-11-13",
          "2023-11-14",
          "2023-11-15",
          "2023-11-16",
          "2023-11-17",
          "2023-11-18",
          "2023-11-19",
          "2023-11-20",
          "2023-11-21",
          "2023-11-22",
          "2023-11-23",
          "2023-11-24",
          "2023-11-25",
          "2023-11-26",
          "2023-11-27",
          "2023-11-28",
          "2023-11-29",
          "2023-11-30"
         ],
         "y": [
          104,
          89,
          66,
          80,
          354,
          185,
          110,
          102,
          95,
          83,
          98,
          128,
          88,
          95,
          71,
          67,
          78,
          102,
          74,
          55,
          50,
          59,
          59,
          41,
          55,
          61,
          50,
          58,
          68,
          57
         ]
        }
       ],
       "layout": {
        "annotations": [
         {
          "arrowhead": 2,
          "ax": 0,
          "ay": -40,
          "showarrow": true,
          "text": "Black Friday",
          "x": "2023-11-24",
          "y": 1088
         }
        ],
        "height": 600,
        "legend": {
         "title": {
          "text": "Marketing channel"
         }
        },
        "template": {
         "data": {
          "bar": [
           {
            "error_x": {
             "color": "#2a3f5f"
            },
            "error_y": {
             "color": "#2a3f5f"
            },
            "marker": {
             "line": {
              "color": "#E5ECF6",
              "width": 0.5
             },
             "pattern": {
              "fillmode": "overlay",
              "size": 10,
              "solidity": 0.2
             }
            },
            "type": "bar"
           }
          ],
          "barpolar": [
           {
            "marker": {
             "line": {
              "color": "#E5ECF6",
              "width": 0.5
             },
             "pattern": {
              "fillmode": "overlay",
              "size": 10,
              "solidity": 0.2
             }
            },
            "type": "barpolar"
           }
          ],
          "carpet": [
           {
            "aaxis": {
             "endlinecolor": "#2a3f5f",
             "gridcolor": "white",
             "linecolor": "white",
             "minorgridcolor": "white",
             "startlinecolor": "#2a3f5f"
            },
            "baxis": {
             "endlinecolor": "#2a3f5f",
             "gridcolor": "white",
             "linecolor": "white",
             "minorgridcolor": "white",
             "startlinecolor": "#2a3f5f"
            },
            "type": "carpet"
           }
          ],
          "choropleth": [
           {
            "colorbar": {
             "outlinewidth": 0,
             "ticks": ""
            },
            "type": "choropleth"
           }
          ],
          "contour": [
           {
            "colorbar": {
             "outlinewidth": 0,
             "ticks": ""
            },
            "colorscale": [
             [
              0,
              "#0d0887"
             ],
             [
              0.1111111111111111,
              "#46039f"
             ],
             [
              0.2222222222222222,
              "#7201a8"
             ],
             [
              0.3333333333333333,
              "#9c179e"
             ],
             [
              0.4444444444444444,
              "#bd3786"
             ],
             [
              0.5555555555555556,
              "#d8576b"
             ],
             [
              0.6666666666666666,
              "#ed7953"
             ],
             [
              0.7777777777777778,
              "#fb9f3a"
             ],
             [
              0.8888888888888888,
              "#fdca26"
             ],
             [
              1,
              "#f0f921"
             ]
            ],
            "type": "contour"
           }
          ],
          "contourcarpet": [
           {
            "colorbar": {
             "outlinewidth": 0,
             "ticks": ""
            },
            "type": "contourcarpet"
           }
          ],
          "heatmap": [
           {
            "colorbar": {
             "outlinewidth": 0,
             "ticks": ""
            },
            "colorscale": [
             [
              0,
              "#0d0887"
             ],
             [
              0.1111111111111111,
              "#46039f"
             ],
             [
              0.2222222222222222,
              "#7201a8"
             ],
             [
              0.3333333333333333,
              "#9c179e"
             ],
             [
              0.4444444444444444,
              "#bd3786"
             ],
             [
              0.5555555555555556,
              "#d8576b"
             ],
             [
              0.6666666666666666,
              "#ed7953"
             ],
             [
              0.7777777777777778,
              "#fb9f3a"
             ],
             [
              0.8888888888888888,
              "#fdca26"
             ],
             [
              1,
              "#f0f921"
             ]
            ],
            "type": "heatmap"
           }
          ],
          "heatmapgl": [
           {
            "colorbar": {
             "outlinewidth": 0,
             "ticks": ""
            },
            "colorscale": [
             [
              0,
              "#0d0887"
             ],
             [
              0.1111111111111111,
              "#46039f"
             ],
             [
              0.2222222222222222,
              "#7201a8"
             ],
             [
              0.3333333333333333,
              "#9c179e"
             ],
             [
              0.4444444444444444,
              "#bd3786"
             ],
             [
              0.5555555555555556,
              "#d8576b"
             ],
             [
              0.6666666666666666,
              "#ed7953"
             ],
             [
              0.7777777777777778,
              "#fb9f3a"
             ],
             [
              0.8888888888888888,
              "#fdca26"
             ],
             [
              1,
              "#f0f921"
             ]
            ],
            "type": "heatmapgl"
           }
          ],
          "histogram": [
           {
            "marker": {
             "pattern": {
              "fillmode": "overlay",
              "size": 10,
              "solidity": 0.2
             }
            },
            "type": "histogram"
           }
          ],
          "histogram2d": [
           {
            "colorbar": {
             "outlinewidth": 0,
             "ticks": ""
            },
            "colorscale": [
             [
              0,
              "#0d0887"
             ],
             [
              0.1111111111111111,
              "#46039f"
             ],
             [
              0.2222222222222222,
              "#7201a8"
             ],
             [
              0.3333333333333333,
              "#9c179e"
             ],
             [
              0.4444444444444444,
              "#bd3786"
             ],
             [
              0.5555555555555556,
              "#d8576b"
             ],
             [
              0.6666666666666666,
              "#ed7953"
             ],
             [
              0.7777777777777778,
              "#fb9f3a"
             ],
             [
              0.8888888888888888,
              "#fdca26"
             ],
             [
              1,
              "#f0f921"
             ]
            ],
            "type": "histogram2d"
           }
          ],
          "histogram2dcontour": [
           {
            "colorbar": {
             "outlinewidth": 0,
             "ticks": ""
            },
            "colorscale": [
             [
              0,
              "#0d0887"
             ],
             [
              0.1111111111111111,
              "#46039f"
             ],
             [
              0.2222222222222222,
              "#7201a8"
             ],
             [
              0.3333333333333333,
              "#9c179e"
             ],
             [
              0.4444444444444444,
              "#bd3786"
             ],
             [
              0.5555555555555556,
              "#d8576b"
             ],
             [
              0.6666666666666666,
              "#ed7953"
             ],
             [
              0.7777777777777778,
              "#fb9f3a"
             ],
             [
              0.8888888888888888,
              "#fdca26"
             ],
             [
              1,
              "#f0f921"
             ]
            ],
            "type": "histogram2dcontour"
           }
          ],
          "mesh3d": [
           {
            "colorbar": {
             "outlinewidth": 0,
             "ticks": ""
            },
            "type": "mesh3d"
           }
          ],
          "parcoords": [
           {
            "line": {
             "colorbar": {
              "outlinewidth": 0,
              "ticks": ""
             }
            },
            "type": "parcoords"
           }
          ],
          "pie": [
           {
            "automargin": true,
            "type": "pie"
           }
          ],
          "scatter": [
           {
            "fillpattern": {
             "fillmode": "overlay",
             "size": 10,
             "solidity": 0.2
            },
            "type": "scatter"
           }
          ],
          "scatter3d": [
           {
            "line": {
             "colorbar": {
              "outlinewidth": 0,
              "ticks": ""
             }
            },
            "marker": {
             "colorbar": {
              "outlinewidth": 0,
              "ticks": ""
             }
            },
            "type": "scatter3d"
           }
          ],
          "scattercarpet": [
           {
            "marker": {
             "colorbar": {
              "outlinewidth": 0,
              "ticks": ""
             }
            },
            "type": "scattercarpet"
           }
          ],
          "scattergeo": [
           {
            "marker": {
             "colorbar": {
              "outlinewidth": 0,
              "ticks": ""
             }
            },
            "type": "scattergeo"
           }
          ],
          "scattergl": [
           {
            "marker": {
             "colorbar": {
              "outlinewidth": 0,
              "ticks": ""
             }
            },
            "type": "scattergl"
           }
          ],
          "scattermapbox": [
           {
            "marker": {
             "colorbar": {
              "outlinewidth": 0,
              "ticks": ""
             }
            },
            "type": "scattermapbox"
           }
          ],
          "scatterpolar": [
           {
            "marker": {
             "colorbar": {
              "outlinewidth": 0,
              "ticks": ""
             }
            },
            "type": "scatterpolar"
           }
          ],
          "scatterpolargl": [
           {
            "marker": {
             "colorbar": {
              "outlinewidth": 0,
              "ticks": ""
             }
            },
            "type": "scatterpolargl"
           }
          ],
          "scatterternary": [
           {
            "marker": {
             "colorbar": {
              "outlinewidth": 0,
              "ticks": ""
             }
            },
            "type": "scatterternary"
           }
          ],
          "surface": [
           {
            "colorbar": {
             "outlinewidth": 0,
             "ticks": ""
            },
            "colorscale": [
             [
              0,
              "#0d0887"
             ],
             [
              0.1111111111111111,
              "#46039f"
             ],
             [
              0.2222222222222222,
              "#7201a8"
             ],
             [
              0.3333333333333333,
              "#9c179e"
             ],
             [
              0.4444444444444444,
              "#bd3786"
             ],
             [
              0.5555555555555556,
              "#d8576b"
             ],
             [
              0.6666666666666666,
              "#ed7953"
             ],
             [
              0.7777777777777778,
              "#fb9f3a"
             ],
             [
              0.8888888888888888,
              "#fdca26"
             ],
             [
              1,
              "#f0f921"
             ]
            ],
            "type": "surface"
           }
          ],
          "table": [
           {
            "cells": {
             "fill": {
              "color": "#EBF0F8"
             },
             "line": {
              "color": "white"
             }
            },
            "header": {
             "fill": {
              "color": "#C8D4E3"
             },
             "line": {
              "color": "white"
             }
            },
            "type": "table"
           }
          ]
         },
         "layout": {
          "annotationdefaults": {
           "arrowcolor": "#2a3f5f",
           "arrowhead": 0,
           "arrowwidth": 1
          },
          "autotypenumbers": "strict",
          "coloraxis": {
           "colorbar": {
            "outlinewidth": 0,
            "ticks": ""
           }
          },
          "colorscale": {
           "diverging": [
            [
             0,
             "#8e0152"
            ],
            [
             0.1,
             "#c51b7d"
            ],
            [
             0.2,
             "#de77ae"
            ],
            [
             0.3,
             "#f1b6da"
            ],
            [
             0.4,
             "#fde0ef"
            ],
            [
             0.5,
             "#f7f7f7"
            ],
            [
             0.6,
             "#e6f5d0"
            ],
            [
             0.7,
             "#b8e186"
            ],
            [
             0.8,
             "#7fbc41"
            ],
            [
             0.9,
             "#4d9221"
            ],
            [
             1,
             "#276419"
            ]
           ],
           "sequential": [
            [
             0,
             "#0d0887"
            ],
            [
             0.1111111111111111,
             "#46039f"
            ],
            [
             0.2222222222222222,
             "#7201a8"
            ],
            [
             0.3333333333333333,
             "#9c179e"
            ],
            [
             0.4444444444444444,
             "#bd3786"
            ],
            [
             0.5555555555555556,
             "#d8576b"
            ],
            [
             0.6666666666666666,
             "#ed7953"
            ],
            [
             0.7777777777777778,
             "#fb9f3a"
            ],
            [
             0.8888888888888888,
             "#fdca26"
            ],
            [
             1,
             "#f0f921"
            ]
           ],
           "sequentialminus": [
            [
             0,
             "#0d0887"
            ],
            [
             0.1111111111111111,
             "#46039f"
            ],
            [
             0.2222222222222222,
             "#7201a8"
            ],
            [
             0.3333333333333333,
             "#9c179e"
            ],
            [
             0.4444444444444444,
             "#bd3786"
            ],
            [
             0.5555555555555556,
             "#d8576b"
            ],
            [
             0.6666666666666666,
             "#ed7953"
            ],
            [
             0.7777777777777778,
             "#fb9f3a"
            ],
            [
             0.8888888888888888,
             "#fdca26"
            ],
            [
             1,
             "#f0f921"
            ]
           ]
          },
          "colorway": [
           "#636efa",
           "#EF553B",
           "#00cc96",
           "#ab63fa",
           "#FFA15A",
           "#19d3f3",
           "#FF6692",
           "#B6E880",
           "#FF97FF",
           "#FECB52"
          ],
          "font": {
           "color": "#2a3f5f"
          },
          "geo": {
           "bgcolor": "white",
           "lakecolor": "white",
           "landcolor": "#E5ECF6",
           "showlakes": true,
           "showland": true,
           "subunitcolor": "white"
          },
          "hoverlabel": {
           "align": "left"
          },
          "hovermode": "closest",
          "mapbox": {
           "style": "light"
          },
          "paper_bgcolor": "white",
          "plot_bgcolor": "#E5ECF6",
          "polar": {
           "angularaxis": {
            "gridcolor": "white",
            "linecolor": "white",
            "ticks": ""
           },
           "bgcolor": "#E5ECF6",
           "radialaxis": {
            "gridcolor": "white",
            "linecolor": "white",
            "ticks": ""
           }
          },
          "scene": {
           "xaxis": {
            "backgroundcolor": "#E5ECF6",
            "gridcolor": "white",
            "gridwidth": 2,
            "linecolor": "white",
            "showbackground": true,
            "ticks": "",
            "zerolinecolor": "white"
           },
           "yaxis": {
            "backgroundcolor": "#E5ECF6",
            "gridcolor": "white",
            "gridwidth": 2,
            "linecolor": "white",
            "showbackground": true,
            "ticks": "",
            "zerolinecolor": "white"
           },
           "zaxis": {
            "backgroundcolor": "#E5ECF6",
            "gridcolor": "white",
            "gridwidth": 2,
            "linecolor": "white",
            "showbackground": true,
            "ticks": "",
            "zerolinecolor": "white"
           }
          },
          "shapedefaults": {
           "line": {
            "color": "#2a3f5f"
           }
          },
          "ternary": {
           "aaxis": {
            "gridcolor": "white",
            "linecolor": "white",
            "ticks": ""
           },
           "baxis": {
            "gridcolor": "white",
            "linecolor": "white",
            "ticks": ""
           },
           "bgcolor": "#E5ECF6",
           "caxis": {
            "gridcolor": "white",
            "linecolor": "white",
            "ticks": ""
           }
          },
          "title": {
           "x": 0.05
          },
          "xaxis": {
           "automargin": true,
           "gridcolor": "white",
           "linecolor": "white",
           "ticks": "",
           "title": {
            "standoff": 15
           },
           "zerolinecolor": "white",
           "zerolinewidth": 2
          },
          "yaxis": {
           "automargin": true,
           "gridcolor": "white",
           "linecolor": "white",
           "ticks": "",
           "title": {
            "standoff": 15
           },
           "zerolinecolor": "white",
           "zerolinewidth": 2
          }
         }
        },
        "title": {
         "text": "App installs Over Time by Marketing channel"
        },
        "width": 1000,
        "xaxis": {
         "title": {
          "text": "Date"
         }
        },
        "yaxis": {
         "title": {
          "text": "App Installs"
         }
        }
       }
      }
     },
     "metadata": {},
     "output_type": "display_data"
    }
   ],
   "source": [
    "\n",
    "# Example Usage\n",
    "create_grouped_line_chart(\n",
    "    df=df_channels_over_time[df_channels_over_time['country']=='DE'],\n",
    "    x_column=\"date\",\n",
    "    y_column=\"app_installs\",\n",
    "    group_column=\"marketing_channel\",\n",
    "    y_label=\"App Installs\"\n",
    ")\n"
   ]
  },
  {
   "cell_type": "code",
   "execution_count": 26,
   "id": "f732141a",
   "metadata": {},
   "outputs": [
    {
     "data": {
      "application/vnd.plotly.v1+json": {
       "config": {
        "plotlyServerURL": "https://plot.ly"
       },
       "data": [
        {
         "mode": "lines",
         "name": "Channel A",
         "type": "scatter",
         "x": [
          "2023-11-01",
          "2023-11-02",
          "2023-11-03",
          "2023-11-04",
          "2023-11-05",
          "2023-11-06",
          "2023-11-07",
          "2023-11-08",
          "2023-11-09",
          "2023-11-10",
          "2023-11-11",
          "2023-11-12",
          "2023-11-13",
          "2023-11-14",
          "2023-11-15",
          "2023-11-16",
          "2023-11-17",
          "2023-11-18",
          "2023-11-19",
          "2023-11-20",
          "2023-11-21",
          "2023-11-22",
          "2023-11-23",
          "2023-11-24",
          "2023-11-25",
          "2023-11-26",
          "2023-11-27",
          "2023-11-28",
          "2023-11-29",
          "2023-11-30"
         ],
         "y": [
          9.57,
          6.92,
          9.73,
          8.75,
          10.43,
          8.12,
          9.47,
          7.17,
          8.42,
          8.61,
          12.08,
          9.17,
          9.56,
          10.31,
          10.05,
          8.33,
          9.86,
          11.9,
          9.03,
          11.62,
          9.59,
          9.2,
          9.37,
          10.93,
          10.17,
          8.21,
          12.15,
          12.26,
          10.73,
          8.2
         ]
        },
        {
         "mode": "lines",
         "name": "Channel B",
         "type": "scatter",
         "x": [
          "2023-11-01",
          "2023-11-02",
          "2023-11-03",
          "2023-11-04",
          "2023-11-05",
          "2023-11-06",
          "2023-11-07",
          "2023-11-08",
          "2023-11-09",
          "2023-11-10",
          "2023-11-11",
          "2023-11-12",
          "2023-11-13",
          "2023-11-14",
          "2023-11-15",
          "2023-11-16",
          "2023-11-17",
          "2023-11-18",
          "2023-11-19",
          "2023-11-20",
          "2023-11-21",
          "2023-11-22",
          "2023-11-23",
          "2023-11-24",
          "2023-11-25",
          "2023-11-26",
          "2023-11-27",
          "2023-11-28",
          "2023-11-29",
          "2023-11-30"
         ],
         "y": [
          4.35,
          4.11,
          4.25,
          5.99,
          4.55,
          6.42,
          4.36,
          2.6,
          5.17,
          3.48,
          1.84,
          3.03,
          3.29,
          2.86,
          0.69,
          2.24,
          3.33,
          3.36,
          6.13,
          4.7,
          5.93,
          2.5,
          3.57,
          7.84,
          4.63,
          6.34,
          6.74,
          8.33,
          5.97,
          7.89
         ]
        },
        {
         "mode": "lines",
         "name": "Channel C",
         "type": "scatter",
         "x": [
          "2023-11-01",
          "2023-11-02",
          "2023-11-03",
          "2023-11-04",
          "2023-11-05",
          "2023-11-06",
          "2023-11-07",
          "2023-11-08",
          "2023-11-09",
          "2023-11-10",
          "2023-11-11",
          "2023-11-12",
          "2023-11-13",
          "2023-11-14",
          "2023-11-15",
          "2023-11-16",
          "2023-11-17",
          "2023-11-18",
          "2023-11-19",
          "2023-11-20",
          "2023-11-21",
          "2023-11-22",
          "2023-11-23",
          "2023-11-24",
          "2023-11-25",
          "2023-11-26",
          "2023-11-27",
          "2023-11-28",
          "2023-11-29",
          "2023-11-30"
         ],
         "y": [
          12.06,
          12.1,
          12.02,
          11.45,
          13.55,
          13.55,
          13.69,
          14.57,
          13.05,
          13.02,
          16.26,
          12.59,
          14.71,
          11.89,
          11.52,
          14.29,
          14.22,
          9.69,
          10.98,
          15.28,
          13.23,
          13.1,
          11.5,
          15.18,
          16.13,
          17.78,
          15.99,
          14.12,
          15.24,
          15.04
         ]
        },
        {
         "mode": "lines",
         "name": "Channel D",
         "type": "scatter",
         "x": [
          "2023-11-01",
          "2023-11-02",
          "2023-11-03",
          "2023-11-04",
          "2023-11-05",
          "2023-11-06",
          "2023-11-07",
          "2023-11-08",
          "2023-11-09",
          "2023-11-10",
          "2023-11-11",
          "2023-11-12",
          "2023-11-13",
          "2023-11-14",
          "2023-11-15",
          "2023-11-16",
          "2023-11-17",
          "2023-11-18",
          "2023-11-19",
          "2023-11-20",
          "2023-11-21",
          "2023-11-22",
          "2023-11-23",
          "2023-11-24",
          "2023-11-25",
          "2023-11-26",
          "2023-11-27",
          "2023-11-28",
          "2023-11-29",
          "2023-11-30"
         ],
         "y": [
          null,
          null,
          null,
          null,
          null,
          null,
          null,
          null,
          null,
          null,
          null,
          null,
          null,
          null,
          null,
          null,
          null,
          null,
          null,
          null,
          null,
          null,
          null,
          null,
          null,
          null,
          null,
          null,
          null,
          null
         ]
        },
        {
         "mode": "lines",
         "name": "Channel E",
         "type": "scatter",
         "x": [
          "2023-11-01",
          "2023-11-02",
          "2023-11-03",
          "2023-11-04",
          "2023-11-05",
          "2023-11-06",
          "2023-11-07",
          "2023-11-08",
          "2023-11-09",
          "2023-11-10",
          "2023-11-11",
          "2023-11-12",
          "2023-11-13",
          "2023-11-14",
          "2023-11-15",
          "2023-11-16",
          "2023-11-17",
          "2023-11-18",
          "2023-11-19",
          "2023-11-20",
          "2023-11-21",
          "2023-11-22",
          "2023-11-23",
          "2023-11-24",
          "2023-11-25",
          "2023-11-26",
          "2023-11-27",
          "2023-11-28",
          "2023-11-29",
          "2023-11-30"
         ],
         "y": [
          10.58,
          8.99,
          3.03,
          5,
          4.8,
          9.19,
          10.91,
          4.9,
          9.47,
          12.05,
          4.08,
          3.91,
          13.64,
          6.32,
          8.45,
          10.45,
          3.85,
          2.94,
          2.7,
          9.09,
          8,
          8.47,
          8.47,
          7.32,
          5.45,
          8.2,
          8,
          1.72,
          7.35,
          14.04
         ]
        }
       ],
       "layout": {
        "annotations": [
         {
          "arrowhead": 2,
          "ax": 0,
          "ay": -40,
          "showarrow": true,
          "text": "Black Friday",
          "x": "2023-11-24",
          "y": 17.78
         }
        ],
        "height": 600,
        "legend": {
         "title": {
          "text": "Marketing channel"
         }
        },
        "template": {
         "data": {
          "bar": [
           {
            "error_x": {
             "color": "#2a3f5f"
            },
            "error_y": {
             "color": "#2a3f5f"
            },
            "marker": {
             "line": {
              "color": "#E5ECF6",
              "width": 0.5
             },
             "pattern": {
              "fillmode": "overlay",
              "size": 10,
              "solidity": 0.2
             }
            },
            "type": "bar"
           }
          ],
          "barpolar": [
           {
            "marker": {
             "line": {
              "color": "#E5ECF6",
              "width": 0.5
             },
             "pattern": {
              "fillmode": "overlay",
              "size": 10,
              "solidity": 0.2
             }
            },
            "type": "barpolar"
           }
          ],
          "carpet": [
           {
            "aaxis": {
             "endlinecolor": "#2a3f5f",
             "gridcolor": "white",
             "linecolor": "white",
             "minorgridcolor": "white",
             "startlinecolor": "#2a3f5f"
            },
            "baxis": {
             "endlinecolor": "#2a3f5f",
             "gridcolor": "white",
             "linecolor": "white",
             "minorgridcolor": "white",
             "startlinecolor": "#2a3f5f"
            },
            "type": "carpet"
           }
          ],
          "choropleth": [
           {
            "colorbar": {
             "outlinewidth": 0,
             "ticks": ""
            },
            "type": "choropleth"
           }
          ],
          "contour": [
           {
            "colorbar": {
             "outlinewidth": 0,
             "ticks": ""
            },
            "colorscale": [
             [
              0,
              "#0d0887"
             ],
             [
              0.1111111111111111,
              "#46039f"
             ],
             [
              0.2222222222222222,
              "#7201a8"
             ],
             [
              0.3333333333333333,
              "#9c179e"
             ],
             [
              0.4444444444444444,
              "#bd3786"
             ],
             [
              0.5555555555555556,
              "#d8576b"
             ],
             [
              0.6666666666666666,
              "#ed7953"
             ],
             [
              0.7777777777777778,
              "#fb9f3a"
             ],
             [
              0.8888888888888888,
              "#fdca26"
             ],
             [
              1,
              "#f0f921"
             ]
            ],
            "type": "contour"
           }
          ],
          "contourcarpet": [
           {
            "colorbar": {
             "outlinewidth": 0,
             "ticks": ""
            },
            "type": "contourcarpet"
           }
          ],
          "heatmap": [
           {
            "colorbar": {
             "outlinewidth": 0,
             "ticks": ""
            },
            "colorscale": [
             [
              0,
              "#0d0887"
             ],
             [
              0.1111111111111111,
              "#46039f"
             ],
             [
              0.2222222222222222,
              "#7201a8"
             ],
             [
              0.3333333333333333,
              "#9c179e"
             ],
             [
              0.4444444444444444,
              "#bd3786"
             ],
             [
              0.5555555555555556,
              "#d8576b"
             ],
             [
              0.6666666666666666,
              "#ed7953"
             ],
             [
              0.7777777777777778,
              "#fb9f3a"
             ],
             [
              0.8888888888888888,
              "#fdca26"
             ],
             [
              1,
              "#f0f921"
             ]
            ],
            "type": "heatmap"
           }
          ],
          "heatmapgl": [
           {
            "colorbar": {
             "outlinewidth": 0,
             "ticks": ""
            },
            "colorscale": [
             [
              0,
              "#0d0887"
             ],
             [
              0.1111111111111111,
              "#46039f"
             ],
             [
              0.2222222222222222,
              "#7201a8"
             ],
             [
              0.3333333333333333,
              "#9c179e"
             ],
             [
              0.4444444444444444,
              "#bd3786"
             ],
             [
              0.5555555555555556,
              "#d8576b"
             ],
             [
              0.6666666666666666,
              "#ed7953"
             ],
             [
              0.7777777777777778,
              "#fb9f3a"
             ],
             [
              0.8888888888888888,
              "#fdca26"
             ],
             [
              1,
              "#f0f921"
             ]
            ],
            "type": "heatmapgl"
           }
          ],
          "histogram": [
           {
            "marker": {
             "pattern": {
              "fillmode": "overlay",
              "size": 10,
              "solidity": 0.2
             }
            },
            "type": "histogram"
           }
          ],
          "histogram2d": [
           {
            "colorbar": {
             "outlinewidth": 0,
             "ticks": ""
            },
            "colorscale": [
             [
              0,
              "#0d0887"
             ],
             [
              0.1111111111111111,
              "#46039f"
             ],
             [
              0.2222222222222222,
              "#7201a8"
             ],
             [
              0.3333333333333333,
              "#9c179e"
             ],
             [
              0.4444444444444444,
              "#bd3786"
             ],
             [
              0.5555555555555556,
              "#d8576b"
             ],
             [
              0.6666666666666666,
              "#ed7953"
             ],
             [
              0.7777777777777778,
              "#fb9f3a"
             ],
             [
              0.8888888888888888,
              "#fdca26"
             ],
             [
              1,
              "#f0f921"
             ]
            ],
            "type": "histogram2d"
           }
          ],
          "histogram2dcontour": [
           {
            "colorbar": {
             "outlinewidth": 0,
             "ticks": ""
            },
            "colorscale": [
             [
              0,
              "#0d0887"
             ],
             [
              0.1111111111111111,
              "#46039f"
             ],
             [
              0.2222222222222222,
              "#7201a8"
             ],
             [
              0.3333333333333333,
              "#9c179e"
             ],
             [
              0.4444444444444444,
              "#bd3786"
             ],
             [
              0.5555555555555556,
              "#d8576b"
             ],
             [
              0.6666666666666666,
              "#ed7953"
             ],
             [
              0.7777777777777778,
              "#fb9f3a"
             ],
             [
              0.8888888888888888,
              "#fdca26"
             ],
             [
              1,
              "#f0f921"
             ]
            ],
            "type": "histogram2dcontour"
           }
          ],
          "mesh3d": [
           {
            "colorbar": {
             "outlinewidth": 0,
             "ticks": ""
            },
            "type": "mesh3d"
           }
          ],
          "parcoords": [
           {
            "line": {
             "colorbar": {
              "outlinewidth": 0,
              "ticks": ""
             }
            },
            "type": "parcoords"
           }
          ],
          "pie": [
           {
            "automargin": true,
            "type": "pie"
           }
          ],
          "scatter": [
           {
            "fillpattern": {
             "fillmode": "overlay",
             "size": 10,
             "solidity": 0.2
            },
            "type": "scatter"
           }
          ],
          "scatter3d": [
           {
            "line": {
             "colorbar": {
              "outlinewidth": 0,
              "ticks": ""
             }
            },
            "marker": {
             "colorbar": {
              "outlinewidth": 0,
              "ticks": ""
             }
            },
            "type": "scatter3d"
           }
          ],
          "scattercarpet": [
           {
            "marker": {
             "colorbar": {
              "outlinewidth": 0,
              "ticks": ""
             }
            },
            "type": "scattercarpet"
           }
          ],
          "scattergeo": [
           {
            "marker": {
             "colorbar": {
              "outlinewidth": 0,
              "ticks": ""
             }
            },
            "type": "scattergeo"
           }
          ],
          "scattergl": [
           {
            "marker": {
             "colorbar": {
              "outlinewidth": 0,
              "ticks": ""
             }
            },
            "type": "scattergl"
           }
          ],
          "scattermapbox": [
           {
            "marker": {
             "colorbar": {
              "outlinewidth": 0,
              "ticks": ""
             }
            },
            "type": "scattermapbox"
           }
          ],
          "scatterpolar": [
           {
            "marker": {
             "colorbar": {
              "outlinewidth": 0,
              "ticks": ""
             }
            },
            "type": "scatterpolar"
           }
          ],
          "scatterpolargl": [
           {
            "marker": {
             "colorbar": {
              "outlinewidth": 0,
              "ticks": ""
             }
            },
            "type": "scatterpolargl"
           }
          ],
          "scatterternary": [
           {
            "marker": {
             "colorbar": {
              "outlinewidth": 0,
              "ticks": ""
             }
            },
            "type": "scatterternary"
           }
          ],
          "surface": [
           {
            "colorbar": {
             "outlinewidth": 0,
             "ticks": ""
            },
            "colorscale": [
             [
              0,
              "#0d0887"
             ],
             [
              0.1111111111111111,
              "#46039f"
             ],
             [
              0.2222222222222222,
              "#7201a8"
             ],
             [
              0.3333333333333333,
              "#9c179e"
             ],
             [
              0.4444444444444444,
              "#bd3786"
             ],
             [
              0.5555555555555556,
              "#d8576b"
             ],
             [
              0.6666666666666666,
              "#ed7953"
             ],
             [
              0.7777777777777778,
              "#fb9f3a"
             ],
             [
              0.8888888888888888,
              "#fdca26"
             ],
             [
              1,
              "#f0f921"
             ]
            ],
            "type": "surface"
           }
          ],
          "table": [
           {
            "cells": {
             "fill": {
              "color": "#EBF0F8"
             },
             "line": {
              "color": "white"
             }
            },
            "header": {
             "fill": {
              "color": "#C8D4E3"
             },
             "line": {
              "color": "white"
             }
            },
            "type": "table"
           }
          ]
         },
         "layout": {
          "annotationdefaults": {
           "arrowcolor": "#2a3f5f",
           "arrowhead": 0,
           "arrowwidth": 1
          },
          "autotypenumbers": "strict",
          "coloraxis": {
           "colorbar": {
            "outlinewidth": 0,
            "ticks": ""
           }
          },
          "colorscale": {
           "diverging": [
            [
             0,
             "#8e0152"
            ],
            [
             0.1,
             "#c51b7d"
            ],
            [
             0.2,
             "#de77ae"
            ],
            [
             0.3,
             "#f1b6da"
            ],
            [
             0.4,
             "#fde0ef"
            ],
            [
             0.5,
             "#f7f7f7"
            ],
            [
             0.6,
             "#e6f5d0"
            ],
            [
             0.7,
             "#b8e186"
            ],
            [
             0.8,
             "#7fbc41"
            ],
            [
             0.9,
             "#4d9221"
            ],
            [
             1,
             "#276419"
            ]
           ],
           "sequential": [
            [
             0,
             "#0d0887"
            ],
            [
             0.1111111111111111,
             "#46039f"
            ],
            [
             0.2222222222222222,
             "#7201a8"
            ],
            [
             0.3333333333333333,
             "#9c179e"
            ],
            [
             0.4444444444444444,
             "#bd3786"
            ],
            [
             0.5555555555555556,
             "#d8576b"
            ],
            [
             0.6666666666666666,
             "#ed7953"
            ],
            [
             0.7777777777777778,
             "#fb9f3a"
            ],
            [
             0.8888888888888888,
             "#fdca26"
            ],
            [
             1,
             "#f0f921"
            ]
           ],
           "sequentialminus": [
            [
             0,
             "#0d0887"
            ],
            [
             0.1111111111111111,
             "#46039f"
            ],
            [
             0.2222222222222222,
             "#7201a8"
            ],
            [
             0.3333333333333333,
             "#9c179e"
            ],
            [
             0.4444444444444444,
             "#bd3786"
            ],
            [
             0.5555555555555556,
             "#d8576b"
            ],
            [
             0.6666666666666666,
             "#ed7953"
            ],
            [
             0.7777777777777778,
             "#fb9f3a"
            ],
            [
             0.8888888888888888,
             "#fdca26"
            ],
            [
             1,
             "#f0f921"
            ]
           ]
          },
          "colorway": [
           "#636efa",
           "#EF553B",
           "#00cc96",
           "#ab63fa",
           "#FFA15A",
           "#19d3f3",
           "#FF6692",
           "#B6E880",
           "#FF97FF",
           "#FECB52"
          ],
          "font": {
           "color": "#2a3f5f"
          },
          "geo": {
           "bgcolor": "white",
           "lakecolor": "white",
           "landcolor": "#E5ECF6",
           "showlakes": true,
           "showland": true,
           "subunitcolor": "white"
          },
          "hoverlabel": {
           "align": "left"
          },
          "hovermode": "closest",
          "mapbox": {
           "style": "light"
          },
          "paper_bgcolor": "white",
          "plot_bgcolor": "#E5ECF6",
          "polar": {
           "angularaxis": {
            "gridcolor": "white",
            "linecolor": "white",
            "ticks": ""
           },
           "bgcolor": "#E5ECF6",
           "radialaxis": {
            "gridcolor": "white",
            "linecolor": "white",
            "ticks": ""
           }
          },
          "scene": {
           "xaxis": {
            "backgroundcolor": "#E5ECF6",
            "gridcolor": "white",
            "gridwidth": 2,
            "linecolor": "white",
            "showbackground": true,
            "ticks": "",
            "zerolinecolor": "white"
           },
           "yaxis": {
            "backgroundcolor": "#E5ECF6",
            "gridcolor": "white",
            "gridwidth": 2,
            "linecolor": "white",
            "showbackground": true,
            "ticks": "",
            "zerolinecolor": "white"
           },
           "zaxis": {
            "backgroundcolor": "#E5ECF6",
            "gridcolor": "white",
            "gridwidth": 2,
            "linecolor": "white",
            "showbackground": true,
            "ticks": "",
            "zerolinecolor": "white"
           }
          },
          "shapedefaults": {
           "line": {
            "color": "#2a3f5f"
           }
          },
          "ternary": {
           "aaxis": {
            "gridcolor": "white",
            "linecolor": "white",
            "ticks": ""
           },
           "baxis": {
            "gridcolor": "white",
            "linecolor": "white",
            "ticks": ""
           },
           "bgcolor": "#E5ECF6",
           "caxis": {
            "gridcolor": "white",
            "linecolor": "white",
            "ticks": ""
           }
          },
          "title": {
           "x": 0.05
          },
          "xaxis": {
           "automargin": true,
           "gridcolor": "white",
           "linecolor": "white",
           "ticks": "",
           "title": {
            "standoff": 15
           },
           "zerolinecolor": "white",
           "zerolinewidth": 2
          },
          "yaxis": {
           "automargin": true,
           "gridcolor": "white",
           "linecolor": "white",
           "ticks": "",
           "title": {
            "standoff": 15
           },
           "zerolinecolor": "white",
           "zerolinewidth": 2
          }
         }
        },
        "title": {
         "text": "Install to conversion rate Over Time by Marketing channel"
        },
        "width": 1000,
        "xaxis": {
         "title": {
          "text": "Date"
         }
        },
        "yaxis": {
         "title": {
          "text": "Install to Conversion rate"
         }
        }
       }
      }
     },
     "metadata": {},
     "output_type": "display_data"
    }
   ],
   "source": [
    "create_grouped_line_chart(\n",
    "    df=df_channels_over_time[df_channels_over_time['country']=='DE'],\n",
    "    x_column=\"date\",\n",
    "    y_column=\"install_to_conversion_rate\",\n",
    "    group_column=\"marketing_channel\",\n",
    "    y_label=\"Install to Conversion rate\"\n",
    ")\n"
   ]
  },
  {
   "cell_type": "code",
   "execution_count": 27,
   "id": "f1677837",
   "metadata": {},
   "outputs": [
    {
     "data": {
      "application/vnd.plotly.v1+json": {
       "config": {
        "plotlyServerURL": "https://plot.ly"
       },
       "data": [
        {
         "mode": "lines",
         "name": "Channel A",
         "type": "scatter",
         "x": [
          "2023-11-01",
          "2023-11-02",
          "2023-11-03",
          "2023-11-04",
          "2023-11-05",
          "2023-11-06",
          "2023-11-07",
          "2023-11-08",
          "2023-11-09",
          "2023-11-10",
          "2023-11-11",
          "2023-11-12",
          "2023-11-13",
          "2023-11-14",
          "2023-11-15",
          "2023-11-16",
          "2023-11-17",
          "2023-11-18",
          "2023-11-19",
          "2023-11-20",
          "2023-11-21",
          "2023-11-22",
          "2023-11-23",
          "2023-11-24",
          "2023-11-25",
          "2023-11-26",
          "2023-11-27",
          "2023-11-28",
          "2023-11-29",
          "2023-11-30"
         ],
         "y": [
          2.37,
          2.31,
          2.24,
          2.08,
          2.12,
          1.94,
          1.83,
          1.74,
          1.84,
          1.99,
          1.77,
          1.59,
          1.54,
          1.91,
          1.8,
          1.76,
          2.04,
          1.87,
          2.05,
          1.85,
          1.81,
          1.98,
          2.38,
          2.5,
          2.18,
          2.14,
          1.91,
          2.22,
          1.97,
          2.36
         ]
        },
        {
         "mode": "lines",
         "name": "Channel B",
         "type": "scatter",
         "x": [
          "2023-11-01",
          "2023-11-02",
          "2023-11-03",
          "2023-11-04",
          "2023-11-05",
          "2023-11-06",
          "2023-11-07",
          "2023-11-08",
          "2023-11-09",
          "2023-11-10",
          "2023-11-11",
          "2023-11-12",
          "2023-11-13",
          "2023-11-14",
          "2023-11-15",
          "2023-11-16",
          "2023-11-17",
          "2023-11-18",
          "2023-11-19",
          "2023-11-20",
          "2023-11-21",
          "2023-11-22",
          "2023-11-23",
          "2023-11-24",
          "2023-11-25",
          "2023-11-26",
          "2023-11-27",
          "2023-11-28",
          "2023-11-29",
          "2023-11-30"
         ],
         "y": [
          4.73,
          6.71,
          7.86,
          6.73,
          5.67,
          5.68,
          4.78,
          6.82,
          7.77,
          6.83,
          4.73,
          4.62,
          4.86,
          5.15,
          4.84,
          5.29,
          6.02,
          6.06,
          4.59,
          4.92,
          5.29,
          5.65,
          6.14,
          7,
          6.49,
          5.4,
          6.35,
          5.91,
          7.36,
          6.79
         ]
        },
        {
         "mode": "lines",
         "name": "Channel C",
         "type": "scatter",
         "x": [
          "2023-11-01",
          "2023-11-02",
          "2023-11-03",
          "2023-11-04",
          "2023-11-05",
          "2023-11-06",
          "2023-11-07",
          "2023-11-08",
          "2023-11-09",
          "2023-11-10",
          "2023-11-11",
          "2023-11-12",
          "2023-11-13",
          "2023-11-14",
          "2023-11-15",
          "2023-11-16",
          "2023-11-17",
          "2023-11-18",
          "2023-11-19",
          "2023-11-20",
          "2023-11-21",
          "2023-11-22",
          "2023-11-23",
          "2023-11-24",
          "2023-11-25",
          "2023-11-26",
          "2023-11-27",
          "2023-11-28",
          "2023-11-29",
          "2023-11-30"
         ],
         "y": [
          1.44,
          1.76,
          1.82,
          1.92,
          1.89,
          1.97,
          1.53,
          1.64,
          1.47,
          1.53,
          1.54,
          1.58,
          1.43,
          1.42,
          1.34,
          1.4,
          1.42,
          1.52,
          1.31,
          1.6,
          1.78,
          1.68,
          1.56,
          1.6,
          1.48,
          1.63,
          1.64,
          1.64,
          1.55,
          1.59
         ]
        },
        {
         "mode": "lines",
         "name": "Channel D",
         "type": "scatter",
         "x": [
          "2023-11-01",
          "2023-11-02",
          "2023-11-03",
          "2023-11-04",
          "2023-11-05",
          "2023-11-06",
          "2023-11-07",
          "2023-11-08",
          "2023-11-09",
          "2023-11-10",
          "2023-11-11",
          "2023-11-12",
          "2023-11-13",
          "2023-11-14",
          "2023-11-15",
          "2023-11-16",
          "2023-11-17",
          "2023-11-18",
          "2023-11-19",
          "2023-11-20",
          "2023-11-21",
          "2023-11-22",
          "2023-11-23",
          "2023-11-24",
          "2023-11-25",
          "2023-11-26",
          "2023-11-27",
          "2023-11-28",
          "2023-11-29",
          "2023-11-30"
         ],
         "y": [
          null,
          null,
          null,
          null,
          null,
          null,
          null,
          null,
          null,
          null,
          null,
          null,
          null,
          null,
          null,
          null,
          null,
          null,
          null,
          null,
          null,
          null,
          null,
          null,
          null,
          null,
          null,
          null,
          null,
          null
         ]
        },
        {
         "mode": "lines",
         "name": "Channel E",
         "type": "scatter",
         "x": [
          "2023-11-01",
          "2023-11-02",
          "2023-11-03",
          "2023-11-04",
          "2023-11-05",
          "2023-11-06",
          "2023-11-07",
          "2023-11-08",
          "2023-11-09",
          "2023-11-10",
          "2023-11-11",
          "2023-11-12",
          "2023-11-13",
          "2023-11-14",
          "2023-11-15",
          "2023-11-16",
          "2023-11-17",
          "2023-11-18",
          "2023-11-19",
          "2023-11-20",
          "2023-11-21",
          "2023-11-22",
          "2023-11-23",
          "2023-11-24",
          "2023-11-25",
          "2023-11-26",
          "2023-11-27",
          "2023-11-28",
          "2023-11-29",
          "2023-11-30"
         ],
         "y": [
          4.91,
          5.62,
          7.33,
          6,
          1.37,
          2.6,
          4.37,
          4.62,
          5.11,
          5.92,
          4.97,
          3.88,
          5.63,
          5.06,
          6.66,
          7.03,
          5.97,
          4.58,
          6.46,
          1.25,
          9.71,
          8.59,
          8.87,
          13.25,
          9.74,
          8.61,
          10.64,
          9.2,
          7.1,
          8.37
         ]
        }
       ],
       "layout": {
        "annotations": [
         {
          "arrowhead": 2,
          "ax": 0,
          "ay": -40,
          "showarrow": true,
          "text": "Black Friday",
          "x": "2023-11-24",
          "y": 13.25
         }
        ],
        "height": 600,
        "legend": {
         "title": {
          "text": "Marketing channel"
         }
        },
        "template": {
         "data": {
          "bar": [
           {
            "error_x": {
             "color": "#2a3f5f"
            },
            "error_y": {
             "color": "#2a3f5f"
            },
            "marker": {
             "line": {
              "color": "#E5ECF6",
              "width": 0.5
             },
             "pattern": {
              "fillmode": "overlay",
              "size": 10,
              "solidity": 0.2
             }
            },
            "type": "bar"
           }
          ],
          "barpolar": [
           {
            "marker": {
             "line": {
              "color": "#E5ECF6",
              "width": 0.5
             },
             "pattern": {
              "fillmode": "overlay",
              "size": 10,
              "solidity": 0.2
             }
            },
            "type": "barpolar"
           }
          ],
          "carpet": [
           {
            "aaxis": {
             "endlinecolor": "#2a3f5f",
             "gridcolor": "white",
             "linecolor": "white",
             "minorgridcolor": "white",
             "startlinecolor": "#2a3f5f"
            },
            "baxis": {
             "endlinecolor": "#2a3f5f",
             "gridcolor": "white",
             "linecolor": "white",
             "minorgridcolor": "white",
             "startlinecolor": "#2a3f5f"
            },
            "type": "carpet"
           }
          ],
          "choropleth": [
           {
            "colorbar": {
             "outlinewidth": 0,
             "ticks": ""
            },
            "type": "choropleth"
           }
          ],
          "contour": [
           {
            "colorbar": {
             "outlinewidth": 0,
             "ticks": ""
            },
            "colorscale": [
             [
              0,
              "#0d0887"
             ],
             [
              0.1111111111111111,
              "#46039f"
             ],
             [
              0.2222222222222222,
              "#7201a8"
             ],
             [
              0.3333333333333333,
              "#9c179e"
             ],
             [
              0.4444444444444444,
              "#bd3786"
             ],
             [
              0.5555555555555556,
              "#d8576b"
             ],
             [
              0.6666666666666666,
              "#ed7953"
             ],
             [
              0.7777777777777778,
              "#fb9f3a"
             ],
             [
              0.8888888888888888,
              "#fdca26"
             ],
             [
              1,
              "#f0f921"
             ]
            ],
            "type": "contour"
           }
          ],
          "contourcarpet": [
           {
            "colorbar": {
             "outlinewidth": 0,
             "ticks": ""
            },
            "type": "contourcarpet"
           }
          ],
          "heatmap": [
           {
            "colorbar": {
             "outlinewidth": 0,
             "ticks": ""
            },
            "colorscale": [
             [
              0,
              "#0d0887"
             ],
             [
              0.1111111111111111,
              "#46039f"
             ],
             [
              0.2222222222222222,
              "#7201a8"
             ],
             [
              0.3333333333333333,
              "#9c179e"
             ],
             [
              0.4444444444444444,
              "#bd3786"
             ],
             [
              0.5555555555555556,
              "#d8576b"
             ],
             [
              0.6666666666666666,
              "#ed7953"
             ],
             [
              0.7777777777777778,
              "#fb9f3a"
             ],
             [
              0.8888888888888888,
              "#fdca26"
             ],
             [
              1,
              "#f0f921"
             ]
            ],
            "type": "heatmap"
           }
          ],
          "heatmapgl": [
           {
            "colorbar": {
             "outlinewidth": 0,
             "ticks": ""
            },
            "colorscale": [
             [
              0,
              "#0d0887"
             ],
             [
              0.1111111111111111,
              "#46039f"
             ],
             [
              0.2222222222222222,
              "#7201a8"
             ],
             [
              0.3333333333333333,
              "#9c179e"
             ],
             [
              0.4444444444444444,
              "#bd3786"
             ],
             [
              0.5555555555555556,
              "#d8576b"
             ],
             [
              0.6666666666666666,
              "#ed7953"
             ],
             [
              0.7777777777777778,
              "#fb9f3a"
             ],
             [
              0.8888888888888888,
              "#fdca26"
             ],
             [
              1,
              "#f0f921"
             ]
            ],
            "type": "heatmapgl"
           }
          ],
          "histogram": [
           {
            "marker": {
             "pattern": {
              "fillmode": "overlay",
              "size": 10,
              "solidity": 0.2
             }
            },
            "type": "histogram"
           }
          ],
          "histogram2d": [
           {
            "colorbar": {
             "outlinewidth": 0,
             "ticks": ""
            },
            "colorscale": [
             [
              0,
              "#0d0887"
             ],
             [
              0.1111111111111111,
              "#46039f"
             ],
             [
              0.2222222222222222,
              "#7201a8"
             ],
             [
              0.3333333333333333,
              "#9c179e"
             ],
             [
              0.4444444444444444,
              "#bd3786"
             ],
             [
              0.5555555555555556,
              "#d8576b"
             ],
             [
              0.6666666666666666,
              "#ed7953"
             ],
             [
              0.7777777777777778,
              "#fb9f3a"
             ],
             [
              0.8888888888888888,
              "#fdca26"
             ],
             [
              1,
              "#f0f921"
             ]
            ],
            "type": "histogram2d"
           }
          ],
          "histogram2dcontour": [
           {
            "colorbar": {
             "outlinewidth": 0,
             "ticks": ""
            },
            "colorscale": [
             [
              0,
              "#0d0887"
             ],
             [
              0.1111111111111111,
              "#46039f"
             ],
             [
              0.2222222222222222,
              "#7201a8"
             ],
             [
              0.3333333333333333,
              "#9c179e"
             ],
             [
              0.4444444444444444,
              "#bd3786"
             ],
             [
              0.5555555555555556,
              "#d8576b"
             ],
             [
              0.6666666666666666,
              "#ed7953"
             ],
             [
              0.7777777777777778,
              "#fb9f3a"
             ],
             [
              0.8888888888888888,
              "#fdca26"
             ],
             [
              1,
              "#f0f921"
             ]
            ],
            "type": "histogram2dcontour"
           }
          ],
          "mesh3d": [
           {
            "colorbar": {
             "outlinewidth": 0,
             "ticks": ""
            },
            "type": "mesh3d"
           }
          ],
          "parcoords": [
           {
            "line": {
             "colorbar": {
              "outlinewidth": 0,
              "ticks": ""
             }
            },
            "type": "parcoords"
           }
          ],
          "pie": [
           {
            "automargin": true,
            "type": "pie"
           }
          ],
          "scatter": [
           {
            "fillpattern": {
             "fillmode": "overlay",
             "size": 10,
             "solidity": 0.2
            },
            "type": "scatter"
           }
          ],
          "scatter3d": [
           {
            "line": {
             "colorbar": {
              "outlinewidth": 0,
              "ticks": ""
             }
            },
            "marker": {
             "colorbar": {
              "outlinewidth": 0,
              "ticks": ""
             }
            },
            "type": "scatter3d"
           }
          ],
          "scattercarpet": [
           {
            "marker": {
             "colorbar": {
              "outlinewidth": 0,
              "ticks": ""
             }
            },
            "type": "scattercarpet"
           }
          ],
          "scattergeo": [
           {
            "marker": {
             "colorbar": {
              "outlinewidth": 0,
              "ticks": ""
             }
            },
            "type": "scattergeo"
           }
          ],
          "scattergl": [
           {
            "marker": {
             "colorbar": {
              "outlinewidth": 0,
              "ticks": ""
             }
            },
            "type": "scattergl"
           }
          ],
          "scattermapbox": [
           {
            "marker": {
             "colorbar": {
              "outlinewidth": 0,
              "ticks": ""
             }
            },
            "type": "scattermapbox"
           }
          ],
          "scatterpolar": [
           {
            "marker": {
             "colorbar": {
              "outlinewidth": 0,
              "ticks": ""
             }
            },
            "type": "scatterpolar"
           }
          ],
          "scatterpolargl": [
           {
            "marker": {
             "colorbar": {
              "outlinewidth": 0,
              "ticks": ""
             }
            },
            "type": "scatterpolargl"
           }
          ],
          "scatterternary": [
           {
            "marker": {
             "colorbar": {
              "outlinewidth": 0,
              "ticks": ""
             }
            },
            "type": "scatterternary"
           }
          ],
          "surface": [
           {
            "colorbar": {
             "outlinewidth": 0,
             "ticks": ""
            },
            "colorscale": [
             [
              0,
              "#0d0887"
             ],
             [
              0.1111111111111111,
              "#46039f"
             ],
             [
              0.2222222222222222,
              "#7201a8"
             ],
             [
              0.3333333333333333,
              "#9c179e"
             ],
             [
              0.4444444444444444,
              "#bd3786"
             ],
             [
              0.5555555555555556,
              "#d8576b"
             ],
             [
              0.6666666666666666,
              "#ed7953"
             ],
             [
              0.7777777777777778,
              "#fb9f3a"
             ],
             [
              0.8888888888888888,
              "#fdca26"
             ],
             [
              1,
              "#f0f921"
             ]
            ],
            "type": "surface"
           }
          ],
          "table": [
           {
            "cells": {
             "fill": {
              "color": "#EBF0F8"
             },
             "line": {
              "color": "white"
             }
            },
            "header": {
             "fill": {
              "color": "#C8D4E3"
             },
             "line": {
              "color": "white"
             }
            },
            "type": "table"
           }
          ]
         },
         "layout": {
          "annotationdefaults": {
           "arrowcolor": "#2a3f5f",
           "arrowhead": 0,
           "arrowwidth": 1
          },
          "autotypenumbers": "strict",
          "coloraxis": {
           "colorbar": {
            "outlinewidth": 0,
            "ticks": ""
           }
          },
          "colorscale": {
           "diverging": [
            [
             0,
             "#8e0152"
            ],
            [
             0.1,
             "#c51b7d"
            ],
            [
             0.2,
             "#de77ae"
            ],
            [
             0.3,
             "#f1b6da"
            ],
            [
             0.4,
             "#fde0ef"
            ],
            [
             0.5,
             "#f7f7f7"
            ],
            [
             0.6,
             "#e6f5d0"
            ],
            [
             0.7,
             "#b8e186"
            ],
            [
             0.8,
             "#7fbc41"
            ],
            [
             0.9,
             "#4d9221"
            ],
            [
             1,
             "#276419"
            ]
           ],
           "sequential": [
            [
             0,
             "#0d0887"
            ],
            [
             0.1111111111111111,
             "#46039f"
            ],
            [
             0.2222222222222222,
             "#7201a8"
            ],
            [
             0.3333333333333333,
             "#9c179e"
            ],
            [
             0.4444444444444444,
             "#bd3786"
            ],
            [
             0.5555555555555556,
             "#d8576b"
            ],
            [
             0.6666666666666666,
             "#ed7953"
            ],
            [
             0.7777777777777778,
             "#fb9f3a"
            ],
            [
             0.8888888888888888,
             "#fdca26"
            ],
            [
             1,
             "#f0f921"
            ]
           ],
           "sequentialminus": [
            [
             0,
             "#0d0887"
            ],
            [
             0.1111111111111111,
             "#46039f"
            ],
            [
             0.2222222222222222,
             "#7201a8"
            ],
            [
             0.3333333333333333,
             "#9c179e"
            ],
            [
             0.4444444444444444,
             "#bd3786"
            ],
            [
             0.5555555555555556,
             "#d8576b"
            ],
            [
             0.6666666666666666,
             "#ed7953"
            ],
            [
             0.7777777777777778,
             "#fb9f3a"
            ],
            [
             0.8888888888888888,
             "#fdca26"
            ],
            [
             1,
             "#f0f921"
            ]
           ]
          },
          "colorway": [
           "#636efa",
           "#EF553B",
           "#00cc96",
           "#ab63fa",
           "#FFA15A",
           "#19d3f3",
           "#FF6692",
           "#B6E880",
           "#FF97FF",
           "#FECB52"
          ],
          "font": {
           "color": "#2a3f5f"
          },
          "geo": {
           "bgcolor": "white",
           "lakecolor": "white",
           "landcolor": "#E5ECF6",
           "showlakes": true,
           "showland": true,
           "subunitcolor": "white"
          },
          "hoverlabel": {
           "align": "left"
          },
          "hovermode": "closest",
          "mapbox": {
           "style": "light"
          },
          "paper_bgcolor": "white",
          "plot_bgcolor": "#E5ECF6",
          "polar": {
           "angularaxis": {
            "gridcolor": "white",
            "linecolor": "white",
            "ticks": ""
           },
           "bgcolor": "#E5ECF6",
           "radialaxis": {
            "gridcolor": "white",
            "linecolor": "white",
            "ticks": ""
           }
          },
          "scene": {
           "xaxis": {
            "backgroundcolor": "#E5ECF6",
            "gridcolor": "white",
            "gridwidth": 2,
            "linecolor": "white",
            "showbackground": true,
            "ticks": "",
            "zerolinecolor": "white"
           },
           "yaxis": {
            "backgroundcolor": "#E5ECF6",
            "gridcolor": "white",
            "gridwidth": 2,
            "linecolor": "white",
            "showbackground": true,
            "ticks": "",
            "zerolinecolor": "white"
           },
           "zaxis": {
            "backgroundcolor": "#E5ECF6",
            "gridcolor": "white",
            "gridwidth": 2,
            "linecolor": "white",
            "showbackground": true,
            "ticks": "",
            "zerolinecolor": "white"
           }
          },
          "shapedefaults": {
           "line": {
            "color": "#2a3f5f"
           }
          },
          "ternary": {
           "aaxis": {
            "gridcolor": "white",
            "linecolor": "white",
            "ticks": ""
           },
           "baxis": {
            "gridcolor": "white",
            "linecolor": "white",
            "ticks": ""
           },
           "bgcolor": "#E5ECF6",
           "caxis": {
            "gridcolor": "white",
            "linecolor": "white",
            "ticks": ""
           }
          },
          "title": {
           "x": 0.05
          },
          "xaxis": {
           "automargin": true,
           "gridcolor": "white",
           "linecolor": "white",
           "ticks": "",
           "title": {
            "standoff": 15
           },
           "zerolinecolor": "white",
           "zerolinewidth": 2
          },
          "yaxis": {
           "automargin": true,
           "gridcolor": "white",
           "linecolor": "white",
           "ticks": "",
           "title": {
            "standoff": 15
           },
           "zerolinecolor": "white",
           "zerolinewidth": 2
          }
         }
        },
        "title": {
         "text": "Cpi Over Time by Marketing channel"
        },
        "width": 1000,
        "xaxis": {
         "title": {
          "text": "Date"
         }
        },
        "yaxis": {
         "title": {
          "text": "Cost per Install"
         }
        }
       }
      }
     },
     "metadata": {},
     "output_type": "display_data"
    }
   ],
   "source": [
    "create_grouped_line_chart(\n",
    "    df=df_channels_over_time[df_channels_over_time['country']=='DE'],\n",
    "    x_column=\"date\",\n",
    "    y_column=\"cpi\",\n",
    "    group_column=\"marketing_channel\",\n",
    "    y_label=\"Cost per Install\"\n",
    ")"
   ]
  },
  {
   "cell_type": "code",
   "execution_count": 28,
   "id": "44a05b0a",
   "metadata": {},
   "outputs": [
    {
     "data": {
      "application/vnd.plotly.v1+json": {
       "config": {
        "plotlyServerURL": "https://plot.ly"
       },
       "data": [
        {
         "mode": "lines",
         "name": "Channel A",
         "type": "scatter",
         "x": [
          "2023-11-01",
          "2023-11-02",
          "2023-11-03",
          "2023-11-04",
          "2023-11-05",
          "2023-11-06",
          "2023-11-07",
          "2023-11-08",
          "2023-11-09",
          "2023-11-10",
          "2023-11-11",
          "2023-11-12",
          "2023-11-13",
          "2023-11-14",
          "2023-11-15",
          "2023-11-16",
          "2023-11-17",
          "2023-11-18",
          "2023-11-19",
          "2023-11-20",
          "2023-11-21",
          "2023-11-22",
          "2023-11-23",
          "2023-11-24",
          "2023-11-25",
          "2023-11-26",
          "2023-11-27",
          "2023-11-28",
          "2023-11-29",
          "2023-11-30"
         ],
         "y": [
          559.66,
          -18.99,
          465.11,
          227.89,
          902.22,
          524.86,
          751.48,
          448.42,
          505.62,
          359.12,
          711.94,
          996.53,
          1035.74,
          845.72,
          677.48,
          442.52,
          186.07,
          573.25,
          471.21,
          1092.52,
          665.06,
          472.55,
          115.68,
          -127.16,
          188.04,
          -9.67,
          512.97,
          467.29,
          396.94,
          -171.16
         ]
        },
        {
         "mode": "lines",
         "name": "Channel B",
         "type": "scatter",
         "x": [
          "2023-11-01",
          "2023-11-02",
          "2023-11-03",
          "2023-11-04",
          "2023-11-05",
          "2023-11-06",
          "2023-11-07",
          "2023-11-08",
          "2023-11-09",
          "2023-11-10",
          "2023-11-11",
          "2023-11-12",
          "2023-11-13",
          "2023-11-14",
          "2023-11-15",
          "2023-11-16",
          "2023-11-17",
          "2023-11-18",
          "2023-11-19",
          "2023-11-20",
          "2023-11-21",
          "2023-11-22",
          "2023-11-23",
          "2023-11-24",
          "2023-11-25",
          "2023-11-26",
          "2023-11-27",
          "2023-11-28",
          "2023-11-29",
          "2023-11-30"
         ],
         "y": [
          -1110.14,
          -1562.34,
          -1725.87,
          -1485.58,
          -1607.27,
          -1029.54,
          -1023.91,
          -871.13,
          -699.66,
          -704.59,
          -681.27,
          -570.73,
          -615.98,
          -563.8,
          -672.32,
          -583.6,
          -582.23,
          -628.85,
          -422.21,
          -469.03,
          -444.46,
          -607.63,
          -506.79,
          -497.2,
          -576.61,
          -625.1,
          -375.92,
          -336.88,
          -349.08,
          -321.95
         ]
        },
        {
         "mode": "lines",
         "name": "Channel C",
         "type": "scatter",
         "x": [
          "2023-11-01",
          "2023-11-02",
          "2023-11-03",
          "2023-11-04",
          "2023-11-05",
          "2023-11-06",
          "2023-11-07",
          "2023-11-08",
          "2023-11-09",
          "2023-11-10",
          "2023-11-11",
          "2023-11-12",
          "2023-11-13",
          "2023-11-14",
          "2023-11-15",
          "2023-11-16",
          "2023-11-17",
          "2023-11-18",
          "2023-11-19",
          "2023-11-20",
          "2023-11-21",
          "2023-11-22",
          "2023-11-23",
          "2023-11-24",
          "2023-11-25",
          "2023-11-26",
          "2023-11-27",
          "2023-11-28",
          "2023-11-29",
          "2023-11-30"
         ],
         "y": [
          2367.54,
          1634.91,
          1418.33,
          1322.5,
          1744.56,
          1347.99,
          1871.49,
          1628.88,
          1540.35,
          1267.02,
          1209.01,
          1719.04,
          2395.3,
          1531.97,
          1710.63,
          1731.15,
          1575.14,
          246.38,
          1674.22,
          2193.5,
          1700.45,
          2258.75,
          1843.17,
          1911.18,
          1948.73,
          2425.66,
          1998.25,
          1802.46,
          1779.83,
          1655.96
         ]
        },
        {
         "mode": "lines",
         "name": "Channel D",
         "type": "scatter",
         "x": [
          "2023-11-01",
          "2023-11-02",
          "2023-11-03",
          "2023-11-04",
          "2023-11-05",
          "2023-11-06",
          "2023-11-07",
          "2023-11-08",
          "2023-11-09",
          "2023-11-10",
          "2023-11-11",
          "2023-11-12",
          "2023-11-13",
          "2023-11-14",
          "2023-11-15",
          "2023-11-16",
          "2023-11-17",
          "2023-11-18",
          "2023-11-19",
          "2023-11-20",
          "2023-11-21",
          "2023-11-22",
          "2023-11-23",
          "2023-11-24",
          "2023-11-25",
          "2023-11-26",
          "2023-11-27",
          "2023-11-28",
          "2023-11-29",
          "2023-11-30"
         ],
         "y": [
          -6.14,
          -6.14,
          -6.18,
          -6.13,
          -863.17,
          -862.28,
          -860.41,
          -861.6,
          -861.52,
          -865.25,
          -864.36,
          -6.12,
          -6.14,
          -6.23,
          -6.12,
          -6.13,
          -6.17,
          -6.13,
          -3254.9,
          -6.14,
          -6.13,
          -2007.32,
          -6.13,
          -6.13,
          -6.13,
          -6.13,
          -6.13,
          -6.13,
          -6.13,
          -1077.35
         ]
        },
        {
         "mode": "lines",
         "name": "Channel E",
         "type": "scatter",
         "x": [
          "2023-11-01",
          "2023-11-02",
          "2023-11-03",
          "2023-11-04",
          "2023-11-05",
          "2023-11-06",
          "2023-11-07",
          "2023-11-08",
          "2023-11-09",
          "2023-11-10",
          "2023-11-11",
          "2023-11-12",
          "2023-11-13",
          "2023-11-14",
          "2023-11-15",
          "2023-11-16",
          "2023-11-17",
          "2023-11-18",
          "2023-11-19",
          "2023-11-20",
          "2023-11-21",
          "2023-11-22",
          "2023-11-23",
          "2023-11-24",
          "2023-11-25",
          "2023-11-26",
          "2023-11-27",
          "2023-11-28",
          "2023-11-29",
          "2023-11-30"
         ],
         "y": [
          -160.49,
          -213.23,
          -397.91,
          -364.59,
          14.67,
          95.41,
          -59.46,
          -261.86,
          -216.65,
          -23.14,
          -426.78,
          -382.15,
          -150.57,
          -307.63,
          -333.29,
          -250.46,
          -418.88,
          -421.76,
          -402.77,
          93.37,
          -339.99,
          -327.46,
          -351.35,
          -443.49,
          -418.98,
          -385.72,
          -402.02,
          -523.42,
          -298.43,
          -296.89
         ]
        }
       ],
       "layout": {
        "annotations": [
         {
          "arrowhead": 2,
          "ax": 0,
          "ay": -40,
          "showarrow": true,
          "text": "Black Friday",
          "x": "2023-11-24",
          "y": 2425.66
         }
        ],
        "height": 600,
        "legend": {
         "title": {
          "text": "Marketing channel"
         }
        },
        "template": {
         "data": {
          "bar": [
           {
            "error_x": {
             "color": "#2a3f5f"
            },
            "error_y": {
             "color": "#2a3f5f"
            },
            "marker": {
             "line": {
              "color": "#E5ECF6",
              "width": 0.5
             },
             "pattern": {
              "fillmode": "overlay",
              "size": 10,
              "solidity": 0.2
             }
            },
            "type": "bar"
           }
          ],
          "barpolar": [
           {
            "marker": {
             "line": {
              "color": "#E5ECF6",
              "width": 0.5
             },
             "pattern": {
              "fillmode": "overlay",
              "size": 10,
              "solidity": 0.2
             }
            },
            "type": "barpolar"
           }
          ],
          "carpet": [
           {
            "aaxis": {
             "endlinecolor": "#2a3f5f",
             "gridcolor": "white",
             "linecolor": "white",
             "minorgridcolor": "white",
             "startlinecolor": "#2a3f5f"
            },
            "baxis": {
             "endlinecolor": "#2a3f5f",
             "gridcolor": "white",
             "linecolor": "white",
             "minorgridcolor": "white",
             "startlinecolor": "#2a3f5f"
            },
            "type": "carpet"
           }
          ],
          "choropleth": [
           {
            "colorbar": {
             "outlinewidth": 0,
             "ticks": ""
            },
            "type": "choropleth"
           }
          ],
          "contour": [
           {
            "colorbar": {
             "outlinewidth": 0,
             "ticks": ""
            },
            "colorscale": [
             [
              0,
              "#0d0887"
             ],
             [
              0.1111111111111111,
              "#46039f"
             ],
             [
              0.2222222222222222,
              "#7201a8"
             ],
             [
              0.3333333333333333,
              "#9c179e"
             ],
             [
              0.4444444444444444,
              "#bd3786"
             ],
             [
              0.5555555555555556,
              "#d8576b"
             ],
             [
              0.6666666666666666,
              "#ed7953"
             ],
             [
              0.7777777777777778,
              "#fb9f3a"
             ],
             [
              0.8888888888888888,
              "#fdca26"
             ],
             [
              1,
              "#f0f921"
             ]
            ],
            "type": "contour"
           }
          ],
          "contourcarpet": [
           {
            "colorbar": {
             "outlinewidth": 0,
             "ticks": ""
            },
            "type": "contourcarpet"
           }
          ],
          "heatmap": [
           {
            "colorbar": {
             "outlinewidth": 0,
             "ticks": ""
            },
            "colorscale": [
             [
              0,
              "#0d0887"
             ],
             [
              0.1111111111111111,
              "#46039f"
             ],
             [
              0.2222222222222222,
              "#7201a8"
             ],
             [
              0.3333333333333333,
              "#9c179e"
             ],
             [
              0.4444444444444444,
              "#bd3786"
             ],
             [
              0.5555555555555556,
              "#d8576b"
             ],
             [
              0.6666666666666666,
              "#ed7953"
             ],
             [
              0.7777777777777778,
              "#fb9f3a"
             ],
             [
              0.8888888888888888,
              "#fdca26"
             ],
             [
              1,
              "#f0f921"
             ]
            ],
            "type": "heatmap"
           }
          ],
          "heatmapgl": [
           {
            "colorbar": {
             "outlinewidth": 0,
             "ticks": ""
            },
            "colorscale": [
             [
              0,
              "#0d0887"
             ],
             [
              0.1111111111111111,
              "#46039f"
             ],
             [
              0.2222222222222222,
              "#7201a8"
             ],
             [
              0.3333333333333333,
              "#9c179e"
             ],
             [
              0.4444444444444444,
              "#bd3786"
             ],
             [
              0.5555555555555556,
              "#d8576b"
             ],
             [
              0.6666666666666666,
              "#ed7953"
             ],
             [
              0.7777777777777778,
              "#fb9f3a"
             ],
             [
              0.8888888888888888,
              "#fdca26"
             ],
             [
              1,
              "#f0f921"
             ]
            ],
            "type": "heatmapgl"
           }
          ],
          "histogram": [
           {
            "marker": {
             "pattern": {
              "fillmode": "overlay",
              "size": 10,
              "solidity": 0.2
             }
            },
            "type": "histogram"
           }
          ],
          "histogram2d": [
           {
            "colorbar": {
             "outlinewidth": 0,
             "ticks": ""
            },
            "colorscale": [
             [
              0,
              "#0d0887"
             ],
             [
              0.1111111111111111,
              "#46039f"
             ],
             [
              0.2222222222222222,
              "#7201a8"
             ],
             [
              0.3333333333333333,
              "#9c179e"
             ],
             [
              0.4444444444444444,
              "#bd3786"
             ],
             [
              0.5555555555555556,
              "#d8576b"
             ],
             [
              0.6666666666666666,
              "#ed7953"
             ],
             [
              0.7777777777777778,
              "#fb9f3a"
             ],
             [
              0.8888888888888888,
              "#fdca26"
             ],
             [
              1,
              "#f0f921"
             ]
            ],
            "type": "histogram2d"
           }
          ],
          "histogram2dcontour": [
           {
            "colorbar": {
             "outlinewidth": 0,
             "ticks": ""
            },
            "colorscale": [
             [
              0,
              "#0d0887"
             ],
             [
              0.1111111111111111,
              "#46039f"
             ],
             [
              0.2222222222222222,
              "#7201a8"
             ],
             [
              0.3333333333333333,
              "#9c179e"
             ],
             [
              0.4444444444444444,
              "#bd3786"
             ],
             [
              0.5555555555555556,
              "#d8576b"
             ],
             [
              0.6666666666666666,
              "#ed7953"
             ],
             [
              0.7777777777777778,
              "#fb9f3a"
             ],
             [
              0.8888888888888888,
              "#fdca26"
             ],
             [
              1,
              "#f0f921"
             ]
            ],
            "type": "histogram2dcontour"
           }
          ],
          "mesh3d": [
           {
            "colorbar": {
             "outlinewidth": 0,
             "ticks": ""
            },
            "type": "mesh3d"
           }
          ],
          "parcoords": [
           {
            "line": {
             "colorbar": {
              "outlinewidth": 0,
              "ticks": ""
             }
            },
            "type": "parcoords"
           }
          ],
          "pie": [
           {
            "automargin": true,
            "type": "pie"
           }
          ],
          "scatter": [
           {
            "fillpattern": {
             "fillmode": "overlay",
             "size": 10,
             "solidity": 0.2
            },
            "type": "scatter"
           }
          ],
          "scatter3d": [
           {
            "line": {
             "colorbar": {
              "outlinewidth": 0,
              "ticks": ""
             }
            },
            "marker": {
             "colorbar": {
              "outlinewidth": 0,
              "ticks": ""
             }
            },
            "type": "scatter3d"
           }
          ],
          "scattercarpet": [
           {
            "marker": {
             "colorbar": {
              "outlinewidth": 0,
              "ticks": ""
             }
            },
            "type": "scattercarpet"
           }
          ],
          "scattergeo": [
           {
            "marker": {
             "colorbar": {
              "outlinewidth": 0,
              "ticks": ""
             }
            },
            "type": "scattergeo"
           }
          ],
          "scattergl": [
           {
            "marker": {
             "colorbar": {
              "outlinewidth": 0,
              "ticks": ""
             }
            },
            "type": "scattergl"
           }
          ],
          "scattermapbox": [
           {
            "marker": {
             "colorbar": {
              "outlinewidth": 0,
              "ticks": ""
             }
            },
            "type": "scattermapbox"
           }
          ],
          "scatterpolar": [
           {
            "marker": {
             "colorbar": {
              "outlinewidth": 0,
              "ticks": ""
             }
            },
            "type": "scatterpolar"
           }
          ],
          "scatterpolargl": [
           {
            "marker": {
             "colorbar": {
              "outlinewidth": 0,
              "ticks": ""
             }
            },
            "type": "scatterpolargl"
           }
          ],
          "scatterternary": [
           {
            "marker": {
             "colorbar": {
              "outlinewidth": 0,
              "ticks": ""
             }
            },
            "type": "scatterternary"
           }
          ],
          "surface": [
           {
            "colorbar": {
             "outlinewidth": 0,
             "ticks": ""
            },
            "colorscale": [
             [
              0,
              "#0d0887"
             ],
             [
              0.1111111111111111,
              "#46039f"
             ],
             [
              0.2222222222222222,
              "#7201a8"
             ],
             [
              0.3333333333333333,
              "#9c179e"
             ],
             [
              0.4444444444444444,
              "#bd3786"
             ],
             [
              0.5555555555555556,
              "#d8576b"
             ],
             [
              0.6666666666666666,
              "#ed7953"
             ],
             [
              0.7777777777777778,
              "#fb9f3a"
             ],
             [
              0.8888888888888888,
              "#fdca26"
             ],
             [
              1,
              "#f0f921"
             ]
            ],
            "type": "surface"
           }
          ],
          "table": [
           {
            "cells": {
             "fill": {
              "color": "#EBF0F8"
             },
             "line": {
              "color": "white"
             }
            },
            "header": {
             "fill": {
              "color": "#C8D4E3"
             },
             "line": {
              "color": "white"
             }
            },
            "type": "table"
           }
          ]
         },
         "layout": {
          "annotationdefaults": {
           "arrowcolor": "#2a3f5f",
           "arrowhead": 0,
           "arrowwidth": 1
          },
          "autotypenumbers": "strict",
          "coloraxis": {
           "colorbar": {
            "outlinewidth": 0,
            "ticks": ""
           }
          },
          "colorscale": {
           "diverging": [
            [
             0,
             "#8e0152"
            ],
            [
             0.1,
             "#c51b7d"
            ],
            [
             0.2,
             "#de77ae"
            ],
            [
             0.3,
             "#f1b6da"
            ],
            [
             0.4,
             "#fde0ef"
            ],
            [
             0.5,
             "#f7f7f7"
            ],
            [
             0.6,
             "#e6f5d0"
            ],
            [
             0.7,
             "#b8e186"
            ],
            [
             0.8,
             "#7fbc41"
            ],
            [
             0.9,
             "#4d9221"
            ],
            [
             1,
             "#276419"
            ]
           ],
           "sequential": [
            [
             0,
             "#0d0887"
            ],
            [
             0.1111111111111111,
             "#46039f"
            ],
            [
             0.2222222222222222,
             "#7201a8"
            ],
            [
             0.3333333333333333,
             "#9c179e"
            ],
            [
             0.4444444444444444,
             "#bd3786"
            ],
            [
             0.5555555555555556,
             "#d8576b"
            ],
            [
             0.6666666666666666,
             "#ed7953"
            ],
            [
             0.7777777777777778,
             "#fb9f3a"
            ],
            [
             0.8888888888888888,
             "#fdca26"
            ],
            [
             1,
             "#f0f921"
            ]
           ],
           "sequentialminus": [
            [
             0,
             "#0d0887"
            ],
            [
             0.1111111111111111,
             "#46039f"
            ],
            [
             0.2222222222222222,
             "#7201a8"
            ],
            [
             0.3333333333333333,
             "#9c179e"
            ],
            [
             0.4444444444444444,
             "#bd3786"
            ],
            [
             0.5555555555555556,
             "#d8576b"
            ],
            [
             0.6666666666666666,
             "#ed7953"
            ],
            [
             0.7777777777777778,
             "#fb9f3a"
            ],
            [
             0.8888888888888888,
             "#fdca26"
            ],
            [
             1,
             "#f0f921"
            ]
           ]
          },
          "colorway": [
           "#636efa",
           "#EF553B",
           "#00cc96",
           "#ab63fa",
           "#FFA15A",
           "#19d3f3",
           "#FF6692",
           "#B6E880",
           "#FF97FF",
           "#FECB52"
          ],
          "font": {
           "color": "#2a3f5f"
          },
          "geo": {
           "bgcolor": "white",
           "lakecolor": "white",
           "landcolor": "#E5ECF6",
           "showlakes": true,
           "showland": true,
           "subunitcolor": "white"
          },
          "hoverlabel": {
           "align": "left"
          },
          "hovermode": "closest",
          "mapbox": {
           "style": "light"
          },
          "paper_bgcolor": "white",
          "plot_bgcolor": "#E5ECF6",
          "polar": {
           "angularaxis": {
            "gridcolor": "white",
            "linecolor": "white",
            "ticks": ""
           },
           "bgcolor": "#E5ECF6",
           "radialaxis": {
            "gridcolor": "white",
            "linecolor": "white",
            "ticks": ""
           }
          },
          "scene": {
           "xaxis": {
            "backgroundcolor": "#E5ECF6",
            "gridcolor": "white",
            "gridwidth": 2,
            "linecolor": "white",
            "showbackground": true,
            "ticks": "",
            "zerolinecolor": "white"
           },
           "yaxis": {
            "backgroundcolor": "#E5ECF6",
            "gridcolor": "white",
            "gridwidth": 2,
            "linecolor": "white",
            "showbackground": true,
            "ticks": "",
            "zerolinecolor": "white"
           },
           "zaxis": {
            "backgroundcolor": "#E5ECF6",
            "gridcolor": "white",
            "gridwidth": 2,
            "linecolor": "white",
            "showbackground": true,
            "ticks": "",
            "zerolinecolor": "white"
           }
          },
          "shapedefaults": {
           "line": {
            "color": "#2a3f5f"
           }
          },
          "ternary": {
           "aaxis": {
            "gridcolor": "white",
            "linecolor": "white",
            "ticks": ""
           },
           "baxis": {
            "gridcolor": "white",
            "linecolor": "white",
            "ticks": ""
           },
           "bgcolor": "#E5ECF6",
           "caxis": {
            "gridcolor": "white",
            "linecolor": "white",
            "ticks": ""
           }
          },
          "title": {
           "x": 0.05
          },
          "xaxis": {
           "automargin": true,
           "gridcolor": "white",
           "linecolor": "white",
           "ticks": "",
           "title": {
            "standoff": 15
           },
           "zerolinecolor": "white",
           "zerolinewidth": 2
          },
          "yaxis": {
           "automargin": true,
           "gridcolor": "white",
           "linecolor": "white",
           "ticks": "",
           "title": {
            "standoff": 15
           },
           "zerolinecolor": "white",
           "zerolinewidth": 2
          }
         }
        },
        "title": {
         "text": "Profit Over Time by Marketing channel"
        },
        "width": 1000,
        "xaxis": {
         "title": {
          "text": "Date"
         }
        },
        "yaxis": {
         "title": {
          "text": "Profit"
         }
        }
       }
      }
     },
     "metadata": {},
     "output_type": "display_data"
    }
   ],
   "source": [
    "create_grouped_line_chart(\n",
    "    df=df_channels_over_time[df_channels_over_time['country']=='DE'],\n",
    "    x_column=\"date\",\n",
    "    y_column=\"profit\",\n",
    "    group_column=\"marketing_channel\",\n",
    "    y_label=\"Profit\"\n",
    ")"
   ]
  },
  {
   "cell_type": "markdown",
   "id": "763af21f",
   "metadata": {},
   "source": [
    "### By channel - US"
   ]
  },
  {
   "cell_type": "code",
   "execution_count": 29,
   "id": "4ab669e5",
   "metadata": {},
   "outputs": [
    {
     "data": {
      "application/vnd.plotly.v1+json": {
       "config": {
        "plotlyServerURL": "https://plot.ly"
       },
       "data": [
        {
         "mode": "lines",
         "name": "Channel A",
         "type": "scatter",
         "x": [
          "2023-11-01",
          "2023-11-02",
          "2023-11-03",
          "2023-11-04",
          "2023-11-06",
          "2023-11-07",
          "2023-11-13",
          "2023-11-16",
          "2023-11-21",
          "2023-11-22",
          "2023-11-23",
          "2023-11-24",
          "2023-11-25",
          "2023-11-26",
          "2023-11-27",
          "2023-11-28",
          "2023-11-29",
          "2023-11-30"
         ],
         "y": [
          0,
          0,
          0,
          0,
          1,
          1,
          1,
          1,
          0,
          1,
          0,
          0,
          0,
          0,
          0,
          1,
          0,
          1
         ]
        },
        {
         "mode": "lines",
         "name": "Channel B",
         "type": "scatter",
         "x": [
          "2023-11-01",
          "2023-11-02",
          "2023-11-03",
          "2023-11-04",
          "2023-11-05",
          "2023-11-06",
          "2023-11-07",
          "2023-11-08",
          "2023-11-09",
          "2023-11-10",
          "2023-11-11",
          "2023-11-12",
          "2023-11-13",
          "2023-11-14",
          "2023-11-15",
          "2023-11-16",
          "2023-11-17",
          "2023-11-18",
          "2023-11-19",
          "2023-11-20",
          "2023-11-21",
          "2023-11-22",
          "2023-11-23",
          "2023-11-24",
          "2023-11-25",
          "2023-11-26",
          "2023-11-27",
          "2023-11-28",
          "2023-11-29",
          "2023-11-30"
         ],
         "y": [
          18,
          14,
          12,
          22,
          32,
          16,
          32,
          61,
          42,
          56,
          82,
          64,
          78,
          81,
          75,
          62,
          71,
          68,
          69,
          52,
          46,
          36,
          31,
          36,
          45,
          37,
          61,
          44,
          52,
          46
         ]
        },
        {
         "mode": "lines",
         "name": "Channel C",
         "type": "scatter",
         "x": [
          "2023-11-01",
          "2023-11-02",
          "2023-11-03",
          "2023-11-04",
          "2023-11-05",
          "2023-11-06",
          "2023-11-07",
          "2023-11-08",
          "2023-11-09",
          "2023-11-10",
          "2023-11-11",
          "2023-11-12",
          "2023-11-13",
          "2023-11-14",
          "2023-11-15",
          "2023-11-16",
          "2023-11-17",
          "2023-11-18",
          "2023-11-19",
          "2023-11-20",
          "2023-11-21",
          "2023-11-22",
          "2023-11-23",
          "2023-11-24",
          "2023-11-25",
          "2023-11-26",
          "2023-11-27",
          "2023-11-28",
          "2023-11-29",
          "2023-11-30"
         ],
         "y": [
          139,
          113,
          110,
          104,
          134,
          174,
          160,
          163,
          138,
          110,
          126,
          141,
          157,
          136,
          137,
          137,
          87,
          101,
          112,
          130,
          96,
          105,
          66,
          92,
          95,
          103,
          115,
          103,
          90,
          116
         ]
        },
        {
         "mode": "lines",
         "name": "Channel D",
         "type": "scatter",
         "x": [
          "2023-11-07",
          "2023-11-08",
          "2023-11-09",
          "2023-11-10",
          "2023-11-11",
          "2023-11-12",
          "2023-11-13"
         ],
         "y": [
          0,
          0,
          0,
          0,
          0,
          0,
          0
         ]
        },
        {
         "mode": "lines",
         "name": "Channel E",
         "type": "scatter",
         "x": [
          "2023-11-01",
          "2023-11-02",
          "2023-11-03",
          "2023-11-04",
          "2023-11-05",
          "2023-11-06",
          "2023-11-07",
          "2023-11-08",
          "2023-11-09",
          "2023-11-10",
          "2023-11-11",
          "2023-11-12",
          "2023-11-13",
          "2023-11-14",
          "2023-11-15",
          "2023-11-16",
          "2023-11-17",
          "2023-11-18",
          "2023-11-19",
          "2023-11-20",
          "2023-11-21",
          "2023-11-22",
          "2023-11-23",
          "2023-11-24",
          "2023-11-25",
          "2023-11-26",
          "2023-11-27",
          "2023-11-28",
          "2023-11-29",
          "2023-11-30"
         ],
         "y": [
          0,
          0,
          0,
          0,
          0,
          0,
          0,
          0,
          0,
          0,
          0,
          0,
          0,
          0,
          0,
          0,
          0,
          0,
          0,
          0,
          0,
          0,
          0,
          0,
          0,
          0,
          0,
          0,
          0,
          0
         ]
        }
       ],
       "layout": {
        "annotations": [
         {
          "arrowhead": 2,
          "ax": 0,
          "ay": -40,
          "showarrow": true,
          "text": "Black Friday",
          "x": "2023-11-24",
          "y": 174
         }
        ],
        "height": 600,
        "legend": {
         "title": {
          "text": "Marketing channel"
         }
        },
        "template": {
         "data": {
          "bar": [
           {
            "error_x": {
             "color": "#2a3f5f"
            },
            "error_y": {
             "color": "#2a3f5f"
            },
            "marker": {
             "line": {
              "color": "#E5ECF6",
              "width": 0.5
             },
             "pattern": {
              "fillmode": "overlay",
              "size": 10,
              "solidity": 0.2
             }
            },
            "type": "bar"
           }
          ],
          "barpolar": [
           {
            "marker": {
             "line": {
              "color": "#E5ECF6",
              "width": 0.5
             },
             "pattern": {
              "fillmode": "overlay",
              "size": 10,
              "solidity": 0.2
             }
            },
            "type": "barpolar"
           }
          ],
          "carpet": [
           {
            "aaxis": {
             "endlinecolor": "#2a3f5f",
             "gridcolor": "white",
             "linecolor": "white",
             "minorgridcolor": "white",
             "startlinecolor": "#2a3f5f"
            },
            "baxis": {
             "endlinecolor": "#2a3f5f",
             "gridcolor": "white",
             "linecolor": "white",
             "minorgridcolor": "white",
             "startlinecolor": "#2a3f5f"
            },
            "type": "carpet"
           }
          ],
          "choropleth": [
           {
            "colorbar": {
             "outlinewidth": 0,
             "ticks": ""
            },
            "type": "choropleth"
           }
          ],
          "contour": [
           {
            "colorbar": {
             "outlinewidth": 0,
             "ticks": ""
            },
            "colorscale": [
             [
              0,
              "#0d0887"
             ],
             [
              0.1111111111111111,
              "#46039f"
             ],
             [
              0.2222222222222222,
              "#7201a8"
             ],
             [
              0.3333333333333333,
              "#9c179e"
             ],
             [
              0.4444444444444444,
              "#bd3786"
             ],
             [
              0.5555555555555556,
              "#d8576b"
             ],
             [
              0.6666666666666666,
              "#ed7953"
             ],
             [
              0.7777777777777778,
              "#fb9f3a"
             ],
             [
              0.8888888888888888,
              "#fdca26"
             ],
             [
              1,
              "#f0f921"
             ]
            ],
            "type": "contour"
           }
          ],
          "contourcarpet": [
           {
            "colorbar": {
             "outlinewidth": 0,
             "ticks": ""
            },
            "type": "contourcarpet"
           }
          ],
          "heatmap": [
           {
            "colorbar": {
             "outlinewidth": 0,
             "ticks": ""
            },
            "colorscale": [
             [
              0,
              "#0d0887"
             ],
             [
              0.1111111111111111,
              "#46039f"
             ],
             [
              0.2222222222222222,
              "#7201a8"
             ],
             [
              0.3333333333333333,
              "#9c179e"
             ],
             [
              0.4444444444444444,
              "#bd3786"
             ],
             [
              0.5555555555555556,
              "#d8576b"
             ],
             [
              0.6666666666666666,
              "#ed7953"
             ],
             [
              0.7777777777777778,
              "#fb9f3a"
             ],
             [
              0.8888888888888888,
              "#fdca26"
             ],
             [
              1,
              "#f0f921"
             ]
            ],
            "type": "heatmap"
           }
          ],
          "heatmapgl": [
           {
            "colorbar": {
             "outlinewidth": 0,
             "ticks": ""
            },
            "colorscale": [
             [
              0,
              "#0d0887"
             ],
             [
              0.1111111111111111,
              "#46039f"
             ],
             [
              0.2222222222222222,
              "#7201a8"
             ],
             [
              0.3333333333333333,
              "#9c179e"
             ],
             [
              0.4444444444444444,
              "#bd3786"
             ],
             [
              0.5555555555555556,
              "#d8576b"
             ],
             [
              0.6666666666666666,
              "#ed7953"
             ],
             [
              0.7777777777777778,
              "#fb9f3a"
             ],
             [
              0.8888888888888888,
              "#fdca26"
             ],
             [
              1,
              "#f0f921"
             ]
            ],
            "type": "heatmapgl"
           }
          ],
          "histogram": [
           {
            "marker": {
             "pattern": {
              "fillmode": "overlay",
              "size": 10,
              "solidity": 0.2
             }
            },
            "type": "histogram"
           }
          ],
          "histogram2d": [
           {
            "colorbar": {
             "outlinewidth": 0,
             "ticks": ""
            },
            "colorscale": [
             [
              0,
              "#0d0887"
             ],
             [
              0.1111111111111111,
              "#46039f"
             ],
             [
              0.2222222222222222,
              "#7201a8"
             ],
             [
              0.3333333333333333,
              "#9c179e"
             ],
             [
              0.4444444444444444,
              "#bd3786"
             ],
             [
              0.5555555555555556,
              "#d8576b"
             ],
             [
              0.6666666666666666,
              "#ed7953"
             ],
             [
              0.7777777777777778,
              "#fb9f3a"
             ],
             [
              0.8888888888888888,
              "#fdca26"
             ],
             [
              1,
              "#f0f921"
             ]
            ],
            "type": "histogram2d"
           }
          ],
          "histogram2dcontour": [
           {
            "colorbar": {
             "outlinewidth": 0,
             "ticks": ""
            },
            "colorscale": [
             [
              0,
              "#0d0887"
             ],
             [
              0.1111111111111111,
              "#46039f"
             ],
             [
              0.2222222222222222,
              "#7201a8"
             ],
             [
              0.3333333333333333,
              "#9c179e"
             ],
             [
              0.4444444444444444,
              "#bd3786"
             ],
             [
              0.5555555555555556,
              "#d8576b"
             ],
             [
              0.6666666666666666,
              "#ed7953"
             ],
             [
              0.7777777777777778,
              "#fb9f3a"
             ],
             [
              0.8888888888888888,
              "#fdca26"
             ],
             [
              1,
              "#f0f921"
             ]
            ],
            "type": "histogram2dcontour"
           }
          ],
          "mesh3d": [
           {
            "colorbar": {
             "outlinewidth": 0,
             "ticks": ""
            },
            "type": "mesh3d"
           }
          ],
          "parcoords": [
           {
            "line": {
             "colorbar": {
              "outlinewidth": 0,
              "ticks": ""
             }
            },
            "type": "parcoords"
           }
          ],
          "pie": [
           {
            "automargin": true,
            "type": "pie"
           }
          ],
          "scatter": [
           {
            "fillpattern": {
             "fillmode": "overlay",
             "size": 10,
             "solidity": 0.2
            },
            "type": "scatter"
           }
          ],
          "scatter3d": [
           {
            "line": {
             "colorbar": {
              "outlinewidth": 0,
              "ticks": ""
             }
            },
            "marker": {
             "colorbar": {
              "outlinewidth": 0,
              "ticks": ""
             }
            },
            "type": "scatter3d"
           }
          ],
          "scattercarpet": [
           {
            "marker": {
             "colorbar": {
              "outlinewidth": 0,
              "ticks": ""
             }
            },
            "type": "scattercarpet"
           }
          ],
          "scattergeo": [
           {
            "marker": {
             "colorbar": {
              "outlinewidth": 0,
              "ticks": ""
             }
            },
            "type": "scattergeo"
           }
          ],
          "scattergl": [
           {
            "marker": {
             "colorbar": {
              "outlinewidth": 0,
              "ticks": ""
             }
            },
            "type": "scattergl"
           }
          ],
          "scattermapbox": [
           {
            "marker": {
             "colorbar": {
              "outlinewidth": 0,
              "ticks": ""
             }
            },
            "type": "scattermapbox"
           }
          ],
          "scatterpolar": [
           {
            "marker": {
             "colorbar": {
              "outlinewidth": 0,
              "ticks": ""
             }
            },
            "type": "scatterpolar"
           }
          ],
          "scatterpolargl": [
           {
            "marker": {
             "colorbar": {
              "outlinewidth": 0,
              "ticks": ""
             }
            },
            "type": "scatterpolargl"
           }
          ],
          "scatterternary": [
           {
            "marker": {
             "colorbar": {
              "outlinewidth": 0,
              "ticks": ""
             }
            },
            "type": "scatterternary"
           }
          ],
          "surface": [
           {
            "colorbar": {
             "outlinewidth": 0,
             "ticks": ""
            },
            "colorscale": [
             [
              0,
              "#0d0887"
             ],
             [
              0.1111111111111111,
              "#46039f"
             ],
             [
              0.2222222222222222,
              "#7201a8"
             ],
             [
              0.3333333333333333,
              "#9c179e"
             ],
             [
              0.4444444444444444,
              "#bd3786"
             ],
             [
              0.5555555555555556,
              "#d8576b"
             ],
             [
              0.6666666666666666,
              "#ed7953"
             ],
             [
              0.7777777777777778,
              "#fb9f3a"
             ],
             [
              0.8888888888888888,
              "#fdca26"
             ],
             [
              1,
              "#f0f921"
             ]
            ],
            "type": "surface"
           }
          ],
          "table": [
           {
            "cells": {
             "fill": {
              "color": "#EBF0F8"
             },
             "line": {
              "color": "white"
             }
            },
            "header": {
             "fill": {
              "color": "#C8D4E3"
             },
             "line": {
              "color": "white"
             }
            },
            "type": "table"
           }
          ]
         },
         "layout": {
          "annotationdefaults": {
           "arrowcolor": "#2a3f5f",
           "arrowhead": 0,
           "arrowwidth": 1
          },
          "autotypenumbers": "strict",
          "coloraxis": {
           "colorbar": {
            "outlinewidth": 0,
            "ticks": ""
           }
          },
          "colorscale": {
           "diverging": [
            [
             0,
             "#8e0152"
            ],
            [
             0.1,
             "#c51b7d"
            ],
            [
             0.2,
             "#de77ae"
            ],
            [
             0.3,
             "#f1b6da"
            ],
            [
             0.4,
             "#fde0ef"
            ],
            [
             0.5,
             "#f7f7f7"
            ],
            [
             0.6,
             "#e6f5d0"
            ],
            [
             0.7,
             "#b8e186"
            ],
            [
             0.8,
             "#7fbc41"
            ],
            [
             0.9,
             "#4d9221"
            ],
            [
             1,
             "#276419"
            ]
           ],
           "sequential": [
            [
             0,
             "#0d0887"
            ],
            [
             0.1111111111111111,
             "#46039f"
            ],
            [
             0.2222222222222222,
             "#7201a8"
            ],
            [
             0.3333333333333333,
             "#9c179e"
            ],
            [
             0.4444444444444444,
             "#bd3786"
            ],
            [
             0.5555555555555556,
             "#d8576b"
            ],
            [
             0.6666666666666666,
             "#ed7953"
            ],
            [
             0.7777777777777778,
             "#fb9f3a"
            ],
            [
             0.8888888888888888,
             "#fdca26"
            ],
            [
             1,
             "#f0f921"
            ]
           ],
           "sequentialminus": [
            [
             0,
             "#0d0887"
            ],
            [
             0.1111111111111111,
             "#46039f"
            ],
            [
             0.2222222222222222,
             "#7201a8"
            ],
            [
             0.3333333333333333,
             "#9c179e"
            ],
            [
             0.4444444444444444,
             "#bd3786"
            ],
            [
             0.5555555555555556,
             "#d8576b"
            ],
            [
             0.6666666666666666,
             "#ed7953"
            ],
            [
             0.7777777777777778,
             "#fb9f3a"
            ],
            [
             0.8888888888888888,
             "#fdca26"
            ],
            [
             1,
             "#f0f921"
            ]
           ]
          },
          "colorway": [
           "#636efa",
           "#EF553B",
           "#00cc96",
           "#ab63fa",
           "#FFA15A",
           "#19d3f3",
           "#FF6692",
           "#B6E880",
           "#FF97FF",
           "#FECB52"
          ],
          "font": {
           "color": "#2a3f5f"
          },
          "geo": {
           "bgcolor": "white",
           "lakecolor": "white",
           "landcolor": "#E5ECF6",
           "showlakes": true,
           "showland": true,
           "subunitcolor": "white"
          },
          "hoverlabel": {
           "align": "left"
          },
          "hovermode": "closest",
          "mapbox": {
           "style": "light"
          },
          "paper_bgcolor": "white",
          "plot_bgcolor": "#E5ECF6",
          "polar": {
           "angularaxis": {
            "gridcolor": "white",
            "linecolor": "white",
            "ticks": ""
           },
           "bgcolor": "#E5ECF6",
           "radialaxis": {
            "gridcolor": "white",
            "linecolor": "white",
            "ticks": ""
           }
          },
          "scene": {
           "xaxis": {
            "backgroundcolor": "#E5ECF6",
            "gridcolor": "white",
            "gridwidth": 2,
            "linecolor": "white",
            "showbackground": true,
            "ticks": "",
            "zerolinecolor": "white"
           },
           "yaxis": {
            "backgroundcolor": "#E5ECF6",
            "gridcolor": "white",
            "gridwidth": 2,
            "linecolor": "white",
            "showbackground": true,
            "ticks": "",
            "zerolinecolor": "white"
           },
           "zaxis": {
            "backgroundcolor": "#E5ECF6",
            "gridcolor": "white",
            "gridwidth": 2,
            "linecolor": "white",
            "showbackground": true,
            "ticks": "",
            "zerolinecolor": "white"
           }
          },
          "shapedefaults": {
           "line": {
            "color": "#2a3f5f"
           }
          },
          "ternary": {
           "aaxis": {
            "gridcolor": "white",
            "linecolor": "white",
            "ticks": ""
           },
           "baxis": {
            "gridcolor": "white",
            "linecolor": "white",
            "ticks": ""
           },
           "bgcolor": "#E5ECF6",
           "caxis": {
            "gridcolor": "white",
            "linecolor": "white",
            "ticks": ""
           }
          },
          "title": {
           "x": 0.05
          },
          "xaxis": {
           "automargin": true,
           "gridcolor": "white",
           "linecolor": "white",
           "ticks": "",
           "title": {
            "standoff": 15
           },
           "zerolinecolor": "white",
           "zerolinewidth": 2
          },
          "yaxis": {
           "automargin": true,
           "gridcolor": "white",
           "linecolor": "white",
           "ticks": "",
           "title": {
            "standoff": 15
           },
           "zerolinecolor": "white",
           "zerolinewidth": 2
          }
         }
        },
        "title": {
         "text": "App installs Over Time by Marketing channel"
        },
        "width": 1000,
        "xaxis": {
         "title": {
          "text": "Date"
         }
        },
        "yaxis": {
         "title": {
          "text": "App Installs"
         }
        }
       }
      }
     },
     "metadata": {},
     "output_type": "display_data"
    }
   ],
   "source": [
    "\n",
    "# Example Usage\n",
    "create_grouped_line_chart(\n",
    "    df=df_channels_over_time[df_channels_over_time['country']=='US'],\n",
    "    x_column=\"date\",\n",
    "    y_column=\"app_installs\",\n",
    "    group_column=\"marketing_channel\",\n",
    "    y_label=\"App Installs\"\n",
    ")\n"
   ]
  },
  {
   "cell_type": "code",
   "execution_count": 30,
   "id": "e9e9ddae",
   "metadata": {},
   "outputs": [
    {
     "data": {
      "application/vnd.plotly.v1+json": {
       "config": {
        "plotlyServerURL": "https://plot.ly"
       },
       "data": [
        {
         "mode": "lines",
         "name": "Channel A",
         "type": "scatter",
         "x": [
          "2023-11-01",
          "2023-11-02",
          "2023-11-03",
          "2023-11-04",
          "2023-11-06",
          "2023-11-07",
          "2023-11-13",
          "2023-11-16",
          "2023-11-21",
          "2023-11-22",
          "2023-11-23",
          "2023-11-24",
          "2023-11-25",
          "2023-11-26",
          "2023-11-27",
          "2023-11-28",
          "2023-11-29",
          "2023-11-30"
         ],
         "y": [
          null,
          null,
          null,
          null,
          0,
          0,
          0,
          0,
          null,
          0,
          null,
          null,
          null,
          null,
          null,
          0,
          null,
          0
         ]
        },
        {
         "mode": "lines",
         "name": "Channel B",
         "type": "scatter",
         "x": [
          "2023-11-01",
          "2023-11-02",
          "2023-11-03",
          "2023-11-04",
          "2023-11-05",
          "2023-11-06",
          "2023-11-07",
          "2023-11-08",
          "2023-11-09",
          "2023-11-10",
          "2023-11-11",
          "2023-11-12",
          "2023-11-13",
          "2023-11-14",
          "2023-11-15",
          "2023-11-16",
          "2023-11-17",
          "2023-11-18",
          "2023-11-19",
          "2023-11-20",
          "2023-11-21",
          "2023-11-22",
          "2023-11-23",
          "2023-11-24",
          "2023-11-25",
          "2023-11-26",
          "2023-11-27",
          "2023-11-28",
          "2023-11-29",
          "2023-11-30"
         ],
         "y": [
          0,
          7.14,
          25,
          4.55,
          6.25,
          12.5,
          3.12,
          8.2,
          7.14,
          8.93,
          3.66,
          1.56,
          8.97,
          6.17,
          9.33,
          3.23,
          4.23,
          5.88,
          5.8,
          7.69,
          10.87,
          5.56,
          12.9,
          5.56,
          8.89,
          8.11,
          8.2,
          15.91,
          11.54,
          8.7
         ]
        },
        {
         "mode": "lines",
         "name": "Channel C",
         "type": "scatter",
         "x": [
          "2023-11-01",
          "2023-11-02",
          "2023-11-03",
          "2023-11-04",
          "2023-11-05",
          "2023-11-06",
          "2023-11-07",
          "2023-11-08",
          "2023-11-09",
          "2023-11-10",
          "2023-11-11",
          "2023-11-12",
          "2023-11-13",
          "2023-11-14",
          "2023-11-15",
          "2023-11-16",
          "2023-11-17",
          "2023-11-18",
          "2023-11-19",
          "2023-11-20",
          "2023-11-21",
          "2023-11-22",
          "2023-11-23",
          "2023-11-24",
          "2023-11-25",
          "2023-11-26",
          "2023-11-27",
          "2023-11-28",
          "2023-11-29",
          "2023-11-30"
         ],
         "y": [
          8.63,
          12.39,
          10,
          8.65,
          15.67,
          15.52,
          9.38,
          8.59,
          10.87,
          7.27,
          11.11,
          4.96,
          12.1,
          11.03,
          11.68,
          10.22,
          10.34,
          7.92,
          9.82,
          13.85,
          9.38,
          4.76,
          6.06,
          11.96,
          12.63,
          14.56,
          8.7,
          9.71,
          10,
          14.66
         ]
        },
        {
         "mode": "lines",
         "name": "Channel D",
         "type": "scatter",
         "x": [
          "2023-11-07",
          "2023-11-08",
          "2023-11-09",
          "2023-11-10",
          "2023-11-11",
          "2023-11-12",
          "2023-11-13"
         ],
         "y": [
          null,
          null,
          null,
          null,
          null,
          null,
          null
         ]
        },
        {
         "mode": "lines",
         "name": "Channel E",
         "type": "scatter",
         "x": [
          "2023-11-01",
          "2023-11-02",
          "2023-11-03",
          "2023-11-04",
          "2023-11-05",
          "2023-11-06",
          "2023-11-07",
          "2023-11-08",
          "2023-11-09",
          "2023-11-10",
          "2023-11-11",
          "2023-11-12",
          "2023-11-13",
          "2023-11-14",
          "2023-11-15",
          "2023-11-16",
          "2023-11-17",
          "2023-11-18",
          "2023-11-19",
          "2023-11-20",
          "2023-11-21",
          "2023-11-22",
          "2023-11-23",
          "2023-11-24",
          "2023-11-25",
          "2023-11-26",
          "2023-11-27",
          "2023-11-28",
          "2023-11-29",
          "2023-11-30"
         ],
         "y": [
          null,
          null,
          null,
          null,
          null,
          null,
          null,
          null,
          null,
          null,
          null,
          null,
          null,
          null,
          null,
          null,
          null,
          null,
          null,
          null,
          null,
          null,
          null,
          null,
          null,
          null,
          null,
          null,
          null,
          null
         ]
        }
       ],
       "layout": {
        "annotations": [
         {
          "arrowhead": 2,
          "ax": 0,
          "ay": -40,
          "showarrow": true,
          "text": "Black Friday",
          "x": "2023-11-24",
          "y": 25
         }
        ],
        "height": 600,
        "legend": {
         "title": {
          "text": "Marketing channel"
         }
        },
        "template": {
         "data": {
          "bar": [
           {
            "error_x": {
             "color": "#2a3f5f"
            },
            "error_y": {
             "color": "#2a3f5f"
            },
            "marker": {
             "line": {
              "color": "#E5ECF6",
              "width": 0.5
             },
             "pattern": {
              "fillmode": "overlay",
              "size": 10,
              "solidity": 0.2
             }
            },
            "type": "bar"
           }
          ],
          "barpolar": [
           {
            "marker": {
             "line": {
              "color": "#E5ECF6",
              "width": 0.5
             },
             "pattern": {
              "fillmode": "overlay",
              "size": 10,
              "solidity": 0.2
             }
            },
            "type": "barpolar"
           }
          ],
          "carpet": [
           {
            "aaxis": {
             "endlinecolor": "#2a3f5f",
             "gridcolor": "white",
             "linecolor": "white",
             "minorgridcolor": "white",
             "startlinecolor": "#2a3f5f"
            },
            "baxis": {
             "endlinecolor": "#2a3f5f",
             "gridcolor": "white",
             "linecolor": "white",
             "minorgridcolor": "white",
             "startlinecolor": "#2a3f5f"
            },
            "type": "carpet"
           }
          ],
          "choropleth": [
           {
            "colorbar": {
             "outlinewidth": 0,
             "ticks": ""
            },
            "type": "choropleth"
           }
          ],
          "contour": [
           {
            "colorbar": {
             "outlinewidth": 0,
             "ticks": ""
            },
            "colorscale": [
             [
              0,
              "#0d0887"
             ],
             [
              0.1111111111111111,
              "#46039f"
             ],
             [
              0.2222222222222222,
              "#7201a8"
             ],
             [
              0.3333333333333333,
              "#9c179e"
             ],
             [
              0.4444444444444444,
              "#bd3786"
             ],
             [
              0.5555555555555556,
              "#d8576b"
             ],
             [
              0.6666666666666666,
              "#ed7953"
             ],
             [
              0.7777777777777778,
              "#fb9f3a"
             ],
             [
              0.8888888888888888,
              "#fdca26"
             ],
             [
              1,
              "#f0f921"
             ]
            ],
            "type": "contour"
           }
          ],
          "contourcarpet": [
           {
            "colorbar": {
             "outlinewidth": 0,
             "ticks": ""
            },
            "type": "contourcarpet"
           }
          ],
          "heatmap": [
           {
            "colorbar": {
             "outlinewidth": 0,
             "ticks": ""
            },
            "colorscale": [
             [
              0,
              "#0d0887"
             ],
             [
              0.1111111111111111,
              "#46039f"
             ],
             [
              0.2222222222222222,
              "#7201a8"
             ],
             [
              0.3333333333333333,
              "#9c179e"
             ],
             [
              0.4444444444444444,
              "#bd3786"
             ],
             [
              0.5555555555555556,
              "#d8576b"
             ],
             [
              0.6666666666666666,
              "#ed7953"
             ],
             [
              0.7777777777777778,
              "#fb9f3a"
             ],
             [
              0.8888888888888888,
              "#fdca26"
             ],
             [
              1,
              "#f0f921"
             ]
            ],
            "type": "heatmap"
           }
          ],
          "heatmapgl": [
           {
            "colorbar": {
             "outlinewidth": 0,
             "ticks": ""
            },
            "colorscale": [
             [
              0,
              "#0d0887"
             ],
             [
              0.1111111111111111,
              "#46039f"
             ],
             [
              0.2222222222222222,
              "#7201a8"
             ],
             [
              0.3333333333333333,
              "#9c179e"
             ],
             [
              0.4444444444444444,
              "#bd3786"
             ],
             [
              0.5555555555555556,
              "#d8576b"
             ],
             [
              0.6666666666666666,
              "#ed7953"
             ],
             [
              0.7777777777777778,
              "#fb9f3a"
             ],
             [
              0.8888888888888888,
              "#fdca26"
             ],
             [
              1,
              "#f0f921"
             ]
            ],
            "type": "heatmapgl"
           }
          ],
          "histogram": [
           {
            "marker": {
             "pattern": {
              "fillmode": "overlay",
              "size": 10,
              "solidity": 0.2
             }
            },
            "type": "histogram"
           }
          ],
          "histogram2d": [
           {
            "colorbar": {
             "outlinewidth": 0,
             "ticks": ""
            },
            "colorscale": [
             [
              0,
              "#0d0887"
             ],
             [
              0.1111111111111111,
              "#46039f"
             ],
             [
              0.2222222222222222,
              "#7201a8"
             ],
             [
              0.3333333333333333,
              "#9c179e"
             ],
             [
              0.4444444444444444,
              "#bd3786"
             ],
             [
              0.5555555555555556,
              "#d8576b"
             ],
             [
              0.6666666666666666,
              "#ed7953"
             ],
             [
              0.7777777777777778,
              "#fb9f3a"
             ],
             [
              0.8888888888888888,
              "#fdca26"
             ],
             [
              1,
              "#f0f921"
             ]
            ],
            "type": "histogram2d"
           }
          ],
          "histogram2dcontour": [
           {
            "colorbar": {
             "outlinewidth": 0,
             "ticks": ""
            },
            "colorscale": [
             [
              0,
              "#0d0887"
             ],
             [
              0.1111111111111111,
              "#46039f"
             ],
             [
              0.2222222222222222,
              "#7201a8"
             ],
             [
              0.3333333333333333,
              "#9c179e"
             ],
             [
              0.4444444444444444,
              "#bd3786"
             ],
             [
              0.5555555555555556,
              "#d8576b"
             ],
             [
              0.6666666666666666,
              "#ed7953"
             ],
             [
              0.7777777777777778,
              "#fb9f3a"
             ],
             [
              0.8888888888888888,
              "#fdca26"
             ],
             [
              1,
              "#f0f921"
             ]
            ],
            "type": "histogram2dcontour"
           }
          ],
          "mesh3d": [
           {
            "colorbar": {
             "outlinewidth": 0,
             "ticks": ""
            },
            "type": "mesh3d"
           }
          ],
          "parcoords": [
           {
            "line": {
             "colorbar": {
              "outlinewidth": 0,
              "ticks": ""
             }
            },
            "type": "parcoords"
           }
          ],
          "pie": [
           {
            "automargin": true,
            "type": "pie"
           }
          ],
          "scatter": [
           {
            "fillpattern": {
             "fillmode": "overlay",
             "size": 10,
             "solidity": 0.2
            },
            "type": "scatter"
           }
          ],
          "scatter3d": [
           {
            "line": {
             "colorbar": {
              "outlinewidth": 0,
              "ticks": ""
             }
            },
            "marker": {
             "colorbar": {
              "outlinewidth": 0,
              "ticks": ""
             }
            },
            "type": "scatter3d"
           }
          ],
          "scattercarpet": [
           {
            "marker": {
             "colorbar": {
              "outlinewidth": 0,
              "ticks": ""
             }
            },
            "type": "scattercarpet"
           }
          ],
          "scattergeo": [
           {
            "marker": {
             "colorbar": {
              "outlinewidth": 0,
              "ticks": ""
             }
            },
            "type": "scattergeo"
           }
          ],
          "scattergl": [
           {
            "marker": {
             "colorbar": {
              "outlinewidth": 0,
              "ticks": ""
             }
            },
            "type": "scattergl"
           }
          ],
          "scattermapbox": [
           {
            "marker": {
             "colorbar": {
              "outlinewidth": 0,
              "ticks": ""
             }
            },
            "type": "scattermapbox"
           }
          ],
          "scatterpolar": [
           {
            "marker": {
             "colorbar": {
              "outlinewidth": 0,
              "ticks": ""
             }
            },
            "type": "scatterpolar"
           }
          ],
          "scatterpolargl": [
           {
            "marker": {
             "colorbar": {
              "outlinewidth": 0,
              "ticks": ""
             }
            },
            "type": "scatterpolargl"
           }
          ],
          "scatterternary": [
           {
            "marker": {
             "colorbar": {
              "outlinewidth": 0,
              "ticks": ""
             }
            },
            "type": "scatterternary"
           }
          ],
          "surface": [
           {
            "colorbar": {
             "outlinewidth": 0,
             "ticks": ""
            },
            "colorscale": [
             [
              0,
              "#0d0887"
             ],
             [
              0.1111111111111111,
              "#46039f"
             ],
             [
              0.2222222222222222,
              "#7201a8"
             ],
             [
              0.3333333333333333,
              "#9c179e"
             ],
             [
              0.4444444444444444,
              "#bd3786"
             ],
             [
              0.5555555555555556,
              "#d8576b"
             ],
             [
              0.6666666666666666,
              "#ed7953"
             ],
             [
              0.7777777777777778,
              "#fb9f3a"
             ],
             [
              0.8888888888888888,
              "#fdca26"
             ],
             [
              1,
              "#f0f921"
             ]
            ],
            "type": "surface"
           }
          ],
          "table": [
           {
            "cells": {
             "fill": {
              "color": "#EBF0F8"
             },
             "line": {
              "color": "white"
             }
            },
            "header": {
             "fill": {
              "color": "#C8D4E3"
             },
             "line": {
              "color": "white"
             }
            },
            "type": "table"
           }
          ]
         },
         "layout": {
          "annotationdefaults": {
           "arrowcolor": "#2a3f5f",
           "arrowhead": 0,
           "arrowwidth": 1
          },
          "autotypenumbers": "strict",
          "coloraxis": {
           "colorbar": {
            "outlinewidth": 0,
            "ticks": ""
           }
          },
          "colorscale": {
           "diverging": [
            [
             0,
             "#8e0152"
            ],
            [
             0.1,
             "#c51b7d"
            ],
            [
             0.2,
             "#de77ae"
            ],
            [
             0.3,
             "#f1b6da"
            ],
            [
             0.4,
             "#fde0ef"
            ],
            [
             0.5,
             "#f7f7f7"
            ],
            [
             0.6,
             "#e6f5d0"
            ],
            [
             0.7,
             "#b8e186"
            ],
            [
             0.8,
             "#7fbc41"
            ],
            [
             0.9,
             "#4d9221"
            ],
            [
             1,
             "#276419"
            ]
           ],
           "sequential": [
            [
             0,
             "#0d0887"
            ],
            [
             0.1111111111111111,
             "#46039f"
            ],
            [
             0.2222222222222222,
             "#7201a8"
            ],
            [
             0.3333333333333333,
             "#9c179e"
            ],
            [
             0.4444444444444444,
             "#bd3786"
            ],
            [
             0.5555555555555556,
             "#d8576b"
            ],
            [
             0.6666666666666666,
             "#ed7953"
            ],
            [
             0.7777777777777778,
             "#fb9f3a"
            ],
            [
             0.8888888888888888,
             "#fdca26"
            ],
            [
             1,
             "#f0f921"
            ]
           ],
           "sequentialminus": [
            [
             0,
             "#0d0887"
            ],
            [
             0.1111111111111111,
             "#46039f"
            ],
            [
             0.2222222222222222,
             "#7201a8"
            ],
            [
             0.3333333333333333,
             "#9c179e"
            ],
            [
             0.4444444444444444,
             "#bd3786"
            ],
            [
             0.5555555555555556,
             "#d8576b"
            ],
            [
             0.6666666666666666,
             "#ed7953"
            ],
            [
             0.7777777777777778,
             "#fb9f3a"
            ],
            [
             0.8888888888888888,
             "#fdca26"
            ],
            [
             1,
             "#f0f921"
            ]
           ]
          },
          "colorway": [
           "#636efa",
           "#EF553B",
           "#00cc96",
           "#ab63fa",
           "#FFA15A",
           "#19d3f3",
           "#FF6692",
           "#B6E880",
           "#FF97FF",
           "#FECB52"
          ],
          "font": {
           "color": "#2a3f5f"
          },
          "geo": {
           "bgcolor": "white",
           "lakecolor": "white",
           "landcolor": "#E5ECF6",
           "showlakes": true,
           "showland": true,
           "subunitcolor": "white"
          },
          "hoverlabel": {
           "align": "left"
          },
          "hovermode": "closest",
          "mapbox": {
           "style": "light"
          },
          "paper_bgcolor": "white",
          "plot_bgcolor": "#E5ECF6",
          "polar": {
           "angularaxis": {
            "gridcolor": "white",
            "linecolor": "white",
            "ticks": ""
           },
           "bgcolor": "#E5ECF6",
           "radialaxis": {
            "gridcolor": "white",
            "linecolor": "white",
            "ticks": ""
           }
          },
          "scene": {
           "xaxis": {
            "backgroundcolor": "#E5ECF6",
            "gridcolor": "white",
            "gridwidth": 2,
            "linecolor": "white",
            "showbackground": true,
            "ticks": "",
            "zerolinecolor": "white"
           },
           "yaxis": {
            "backgroundcolor": "#E5ECF6",
            "gridcolor": "white",
            "gridwidth": 2,
            "linecolor": "white",
            "showbackground": true,
            "ticks": "",
            "zerolinecolor": "white"
           },
           "zaxis": {
            "backgroundcolor": "#E5ECF6",
            "gridcolor": "white",
            "gridwidth": 2,
            "linecolor": "white",
            "showbackground": true,
            "ticks": "",
            "zerolinecolor": "white"
           }
          },
          "shapedefaults": {
           "line": {
            "color": "#2a3f5f"
           }
          },
          "ternary": {
           "aaxis": {
            "gridcolor": "white",
            "linecolor": "white",
            "ticks": ""
           },
           "baxis": {
            "gridcolor": "white",
            "linecolor": "white",
            "ticks": ""
           },
           "bgcolor": "#E5ECF6",
           "caxis": {
            "gridcolor": "white",
            "linecolor": "white",
            "ticks": ""
           }
          },
          "title": {
           "x": 0.05
          },
          "xaxis": {
           "automargin": true,
           "gridcolor": "white",
           "linecolor": "white",
           "ticks": "",
           "title": {
            "standoff": 15
           },
           "zerolinecolor": "white",
           "zerolinewidth": 2
          },
          "yaxis": {
           "automargin": true,
           "gridcolor": "white",
           "linecolor": "white",
           "ticks": "",
           "title": {
            "standoff": 15
           },
           "zerolinecolor": "white",
           "zerolinewidth": 2
          }
         }
        },
        "title": {
         "text": "Install to conversion rate Over Time by Marketing channel"
        },
        "width": 1000,
        "xaxis": {
         "title": {
          "text": "Date"
         }
        },
        "yaxis": {
         "title": {
          "text": "Install to Conversion rate"
         }
        }
       }
      }
     },
     "metadata": {},
     "output_type": "display_data"
    }
   ],
   "source": [
    "create_grouped_line_chart(\n",
    "    df=df_channels_over_time[df_channels_over_time['country']=='US'],\n",
    "    x_column=\"date\",\n",
    "    y_column=\"install_to_conversion_rate\",\n",
    "    group_column=\"marketing_channel\",\n",
    "    y_label=\"Install to Conversion rate\"\n",
    ")\n"
   ]
  },
  {
   "cell_type": "code",
   "execution_count": 31,
   "id": "c01f35f1",
   "metadata": {},
   "outputs": [
    {
     "data": {
      "application/vnd.plotly.v1+json": {
       "config": {
        "plotlyServerURL": "https://plot.ly"
       },
       "data": [
        {
         "mode": "lines",
         "name": "Channel A",
         "type": "scatter",
         "x": [
          "2023-11-01",
          "2023-11-02",
          "2023-11-03",
          "2023-11-04",
          "2023-11-06",
          "2023-11-07",
          "2023-11-13",
          "2023-11-16",
          "2023-11-21",
          "2023-11-22",
          "2023-11-23",
          "2023-11-24",
          "2023-11-25",
          "2023-11-26",
          "2023-11-27",
          "2023-11-28",
          "2023-11-29",
          "2023-11-30"
         ],
         "y": [
          null,
          null,
          null,
          null,
          0,
          0,
          0,
          0,
          null,
          220.67,
          null,
          null,
          null,
          null,
          null,
          194.66,
          null,
          221.66
         ]
        },
        {
         "mode": "lines",
         "name": "Channel B",
         "type": "scatter",
         "x": [
          "2023-11-01",
          "2023-11-02",
          "2023-11-03",
          "2023-11-04",
          "2023-11-05",
          "2023-11-06",
          "2023-11-07",
          "2023-11-08",
          "2023-11-09",
          "2023-11-10",
          "2023-11-11",
          "2023-11-12",
          "2023-11-13",
          "2023-11-14",
          "2023-11-15",
          "2023-11-16",
          "2023-11-17",
          "2023-11-18",
          "2023-11-19",
          "2023-11-20",
          "2023-11-21",
          "2023-11-22",
          "2023-11-23",
          "2023-11-24",
          "2023-11-25",
          "2023-11-26",
          "2023-11-27",
          "2023-11-28",
          "2023-11-29",
          "2023-11-30"
         ],
         "y": [
          3.45,
          4.18,
          5.2,
          2.92,
          2.09,
          4.19,
          3.86,
          3.62,
          4.57,
          4.43,
          3.36,
          3.95,
          3.38,
          3.37,
          3.48,
          4.38,
          3.97,
          6.6,
          6.18,
          8.07,
          8.78,
          10.45,
          12.35,
          11.16,
          8.84,
          11.3,
          6.79,
          8.96,
          7.54,
          8.46
         ]
        },
        {
         "mode": "lines",
         "name": "Channel C",
         "type": "scatter",
         "x": [
          "2023-11-01",
          "2023-11-02",
          "2023-11-03",
          "2023-11-04",
          "2023-11-05",
          "2023-11-06",
          "2023-11-07",
          "2023-11-08",
          "2023-11-09",
          "2023-11-10",
          "2023-11-11",
          "2023-11-12",
          "2023-11-13",
          "2023-11-14",
          "2023-11-15",
          "2023-11-16",
          "2023-11-17",
          "2023-11-18",
          "2023-11-19",
          "2023-11-20",
          "2023-11-21",
          "2023-11-22",
          "2023-11-23",
          "2023-11-24",
          "2023-11-25",
          "2023-11-26",
          "2023-11-27",
          "2023-11-28",
          "2023-11-29",
          "2023-11-30"
         ],
         "y": [
          3.22,
          4.47,
          4.42,
          4.21,
          3.78,
          3.59,
          3.54,
          3.37,
          4,
          5.12,
          4.43,
          3.71,
          4.16,
          4.24,
          4.05,
          3.8,
          5.25,
          4.32,
          3.82,
          4,
          4.72,
          4.38,
          6,
          4.99,
          4.79,
          4.5,
          4.07,
          4.76,
          4.77,
          3.99
         ]
        },
        {
         "mode": "lines",
         "name": "Channel D",
         "type": "scatter",
         "x": [
          "2023-11-07",
          "2023-11-08",
          "2023-11-09",
          "2023-11-10",
          "2023-11-11",
          "2023-11-12",
          "2023-11-13"
         ],
         "y": [
          null,
          null,
          null,
          null,
          null,
          null,
          null
         ]
        },
        {
         "mode": "lines",
         "name": "Channel E",
         "type": "scatter",
         "x": [
          "2023-11-01",
          "2023-11-02",
          "2023-11-03",
          "2023-11-04",
          "2023-11-05",
          "2023-11-06",
          "2023-11-07",
          "2023-11-08",
          "2023-11-09",
          "2023-11-10",
          "2023-11-11",
          "2023-11-12",
          "2023-11-13",
          "2023-11-14",
          "2023-11-15",
          "2023-11-16",
          "2023-11-17",
          "2023-11-18",
          "2023-11-19",
          "2023-11-20",
          "2023-11-21",
          "2023-11-22",
          "2023-11-23",
          "2023-11-24",
          "2023-11-25",
          "2023-11-26",
          "2023-11-27",
          "2023-11-28",
          "2023-11-29",
          "2023-11-30"
         ],
         "y": [
          null,
          null,
          null,
          null,
          null,
          null,
          null,
          null,
          null,
          null,
          null,
          null,
          null,
          null,
          null,
          null,
          null,
          null,
          null,
          null,
          null,
          null,
          null,
          null,
          null,
          null,
          null,
          null,
          null,
          null
         ]
        }
       ],
       "layout": {
        "annotations": [
         {
          "arrowhead": 2,
          "ax": 0,
          "ay": -40,
          "showarrow": true,
          "text": "Black Friday",
          "x": "2023-11-24",
          "y": 221.66
         }
        ],
        "height": 600,
        "legend": {
         "title": {
          "text": "Marketing channel"
         }
        },
        "template": {
         "data": {
          "bar": [
           {
            "error_x": {
             "color": "#2a3f5f"
            },
            "error_y": {
             "color": "#2a3f5f"
            },
            "marker": {
             "line": {
              "color": "#E5ECF6",
              "width": 0.5
             },
             "pattern": {
              "fillmode": "overlay",
              "size": 10,
              "solidity": 0.2
             }
            },
            "type": "bar"
           }
          ],
          "barpolar": [
           {
            "marker": {
             "line": {
              "color": "#E5ECF6",
              "width": 0.5
             },
             "pattern": {
              "fillmode": "overlay",
              "size": 10,
              "solidity": 0.2
             }
            },
            "type": "barpolar"
           }
          ],
          "carpet": [
           {
            "aaxis": {
             "endlinecolor": "#2a3f5f",
             "gridcolor": "white",
             "linecolor": "white",
             "minorgridcolor": "white",
             "startlinecolor": "#2a3f5f"
            },
            "baxis": {
             "endlinecolor": "#2a3f5f",
             "gridcolor": "white",
             "linecolor": "white",
             "minorgridcolor": "white",
             "startlinecolor": "#2a3f5f"
            },
            "type": "carpet"
           }
          ],
          "choropleth": [
           {
            "colorbar": {
             "outlinewidth": 0,
             "ticks": ""
            },
            "type": "choropleth"
           }
          ],
          "contour": [
           {
            "colorbar": {
             "outlinewidth": 0,
             "ticks": ""
            },
            "colorscale": [
             [
              0,
              "#0d0887"
             ],
             [
              0.1111111111111111,
              "#46039f"
             ],
             [
              0.2222222222222222,
              "#7201a8"
             ],
             [
              0.3333333333333333,
              "#9c179e"
             ],
             [
              0.4444444444444444,
              "#bd3786"
             ],
             [
              0.5555555555555556,
              "#d8576b"
             ],
             [
              0.6666666666666666,
              "#ed7953"
             ],
             [
              0.7777777777777778,
              "#fb9f3a"
             ],
             [
              0.8888888888888888,
              "#fdca26"
             ],
             [
              1,
              "#f0f921"
             ]
            ],
            "type": "contour"
           }
          ],
          "contourcarpet": [
           {
            "colorbar": {
             "outlinewidth": 0,
             "ticks": ""
            },
            "type": "contourcarpet"
           }
          ],
          "heatmap": [
           {
            "colorbar": {
             "outlinewidth": 0,
             "ticks": ""
            },
            "colorscale": [
             [
              0,
              "#0d0887"
             ],
             [
              0.1111111111111111,
              "#46039f"
             ],
             [
              0.2222222222222222,
              "#7201a8"
             ],
             [
              0.3333333333333333,
              "#9c179e"
             ],
             [
              0.4444444444444444,
              "#bd3786"
             ],
             [
              0.5555555555555556,
              "#d8576b"
             ],
             [
              0.6666666666666666,
              "#ed7953"
             ],
             [
              0.7777777777777778,
              "#fb9f3a"
             ],
             [
              0.8888888888888888,
              "#fdca26"
             ],
             [
              1,
              "#f0f921"
             ]
            ],
            "type": "heatmap"
           }
          ],
          "heatmapgl": [
           {
            "colorbar": {
             "outlinewidth": 0,
             "ticks": ""
            },
            "colorscale": [
             [
              0,
              "#0d0887"
             ],
             [
              0.1111111111111111,
              "#46039f"
             ],
             [
              0.2222222222222222,
              "#7201a8"
             ],
             [
              0.3333333333333333,
              "#9c179e"
             ],
             [
              0.4444444444444444,
              "#bd3786"
             ],
             [
              0.5555555555555556,
              "#d8576b"
             ],
             [
              0.6666666666666666,
              "#ed7953"
             ],
             [
              0.7777777777777778,
              "#fb9f3a"
             ],
             [
              0.8888888888888888,
              "#fdca26"
             ],
             [
              1,
              "#f0f921"
             ]
            ],
            "type": "heatmapgl"
           }
          ],
          "histogram": [
           {
            "marker": {
             "pattern": {
              "fillmode": "overlay",
              "size": 10,
              "solidity": 0.2
             }
            },
            "type": "histogram"
           }
          ],
          "histogram2d": [
           {
            "colorbar": {
             "outlinewidth": 0,
             "ticks": ""
            },
            "colorscale": [
             [
              0,
              "#0d0887"
             ],
             [
              0.1111111111111111,
              "#46039f"
             ],
             [
              0.2222222222222222,
              "#7201a8"
             ],
             [
              0.3333333333333333,
              "#9c179e"
             ],
             [
              0.4444444444444444,
              "#bd3786"
             ],
             [
              0.5555555555555556,
              "#d8576b"
             ],
             [
              0.6666666666666666,
              "#ed7953"
             ],
             [
              0.7777777777777778,
              "#fb9f3a"
             ],
             [
              0.8888888888888888,
              "#fdca26"
             ],
             [
              1,
              "#f0f921"
             ]
            ],
            "type": "histogram2d"
           }
          ],
          "histogram2dcontour": [
           {
            "colorbar": {
             "outlinewidth": 0,
             "ticks": ""
            },
            "colorscale": [
             [
              0,
              "#0d0887"
             ],
             [
              0.1111111111111111,
              "#46039f"
             ],
             [
              0.2222222222222222,
              "#7201a8"
             ],
             [
              0.3333333333333333,
              "#9c179e"
             ],
             [
              0.4444444444444444,
              "#bd3786"
             ],
             [
              0.5555555555555556,
              "#d8576b"
             ],
             [
              0.6666666666666666,
              "#ed7953"
             ],
             [
              0.7777777777777778,
              "#fb9f3a"
             ],
             [
              0.8888888888888888,
              "#fdca26"
             ],
             [
              1,
              "#f0f921"
             ]
            ],
            "type": "histogram2dcontour"
           }
          ],
          "mesh3d": [
           {
            "colorbar": {
             "outlinewidth": 0,
             "ticks": ""
            },
            "type": "mesh3d"
           }
          ],
          "parcoords": [
           {
            "line": {
             "colorbar": {
              "outlinewidth": 0,
              "ticks": ""
             }
            },
            "type": "parcoords"
           }
          ],
          "pie": [
           {
            "automargin": true,
            "type": "pie"
           }
          ],
          "scatter": [
           {
            "fillpattern": {
             "fillmode": "overlay",
             "size": 10,
             "solidity": 0.2
            },
            "type": "scatter"
           }
          ],
          "scatter3d": [
           {
            "line": {
             "colorbar": {
              "outlinewidth": 0,
              "ticks": ""
             }
            },
            "marker": {
             "colorbar": {
              "outlinewidth": 0,
              "ticks": ""
             }
            },
            "type": "scatter3d"
           }
          ],
          "scattercarpet": [
           {
            "marker": {
             "colorbar": {
              "outlinewidth": 0,
              "ticks": ""
             }
            },
            "type": "scattercarpet"
           }
          ],
          "scattergeo": [
           {
            "marker": {
             "colorbar": {
              "outlinewidth": 0,
              "ticks": ""
             }
            },
            "type": "scattergeo"
           }
          ],
          "scattergl": [
           {
            "marker": {
             "colorbar": {
              "outlinewidth": 0,
              "ticks": ""
             }
            },
            "type": "scattergl"
           }
          ],
          "scattermapbox": [
           {
            "marker": {
             "colorbar": {
              "outlinewidth": 0,
              "ticks": ""
             }
            },
            "type": "scattermapbox"
           }
          ],
          "scatterpolar": [
           {
            "marker": {
             "colorbar": {
              "outlinewidth": 0,
              "ticks": ""
             }
            },
            "type": "scatterpolar"
           }
          ],
          "scatterpolargl": [
           {
            "marker": {
             "colorbar": {
              "outlinewidth": 0,
              "ticks": ""
             }
            },
            "type": "scatterpolargl"
           }
          ],
          "scatterternary": [
           {
            "marker": {
             "colorbar": {
              "outlinewidth": 0,
              "ticks": ""
             }
            },
            "type": "scatterternary"
           }
          ],
          "surface": [
           {
            "colorbar": {
             "outlinewidth": 0,
             "ticks": ""
            },
            "colorscale": [
             [
              0,
              "#0d0887"
             ],
             [
              0.1111111111111111,
              "#46039f"
             ],
             [
              0.2222222222222222,
              "#7201a8"
             ],
             [
              0.3333333333333333,
              "#9c179e"
             ],
             [
              0.4444444444444444,
              "#bd3786"
             ],
             [
              0.5555555555555556,
              "#d8576b"
             ],
             [
              0.6666666666666666,
              "#ed7953"
             ],
             [
              0.7777777777777778,
              "#fb9f3a"
             ],
             [
              0.8888888888888888,
              "#fdca26"
             ],
             [
              1,
              "#f0f921"
             ]
            ],
            "type": "surface"
           }
          ],
          "table": [
           {
            "cells": {
             "fill": {
              "color": "#EBF0F8"
             },
             "line": {
              "color": "white"
             }
            },
            "header": {
             "fill": {
              "color": "#C8D4E3"
             },
             "line": {
              "color": "white"
             }
            },
            "type": "table"
           }
          ]
         },
         "layout": {
          "annotationdefaults": {
           "arrowcolor": "#2a3f5f",
           "arrowhead": 0,
           "arrowwidth": 1
          },
          "autotypenumbers": "strict",
          "coloraxis": {
           "colorbar": {
            "outlinewidth": 0,
            "ticks": ""
           }
          },
          "colorscale": {
           "diverging": [
            [
             0,
             "#8e0152"
            ],
            [
             0.1,
             "#c51b7d"
            ],
            [
             0.2,
             "#de77ae"
            ],
            [
             0.3,
             "#f1b6da"
            ],
            [
             0.4,
             "#fde0ef"
            ],
            [
             0.5,
             "#f7f7f7"
            ],
            [
             0.6,
             "#e6f5d0"
            ],
            [
             0.7,
             "#b8e186"
            ],
            [
             0.8,
             "#7fbc41"
            ],
            [
             0.9,
             "#4d9221"
            ],
            [
             1,
             "#276419"
            ]
           ],
           "sequential": [
            [
             0,
             "#0d0887"
            ],
            [
             0.1111111111111111,
             "#46039f"
            ],
            [
             0.2222222222222222,
             "#7201a8"
            ],
            [
             0.3333333333333333,
             "#9c179e"
            ],
            [
             0.4444444444444444,
             "#bd3786"
            ],
            [
             0.5555555555555556,
             "#d8576b"
            ],
            [
             0.6666666666666666,
             "#ed7953"
            ],
            [
             0.7777777777777778,
             "#fb9f3a"
            ],
            [
             0.8888888888888888,
             "#fdca26"
            ],
            [
             1,
             "#f0f921"
            ]
           ],
           "sequentialminus": [
            [
             0,
             "#0d0887"
            ],
            [
             0.1111111111111111,
             "#46039f"
            ],
            [
             0.2222222222222222,
             "#7201a8"
            ],
            [
             0.3333333333333333,
             "#9c179e"
            ],
            [
             0.4444444444444444,
             "#bd3786"
            ],
            [
             0.5555555555555556,
             "#d8576b"
            ],
            [
             0.6666666666666666,
             "#ed7953"
            ],
            [
             0.7777777777777778,
             "#fb9f3a"
            ],
            [
             0.8888888888888888,
             "#fdca26"
            ],
            [
             1,
             "#f0f921"
            ]
           ]
          },
          "colorway": [
           "#636efa",
           "#EF553B",
           "#00cc96",
           "#ab63fa",
           "#FFA15A",
           "#19d3f3",
           "#FF6692",
           "#B6E880",
           "#FF97FF",
           "#FECB52"
          ],
          "font": {
           "color": "#2a3f5f"
          },
          "geo": {
           "bgcolor": "white",
           "lakecolor": "white",
           "landcolor": "#E5ECF6",
           "showlakes": true,
           "showland": true,
           "subunitcolor": "white"
          },
          "hoverlabel": {
           "align": "left"
          },
          "hovermode": "closest",
          "mapbox": {
           "style": "light"
          },
          "paper_bgcolor": "white",
          "plot_bgcolor": "#E5ECF6",
          "polar": {
           "angularaxis": {
            "gridcolor": "white",
            "linecolor": "white",
            "ticks": ""
           },
           "bgcolor": "#E5ECF6",
           "radialaxis": {
            "gridcolor": "white",
            "linecolor": "white",
            "ticks": ""
           }
          },
          "scene": {
           "xaxis": {
            "backgroundcolor": "#E5ECF6",
            "gridcolor": "white",
            "gridwidth": 2,
            "linecolor": "white",
            "showbackground": true,
            "ticks": "",
            "zerolinecolor": "white"
           },
           "yaxis": {
            "backgroundcolor": "#E5ECF6",
            "gridcolor": "white",
            "gridwidth": 2,
            "linecolor": "white",
            "showbackground": true,
            "ticks": "",
            "zerolinecolor": "white"
           },
           "zaxis": {
            "backgroundcolor": "#E5ECF6",
            "gridcolor": "white",
            "gridwidth": 2,
            "linecolor": "white",
            "showbackground": true,
            "ticks": "",
            "zerolinecolor": "white"
           }
          },
          "shapedefaults": {
           "line": {
            "color": "#2a3f5f"
           }
          },
          "ternary": {
           "aaxis": {
            "gridcolor": "white",
            "linecolor": "white",
            "ticks": ""
           },
           "baxis": {
            "gridcolor": "white",
            "linecolor": "white",
            "ticks": ""
           },
           "bgcolor": "#E5ECF6",
           "caxis": {
            "gridcolor": "white",
            "linecolor": "white",
            "ticks": ""
           }
          },
          "title": {
           "x": 0.05
          },
          "xaxis": {
           "automargin": true,
           "gridcolor": "white",
           "linecolor": "white",
           "ticks": "",
           "title": {
            "standoff": 15
           },
           "zerolinecolor": "white",
           "zerolinewidth": 2
          },
          "yaxis": {
           "automargin": true,
           "gridcolor": "white",
           "linecolor": "white",
           "ticks": "",
           "title": {
            "standoff": 15
           },
           "zerolinecolor": "white",
           "zerolinewidth": 2
          }
         }
        },
        "title": {
         "text": "Cpi Over Time by Marketing channel"
        },
        "width": 1000,
        "xaxis": {
         "title": {
          "text": "Date"
         }
        },
        "yaxis": {
         "title": {
          "text": "Cost per Install"
         }
        }
       }
      }
     },
     "metadata": {},
     "output_type": "display_data"
    }
   ],
   "source": [
    "create_grouped_line_chart(\n",
    "    df=df_channels_over_time[df_channels_over_time['country']=='US'],\n",
    "    x_column=\"date\",\n",
    "    y_column=\"cpi\",\n",
    "    group_column=\"marketing_channel\",\n",
    "    y_label=\"Cost per Install\"\n",
    ")"
   ]
  },
  {
   "cell_type": "code",
   "execution_count": 32,
   "id": "58c3005f",
   "metadata": {},
   "outputs": [
    {
     "data": {
      "application/vnd.plotly.v1+json": {
       "config": {
        "plotlyServerURL": "https://plot.ly"
       },
       "data": [
        {
         "mode": "lines",
         "name": "Channel A",
         "type": "scatter",
         "x": [
          "2023-11-01",
          "2023-11-02",
          "2023-11-03",
          "2023-11-04",
          "2023-11-06",
          "2023-11-07",
          "2023-11-13",
          "2023-11-16",
          "2023-11-21",
          "2023-11-22",
          "2023-11-23",
          "2023-11-24",
          "2023-11-25",
          "2023-11-26",
          "2023-11-27",
          "2023-11-28",
          "2023-11-29",
          "2023-11-30"
         ],
         "y": [
          -263.17,
          -304.55,
          -455.68,
          -388.01,
          0,
          0,
          0,
          0,
          -215.31,
          -220.67,
          -218.23,
          -215.18,
          -216.8,
          -210.66,
          -214.15,
          -194.66,
          -155.82,
          -221.66
         ]
        },
        {
         "mode": "lines",
         "name": "Channel B",
         "type": "scatter",
         "x": [
          "2023-11-01",
          "2023-11-02",
          "2023-11-03",
          "2023-11-04",
          "2023-11-05",
          "2023-11-06",
          "2023-11-07",
          "2023-11-08",
          "2023-11-09",
          "2023-11-10",
          "2023-11-11",
          "2023-11-12",
          "2023-11-13",
          "2023-11-14",
          "2023-11-15",
          "2023-11-16",
          "2023-11-17",
          "2023-11-18",
          "2023-11-19",
          "2023-11-20",
          "2023-11-21",
          "2023-11-22",
          "2023-11-23",
          "2023-11-24",
          "2023-11-25",
          "2023-11-26",
          "2023-11-27",
          "2023-11-28",
          "2023-11-29",
          "2023-11-30"
         ],
         "y": [
          -62.1,
          -20.72,
          31.53,
          -45.59,
          -11.03,
          7.51,
          -86.27,
          -90.66,
          -135.84,
          -98.46,
          -200.95,
          -234.06,
          -66.95,
          -160.9,
          -77.14,
          -234.62,
          -207.85,
          -393.84,
          -335.13,
          -327.75,
          -312.6,
          -302.96,
          -287.46,
          -374.22,
          -269.69,
          -372.3,
          -304.71,
          -238.91,
          -255.9,
          -307.03
         ]
        },
        {
         "mode": "lines",
         "name": "Channel C",
         "type": "scatter",
         "x": [
          "2023-11-01",
          "2023-11-02",
          "2023-11-03",
          "2023-11-04",
          "2023-11-05",
          "2023-11-06",
          "2023-11-07",
          "2023-11-08",
          "2023-11-09",
          "2023-11-10",
          "2023-11-11",
          "2023-11-12",
          "2023-11-13",
          "2023-11-14",
          "2023-11-15",
          "2023-11-16",
          "2023-11-17",
          "2023-11-18",
          "2023-11-19",
          "2023-11-20",
          "2023-11-21",
          "2023-11-22",
          "2023-11-23",
          "2023-11-24",
          "2023-11-25",
          "2023-11-26",
          "2023-11-27",
          "2023-11-28",
          "2023-11-29",
          "2023-11-30"
         ],
         "y": [
          -37.41,
          -165.07,
          -167.11,
          -204.8,
          70.97,
          133.54,
          -152.17,
          -217.58,
          -201.94,
          -413.33,
          -286.81,
          -345.95,
          -204.41,
          -192.94,
          -105.58,
          -188.63,
          -272.87,
          -207.53,
          -171.49,
          -81.39,
          -243.2,
          -349.54,
          -279.11,
          -214.69,
          -190.16,
          -182.55,
          -239.22,
          -271.73,
          -166.12,
          -126.52
         ]
        },
        {
         "mode": "lines",
         "name": "Channel D",
         "type": "scatter",
         "x": [
          "2023-11-07",
          "2023-11-08",
          "2023-11-09",
          "2023-11-10",
          "2023-11-11",
          "2023-11-12",
          "2023-11-13"
         ],
         "y": [
          -218.67,
          -218.97,
          -218.95,
          -219.9,
          -219.68,
          -219.04,
          -219.72
         ]
        },
        {
         "mode": "lines",
         "name": "Channel E",
         "type": "scatter",
         "x": [
          "2023-11-01",
          "2023-11-02",
          "2023-11-03",
          "2023-11-04",
          "2023-11-05",
          "2023-11-06",
          "2023-11-07",
          "2023-11-08",
          "2023-11-09",
          "2023-11-10",
          "2023-11-11",
          "2023-11-12",
          "2023-11-13",
          "2023-11-14",
          "2023-11-15",
          "2023-11-16",
          "2023-11-17",
          "2023-11-18",
          "2023-11-19",
          "2023-11-20",
          "2023-11-21",
          "2023-11-22",
          "2023-11-23",
          "2023-11-24",
          "2023-11-25",
          "2023-11-26",
          "2023-11-27",
          "2023-11-28",
          "2023-11-29",
          "2023-11-30"
         ],
         "y": [
          0,
          0,
          0,
          0,
          0,
          0,
          0,
          0,
          0,
          0,
          0,
          0,
          0,
          0,
          0,
          0,
          0,
          0,
          0,
          0,
          0,
          0,
          0,
          0,
          0,
          0,
          0,
          0,
          0,
          0
         ]
        }
       ],
       "layout": {
        "annotations": [
         {
          "arrowhead": 2,
          "ax": 0,
          "ay": -40,
          "showarrow": true,
          "text": "Black Friday",
          "x": "2023-11-24",
          "y": 133.54
         }
        ],
        "height": 600,
        "legend": {
         "title": {
          "text": "Marketing channel"
         }
        },
        "template": {
         "data": {
          "bar": [
           {
            "error_x": {
             "color": "#2a3f5f"
            },
            "error_y": {
             "color": "#2a3f5f"
            },
            "marker": {
             "line": {
              "color": "#E5ECF6",
              "width": 0.5
             },
             "pattern": {
              "fillmode": "overlay",
              "size": 10,
              "solidity": 0.2
             }
            },
            "type": "bar"
           }
          ],
          "barpolar": [
           {
            "marker": {
             "line": {
              "color": "#E5ECF6",
              "width": 0.5
             },
             "pattern": {
              "fillmode": "overlay",
              "size": 10,
              "solidity": 0.2
             }
            },
            "type": "barpolar"
           }
          ],
          "carpet": [
           {
            "aaxis": {
             "endlinecolor": "#2a3f5f",
             "gridcolor": "white",
             "linecolor": "white",
             "minorgridcolor": "white",
             "startlinecolor": "#2a3f5f"
            },
            "baxis": {
             "endlinecolor": "#2a3f5f",
             "gridcolor": "white",
             "linecolor": "white",
             "minorgridcolor": "white",
             "startlinecolor": "#2a3f5f"
            },
            "type": "carpet"
           }
          ],
          "choropleth": [
           {
            "colorbar": {
             "outlinewidth": 0,
             "ticks": ""
            },
            "type": "choropleth"
           }
          ],
          "contour": [
           {
            "colorbar": {
             "outlinewidth": 0,
             "ticks": ""
            },
            "colorscale": [
             [
              0,
              "#0d0887"
             ],
             [
              0.1111111111111111,
              "#46039f"
             ],
             [
              0.2222222222222222,
              "#7201a8"
             ],
             [
              0.3333333333333333,
              "#9c179e"
             ],
             [
              0.4444444444444444,
              "#bd3786"
             ],
             [
              0.5555555555555556,
              "#d8576b"
             ],
             [
              0.6666666666666666,
              "#ed7953"
             ],
             [
              0.7777777777777778,
              "#fb9f3a"
             ],
             [
              0.8888888888888888,
              "#fdca26"
             ],
             [
              1,
              "#f0f921"
             ]
            ],
            "type": "contour"
           }
          ],
          "contourcarpet": [
           {
            "colorbar": {
             "outlinewidth": 0,
             "ticks": ""
            },
            "type": "contourcarpet"
           }
          ],
          "heatmap": [
           {
            "colorbar": {
             "outlinewidth": 0,
             "ticks": ""
            },
            "colorscale": [
             [
              0,
              "#0d0887"
             ],
             [
              0.1111111111111111,
              "#46039f"
             ],
             [
              0.2222222222222222,
              "#7201a8"
             ],
             [
              0.3333333333333333,
              "#9c179e"
             ],
             [
              0.4444444444444444,
              "#bd3786"
             ],
             [
              0.5555555555555556,
              "#d8576b"
             ],
             [
              0.6666666666666666,
              "#ed7953"
             ],
             [
              0.7777777777777778,
              "#fb9f3a"
             ],
             [
              0.8888888888888888,
              "#fdca26"
             ],
             [
              1,
              "#f0f921"
             ]
            ],
            "type": "heatmap"
           }
          ],
          "heatmapgl": [
           {
            "colorbar": {
             "outlinewidth": 0,
             "ticks": ""
            },
            "colorscale": [
             [
              0,
              "#0d0887"
             ],
             [
              0.1111111111111111,
              "#46039f"
             ],
             [
              0.2222222222222222,
              "#7201a8"
             ],
             [
              0.3333333333333333,
              "#9c179e"
             ],
             [
              0.4444444444444444,
              "#bd3786"
             ],
             [
              0.5555555555555556,
              "#d8576b"
             ],
             [
              0.6666666666666666,
              "#ed7953"
             ],
             [
              0.7777777777777778,
              "#fb9f3a"
             ],
             [
              0.8888888888888888,
              "#fdca26"
             ],
             [
              1,
              "#f0f921"
             ]
            ],
            "type": "heatmapgl"
           }
          ],
          "histogram": [
           {
            "marker": {
             "pattern": {
              "fillmode": "overlay",
              "size": 10,
              "solidity": 0.2
             }
            },
            "type": "histogram"
           }
          ],
          "histogram2d": [
           {
            "colorbar": {
             "outlinewidth": 0,
             "ticks": ""
            },
            "colorscale": [
             [
              0,
              "#0d0887"
             ],
             [
              0.1111111111111111,
              "#46039f"
             ],
             [
              0.2222222222222222,
              "#7201a8"
             ],
             [
              0.3333333333333333,
              "#9c179e"
             ],
             [
              0.4444444444444444,
              "#bd3786"
             ],
             [
              0.5555555555555556,
              "#d8576b"
             ],
             [
              0.6666666666666666,
              "#ed7953"
             ],
             [
              0.7777777777777778,
              "#fb9f3a"
             ],
             [
              0.8888888888888888,
              "#fdca26"
             ],
             [
              1,
              "#f0f921"
             ]
            ],
            "type": "histogram2d"
           }
          ],
          "histogram2dcontour": [
           {
            "colorbar": {
             "outlinewidth": 0,
             "ticks": ""
            },
            "colorscale": [
             [
              0,
              "#0d0887"
             ],
             [
              0.1111111111111111,
              "#46039f"
             ],
             [
              0.2222222222222222,
              "#7201a8"
             ],
             [
              0.3333333333333333,
              "#9c179e"
             ],
             [
              0.4444444444444444,
              "#bd3786"
             ],
             [
              0.5555555555555556,
              "#d8576b"
             ],
             [
              0.6666666666666666,
              "#ed7953"
             ],
             [
              0.7777777777777778,
              "#fb9f3a"
             ],
             [
              0.8888888888888888,
              "#fdca26"
             ],
             [
              1,
              "#f0f921"
             ]
            ],
            "type": "histogram2dcontour"
           }
          ],
          "mesh3d": [
           {
            "colorbar": {
             "outlinewidth": 0,
             "ticks": ""
            },
            "type": "mesh3d"
           }
          ],
          "parcoords": [
           {
            "line": {
             "colorbar": {
              "outlinewidth": 0,
              "ticks": ""
             }
            },
            "type": "parcoords"
           }
          ],
          "pie": [
           {
            "automargin": true,
            "type": "pie"
           }
          ],
          "scatter": [
           {
            "fillpattern": {
             "fillmode": "overlay",
             "size": 10,
             "solidity": 0.2
            },
            "type": "scatter"
           }
          ],
          "scatter3d": [
           {
            "line": {
             "colorbar": {
              "outlinewidth": 0,
              "ticks": ""
             }
            },
            "marker": {
             "colorbar": {
              "outlinewidth": 0,
              "ticks": ""
             }
            },
            "type": "scatter3d"
           }
          ],
          "scattercarpet": [
           {
            "marker": {
             "colorbar": {
              "outlinewidth": 0,
              "ticks": ""
             }
            },
            "type": "scattercarpet"
           }
          ],
          "scattergeo": [
           {
            "marker": {
             "colorbar": {
              "outlinewidth": 0,
              "ticks": ""
             }
            },
            "type": "scattergeo"
           }
          ],
          "scattergl": [
           {
            "marker": {
             "colorbar": {
              "outlinewidth": 0,
              "ticks": ""
             }
            },
            "type": "scattergl"
           }
          ],
          "scattermapbox": [
           {
            "marker": {
             "colorbar": {
              "outlinewidth": 0,
              "ticks": ""
             }
            },
            "type": "scattermapbox"
           }
          ],
          "scatterpolar": [
           {
            "marker": {
             "colorbar": {
              "outlinewidth": 0,
              "ticks": ""
             }
            },
            "type": "scatterpolar"
           }
          ],
          "scatterpolargl": [
           {
            "marker": {
             "colorbar": {
              "outlinewidth": 0,
              "ticks": ""
             }
            },
            "type": "scatterpolargl"
           }
          ],
          "scatterternary": [
           {
            "marker": {
             "colorbar": {
              "outlinewidth": 0,
              "ticks": ""
             }
            },
            "type": "scatterternary"
           }
          ],
          "surface": [
           {
            "colorbar": {
             "outlinewidth": 0,
             "ticks": ""
            },
            "colorscale": [
             [
              0,
              "#0d0887"
             ],
             [
              0.1111111111111111,
              "#46039f"
             ],
             [
              0.2222222222222222,
              "#7201a8"
             ],
             [
              0.3333333333333333,
              "#9c179e"
             ],
             [
              0.4444444444444444,
              "#bd3786"
             ],
             [
              0.5555555555555556,
              "#d8576b"
             ],
             [
              0.6666666666666666,
              "#ed7953"
             ],
             [
              0.7777777777777778,
              "#fb9f3a"
             ],
             [
              0.8888888888888888,
              "#fdca26"
             ],
             [
              1,
              "#f0f921"
             ]
            ],
            "type": "surface"
           }
          ],
          "table": [
           {
            "cells": {
             "fill": {
              "color": "#EBF0F8"
             },
             "line": {
              "color": "white"
             }
            },
            "header": {
             "fill": {
              "color": "#C8D4E3"
             },
             "line": {
              "color": "white"
             }
            },
            "type": "table"
           }
          ]
         },
         "layout": {
          "annotationdefaults": {
           "arrowcolor": "#2a3f5f",
           "arrowhead": 0,
           "arrowwidth": 1
          },
          "autotypenumbers": "strict",
          "coloraxis": {
           "colorbar": {
            "outlinewidth": 0,
            "ticks": ""
           }
          },
          "colorscale": {
           "diverging": [
            [
             0,
             "#8e0152"
            ],
            [
             0.1,
             "#c51b7d"
            ],
            [
             0.2,
             "#de77ae"
            ],
            [
             0.3,
             "#f1b6da"
            ],
            [
             0.4,
             "#fde0ef"
            ],
            [
             0.5,
             "#f7f7f7"
            ],
            [
             0.6,
             "#e6f5d0"
            ],
            [
             0.7,
             "#b8e186"
            ],
            [
             0.8,
             "#7fbc41"
            ],
            [
             0.9,
             "#4d9221"
            ],
            [
             1,
             "#276419"
            ]
           ],
           "sequential": [
            [
             0,
             "#0d0887"
            ],
            [
             0.1111111111111111,
             "#46039f"
            ],
            [
             0.2222222222222222,
             "#7201a8"
            ],
            [
             0.3333333333333333,
             "#9c179e"
            ],
            [
             0.4444444444444444,
             "#bd3786"
            ],
            [
             0.5555555555555556,
             "#d8576b"
            ],
            [
             0.6666666666666666,
             "#ed7953"
            ],
            [
             0.7777777777777778,
             "#fb9f3a"
            ],
            [
             0.8888888888888888,
             "#fdca26"
            ],
            [
             1,
             "#f0f921"
            ]
           ],
           "sequentialminus": [
            [
             0,
             "#0d0887"
            ],
            [
             0.1111111111111111,
             "#46039f"
            ],
            [
             0.2222222222222222,
             "#7201a8"
            ],
            [
             0.3333333333333333,
             "#9c179e"
            ],
            [
             0.4444444444444444,
             "#bd3786"
            ],
            [
             0.5555555555555556,
             "#d8576b"
            ],
            [
             0.6666666666666666,
             "#ed7953"
            ],
            [
             0.7777777777777778,
             "#fb9f3a"
            ],
            [
             0.8888888888888888,
             "#fdca26"
            ],
            [
             1,
             "#f0f921"
            ]
           ]
          },
          "colorway": [
           "#636efa",
           "#EF553B",
           "#00cc96",
           "#ab63fa",
           "#FFA15A",
           "#19d3f3",
           "#FF6692",
           "#B6E880",
           "#FF97FF",
           "#FECB52"
          ],
          "font": {
           "color": "#2a3f5f"
          },
          "geo": {
           "bgcolor": "white",
           "lakecolor": "white",
           "landcolor": "#E5ECF6",
           "showlakes": true,
           "showland": true,
           "subunitcolor": "white"
          },
          "hoverlabel": {
           "align": "left"
          },
          "hovermode": "closest",
          "mapbox": {
           "style": "light"
          },
          "paper_bgcolor": "white",
          "plot_bgcolor": "#E5ECF6",
          "polar": {
           "angularaxis": {
            "gridcolor": "white",
            "linecolor": "white",
            "ticks": ""
           },
           "bgcolor": "#E5ECF6",
           "radialaxis": {
            "gridcolor": "white",
            "linecolor": "white",
            "ticks": ""
           }
          },
          "scene": {
           "xaxis": {
            "backgroundcolor": "#E5ECF6",
            "gridcolor": "white",
            "gridwidth": 2,
            "linecolor": "white",
            "showbackground": true,
            "ticks": "",
            "zerolinecolor": "white"
           },
           "yaxis": {
            "backgroundcolor": "#E5ECF6",
            "gridcolor": "white",
            "gridwidth": 2,
            "linecolor": "white",
            "showbackground": true,
            "ticks": "",
            "zerolinecolor": "white"
           },
           "zaxis": {
            "backgroundcolor": "#E5ECF6",
            "gridcolor": "white",
            "gridwidth": 2,
            "linecolor": "white",
            "showbackground": true,
            "ticks": "",
            "zerolinecolor": "white"
           }
          },
          "shapedefaults": {
           "line": {
            "color": "#2a3f5f"
           }
          },
          "ternary": {
           "aaxis": {
            "gridcolor": "white",
            "linecolor": "white",
            "ticks": ""
           },
           "baxis": {
            "gridcolor": "white",
            "linecolor": "white",
            "ticks": ""
           },
           "bgcolor": "#E5ECF6",
           "caxis": {
            "gridcolor": "white",
            "linecolor": "white",
            "ticks": ""
           }
          },
          "title": {
           "x": 0.05
          },
          "xaxis": {
           "automargin": true,
           "gridcolor": "white",
           "linecolor": "white",
           "ticks": "",
           "title": {
            "standoff": 15
           },
           "zerolinecolor": "white",
           "zerolinewidth": 2
          },
          "yaxis": {
           "automargin": true,
           "gridcolor": "white",
           "linecolor": "white",
           "ticks": "",
           "title": {
            "standoff": 15
           },
           "zerolinecolor": "white",
           "zerolinewidth": 2
          }
         }
        },
        "title": {
         "text": "Profit Over Time by Marketing channel"
        },
        "width": 1000,
        "xaxis": {
         "title": {
          "text": "Date"
         }
        },
        "yaxis": {
         "title": {
          "text": "Profit"
         }
        }
       }
      }
     },
     "metadata": {},
     "output_type": "display_data"
    }
   ],
   "source": [
    "create_grouped_line_chart(\n",
    "    df=df_channels_over_time[df_channels_over_time['country']=='US'],\n",
    "    x_column=\"date\",\n",
    "    y_column=\"profit\",\n",
    "    group_column=\"marketing_channel\",\n",
    "    y_label=\"Profit\"\n",
    ")"
   ]
  },
  {
   "cell_type": "markdown",
   "id": "d68e7e2a",
   "metadata": {},
   "source": [
    "## Other KPIs over time"
   ]
  },
  {
   "cell_type": "markdown",
   "id": "42d88bcc",
   "metadata": {},
   "source": [
    "### Germany"
   ]
  },
  {
   "cell_type": "markdown",
   "id": "3093597f",
   "metadata": {},
   "source": [
    "##### Economy over time"
   ]
  },
  {
   "cell_type": "code",
   "execution_count": 33,
   "id": "b19a1270",
   "metadata": {},
   "outputs": [],
   "source": [
    "# Plot marketing_spend_euro, revenue_euro, and profit over date\n",
    "\n",
    "def plot_metrics(df, plot_width=1000, plot_height=600):\n",
    "    fig = go.Figure()\n",
    "\n",
    "    # Add lines for each metric with German palette colors\n",
    "    fig.add_trace(go.Scatter(x=df['date'], y=df['marketing_spend_euro'], mode='lines', name='Marketing Spend (€)', line=dict(color='#fc5c65')))\n",
    "    fig.add_trace(go.Scatter(x=df['date'], y=df['revenue_euro'], mode='lines', name='Revenue (€)', line=dict(color='#26de81')))\n",
    "    fig.add_trace(go.Scatter(x=df['date'], y=df['profit'], mode='lines', name='Profit (€)', line=dict(color='#4b7bec')))\n",
    "\n",
    "    # Add annotation for Black Friday on 24/11/2023\n",
    "    fig.add_annotation(\n",
    "        x=\"2023-11-24\", \n",
    "        y=max(df['marketing_spend_euro'].max(), df['revenue_euro'].max()),  # Position at the top of the plot\n",
    "        text=\"Black Friday\",\n",
    "        showarrow=True,\n",
    "        arrowhead=2,\n",
    "        ax=0,\n",
    "        ay=-40\n",
    "    )\n",
    "    \n",
    "    # Customize layout\n",
    "    fig.update_layout(\n",
    "        title=\"Marketing Spend, Revenue, and Profit over Time (DE)\",\n",
    "        xaxis_title=\"Date\",\n",
    "        yaxis_title=\"Amount (€)\",\n",
    "        width=plot_width,\n",
    "        height=plot_height,\n",
    "        legend=dict(title=\"Metrics\")\n",
    "    )\n",
    "\n",
    "    fig.show()"
   ]
  },
  {
   "cell_type": "code",
   "execution_count": 34,
   "id": "63aa0128",
   "metadata": {},
   "outputs": [
    {
     "data": {
      "application/vnd.plotly.v1+json": {
       "config": {
        "plotlyServerURL": "https://plot.ly"
       },
       "data": [
        {
         "line": {
          "color": "#fc5c65"
         },
         "mode": "lines",
         "name": "Marketing Spend (€)",
         "type": "scatter",
         "x": [
          "2023-11-01",
          "2023-11-02",
          "2023-11-03",
          "2023-11-04",
          "2023-11-05",
          "2023-11-06",
          "2023-11-07",
          "2023-11-08",
          "2023-11-09",
          "2023-11-10",
          "2023-11-11",
          "2023-11-12",
          "2023-11-13",
          "2023-11-14",
          "2023-11-15",
          "2023-11-16",
          "2023-11-17",
          "2023-11-18",
          "2023-11-19",
          "2023-11-20",
          "2023-11-21",
          "2023-11-22",
          "2023-11-23",
          "2023-11-24",
          "2023-11-25",
          "2023-11-26",
          "2023-11-27",
          "2023-11-28",
          "2023-11-29",
          "2023-11-30"
         ],
         "y": [
          1417.9,
          1312.1399999999999,
          1285.22,
          1324.99,
          1394.3200000000002,
          959.41,
          952.3399999999999,
          980.32,
          798.74,
          778.16,
          887.56,
          1091.04,
          1009.44,
          1015.01,
          1129.71,
          910.8,
          927.55,
          833.5899999999999,
          884.73,
          1130.32,
          1520.1,
          1714.37,
          1515.75,
          1329.23,
          1338.68,
          1710.1399999999999,
          1787.9499999999998,
          1734.5900000000001,
          1508,
          1330.55
         ]
        },
        {
         "line": {
          "color": "#26de81"
         },
         "mode": "lines",
         "name": "Revenue (€)",
         "type": "scatter",
         "x": [
          "2023-11-01",
          "2023-11-02",
          "2023-11-03",
          "2023-11-04",
          "2023-11-05",
          "2023-11-06",
          "2023-11-07",
          "2023-11-08",
          "2023-11-09",
          "2023-11-10",
          "2023-11-11",
          "2023-11-12",
          "2023-11-13",
          "2023-11-14",
          "2023-11-15",
          "2023-11-16",
          "2023-11-17",
          "2023-11-18",
          "2023-11-19",
          "2023-11-20",
          "2023-11-21",
          "2023-11-22",
          "2023-11-23",
          "2023-11-24",
          "2023-11-25",
          "2023-11-26",
          "2023-11-27",
          "2023-11-28",
          "2023-11-29",
          "2023-11-30"
         ],
         "y": [
          3785.4400000000005,
          2947.05,
          2703.55,
          2647.49,
          3138.88,
          2307.4,
          2823.83,
          2609.2,
          2339.09,
          2045.18,
          2096.5699999999997,
          2810.08,
          3404.7400000000002,
          2546.9799999999996,
          2840.3399999999997,
          2641.95,
          2502.6899999999996,
          1079.97,
          2558.9500000000003,
          3323.8199999999997,
          3220.55,
          3973.12,
          3358.92,
          3240.41,
          3287.41,
          4135.799999999999,
          3786.2000000000003,
          3537.05,
          3287.83,
          2986.51
         ]
        },
        {
         "line": {
          "color": "#4b7bec"
         },
         "mode": "lines",
         "name": "Profit (€)",
         "type": "scatter",
         "x": [
          "2023-11-01",
          "2023-11-02",
          "2023-11-03",
          "2023-11-04",
          "2023-11-05",
          "2023-11-06",
          "2023-11-07",
          "2023-11-08",
          "2023-11-09",
          "2023-11-10",
          "2023-11-11",
          "2023-11-12",
          "2023-11-13",
          "2023-11-14",
          "2023-11-15",
          "2023-11-16",
          "2023-11-17",
          "2023-11-18",
          "2023-11-19",
          "2023-11-20",
          "2023-11-21",
          "2023-11-22",
          "2023-11-23",
          "2023-11-24",
          "2023-11-25",
          "2023-11-26",
          "2023-11-27",
          "2023-11-28",
          "2023-11-29",
          "2023-11-30"
         ],
         "y": [
          2367.54,
          1634.91,
          1418.33,
          1322.5,
          1744.56,
          1347.99,
          1871.49,
          1628.88,
          1540.35,
          1267.02,
          1209.01,
          1719.04,
          2395.3,
          1531.97,
          1710.63,
          1731.15,
          1575.14,
          246.38,
          1674.22,
          2193.5,
          1700.45,
          2258.75,
          1843.17,
          1911.18,
          1948.73,
          2425.66,
          1998.25,
          1802.46,
          1779.83,
          1655.96
         ]
        }
       ],
       "layout": {
        "annotations": [
         {
          "arrowhead": 2,
          "ax": 0,
          "ay": -40,
          "showarrow": true,
          "text": "Black Friday",
          "x": "2023-11-24",
          "y": 4135.799999999999
         }
        ],
        "height": 600,
        "legend": {
         "title": {
          "text": "Metrics"
         }
        },
        "template": {
         "data": {
          "bar": [
           {
            "error_x": {
             "color": "#2a3f5f"
            },
            "error_y": {
             "color": "#2a3f5f"
            },
            "marker": {
             "line": {
              "color": "#E5ECF6",
              "width": 0.5
             },
             "pattern": {
              "fillmode": "overlay",
              "size": 10,
              "solidity": 0.2
             }
            },
            "type": "bar"
           }
          ],
          "barpolar": [
           {
            "marker": {
             "line": {
              "color": "#E5ECF6",
              "width": 0.5
             },
             "pattern": {
              "fillmode": "overlay",
              "size": 10,
              "solidity": 0.2
             }
            },
            "type": "barpolar"
           }
          ],
          "carpet": [
           {
            "aaxis": {
             "endlinecolor": "#2a3f5f",
             "gridcolor": "white",
             "linecolor": "white",
             "minorgridcolor": "white",
             "startlinecolor": "#2a3f5f"
            },
            "baxis": {
             "endlinecolor": "#2a3f5f",
             "gridcolor": "white",
             "linecolor": "white",
             "minorgridcolor": "white",
             "startlinecolor": "#2a3f5f"
            },
            "type": "carpet"
           }
          ],
          "choropleth": [
           {
            "colorbar": {
             "outlinewidth": 0,
             "ticks": ""
            },
            "type": "choropleth"
           }
          ],
          "contour": [
           {
            "colorbar": {
             "outlinewidth": 0,
             "ticks": ""
            },
            "colorscale": [
             [
              0,
              "#0d0887"
             ],
             [
              0.1111111111111111,
              "#46039f"
             ],
             [
              0.2222222222222222,
              "#7201a8"
             ],
             [
              0.3333333333333333,
              "#9c179e"
             ],
             [
              0.4444444444444444,
              "#bd3786"
             ],
             [
              0.5555555555555556,
              "#d8576b"
             ],
             [
              0.6666666666666666,
              "#ed7953"
             ],
             [
              0.7777777777777778,
              "#fb9f3a"
             ],
             [
              0.8888888888888888,
              "#fdca26"
             ],
             [
              1,
              "#f0f921"
             ]
            ],
            "type": "contour"
           }
          ],
          "contourcarpet": [
           {
            "colorbar": {
             "outlinewidth": 0,
             "ticks": ""
            },
            "type": "contourcarpet"
           }
          ],
          "heatmap": [
           {
            "colorbar": {
             "outlinewidth": 0,
             "ticks": ""
            },
            "colorscale": [
             [
              0,
              "#0d0887"
             ],
             [
              0.1111111111111111,
              "#46039f"
             ],
             [
              0.2222222222222222,
              "#7201a8"
             ],
             [
              0.3333333333333333,
              "#9c179e"
             ],
             [
              0.4444444444444444,
              "#bd3786"
             ],
             [
              0.5555555555555556,
              "#d8576b"
             ],
             [
              0.6666666666666666,
              "#ed7953"
             ],
             [
              0.7777777777777778,
              "#fb9f3a"
             ],
             [
              0.8888888888888888,
              "#fdca26"
             ],
             [
              1,
              "#f0f921"
             ]
            ],
            "type": "heatmap"
           }
          ],
          "heatmapgl": [
           {
            "colorbar": {
             "outlinewidth": 0,
             "ticks": ""
            },
            "colorscale": [
             [
              0,
              "#0d0887"
             ],
             [
              0.1111111111111111,
              "#46039f"
             ],
             [
              0.2222222222222222,
              "#7201a8"
             ],
             [
              0.3333333333333333,
              "#9c179e"
             ],
             [
              0.4444444444444444,
              "#bd3786"
             ],
             [
              0.5555555555555556,
              "#d8576b"
             ],
             [
              0.6666666666666666,
              "#ed7953"
             ],
             [
              0.7777777777777778,
              "#fb9f3a"
             ],
             [
              0.8888888888888888,
              "#fdca26"
             ],
             [
              1,
              "#f0f921"
             ]
            ],
            "type": "heatmapgl"
           }
          ],
          "histogram": [
           {
            "marker": {
             "pattern": {
              "fillmode": "overlay",
              "size": 10,
              "solidity": 0.2
             }
            },
            "type": "histogram"
           }
          ],
          "histogram2d": [
           {
            "colorbar": {
             "outlinewidth": 0,
             "ticks": ""
            },
            "colorscale": [
             [
              0,
              "#0d0887"
             ],
             [
              0.1111111111111111,
              "#46039f"
             ],
             [
              0.2222222222222222,
              "#7201a8"
             ],
             [
              0.3333333333333333,
              "#9c179e"
             ],
             [
              0.4444444444444444,
              "#bd3786"
             ],
             [
              0.5555555555555556,
              "#d8576b"
             ],
             [
              0.6666666666666666,
              "#ed7953"
             ],
             [
              0.7777777777777778,
              "#fb9f3a"
             ],
             [
              0.8888888888888888,
              "#fdca26"
             ],
             [
              1,
              "#f0f921"
             ]
            ],
            "type": "histogram2d"
           }
          ],
          "histogram2dcontour": [
           {
            "colorbar": {
             "outlinewidth": 0,
             "ticks": ""
            },
            "colorscale": [
             [
              0,
              "#0d0887"
             ],
             [
              0.1111111111111111,
              "#46039f"
             ],
             [
              0.2222222222222222,
              "#7201a8"
             ],
             [
              0.3333333333333333,
              "#9c179e"
             ],
             [
              0.4444444444444444,
              "#bd3786"
             ],
             [
              0.5555555555555556,
              "#d8576b"
             ],
             [
              0.6666666666666666,
              "#ed7953"
             ],
             [
              0.7777777777777778,
              "#fb9f3a"
             ],
             [
              0.8888888888888888,
              "#fdca26"
             ],
             [
              1,
              "#f0f921"
             ]
            ],
            "type": "histogram2dcontour"
           }
          ],
          "mesh3d": [
           {
            "colorbar": {
             "outlinewidth": 0,
             "ticks": ""
            },
            "type": "mesh3d"
           }
          ],
          "parcoords": [
           {
            "line": {
             "colorbar": {
              "outlinewidth": 0,
              "ticks": ""
             }
            },
            "type": "parcoords"
           }
          ],
          "pie": [
           {
            "automargin": true,
            "type": "pie"
           }
          ],
          "scatter": [
           {
            "fillpattern": {
             "fillmode": "overlay",
             "size": 10,
             "solidity": 0.2
            },
            "type": "scatter"
           }
          ],
          "scatter3d": [
           {
            "line": {
             "colorbar": {
              "outlinewidth": 0,
              "ticks": ""
             }
            },
            "marker": {
             "colorbar": {
              "outlinewidth": 0,
              "ticks": ""
             }
            },
            "type": "scatter3d"
           }
          ],
          "scattercarpet": [
           {
            "marker": {
             "colorbar": {
              "outlinewidth": 0,
              "ticks": ""
             }
            },
            "type": "scattercarpet"
           }
          ],
          "scattergeo": [
           {
            "marker": {
             "colorbar": {
              "outlinewidth": 0,
              "ticks": ""
             }
            },
            "type": "scattergeo"
           }
          ],
          "scattergl": [
           {
            "marker": {
             "colorbar": {
              "outlinewidth": 0,
              "ticks": ""
             }
            },
            "type": "scattergl"
           }
          ],
          "scattermapbox": [
           {
            "marker": {
             "colorbar": {
              "outlinewidth": 0,
              "ticks": ""
             }
            },
            "type": "scattermapbox"
           }
          ],
          "scatterpolar": [
           {
            "marker": {
             "colorbar": {
              "outlinewidth": 0,
              "ticks": ""
             }
            },
            "type": "scatterpolar"
           }
          ],
          "scatterpolargl": [
           {
            "marker": {
             "colorbar": {
              "outlinewidth": 0,
              "ticks": ""
             }
            },
            "type": "scatterpolargl"
           }
          ],
          "scatterternary": [
           {
            "marker": {
             "colorbar": {
              "outlinewidth": 0,
              "ticks": ""
             }
            },
            "type": "scatterternary"
           }
          ],
          "surface": [
           {
            "colorbar": {
             "outlinewidth": 0,
             "ticks": ""
            },
            "colorscale": [
             [
              0,
              "#0d0887"
             ],
             [
              0.1111111111111111,
              "#46039f"
             ],
             [
              0.2222222222222222,
              "#7201a8"
             ],
             [
              0.3333333333333333,
              "#9c179e"
             ],
             [
              0.4444444444444444,
              "#bd3786"
             ],
             [
              0.5555555555555556,
              "#d8576b"
             ],
             [
              0.6666666666666666,
              "#ed7953"
             ],
             [
              0.7777777777777778,
              "#fb9f3a"
             ],
             [
              0.8888888888888888,
              "#fdca26"
             ],
             [
              1,
              "#f0f921"
             ]
            ],
            "type": "surface"
           }
          ],
          "table": [
           {
            "cells": {
             "fill": {
              "color": "#EBF0F8"
             },
             "line": {
              "color": "white"
             }
            },
            "header": {
             "fill": {
              "color": "#C8D4E3"
             },
             "line": {
              "color": "white"
             }
            },
            "type": "table"
           }
          ]
         },
         "layout": {
          "annotationdefaults": {
           "arrowcolor": "#2a3f5f",
           "arrowhead": 0,
           "arrowwidth": 1
          },
          "autotypenumbers": "strict",
          "coloraxis": {
           "colorbar": {
            "outlinewidth": 0,
            "ticks": ""
           }
          },
          "colorscale": {
           "diverging": [
            [
             0,
             "#8e0152"
            ],
            [
             0.1,
             "#c51b7d"
            ],
            [
             0.2,
             "#de77ae"
            ],
            [
             0.3,
             "#f1b6da"
            ],
            [
             0.4,
             "#fde0ef"
            ],
            [
             0.5,
             "#f7f7f7"
            ],
            [
             0.6,
             "#e6f5d0"
            ],
            [
             0.7,
             "#b8e186"
            ],
            [
             0.8,
             "#7fbc41"
            ],
            [
             0.9,
             "#4d9221"
            ],
            [
             1,
             "#276419"
            ]
           ],
           "sequential": [
            [
             0,
             "#0d0887"
            ],
            [
             0.1111111111111111,
             "#46039f"
            ],
            [
             0.2222222222222222,
             "#7201a8"
            ],
            [
             0.3333333333333333,
             "#9c179e"
            ],
            [
             0.4444444444444444,
             "#bd3786"
            ],
            [
             0.5555555555555556,
             "#d8576b"
            ],
            [
             0.6666666666666666,
             "#ed7953"
            ],
            [
             0.7777777777777778,
             "#fb9f3a"
            ],
            [
             0.8888888888888888,
             "#fdca26"
            ],
            [
             1,
             "#f0f921"
            ]
           ],
           "sequentialminus": [
            [
             0,
             "#0d0887"
            ],
            [
             0.1111111111111111,
             "#46039f"
            ],
            [
             0.2222222222222222,
             "#7201a8"
            ],
            [
             0.3333333333333333,
             "#9c179e"
            ],
            [
             0.4444444444444444,
             "#bd3786"
            ],
            [
             0.5555555555555556,
             "#d8576b"
            ],
            [
             0.6666666666666666,
             "#ed7953"
            ],
            [
             0.7777777777777778,
             "#fb9f3a"
            ],
            [
             0.8888888888888888,
             "#fdca26"
            ],
            [
             1,
             "#f0f921"
            ]
           ]
          },
          "colorway": [
           "#636efa",
           "#EF553B",
           "#00cc96",
           "#ab63fa",
           "#FFA15A",
           "#19d3f3",
           "#FF6692",
           "#B6E880",
           "#FF97FF",
           "#FECB52"
          ],
          "font": {
           "color": "#2a3f5f"
          },
          "geo": {
           "bgcolor": "white",
           "lakecolor": "white",
           "landcolor": "#E5ECF6",
           "showlakes": true,
           "showland": true,
           "subunitcolor": "white"
          },
          "hoverlabel": {
           "align": "left"
          },
          "hovermode": "closest",
          "mapbox": {
           "style": "light"
          },
          "paper_bgcolor": "white",
          "plot_bgcolor": "#E5ECF6",
          "polar": {
           "angularaxis": {
            "gridcolor": "white",
            "linecolor": "white",
            "ticks": ""
           },
           "bgcolor": "#E5ECF6",
           "radialaxis": {
            "gridcolor": "white",
            "linecolor": "white",
            "ticks": ""
           }
          },
          "scene": {
           "xaxis": {
            "backgroundcolor": "#E5ECF6",
            "gridcolor": "white",
            "gridwidth": 2,
            "linecolor": "white",
            "showbackground": true,
            "ticks": "",
            "zerolinecolor": "white"
           },
           "yaxis": {
            "backgroundcolor": "#E5ECF6",
            "gridcolor": "white",
            "gridwidth": 2,
            "linecolor": "white",
            "showbackground": true,
            "ticks": "",
            "zerolinecolor": "white"
           },
           "zaxis": {
            "backgroundcolor": "#E5ECF6",
            "gridcolor": "white",
            "gridwidth": 2,
            "linecolor": "white",
            "showbackground": true,
            "ticks": "",
            "zerolinecolor": "white"
           }
          },
          "shapedefaults": {
           "line": {
            "color": "#2a3f5f"
           }
          },
          "ternary": {
           "aaxis": {
            "gridcolor": "white",
            "linecolor": "white",
            "ticks": ""
           },
           "baxis": {
            "gridcolor": "white",
            "linecolor": "white",
            "ticks": ""
           },
           "bgcolor": "#E5ECF6",
           "caxis": {
            "gridcolor": "white",
            "linecolor": "white",
            "ticks": ""
           }
          },
          "title": {
           "x": 0.05
          },
          "xaxis": {
           "automargin": true,
           "gridcolor": "white",
           "linecolor": "white",
           "ticks": "",
           "title": {
            "standoff": 15
           },
           "zerolinecolor": "white",
           "zerolinewidth": 2
          },
          "yaxis": {
           "automargin": true,
           "gridcolor": "white",
           "linecolor": "white",
           "ticks": "",
           "title": {
            "standoff": 15
           },
           "zerolinecolor": "white",
           "zerolinewidth": 2
          }
         }
        },
        "title": {
         "text": "Marketing Spend, Revenue, and Profit over Time (DE)"
        },
        "width": 1000,
        "xaxis": {
         "title": {
          "text": "Date"
         }
        },
        "yaxis": {
         "title": {
          "text": "Amount (€)"
         }
        }
       }
      }
     },
     "metadata": {},
     "output_type": "display_data"
    }
   ],
   "source": [
    "plot_metrics(df_main_over_time[df_main_over_time.country==\"DE\"])"
   ]
  },
  {
   "cell_type": "markdown",
   "id": "5f28d5e1",
   "metadata": {},
   "source": [
    "#### CPA, RPA, Conversion over date"
   ]
  },
  {
   "cell_type": "code",
   "execution_count": 35,
   "id": "c7369887",
   "metadata": {},
   "outputs": [
    {
     "data": {
      "application/vnd.plotly.v1+json": {
       "config": {
        "plotlyServerURL": "https://plot.ly"
       },
       "data": [
        {
         "line": {
          "color": "#fc5c65"
         },
         "mode": "lines",
         "name": "CPA (€)",
         "type": "scatter",
         "x": [
          "2023-11-01",
          "2023-11-02",
          "2023-11-03",
          "2023-11-04",
          "2023-11-05",
          "2023-11-06",
          "2023-11-07",
          "2023-11-08",
          "2023-11-09",
          "2023-11-10",
          "2023-11-11",
          "2023-11-12",
          "2023-11-13",
          "2023-11-14",
          "2023-11-15",
          "2023-11-16",
          "2023-11-17",
          "2023-11-18",
          "2023-11-19",
          "2023-11-20",
          "2023-11-21",
          "2023-11-22",
          "2023-11-23",
          "2023-11-24",
          "2023-11-25",
          "2023-11-26",
          "2023-11-27",
          "2023-11-28",
          "2023-11-29",
          "2023-11-30"
         ],
         "y": [
          11.92,
          14.58,
          15.12,
          16.77,
          13.94,
          14.54,
          11.2,
          11.27,
          11.25,
          11.79,
          9.44,
          12.54,
          9.71,
          11.94,
          11.65,
          9.79,
          9.97,
          15.73,
          11.96,
          10.47,
          13.45,
          12.79,
          13.53,
          10.55,
          9.17,
          9.19,
          10.28,
          11.64,
          10.19,
          10.56
         ],
         "yaxis": "y"
        },
        {
         "line": {
          "color": "#26de81"
         },
         "mode": "lines",
         "name": "RPA (€)",
         "type": "scatter",
         "x": [
          "2023-11-01",
          "2023-11-02",
          "2023-11-03",
          "2023-11-04",
          "2023-11-05",
          "2023-11-06",
          "2023-11-07",
          "2023-11-08",
          "2023-11-09",
          "2023-11-10",
          "2023-11-11",
          "2023-11-12",
          "2023-11-13",
          "2023-11-14",
          "2023-11-15",
          "2023-11-16",
          "2023-11-17",
          "2023-11-18",
          "2023-11-19",
          "2023-11-20",
          "2023-11-21",
          "2023-11-22",
          "2023-11-23",
          "2023-11-24",
          "2023-11-25",
          "2023-11-26",
          "2023-11-27",
          "2023-11-28",
          "2023-11-29",
          "2023-11-30"
         ],
         "y": [
          31.81,
          32.75,
          31.81,
          33.51,
          31.39,
          34.96,
          33.22,
          29.99,
          32.94,
          30.99,
          22.3,
          32.3,
          32.74,
          29.96,
          29.28,
          28.41,
          26.91,
          20.38,
          34.58,
          30.78,
          28.5,
          29.65,
          29.99,
          25.72,
          22.52,
          22.24,
          21.76,
          23.74,
          22.22,
          23.7
         ],
         "yaxis": "y"
        },
        {
         "marker": {
          "color": "rgba(75, 126, 236, 0.6)"
         },
         "name": "Conversions",
         "type": "bar",
         "x": [
          "2023-11-01",
          "2023-11-02",
          "2023-11-03",
          "2023-11-04",
          "2023-11-05",
          "2023-11-06",
          "2023-11-07",
          "2023-11-08",
          "2023-11-09",
          "2023-11-10",
          "2023-11-11",
          "2023-11-12",
          "2023-11-13",
          "2023-11-14",
          "2023-11-15",
          "2023-11-16",
          "2023-11-17",
          "2023-11-18",
          "2023-11-19",
          "2023-11-20",
          "2023-11-21",
          "2023-11-22",
          "2023-11-23",
          "2023-11-24",
          "2023-11-25",
          "2023-11-26",
          "2023-11-27",
          "2023-11-28",
          "2023-11-29",
          "2023-11-30"
         ],
         "y": [
          119,
          90,
          85,
          79,
          100,
          66,
          85,
          87,
          71,
          66,
          94,
          87,
          104,
          85,
          97,
          93,
          93,
          53,
          74,
          108,
          113,
          134,
          112,
          126,
          146,
          186,
          174,
          149,
          148,
          126
         ],
         "yaxis": "y2"
        }
       ],
       "layout": {
        "annotations": [
         {
          "arrowhead": 2,
          "ax": 0,
          "ay": -40,
          "showarrow": true,
          "text": "Black Friday",
          "x": "2023-11-24",
          "y": 34.96
         }
        ],
        "barmode": "group",
        "height": 500,
        "legend": {
         "title": {
          "text": "Metrics"
         }
        },
        "template": {
         "data": {
          "bar": [
           {
            "error_x": {
             "color": "#2a3f5f"
            },
            "error_y": {
             "color": "#2a3f5f"
            },
            "marker": {
             "line": {
              "color": "#E5ECF6",
              "width": 0.5
             },
             "pattern": {
              "fillmode": "overlay",
              "size": 10,
              "solidity": 0.2
             }
            },
            "type": "bar"
           }
          ],
          "barpolar": [
           {
            "marker": {
             "line": {
              "color": "#E5ECF6",
              "width": 0.5
             },
             "pattern": {
              "fillmode": "overlay",
              "size": 10,
              "solidity": 0.2
             }
            },
            "type": "barpolar"
           }
          ],
          "carpet": [
           {
            "aaxis": {
             "endlinecolor": "#2a3f5f",
             "gridcolor": "white",
             "linecolor": "white",
             "minorgridcolor": "white",
             "startlinecolor": "#2a3f5f"
            },
            "baxis": {
             "endlinecolor": "#2a3f5f",
             "gridcolor": "white",
             "linecolor": "white",
             "minorgridcolor": "white",
             "startlinecolor": "#2a3f5f"
            },
            "type": "carpet"
           }
          ],
          "choropleth": [
           {
            "colorbar": {
             "outlinewidth": 0,
             "ticks": ""
            },
            "type": "choropleth"
           }
          ],
          "contour": [
           {
            "colorbar": {
             "outlinewidth": 0,
             "ticks": ""
            },
            "colorscale": [
             [
              0,
              "#0d0887"
             ],
             [
              0.1111111111111111,
              "#46039f"
             ],
             [
              0.2222222222222222,
              "#7201a8"
             ],
             [
              0.3333333333333333,
              "#9c179e"
             ],
             [
              0.4444444444444444,
              "#bd3786"
             ],
             [
              0.5555555555555556,
              "#d8576b"
             ],
             [
              0.6666666666666666,
              "#ed7953"
             ],
             [
              0.7777777777777778,
              "#fb9f3a"
             ],
             [
              0.8888888888888888,
              "#fdca26"
             ],
             [
              1,
              "#f0f921"
             ]
            ],
            "type": "contour"
           }
          ],
          "contourcarpet": [
           {
            "colorbar": {
             "outlinewidth": 0,
             "ticks": ""
            },
            "type": "contourcarpet"
           }
          ],
          "heatmap": [
           {
            "colorbar": {
             "outlinewidth": 0,
             "ticks": ""
            },
            "colorscale": [
             [
              0,
              "#0d0887"
             ],
             [
              0.1111111111111111,
              "#46039f"
             ],
             [
              0.2222222222222222,
              "#7201a8"
             ],
             [
              0.3333333333333333,
              "#9c179e"
             ],
             [
              0.4444444444444444,
              "#bd3786"
             ],
             [
              0.5555555555555556,
              "#d8576b"
             ],
             [
              0.6666666666666666,
              "#ed7953"
             ],
             [
              0.7777777777777778,
              "#fb9f3a"
             ],
             [
              0.8888888888888888,
              "#fdca26"
             ],
             [
              1,
              "#f0f921"
             ]
            ],
            "type": "heatmap"
           }
          ],
          "heatmapgl": [
           {
            "colorbar": {
             "outlinewidth": 0,
             "ticks": ""
            },
            "colorscale": [
             [
              0,
              "#0d0887"
             ],
             [
              0.1111111111111111,
              "#46039f"
             ],
             [
              0.2222222222222222,
              "#7201a8"
             ],
             [
              0.3333333333333333,
              "#9c179e"
             ],
             [
              0.4444444444444444,
              "#bd3786"
             ],
             [
              0.5555555555555556,
              "#d8576b"
             ],
             [
              0.6666666666666666,
              "#ed7953"
             ],
             [
              0.7777777777777778,
              "#fb9f3a"
             ],
             [
              0.8888888888888888,
              "#fdca26"
             ],
             [
              1,
              "#f0f921"
             ]
            ],
            "type": "heatmapgl"
           }
          ],
          "histogram": [
           {
            "marker": {
             "pattern": {
              "fillmode": "overlay",
              "size": 10,
              "solidity": 0.2
             }
            },
            "type": "histogram"
           }
          ],
          "histogram2d": [
           {
            "colorbar": {
             "outlinewidth": 0,
             "ticks": ""
            },
            "colorscale": [
             [
              0,
              "#0d0887"
             ],
             [
              0.1111111111111111,
              "#46039f"
             ],
             [
              0.2222222222222222,
              "#7201a8"
             ],
             [
              0.3333333333333333,
              "#9c179e"
             ],
             [
              0.4444444444444444,
              "#bd3786"
             ],
             [
              0.5555555555555556,
              "#d8576b"
             ],
             [
              0.6666666666666666,
              "#ed7953"
             ],
             [
              0.7777777777777778,
              "#fb9f3a"
             ],
             [
              0.8888888888888888,
              "#fdca26"
             ],
             [
              1,
              "#f0f921"
             ]
            ],
            "type": "histogram2d"
           }
          ],
          "histogram2dcontour": [
           {
            "colorbar": {
             "outlinewidth": 0,
             "ticks": ""
            },
            "colorscale": [
             [
              0,
              "#0d0887"
             ],
             [
              0.1111111111111111,
              "#46039f"
             ],
             [
              0.2222222222222222,
              "#7201a8"
             ],
             [
              0.3333333333333333,
              "#9c179e"
             ],
             [
              0.4444444444444444,
              "#bd3786"
             ],
             [
              0.5555555555555556,
              "#d8576b"
             ],
             [
              0.6666666666666666,
              "#ed7953"
             ],
             [
              0.7777777777777778,
              "#fb9f3a"
             ],
             [
              0.8888888888888888,
              "#fdca26"
             ],
             [
              1,
              "#f0f921"
             ]
            ],
            "type": "histogram2dcontour"
           }
          ],
          "mesh3d": [
           {
            "colorbar": {
             "outlinewidth": 0,
             "ticks": ""
            },
            "type": "mesh3d"
           }
          ],
          "parcoords": [
           {
            "line": {
             "colorbar": {
              "outlinewidth": 0,
              "ticks": ""
             }
            },
            "type": "parcoords"
           }
          ],
          "pie": [
           {
            "automargin": true,
            "type": "pie"
           }
          ],
          "scatter": [
           {
            "fillpattern": {
             "fillmode": "overlay",
             "size": 10,
             "solidity": 0.2
            },
            "type": "scatter"
           }
          ],
          "scatter3d": [
           {
            "line": {
             "colorbar": {
              "outlinewidth": 0,
              "ticks": ""
             }
            },
            "marker": {
             "colorbar": {
              "outlinewidth": 0,
              "ticks": ""
             }
            },
            "type": "scatter3d"
           }
          ],
          "scattercarpet": [
           {
            "marker": {
             "colorbar": {
              "outlinewidth": 0,
              "ticks": ""
             }
            },
            "type": "scattercarpet"
           }
          ],
          "scattergeo": [
           {
            "marker": {
             "colorbar": {
              "outlinewidth": 0,
              "ticks": ""
             }
            },
            "type": "scattergeo"
           }
          ],
          "scattergl": [
           {
            "marker": {
             "colorbar": {
              "outlinewidth": 0,
              "ticks": ""
             }
            },
            "type": "scattergl"
           }
          ],
          "scattermapbox": [
           {
            "marker": {
             "colorbar": {
              "outlinewidth": 0,
              "ticks": ""
             }
            },
            "type": "scattermapbox"
           }
          ],
          "scatterpolar": [
           {
            "marker": {
             "colorbar": {
              "outlinewidth": 0,
              "ticks": ""
             }
            },
            "type": "scatterpolar"
           }
          ],
          "scatterpolargl": [
           {
            "marker": {
             "colorbar": {
              "outlinewidth": 0,
              "ticks": ""
             }
            },
            "type": "scatterpolargl"
           }
          ],
          "scatterternary": [
           {
            "marker": {
             "colorbar": {
              "outlinewidth": 0,
              "ticks": ""
             }
            },
            "type": "scatterternary"
           }
          ],
          "surface": [
           {
            "colorbar": {
             "outlinewidth": 0,
             "ticks": ""
            },
            "colorscale": [
             [
              0,
              "#0d0887"
             ],
             [
              0.1111111111111111,
              "#46039f"
             ],
             [
              0.2222222222222222,
              "#7201a8"
             ],
             [
              0.3333333333333333,
              "#9c179e"
             ],
             [
              0.4444444444444444,
              "#bd3786"
             ],
             [
              0.5555555555555556,
              "#d8576b"
             ],
             [
              0.6666666666666666,
              "#ed7953"
             ],
             [
              0.7777777777777778,
              "#fb9f3a"
             ],
             [
              0.8888888888888888,
              "#fdca26"
             ],
             [
              1,
              "#f0f921"
             ]
            ],
            "type": "surface"
           }
          ],
          "table": [
           {
            "cells": {
             "fill": {
              "color": "#EBF0F8"
             },
             "line": {
              "color": "white"
             }
            },
            "header": {
             "fill": {
              "color": "#C8D4E3"
             },
             "line": {
              "color": "white"
             }
            },
            "type": "table"
           }
          ]
         },
         "layout": {
          "annotationdefaults": {
           "arrowcolor": "#2a3f5f",
           "arrowhead": 0,
           "arrowwidth": 1
          },
          "autotypenumbers": "strict",
          "coloraxis": {
           "colorbar": {
            "outlinewidth": 0,
            "ticks": ""
           }
          },
          "colorscale": {
           "diverging": [
            [
             0,
             "#8e0152"
            ],
            [
             0.1,
             "#c51b7d"
            ],
            [
             0.2,
             "#de77ae"
            ],
            [
             0.3,
             "#f1b6da"
            ],
            [
             0.4,
             "#fde0ef"
            ],
            [
             0.5,
             "#f7f7f7"
            ],
            [
             0.6,
             "#e6f5d0"
            ],
            [
             0.7,
             "#b8e186"
            ],
            [
             0.8,
             "#7fbc41"
            ],
            [
             0.9,
             "#4d9221"
            ],
            [
             1,
             "#276419"
            ]
           ],
           "sequential": [
            [
             0,
             "#0d0887"
            ],
            [
             0.1111111111111111,
             "#46039f"
            ],
            [
             0.2222222222222222,
             "#7201a8"
            ],
            [
             0.3333333333333333,
             "#9c179e"
            ],
            [
             0.4444444444444444,
             "#bd3786"
            ],
            [
             0.5555555555555556,
             "#d8576b"
            ],
            [
             0.6666666666666666,
             "#ed7953"
            ],
            [
             0.7777777777777778,
             "#fb9f3a"
            ],
            [
             0.8888888888888888,
             "#fdca26"
            ],
            [
             1,
             "#f0f921"
            ]
           ],
           "sequentialminus": [
            [
             0,
             "#0d0887"
            ],
            [
             0.1111111111111111,
             "#46039f"
            ],
            [
             0.2222222222222222,
             "#7201a8"
            ],
            [
             0.3333333333333333,
             "#9c179e"
            ],
            [
             0.4444444444444444,
             "#bd3786"
            ],
            [
             0.5555555555555556,
             "#d8576b"
            ],
            [
             0.6666666666666666,
             "#ed7953"
            ],
            [
             0.7777777777777778,
             "#fb9f3a"
            ],
            [
             0.8888888888888888,
             "#fdca26"
            ],
            [
             1,
             "#f0f921"
            ]
           ]
          },
          "colorway": [
           "#636efa",
           "#EF553B",
           "#00cc96",
           "#ab63fa",
           "#FFA15A",
           "#19d3f3",
           "#FF6692",
           "#B6E880",
           "#FF97FF",
           "#FECB52"
          ],
          "font": {
           "color": "#2a3f5f"
          },
          "geo": {
           "bgcolor": "white",
           "lakecolor": "white",
           "landcolor": "#E5ECF6",
           "showlakes": true,
           "showland": true,
           "subunitcolor": "white"
          },
          "hoverlabel": {
           "align": "left"
          },
          "hovermode": "closest",
          "mapbox": {
           "style": "light"
          },
          "paper_bgcolor": "white",
          "plot_bgcolor": "#E5ECF6",
          "polar": {
           "angularaxis": {
            "gridcolor": "white",
            "linecolor": "white",
            "ticks": ""
           },
           "bgcolor": "#E5ECF6",
           "radialaxis": {
            "gridcolor": "white",
            "linecolor": "white",
            "ticks": ""
           }
          },
          "scene": {
           "xaxis": {
            "backgroundcolor": "#E5ECF6",
            "gridcolor": "white",
            "gridwidth": 2,
            "linecolor": "white",
            "showbackground": true,
            "ticks": "",
            "zerolinecolor": "white"
           },
           "yaxis": {
            "backgroundcolor": "#E5ECF6",
            "gridcolor": "white",
            "gridwidth": 2,
            "linecolor": "white",
            "showbackground": true,
            "ticks": "",
            "zerolinecolor": "white"
           },
           "zaxis": {
            "backgroundcolor": "#E5ECF6",
            "gridcolor": "white",
            "gridwidth": 2,
            "linecolor": "white",
            "showbackground": true,
            "ticks": "",
            "zerolinecolor": "white"
           }
          },
          "shapedefaults": {
           "line": {
            "color": "#2a3f5f"
           }
          },
          "ternary": {
           "aaxis": {
            "gridcolor": "white",
            "linecolor": "white",
            "ticks": ""
           },
           "baxis": {
            "gridcolor": "white",
            "linecolor": "white",
            "ticks": ""
           },
           "bgcolor": "#E5ECF6",
           "caxis": {
            "gridcolor": "white",
            "linecolor": "white",
            "ticks": ""
           }
          },
          "title": {
           "x": 0.05
          },
          "xaxis": {
           "automargin": true,
           "gridcolor": "white",
           "linecolor": "white",
           "ticks": "",
           "title": {
            "standoff": 15
           },
           "zerolinecolor": "white",
           "zerolinewidth": 2
          },
          "yaxis": {
           "automargin": true,
           "gridcolor": "white",
           "linecolor": "white",
           "ticks": "",
           "title": {
            "standoff": 15
           },
           "zerolinecolor": "white",
           "zerolinewidth": 2
          }
         }
        },
        "title": {
         "text": "CPA, RPA, and Conversions over Time"
        },
        "width": 700,
        "xaxis": {
         "title": {
          "text": "Date"
         }
        },
        "yaxis": {
         "title": {
          "text": "CPA and RPA (€)"
         }
        },
        "yaxis2": {
         "overlaying": "y",
         "side": "right",
         "title": {
          "text": "Conversions"
         }
        }
       }
      }
     },
     "metadata": {},
     "output_type": "display_data"
    }
   ],
   "source": [
    "# Plot cpa, rpa, and conversions over date\n",
    "\n",
    "def plot_cpa_rpa_spend(df, plot_width=700, plot_height=500):\n",
    "    fig = go.Figure()\n",
    "\n",
    "    # Add lines for CPA and RPA with primary y-axis\n",
    "    fig.add_trace(go.Scatter(x=df['date'], y=df['cpa'], mode='lines', name='CPA (€)', line=dict(color='#fc5c65'), yaxis='y1'))\n",
    "    fig.add_trace(go.Scatter(x=df['date'], y=df['rpa'], mode='lines', name='RPA (€)', line=dict(color='#26de81'), yaxis='y1'))\n",
    "\n",
    "    # Add conversions as a transparent bar chart with secondary y-axis\n",
    "    fig.add_trace(go.Bar(x=df['date'], y=df['conversions'], name='Conversions', marker=dict(color='rgba(75, 126, 236, 0.6)'), yaxis='y2'))\n",
    "\n",
    "    # Add annotation for Black Friday on 24/11/2023\n",
    "    fig.add_annotation(\n",
    "        x=\"2023-11-24\", \n",
    "        y=max(df['cpa'].max(), df['rpa'].max()),  # Position at the top of the plot\n",
    "        text=\"Black Friday\",\n",
    "        showarrow=True,\n",
    "        arrowhead=2,\n",
    "        ax=0,\n",
    "        ay=-40\n",
    "    )\n",
    "\n",
    "    # Customize layout with dual y-axes\n",
    "    fig.update_layout(\n",
    "        title=\"CPA, RPA, and Conversions over Time\",\n",
    "        xaxis_title=\"Date\",\n",
    "        yaxis_title=\"CPA and RPA (€)\",\n",
    "        yaxis2=dict(\n",
    "            title=\"Conversions\",\n",
    "            overlaying=\"y\",\n",
    "            side=\"right\",\n",
    "        ),\n",
    "        barmode='group',\n",
    "        width=plot_width,\n",
    "        height=plot_height,\n",
    "        legend=dict(title=\"Metrics\")\n",
    "    )\n",
    "\n",
    "    fig.show()\n",
    "    \n",
    "\n",
    "# Plot metrics for DE\n",
    "plot_cpa_rpa_spend(df_main_over_time[df_main_over_time.country==\"DE\"])"
   ]
  },
  {
   "cell_type": "markdown",
   "id": "f281483b",
   "metadata": {},
   "source": [
    "- There is an drop in RPA after black friday, but it is probably due to an offer."
   ]
  },
  {
   "cell_type": "markdown",
   "id": "cd8ee827",
   "metadata": {},
   "source": [
    "### United States"
   ]
  },
  {
   "cell_type": "markdown",
   "id": "f6228cb0",
   "metadata": {},
   "source": [
    "##### Economy over time"
   ]
  },
  {
   "cell_type": "code",
   "execution_count": 36,
   "id": "7c577bd8",
   "metadata": {},
   "outputs": [],
   "source": [
    "# Plot marketing_spend_euro, revenue_euro, and profit over date\n",
    "\n",
    "def plot_metrics(df, plot_width=1000, plot_height=600):\n",
    "    fig = go.Figure()\n",
    "\n",
    "    # Add lines for each metric with German palette colors\n",
    "    fig.add_trace(go.Scatter(x=df['date'], y=df['marketing_spend_euro'], mode='lines', name='Marketing Spend (€)', line=dict(color='#fc5c65')))\n",
    "    fig.add_trace(go.Scatter(x=df['date'], y=df['revenue_euro'], mode='lines', name='Revenue (€)', line=dict(color='#26de81')))\n",
    "    fig.add_trace(go.Scatter(x=df['date'], y=df['profit'], mode='lines', name='Profit (€)', line=dict(color='#4b7bec')))\n",
    "\n",
    "    # Add annotation for Black Friday on 24/11/2023\n",
    "    fig.add_annotation(\n",
    "        x=\"2023-11-24\", \n",
    "        y=max(df['marketing_spend_euro'].max(), df['revenue_euro'].max()),  # Position at the top of the plot\n",
    "        text=\"Black Friday\",\n",
    "        showarrow=True,\n",
    "        arrowhead=2,\n",
    "        ax=0,\n",
    "        ay=-40\n",
    "    )\n",
    "    \n",
    "    # Customize layout\n",
    "    fig.update_layout(\n",
    "        title=\"Marketing Spend, Revenue, and Profit over Time (US)\",\n",
    "        xaxis_title=\"Date\",\n",
    "        yaxis_title=\"Amount (€)\",\n",
    "        width=plot_width,\n",
    "        height=plot_height,\n",
    "        legend=dict(title=\"Metrics\")\n",
    "    )\n",
    "\n",
    "    fig.show()"
   ]
  },
  {
   "cell_type": "code",
   "execution_count": 37,
   "id": "70bd6c4a",
   "metadata": {},
   "outputs": [
    {
     "data": {
      "application/vnd.plotly.v1+json": {
       "config": {
        "plotlyServerURL": "https://plot.ly"
       },
       "data": [
        {
         "line": {
          "color": "#fc5c65"
         },
         "mode": "lines",
         "name": "Marketing Spend (€)",
         "type": "scatter",
         "x": [
          "2023-11-01",
          "2023-11-02",
          "2023-11-03",
          "2023-11-04",
          "2023-11-05",
          "2023-11-06",
          "2023-11-07",
          "2023-11-08",
          "2023-11-09",
          "2023-11-10",
          "2023-11-11",
          "2023-11-12",
          "2023-11-13",
          "2023-11-14",
          "2023-11-15",
          "2023-11-16",
          "2023-11-17",
          "2023-11-18",
          "2023-11-19",
          "2023-11-20",
          "2023-11-21",
          "2023-11-22",
          "2023-11-23",
          "2023-11-24",
          "2023-11-25",
          "2023-11-26",
          "2023-11-27",
          "2023-11-28",
          "2023-11-29",
          "2023-11-30"
         ],
         "y": [
          448.26,
          504.65000000000003,
          486.45,
          437.65000000000003,
          506.5,
          624.59,
          565.6500000000001,
          549.18,
          551.69,
          563.17,
          558.11,
          523.32,
          653.44,
          576.11,
          554.3199999999999,
          520.45,
          457.07,
          436.61999999999995,
          428.04,
          519.4399999999999,
          453.09,
          459.48,
          395.93,
          459.07,
          455.11,
          463.74,
          467.53,
          490.71999999999997,
          429.37,
          462.40000000000003
         ]
        },
        {
         "line": {
          "color": "#26de81"
         },
         "mode": "lines",
         "name": "Revenue (€)",
         "type": "scatter",
         "x": [
          "2023-11-01",
          "2023-11-02",
          "2023-11-03",
          "2023-11-04",
          "2023-11-05",
          "2023-11-06",
          "2023-11-07",
          "2023-11-08",
          "2023-11-09",
          "2023-11-10",
          "2023-11-11",
          "2023-11-12",
          "2023-11-13",
          "2023-11-14",
          "2023-11-15",
          "2023-11-16",
          "2023-11-17",
          "2023-11-18",
          "2023-11-19",
          "2023-11-20",
          "2023-11-21",
          "2023-11-22",
          "2023-11-23",
          "2023-11-24",
          "2023-11-25",
          "2023-11-26",
          "2023-11-27",
          "2023-11-28",
          "2023-11-29",
          "2023-11-30"
         ],
         "y": [
          410.85,
          339.58,
          319.34,
          232.85,
          577.47,
          758.13,
          413.47999999999996,
          331.6,
          349.75,
          149.84,
          271.3,
          177.37,
          449.03000000000003,
          383.17,
          448.74,
          331.82000000000005,
          184.2,
          229.09,
          256.55,
          438.05,
          209.89,
          109.94,
          116.82000000000001,
          244.38,
          264.95,
          281.19,
          228.31,
          218.99,
          263.25,
          335.88
         ]
        },
        {
         "line": {
          "color": "#4b7bec"
         },
         "mode": "lines",
         "name": "Profit (€)",
         "type": "scatter",
         "x": [
          "2023-11-01",
          "2023-11-02",
          "2023-11-03",
          "2023-11-04",
          "2023-11-05",
          "2023-11-06",
          "2023-11-07",
          "2023-11-08",
          "2023-11-09",
          "2023-11-10",
          "2023-11-11",
          "2023-11-12",
          "2023-11-13",
          "2023-11-14",
          "2023-11-15",
          "2023-11-16",
          "2023-11-17",
          "2023-11-18",
          "2023-11-19",
          "2023-11-20",
          "2023-11-21",
          "2023-11-22",
          "2023-11-23",
          "2023-11-24",
          "2023-11-25",
          "2023-11-26",
          "2023-11-27",
          "2023-11-28",
          "2023-11-29",
          "2023-11-30"
         ],
         "y": [
          -37.41,
          -165.07,
          -167.11,
          -204.8,
          70.97,
          133.54,
          -152.17,
          -217.58,
          -201.94,
          -413.33,
          -286.81,
          -345.95,
          -204.41,
          -192.94,
          -105.58,
          -188.63,
          -272.87,
          -207.53,
          -171.49,
          -81.39,
          -243.2,
          -349.54,
          -279.11,
          -214.69,
          -190.16,
          -182.55,
          -239.22,
          -271.73,
          -166.12,
          -126.52
         ]
        }
       ],
       "layout": {
        "annotations": [
         {
          "arrowhead": 2,
          "ax": 0,
          "ay": -40,
          "showarrow": true,
          "text": "Black Friday",
          "x": "2023-11-24",
          "y": 758.13
         }
        ],
        "height": 600,
        "legend": {
         "title": {
          "text": "Metrics"
         }
        },
        "template": {
         "data": {
          "bar": [
           {
            "error_x": {
             "color": "#2a3f5f"
            },
            "error_y": {
             "color": "#2a3f5f"
            },
            "marker": {
             "line": {
              "color": "#E5ECF6",
              "width": 0.5
             },
             "pattern": {
              "fillmode": "overlay",
              "size": 10,
              "solidity": 0.2
             }
            },
            "type": "bar"
           }
          ],
          "barpolar": [
           {
            "marker": {
             "line": {
              "color": "#E5ECF6",
              "width": 0.5
             },
             "pattern": {
              "fillmode": "overlay",
              "size": 10,
              "solidity": 0.2
             }
            },
            "type": "barpolar"
           }
          ],
          "carpet": [
           {
            "aaxis": {
             "endlinecolor": "#2a3f5f",
             "gridcolor": "white",
             "linecolor": "white",
             "minorgridcolor": "white",
             "startlinecolor": "#2a3f5f"
            },
            "baxis": {
             "endlinecolor": "#2a3f5f",
             "gridcolor": "white",
             "linecolor": "white",
             "minorgridcolor": "white",
             "startlinecolor": "#2a3f5f"
            },
            "type": "carpet"
           }
          ],
          "choropleth": [
           {
            "colorbar": {
             "outlinewidth": 0,
             "ticks": ""
            },
            "type": "choropleth"
           }
          ],
          "contour": [
           {
            "colorbar": {
             "outlinewidth": 0,
             "ticks": ""
            },
            "colorscale": [
             [
              0,
              "#0d0887"
             ],
             [
              0.1111111111111111,
              "#46039f"
             ],
             [
              0.2222222222222222,
              "#7201a8"
             ],
             [
              0.3333333333333333,
              "#9c179e"
             ],
             [
              0.4444444444444444,
              "#bd3786"
             ],
             [
              0.5555555555555556,
              "#d8576b"
             ],
             [
              0.6666666666666666,
              "#ed7953"
             ],
             [
              0.7777777777777778,
              "#fb9f3a"
             ],
             [
              0.8888888888888888,
              "#fdca26"
             ],
             [
              1,
              "#f0f921"
             ]
            ],
            "type": "contour"
           }
          ],
          "contourcarpet": [
           {
            "colorbar": {
             "outlinewidth": 0,
             "ticks": ""
            },
            "type": "contourcarpet"
           }
          ],
          "heatmap": [
           {
            "colorbar": {
             "outlinewidth": 0,
             "ticks": ""
            },
            "colorscale": [
             [
              0,
              "#0d0887"
             ],
             [
              0.1111111111111111,
              "#46039f"
             ],
             [
              0.2222222222222222,
              "#7201a8"
             ],
             [
              0.3333333333333333,
              "#9c179e"
             ],
             [
              0.4444444444444444,
              "#bd3786"
             ],
             [
              0.5555555555555556,
              "#d8576b"
             ],
             [
              0.6666666666666666,
              "#ed7953"
             ],
             [
              0.7777777777777778,
              "#fb9f3a"
             ],
             [
              0.8888888888888888,
              "#fdca26"
             ],
             [
              1,
              "#f0f921"
             ]
            ],
            "type": "heatmap"
           }
          ],
          "heatmapgl": [
           {
            "colorbar": {
             "outlinewidth": 0,
             "ticks": ""
            },
            "colorscale": [
             [
              0,
              "#0d0887"
             ],
             [
              0.1111111111111111,
              "#46039f"
             ],
             [
              0.2222222222222222,
              "#7201a8"
             ],
             [
              0.3333333333333333,
              "#9c179e"
             ],
             [
              0.4444444444444444,
              "#bd3786"
             ],
             [
              0.5555555555555556,
              "#d8576b"
             ],
             [
              0.6666666666666666,
              "#ed7953"
             ],
             [
              0.7777777777777778,
              "#fb9f3a"
             ],
             [
              0.8888888888888888,
              "#fdca26"
             ],
             [
              1,
              "#f0f921"
             ]
            ],
            "type": "heatmapgl"
           }
          ],
          "histogram": [
           {
            "marker": {
             "pattern": {
              "fillmode": "overlay",
              "size": 10,
              "solidity": 0.2
             }
            },
            "type": "histogram"
           }
          ],
          "histogram2d": [
           {
            "colorbar": {
             "outlinewidth": 0,
             "ticks": ""
            },
            "colorscale": [
             [
              0,
              "#0d0887"
             ],
             [
              0.1111111111111111,
              "#46039f"
             ],
             [
              0.2222222222222222,
              "#7201a8"
             ],
             [
              0.3333333333333333,
              "#9c179e"
             ],
             [
              0.4444444444444444,
              "#bd3786"
             ],
             [
              0.5555555555555556,
              "#d8576b"
             ],
             [
              0.6666666666666666,
              "#ed7953"
             ],
             [
              0.7777777777777778,
              "#fb9f3a"
             ],
             [
              0.8888888888888888,
              "#fdca26"
             ],
             [
              1,
              "#f0f921"
             ]
            ],
            "type": "histogram2d"
           }
          ],
          "histogram2dcontour": [
           {
            "colorbar": {
             "outlinewidth": 0,
             "ticks": ""
            },
            "colorscale": [
             [
              0,
              "#0d0887"
             ],
             [
              0.1111111111111111,
              "#46039f"
             ],
             [
              0.2222222222222222,
              "#7201a8"
             ],
             [
              0.3333333333333333,
              "#9c179e"
             ],
             [
              0.4444444444444444,
              "#bd3786"
             ],
             [
              0.5555555555555556,
              "#d8576b"
             ],
             [
              0.6666666666666666,
              "#ed7953"
             ],
             [
              0.7777777777777778,
              "#fb9f3a"
             ],
             [
              0.8888888888888888,
              "#fdca26"
             ],
             [
              1,
              "#f0f921"
             ]
            ],
            "type": "histogram2dcontour"
           }
          ],
          "mesh3d": [
           {
            "colorbar": {
             "outlinewidth": 0,
             "ticks": ""
            },
            "type": "mesh3d"
           }
          ],
          "parcoords": [
           {
            "line": {
             "colorbar": {
              "outlinewidth": 0,
              "ticks": ""
             }
            },
            "type": "parcoords"
           }
          ],
          "pie": [
           {
            "automargin": true,
            "type": "pie"
           }
          ],
          "scatter": [
           {
            "fillpattern": {
             "fillmode": "overlay",
             "size": 10,
             "solidity": 0.2
            },
            "type": "scatter"
           }
          ],
          "scatter3d": [
           {
            "line": {
             "colorbar": {
              "outlinewidth": 0,
              "ticks": ""
             }
            },
            "marker": {
             "colorbar": {
              "outlinewidth": 0,
              "ticks": ""
             }
            },
            "type": "scatter3d"
           }
          ],
          "scattercarpet": [
           {
            "marker": {
             "colorbar": {
              "outlinewidth": 0,
              "ticks": ""
             }
            },
            "type": "scattercarpet"
           }
          ],
          "scattergeo": [
           {
            "marker": {
             "colorbar": {
              "outlinewidth": 0,
              "ticks": ""
             }
            },
            "type": "scattergeo"
           }
          ],
          "scattergl": [
           {
            "marker": {
             "colorbar": {
              "outlinewidth": 0,
              "ticks": ""
             }
            },
            "type": "scattergl"
           }
          ],
          "scattermapbox": [
           {
            "marker": {
             "colorbar": {
              "outlinewidth": 0,
              "ticks": ""
             }
            },
            "type": "scattermapbox"
           }
          ],
          "scatterpolar": [
           {
            "marker": {
             "colorbar": {
              "outlinewidth": 0,
              "ticks": ""
             }
            },
            "type": "scatterpolar"
           }
          ],
          "scatterpolargl": [
           {
            "marker": {
             "colorbar": {
              "outlinewidth": 0,
              "ticks": ""
             }
            },
            "type": "scatterpolargl"
           }
          ],
          "scatterternary": [
           {
            "marker": {
             "colorbar": {
              "outlinewidth": 0,
              "ticks": ""
             }
            },
            "type": "scatterternary"
           }
          ],
          "surface": [
           {
            "colorbar": {
             "outlinewidth": 0,
             "ticks": ""
            },
            "colorscale": [
             [
              0,
              "#0d0887"
             ],
             [
              0.1111111111111111,
              "#46039f"
             ],
             [
              0.2222222222222222,
              "#7201a8"
             ],
             [
              0.3333333333333333,
              "#9c179e"
             ],
             [
              0.4444444444444444,
              "#bd3786"
             ],
             [
              0.5555555555555556,
              "#d8576b"
             ],
             [
              0.6666666666666666,
              "#ed7953"
             ],
             [
              0.7777777777777778,
              "#fb9f3a"
             ],
             [
              0.8888888888888888,
              "#fdca26"
             ],
             [
              1,
              "#f0f921"
             ]
            ],
            "type": "surface"
           }
          ],
          "table": [
           {
            "cells": {
             "fill": {
              "color": "#EBF0F8"
             },
             "line": {
              "color": "white"
             }
            },
            "header": {
             "fill": {
              "color": "#C8D4E3"
             },
             "line": {
              "color": "white"
             }
            },
            "type": "table"
           }
          ]
         },
         "layout": {
          "annotationdefaults": {
           "arrowcolor": "#2a3f5f",
           "arrowhead": 0,
           "arrowwidth": 1
          },
          "autotypenumbers": "strict",
          "coloraxis": {
           "colorbar": {
            "outlinewidth": 0,
            "ticks": ""
           }
          },
          "colorscale": {
           "diverging": [
            [
             0,
             "#8e0152"
            ],
            [
             0.1,
             "#c51b7d"
            ],
            [
             0.2,
             "#de77ae"
            ],
            [
             0.3,
             "#f1b6da"
            ],
            [
             0.4,
             "#fde0ef"
            ],
            [
             0.5,
             "#f7f7f7"
            ],
            [
             0.6,
             "#e6f5d0"
            ],
            [
             0.7,
             "#b8e186"
            ],
            [
             0.8,
             "#7fbc41"
            ],
            [
             0.9,
             "#4d9221"
            ],
            [
             1,
             "#276419"
            ]
           ],
           "sequential": [
            [
             0,
             "#0d0887"
            ],
            [
             0.1111111111111111,
             "#46039f"
            ],
            [
             0.2222222222222222,
             "#7201a8"
            ],
            [
             0.3333333333333333,
             "#9c179e"
            ],
            [
             0.4444444444444444,
             "#bd3786"
            ],
            [
             0.5555555555555556,
             "#d8576b"
            ],
            [
             0.6666666666666666,
             "#ed7953"
            ],
            [
             0.7777777777777778,
             "#fb9f3a"
            ],
            [
             0.8888888888888888,
             "#fdca26"
            ],
            [
             1,
             "#f0f921"
            ]
           ],
           "sequentialminus": [
            [
             0,
             "#0d0887"
            ],
            [
             0.1111111111111111,
             "#46039f"
            ],
            [
             0.2222222222222222,
             "#7201a8"
            ],
            [
             0.3333333333333333,
             "#9c179e"
            ],
            [
             0.4444444444444444,
             "#bd3786"
            ],
            [
             0.5555555555555556,
             "#d8576b"
            ],
            [
             0.6666666666666666,
             "#ed7953"
            ],
            [
             0.7777777777777778,
             "#fb9f3a"
            ],
            [
             0.8888888888888888,
             "#fdca26"
            ],
            [
             1,
             "#f0f921"
            ]
           ]
          },
          "colorway": [
           "#636efa",
           "#EF553B",
           "#00cc96",
           "#ab63fa",
           "#FFA15A",
           "#19d3f3",
           "#FF6692",
           "#B6E880",
           "#FF97FF",
           "#FECB52"
          ],
          "font": {
           "color": "#2a3f5f"
          },
          "geo": {
           "bgcolor": "white",
           "lakecolor": "white",
           "landcolor": "#E5ECF6",
           "showlakes": true,
           "showland": true,
           "subunitcolor": "white"
          },
          "hoverlabel": {
           "align": "left"
          },
          "hovermode": "closest",
          "mapbox": {
           "style": "light"
          },
          "paper_bgcolor": "white",
          "plot_bgcolor": "#E5ECF6",
          "polar": {
           "angularaxis": {
            "gridcolor": "white",
            "linecolor": "white",
            "ticks": ""
           },
           "bgcolor": "#E5ECF6",
           "radialaxis": {
            "gridcolor": "white",
            "linecolor": "white",
            "ticks": ""
           }
          },
          "scene": {
           "xaxis": {
            "backgroundcolor": "#E5ECF6",
            "gridcolor": "white",
            "gridwidth": 2,
            "linecolor": "white",
            "showbackground": true,
            "ticks": "",
            "zerolinecolor": "white"
           },
           "yaxis": {
            "backgroundcolor": "#E5ECF6",
            "gridcolor": "white",
            "gridwidth": 2,
            "linecolor": "white",
            "showbackground": true,
            "ticks": "",
            "zerolinecolor": "white"
           },
           "zaxis": {
            "backgroundcolor": "#E5ECF6",
            "gridcolor": "white",
            "gridwidth": 2,
            "linecolor": "white",
            "showbackground": true,
            "ticks": "",
            "zerolinecolor": "white"
           }
          },
          "shapedefaults": {
           "line": {
            "color": "#2a3f5f"
           }
          },
          "ternary": {
           "aaxis": {
            "gridcolor": "white",
            "linecolor": "white",
            "ticks": ""
           },
           "baxis": {
            "gridcolor": "white",
            "linecolor": "white",
            "ticks": ""
           },
           "bgcolor": "#E5ECF6",
           "caxis": {
            "gridcolor": "white",
            "linecolor": "white",
            "ticks": ""
           }
          },
          "title": {
           "x": 0.05
          },
          "xaxis": {
           "automargin": true,
           "gridcolor": "white",
           "linecolor": "white",
           "ticks": "",
           "title": {
            "standoff": 15
           },
           "zerolinecolor": "white",
           "zerolinewidth": 2
          },
          "yaxis": {
           "automargin": true,
           "gridcolor": "white",
           "linecolor": "white",
           "ticks": "",
           "title": {
            "standoff": 15
           },
           "zerolinecolor": "white",
           "zerolinewidth": 2
          }
         }
        },
        "title": {
         "text": "Marketing Spend, Revenue, and Profit over Time (US)"
        },
        "width": 1000,
        "xaxis": {
         "title": {
          "text": "Date"
         }
        },
        "yaxis": {
         "title": {
          "text": "Amount (€)"
         }
        }
       }
      }
     },
     "metadata": {},
     "output_type": "display_data"
    }
   ],
   "source": [
    "plot_metrics(df_main_over_time[df_main_over_time.country==\"US\"])"
   ]
  },
  {
   "cell_type": "markdown",
   "id": "66ede116",
   "metadata": {},
   "source": [
    "#### CPA, RPA, Conversion over date"
   ]
  },
  {
   "cell_type": "code",
   "execution_count": 38,
   "id": "49a3cb33",
   "metadata": {},
   "outputs": [
    {
     "data": {
      "application/vnd.plotly.v1+json": {
       "config": {
        "plotlyServerURL": "https://plot.ly"
       },
       "data": [
        {
         "line": {
          "color": "#fc5c65"
         },
         "mode": "lines",
         "name": "CPA (€)",
         "type": "scatter",
         "x": [
          "2023-11-01",
          "2023-11-02",
          "2023-11-03",
          "2023-11-04",
          "2023-11-05",
          "2023-11-06",
          "2023-11-07",
          "2023-11-08",
          "2023-11-09",
          "2023-11-10",
          "2023-11-11",
          "2023-11-12",
          "2023-11-13",
          "2023-11-14",
          "2023-11-15",
          "2023-11-16",
          "2023-11-17",
          "2023-11-18",
          "2023-11-19",
          "2023-11-20",
          "2023-11-21",
          "2023-11-22",
          "2023-11-23",
          "2023-11-24",
          "2023-11-25",
          "2023-11-26",
          "2023-11-27",
          "2023-11-28",
          "2023-11-29",
          "2023-11-30"
         ],
         "y": [
          37.35,
          36.05,
          44.22,
          48.63,
          24.12,
          23.13,
          37.71,
          39.23,
          36.78,
          70.4,
          39.86,
          74.76,
          34.39,
          38.41,
          34.64,
          37.18,
          50.79,
          54.58,
          38.91,
          28.86,
          50.34,
          91.9,
          98.98,
          41.73,
          37.93,
          30.92,
          46.75,
          49.07,
          47.71,
          27.2
         ],
         "yaxis": "y"
        },
        {
         "line": {
          "color": "#26de81"
         },
         "mode": "lines",
         "name": "RPA (€)",
         "type": "scatter",
         "x": [
          "2023-11-01",
          "2023-11-02",
          "2023-11-03",
          "2023-11-04",
          "2023-11-05",
          "2023-11-06",
          "2023-11-07",
          "2023-11-08",
          "2023-11-09",
          "2023-11-10",
          "2023-11-11",
          "2023-11-12",
          "2023-11-13",
          "2023-11-14",
          "2023-11-15",
          "2023-11-16",
          "2023-11-17",
          "2023-11-18",
          "2023-11-19",
          "2023-11-20",
          "2023-11-21",
          "2023-11-22",
          "2023-11-23",
          "2023-11-24",
          "2023-11-25",
          "2023-11-26",
          "2023-11-27",
          "2023-11-28",
          "2023-11-29",
          "2023-11-30"
         ],
         "y": [
          34.24,
          24.26,
          29.03,
          25.87,
          27.5,
          28.08,
          27.57,
          23.69,
          23.32,
          18.73,
          19.38,
          25.34,
          23.63,
          25.54,
          28.05,
          23.7,
          20.47,
          28.64,
          23.32,
          24.34,
          23.32,
          21.99,
          29.2,
          22.22,
          22.08,
          18.75,
          22.83,
          21.9,
          29.25,
          19.76
         ],
         "yaxis": "y"
        },
        {
         "marker": {
          "color": "rgba(75, 126, 236, 0.6)"
         },
         "name": "Conversions",
         "type": "bar",
         "x": [
          "2023-11-01",
          "2023-11-02",
          "2023-11-03",
          "2023-11-04",
          "2023-11-05",
          "2023-11-06",
          "2023-11-07",
          "2023-11-08",
          "2023-11-09",
          "2023-11-10",
          "2023-11-11",
          "2023-11-12",
          "2023-11-13",
          "2023-11-14",
          "2023-11-15",
          "2023-11-16",
          "2023-11-17",
          "2023-11-18",
          "2023-11-19",
          "2023-11-20",
          "2023-11-21",
          "2023-11-22",
          "2023-11-23",
          "2023-11-24",
          "2023-11-25",
          "2023-11-26",
          "2023-11-27",
          "2023-11-28",
          "2023-11-29",
          "2023-11-30"
         ],
         "y": [
          12,
          14,
          11,
          9,
          21,
          27,
          15,
          14,
          15,
          8,
          14,
          7,
          19,
          15,
          16,
          14,
          9,
          8,
          11,
          18,
          9,
          5,
          4,
          11,
          12,
          15,
          10,
          10,
          9,
          17
         ],
         "yaxis": "y2"
        }
       ],
       "layout": {
        "annotations": [
         {
          "arrowhead": 2,
          "ax": 0,
          "ay": -40,
          "showarrow": true,
          "text": "Black Friday",
          "x": "2023-11-24",
          "y": 98.98
         }
        ],
        "barmode": "group",
        "height": 600,
        "legend": {
         "title": {
          "text": "Metrics"
         }
        },
        "template": {
         "data": {
          "bar": [
           {
            "error_x": {
             "color": "#2a3f5f"
            },
            "error_y": {
             "color": "#2a3f5f"
            },
            "marker": {
             "line": {
              "color": "#E5ECF6",
              "width": 0.5
             },
             "pattern": {
              "fillmode": "overlay",
              "size": 10,
              "solidity": 0.2
             }
            },
            "type": "bar"
           }
          ],
          "barpolar": [
           {
            "marker": {
             "line": {
              "color": "#E5ECF6",
              "width": 0.5
             },
             "pattern": {
              "fillmode": "overlay",
              "size": 10,
              "solidity": 0.2
             }
            },
            "type": "barpolar"
           }
          ],
          "carpet": [
           {
            "aaxis": {
             "endlinecolor": "#2a3f5f",
             "gridcolor": "white",
             "linecolor": "white",
             "minorgridcolor": "white",
             "startlinecolor": "#2a3f5f"
            },
            "baxis": {
             "endlinecolor": "#2a3f5f",
             "gridcolor": "white",
             "linecolor": "white",
             "minorgridcolor": "white",
             "startlinecolor": "#2a3f5f"
            },
            "type": "carpet"
           }
          ],
          "choropleth": [
           {
            "colorbar": {
             "outlinewidth": 0,
             "ticks": ""
            },
            "type": "choropleth"
           }
          ],
          "contour": [
           {
            "colorbar": {
             "outlinewidth": 0,
             "ticks": ""
            },
            "colorscale": [
             [
              0,
              "#0d0887"
             ],
             [
              0.1111111111111111,
              "#46039f"
             ],
             [
              0.2222222222222222,
              "#7201a8"
             ],
             [
              0.3333333333333333,
              "#9c179e"
             ],
             [
              0.4444444444444444,
              "#bd3786"
             ],
             [
              0.5555555555555556,
              "#d8576b"
             ],
             [
              0.6666666666666666,
              "#ed7953"
             ],
             [
              0.7777777777777778,
              "#fb9f3a"
             ],
             [
              0.8888888888888888,
              "#fdca26"
             ],
             [
              1,
              "#f0f921"
             ]
            ],
            "type": "contour"
           }
          ],
          "contourcarpet": [
           {
            "colorbar": {
             "outlinewidth": 0,
             "ticks": ""
            },
            "type": "contourcarpet"
           }
          ],
          "heatmap": [
           {
            "colorbar": {
             "outlinewidth": 0,
             "ticks": ""
            },
            "colorscale": [
             [
              0,
              "#0d0887"
             ],
             [
              0.1111111111111111,
              "#46039f"
             ],
             [
              0.2222222222222222,
              "#7201a8"
             ],
             [
              0.3333333333333333,
              "#9c179e"
             ],
             [
              0.4444444444444444,
              "#bd3786"
             ],
             [
              0.5555555555555556,
              "#d8576b"
             ],
             [
              0.6666666666666666,
              "#ed7953"
             ],
             [
              0.7777777777777778,
              "#fb9f3a"
             ],
             [
              0.8888888888888888,
              "#fdca26"
             ],
             [
              1,
              "#f0f921"
             ]
            ],
            "type": "heatmap"
           }
          ],
          "heatmapgl": [
           {
            "colorbar": {
             "outlinewidth": 0,
             "ticks": ""
            },
            "colorscale": [
             [
              0,
              "#0d0887"
             ],
             [
              0.1111111111111111,
              "#46039f"
             ],
             [
              0.2222222222222222,
              "#7201a8"
             ],
             [
              0.3333333333333333,
              "#9c179e"
             ],
             [
              0.4444444444444444,
              "#bd3786"
             ],
             [
              0.5555555555555556,
              "#d8576b"
             ],
             [
              0.6666666666666666,
              "#ed7953"
             ],
             [
              0.7777777777777778,
              "#fb9f3a"
             ],
             [
              0.8888888888888888,
              "#fdca26"
             ],
             [
              1,
              "#f0f921"
             ]
            ],
            "type": "heatmapgl"
           }
          ],
          "histogram": [
           {
            "marker": {
             "pattern": {
              "fillmode": "overlay",
              "size": 10,
              "solidity": 0.2
             }
            },
            "type": "histogram"
           }
          ],
          "histogram2d": [
           {
            "colorbar": {
             "outlinewidth": 0,
             "ticks": ""
            },
            "colorscale": [
             [
              0,
              "#0d0887"
             ],
             [
              0.1111111111111111,
              "#46039f"
             ],
             [
              0.2222222222222222,
              "#7201a8"
             ],
             [
              0.3333333333333333,
              "#9c179e"
             ],
             [
              0.4444444444444444,
              "#bd3786"
             ],
             [
              0.5555555555555556,
              "#d8576b"
             ],
             [
              0.6666666666666666,
              "#ed7953"
             ],
             [
              0.7777777777777778,
              "#fb9f3a"
             ],
             [
              0.8888888888888888,
              "#fdca26"
             ],
             [
              1,
              "#f0f921"
             ]
            ],
            "type": "histogram2d"
           }
          ],
          "histogram2dcontour": [
           {
            "colorbar": {
             "outlinewidth": 0,
             "ticks": ""
            },
            "colorscale": [
             [
              0,
              "#0d0887"
             ],
             [
              0.1111111111111111,
              "#46039f"
             ],
             [
              0.2222222222222222,
              "#7201a8"
             ],
             [
              0.3333333333333333,
              "#9c179e"
             ],
             [
              0.4444444444444444,
              "#bd3786"
             ],
             [
              0.5555555555555556,
              "#d8576b"
             ],
             [
              0.6666666666666666,
              "#ed7953"
             ],
             [
              0.7777777777777778,
              "#fb9f3a"
             ],
             [
              0.8888888888888888,
              "#fdca26"
             ],
             [
              1,
              "#f0f921"
             ]
            ],
            "type": "histogram2dcontour"
           }
          ],
          "mesh3d": [
           {
            "colorbar": {
             "outlinewidth": 0,
             "ticks": ""
            },
            "type": "mesh3d"
           }
          ],
          "parcoords": [
           {
            "line": {
             "colorbar": {
              "outlinewidth": 0,
              "ticks": ""
             }
            },
            "type": "parcoords"
           }
          ],
          "pie": [
           {
            "automargin": true,
            "type": "pie"
           }
          ],
          "scatter": [
           {
            "fillpattern": {
             "fillmode": "overlay",
             "size": 10,
             "solidity": 0.2
            },
            "type": "scatter"
           }
          ],
          "scatter3d": [
           {
            "line": {
             "colorbar": {
              "outlinewidth": 0,
              "ticks": ""
             }
            },
            "marker": {
             "colorbar": {
              "outlinewidth": 0,
              "ticks": ""
             }
            },
            "type": "scatter3d"
           }
          ],
          "scattercarpet": [
           {
            "marker": {
             "colorbar": {
              "outlinewidth": 0,
              "ticks": ""
             }
            },
            "type": "scattercarpet"
           }
          ],
          "scattergeo": [
           {
            "marker": {
             "colorbar": {
              "outlinewidth": 0,
              "ticks": ""
             }
            },
            "type": "scattergeo"
           }
          ],
          "scattergl": [
           {
            "marker": {
             "colorbar": {
              "outlinewidth": 0,
              "ticks": ""
             }
            },
            "type": "scattergl"
           }
          ],
          "scattermapbox": [
           {
            "marker": {
             "colorbar": {
              "outlinewidth": 0,
              "ticks": ""
             }
            },
            "type": "scattermapbox"
           }
          ],
          "scatterpolar": [
           {
            "marker": {
             "colorbar": {
              "outlinewidth": 0,
              "ticks": ""
             }
            },
            "type": "scatterpolar"
           }
          ],
          "scatterpolargl": [
           {
            "marker": {
             "colorbar": {
              "outlinewidth": 0,
              "ticks": ""
             }
            },
            "type": "scatterpolargl"
           }
          ],
          "scatterternary": [
           {
            "marker": {
             "colorbar": {
              "outlinewidth": 0,
              "ticks": ""
             }
            },
            "type": "scatterternary"
           }
          ],
          "surface": [
           {
            "colorbar": {
             "outlinewidth": 0,
             "ticks": ""
            },
            "colorscale": [
             [
              0,
              "#0d0887"
             ],
             [
              0.1111111111111111,
              "#46039f"
             ],
             [
              0.2222222222222222,
              "#7201a8"
             ],
             [
              0.3333333333333333,
              "#9c179e"
             ],
             [
              0.4444444444444444,
              "#bd3786"
             ],
             [
              0.5555555555555556,
              "#d8576b"
             ],
             [
              0.6666666666666666,
              "#ed7953"
             ],
             [
              0.7777777777777778,
              "#fb9f3a"
             ],
             [
              0.8888888888888888,
              "#fdca26"
             ],
             [
              1,
              "#f0f921"
             ]
            ],
            "type": "surface"
           }
          ],
          "table": [
           {
            "cells": {
             "fill": {
              "color": "#EBF0F8"
             },
             "line": {
              "color": "white"
             }
            },
            "header": {
             "fill": {
              "color": "#C8D4E3"
             },
             "line": {
              "color": "white"
             }
            },
            "type": "table"
           }
          ]
         },
         "layout": {
          "annotationdefaults": {
           "arrowcolor": "#2a3f5f",
           "arrowhead": 0,
           "arrowwidth": 1
          },
          "autotypenumbers": "strict",
          "coloraxis": {
           "colorbar": {
            "outlinewidth": 0,
            "ticks": ""
           }
          },
          "colorscale": {
           "diverging": [
            [
             0,
             "#8e0152"
            ],
            [
             0.1,
             "#c51b7d"
            ],
            [
             0.2,
             "#de77ae"
            ],
            [
             0.3,
             "#f1b6da"
            ],
            [
             0.4,
             "#fde0ef"
            ],
            [
             0.5,
             "#f7f7f7"
            ],
            [
             0.6,
             "#e6f5d0"
            ],
            [
             0.7,
             "#b8e186"
            ],
            [
             0.8,
             "#7fbc41"
            ],
            [
             0.9,
             "#4d9221"
            ],
            [
             1,
             "#276419"
            ]
           ],
           "sequential": [
            [
             0,
             "#0d0887"
            ],
            [
             0.1111111111111111,
             "#46039f"
            ],
            [
             0.2222222222222222,
             "#7201a8"
            ],
            [
             0.3333333333333333,
             "#9c179e"
            ],
            [
             0.4444444444444444,
             "#bd3786"
            ],
            [
             0.5555555555555556,
             "#d8576b"
            ],
            [
             0.6666666666666666,
             "#ed7953"
            ],
            [
             0.7777777777777778,
             "#fb9f3a"
            ],
            [
             0.8888888888888888,
             "#fdca26"
            ],
            [
             1,
             "#f0f921"
            ]
           ],
           "sequentialminus": [
            [
             0,
             "#0d0887"
            ],
            [
             0.1111111111111111,
             "#46039f"
            ],
            [
             0.2222222222222222,
             "#7201a8"
            ],
            [
             0.3333333333333333,
             "#9c179e"
            ],
            [
             0.4444444444444444,
             "#bd3786"
            ],
            [
             0.5555555555555556,
             "#d8576b"
            ],
            [
             0.6666666666666666,
             "#ed7953"
            ],
            [
             0.7777777777777778,
             "#fb9f3a"
            ],
            [
             0.8888888888888888,
             "#fdca26"
            ],
            [
             1,
             "#f0f921"
            ]
           ]
          },
          "colorway": [
           "#636efa",
           "#EF553B",
           "#00cc96",
           "#ab63fa",
           "#FFA15A",
           "#19d3f3",
           "#FF6692",
           "#B6E880",
           "#FF97FF",
           "#FECB52"
          ],
          "font": {
           "color": "#2a3f5f"
          },
          "geo": {
           "bgcolor": "white",
           "lakecolor": "white",
           "landcolor": "#E5ECF6",
           "showlakes": true,
           "showland": true,
           "subunitcolor": "white"
          },
          "hoverlabel": {
           "align": "left"
          },
          "hovermode": "closest",
          "mapbox": {
           "style": "light"
          },
          "paper_bgcolor": "white",
          "plot_bgcolor": "#E5ECF6",
          "polar": {
           "angularaxis": {
            "gridcolor": "white",
            "linecolor": "white",
            "ticks": ""
           },
           "bgcolor": "#E5ECF6",
           "radialaxis": {
            "gridcolor": "white",
            "linecolor": "white",
            "ticks": ""
           }
          },
          "scene": {
           "xaxis": {
            "backgroundcolor": "#E5ECF6",
            "gridcolor": "white",
            "gridwidth": 2,
            "linecolor": "white",
            "showbackground": true,
            "ticks": "",
            "zerolinecolor": "white"
           },
           "yaxis": {
            "backgroundcolor": "#E5ECF6",
            "gridcolor": "white",
            "gridwidth": 2,
            "linecolor": "white",
            "showbackground": true,
            "ticks": "",
            "zerolinecolor": "white"
           },
           "zaxis": {
            "backgroundcolor": "#E5ECF6",
            "gridcolor": "white",
            "gridwidth": 2,
            "linecolor": "white",
            "showbackground": true,
            "ticks": "",
            "zerolinecolor": "white"
           }
          },
          "shapedefaults": {
           "line": {
            "color": "#2a3f5f"
           }
          },
          "ternary": {
           "aaxis": {
            "gridcolor": "white",
            "linecolor": "white",
            "ticks": ""
           },
           "baxis": {
            "gridcolor": "white",
            "linecolor": "white",
            "ticks": ""
           },
           "bgcolor": "#E5ECF6",
           "caxis": {
            "gridcolor": "white",
            "linecolor": "white",
            "ticks": ""
           }
          },
          "title": {
           "x": 0.05
          },
          "xaxis": {
           "automargin": true,
           "gridcolor": "white",
           "linecolor": "white",
           "ticks": "",
           "title": {
            "standoff": 15
           },
           "zerolinecolor": "white",
           "zerolinewidth": 2
          },
          "yaxis": {
           "automargin": true,
           "gridcolor": "white",
           "linecolor": "white",
           "ticks": "",
           "title": {
            "standoff": 15
           },
           "zerolinecolor": "white",
           "zerolinewidth": 2
          }
         }
        },
        "title": {
         "text": "CPA, RPA, and Conversions over Time"
        },
        "width": 1000,
        "xaxis": {
         "title": {
          "text": "Date"
         }
        },
        "yaxis": {
         "title": {
          "text": "CPA and RPA (€)"
         }
        },
        "yaxis2": {
         "overlaying": "y",
         "side": "right",
         "title": {
          "text": "Conversions"
         }
        }
       }
      }
     },
     "metadata": {},
     "output_type": "display_data"
    }
   ],
   "source": [
    "# Plot cpa, rpa, and conversions over date\n",
    "\n",
    "def plot_cpa_rpa_spend(df, plot_width=1000, plot_height=600):\n",
    "    fig = go.Figure()\n",
    "\n",
    "    # Add lines for CPA and RPA with primary y-axis\n",
    "    fig.add_trace(go.Scatter(x=df['date'], y=df['cpa'], mode='lines', name='CPA (€)', line=dict(color='#fc5c65'), yaxis='y1'))\n",
    "    fig.add_trace(go.Scatter(x=df['date'], y=df['rpa'], mode='lines', name='RPA (€)', line=dict(color='#26de81'), yaxis='y1'))\n",
    "\n",
    "    # Add conversions as a transparent bar chart with secondary y-axis\n",
    "    fig.add_trace(go.Bar(x=df['date'], y=df['conversions'], name='Conversions', marker=dict(color='rgba(75, 126, 236, 0.6)'), yaxis='y2'))\n",
    "\n",
    "    # Add annotation for Black Friday on 24/11/2023\n",
    "    fig.add_annotation(\n",
    "        x=\"2023-11-24\", \n",
    "        y=max(df['cpa'].max(), df['rpa'].max()),  # Position at the top of the plot\n",
    "        text=\"Black Friday\",\n",
    "        showarrow=True,\n",
    "        arrowhead=2,\n",
    "        ax=0,\n",
    "        ay=-40\n",
    "    )\n",
    "\n",
    "    # Customize layout with dual y-axes\n",
    "    fig.update_layout(\n",
    "        title=\"CPA, RPA, and Conversions over Time\",\n",
    "        xaxis_title=\"Date\",\n",
    "        yaxis_title=\"CPA and RPA (€)\",\n",
    "        yaxis2=dict(\n",
    "            title=\"Conversions\",\n",
    "            overlaying=\"y\",\n",
    "            side=\"right\",\n",
    "        ),\n",
    "        barmode='group',\n",
    "        width=plot_width,\n",
    "        height=plot_height,\n",
    "        legend=dict(title=\"Metrics\")\n",
    "    )\n",
    "\n",
    "    fig.show()\n",
    "\n",
    "# Plot metrics for DE\n",
    "plot_cpa_rpa_spend(df_main_over_time[df_main_over_time.country==\"US\"])"
   ]
  },
  {
   "cell_type": "markdown",
   "id": "c31fb355",
   "metadata": {},
   "source": [
    "- The RPA is always lower than CPA, leading to negative profitability."
   ]
  }
 ],
 "metadata": {
  "kernelspec": {
   "display_name": "base",
   "language": "python",
   "name": "python3"
  },
  "language_info": {
   "codemirror_mode": {
    "name": "ipython",
    "version": 3
   },
   "file_extension": ".py",
   "mimetype": "text/x-python",
   "name": "python",
   "nbconvert_exporter": "python",
   "pygments_lexer": "ipython3",
   "version": "3.11.4"
  }
 },
 "nbformat": 4,
 "nbformat_minor": 5
}
