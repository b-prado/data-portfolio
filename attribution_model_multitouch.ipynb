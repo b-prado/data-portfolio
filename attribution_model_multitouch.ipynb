{
 "cells": [
  {
   "cell_type": "markdown",
   "id": "6df48289",
   "metadata": {},
   "source": [
    "## Problem\n",
    "\n",
    "Analyze the multi-touch attribution using the campaign_touchpoints.csv dataset.\n",
    "\n",
    "The goal is to attribute the conversions to different marketing touchpoints effectively.\n",
    "\n",
    "1) Implement a linear attribution model where each touchpoint shares equal credit for a conversion.\n",
    "\n",
    "2) Calculate the attributed conversions for each channel.\n",
    "\n",
    "3) Calculate the attributed conversions for each campaign.\n",
    "\n",
    "<br>\n",
    "\n",
    "---"
   ]
  },
  {
   "cell_type": "markdown",
   "id": "dfdb332e-b002-4798-9a11-834f0edb145a",
   "metadata": {},
   "source": [
    "# Solution"
   ]
  },
  {
   "cell_type": "code",
   "execution_count": 1,
   "id": "c8508d8e-e79f-43d0-b05e-4f5056db9d2e",
   "metadata": {
    "tags": []
   },
   "outputs": [],
   "source": [
    "# import libraries\n",
    "import pandas as pd\n",
    "import numpy as np"
   ]
  },
  {
   "cell_type": "markdown",
   "id": "9a1be4af-8172-469f-a40c-e85c40388231",
   "metadata": {
    "tags": []
   },
   "source": [
    "## Data Overview"
   ]
  },
  {
   "cell_type": "code",
   "execution_count": 2,
   "id": "8ba42389-f77f-449e-8a30-4e19eb5525e5",
   "metadata": {
    "tags": []
   },
   "outputs": [],
   "source": [
    "# Read the data\n",
    "df = pd.read_csv('data/campaign_touchpoints.csv')"
   ]
  },
  {
   "cell_type": "code",
   "execution_count": 4,
   "id": "4184e3c9-3e83-412e-b943-fdd9dd923b5c",
   "metadata": {
    "tags": []
   },
   "outputs": [
    {
     "data": {
      "text/html": [
       "<div>\n",
       "<style scoped>\n",
       "    .dataframe tbody tr th:only-of-type {\n",
       "        vertical-align: middle;\n",
       "    }\n",
       "\n",
       "    .dataframe tbody tr th {\n",
       "        vertical-align: top;\n",
       "    }\n",
       "\n",
       "    .dataframe thead th {\n",
       "        text-align: right;\n",
       "    }\n",
       "</style>\n",
       "<table border=\"1\" class=\"dataframe\">\n",
       "  <thead>\n",
       "    <tr style=\"text-align: right;\">\n",
       "      <th></th>\n",
       "      <th>user_id</th>\n",
       "      <th>campaign_id</th>\n",
       "      <th>touchpoint_id</th>\n",
       "      <th>conversion</th>\n",
       "    </tr>\n",
       "  </thead>\n",
       "  <tbody>\n",
       "    <tr>\n",
       "      <th>0</th>\n",
       "      <td>31</td>\n",
       "      <td>Campaign_3</td>\n",
       "      <td>Search Ad</td>\n",
       "      <td>1</td>\n",
       "    </tr>\n",
       "    <tr>\n",
       "      <th>1</th>\n",
       "      <td>79</td>\n",
       "      <td>Campaign_1</td>\n",
       "      <td>Display Ad</td>\n",
       "      <td>0</td>\n",
       "    </tr>\n",
       "    <tr>\n",
       "      <th>2</th>\n",
       "      <td>51</td>\n",
       "      <td>Campaign_1</td>\n",
       "      <td>Email</td>\n",
       "      <td>0</td>\n",
       "    </tr>\n",
       "    <tr>\n",
       "      <th>3</th>\n",
       "      <td>14</td>\n",
       "      <td>Campaign_2</td>\n",
       "      <td>Social Media</td>\n",
       "      <td>1</td>\n",
       "    </tr>\n",
       "    <tr>\n",
       "      <th>4</th>\n",
       "      <td>67</td>\n",
       "      <td>Campaign_2</td>\n",
       "      <td>Search Ad</td>\n",
       "      <td>1</td>\n",
       "    </tr>\n",
       "    <tr>\n",
       "      <th>...</th>\n",
       "      <td>...</td>\n",
       "      <td>...</td>\n",
       "      <td>...</td>\n",
       "      <td>...</td>\n",
       "    </tr>\n",
       "    <tr>\n",
       "      <th>995</th>\n",
       "      <td>76</td>\n",
       "      <td>Campaign_2</td>\n",
       "      <td>Search Ad</td>\n",
       "      <td>1</td>\n",
       "    </tr>\n",
       "    <tr>\n",
       "      <th>996</th>\n",
       "      <td>79</td>\n",
       "      <td>Campaign_2</td>\n",
       "      <td>Display Ad</td>\n",
       "      <td>0</td>\n",
       "    </tr>\n",
       "    <tr>\n",
       "      <th>997</th>\n",
       "      <td>49</td>\n",
       "      <td>Campaign_2</td>\n",
       "      <td>Social Media</td>\n",
       "      <td>1</td>\n",
       "    </tr>\n",
       "    <tr>\n",
       "      <th>998</th>\n",
       "      <td>35</td>\n",
       "      <td>Campaign_3</td>\n",
       "      <td>Search Ad</td>\n",
       "      <td>0</td>\n",
       "    </tr>\n",
       "    <tr>\n",
       "      <th>999</th>\n",
       "      <td>29</td>\n",
       "      <td>Campaign_1</td>\n",
       "      <td>Social Media</td>\n",
       "      <td>1</td>\n",
       "    </tr>\n",
       "  </tbody>\n",
       "</table>\n",
       "<p>1000 rows × 4 columns</p>\n",
       "</div>"
      ],
      "text/plain": [
       "     user_id campaign_id touchpoint_id  conversion\n",
       "0         31  Campaign_3     Search Ad           1\n",
       "1         79  Campaign_1    Display Ad           0\n",
       "2         51  Campaign_1         Email           0\n",
       "3         14  Campaign_2  Social Media           1\n",
       "4         67  Campaign_2     Search Ad           1\n",
       "..       ...         ...           ...         ...\n",
       "995       76  Campaign_2     Search Ad           1\n",
       "996       79  Campaign_2    Display Ad           0\n",
       "997       49  Campaign_2  Social Media           1\n",
       "998       35  Campaign_3     Search Ad           0\n",
       "999       29  Campaign_1  Social Media           1\n",
       "\n",
       "[1000 rows x 4 columns]"
      ]
     },
     "execution_count": 4,
     "metadata": {},
     "output_type": "execute_result"
    }
   ],
   "source": [
    "# Preview the data\n",
    "df"
   ]
  },
  {
   "cell_type": "markdown",
   "id": "6baf6530",
   "metadata": {},
   "source": [
    "## Multi-touch Linear Attribution Model"
   ]
  },
  {
   "cell_type": "code",
   "execution_count": 5,
   "id": "513545d0-5198-46f4-9ea5-8f950c8917bc",
   "metadata": {
    "tags": []
   },
   "outputs": [],
   "source": [
    "# For each user, check if they converted and how many touchpoints they had\n",
    "# I'll use a grouped approach: group by user_id and count the touchpoints\n",
    "df['touchpoint_count'] = df.groupby('user_id')['touchpoint_id'].transform('count')\n",
    "\n",
    "# Apply linear attribution\n",
    "# Each conversion is shared equally among all touchpoints for the same user\n",
    "df['touchpoint_credit'] = df['conversion'] / df['touchpoint_count']"
   ]
  },
  {
   "cell_type": "code",
   "execution_count": 6,
   "id": "28ec67f9-c6ca-4c31-b7ee-7ed3614ec9a8",
   "metadata": {
    "tags": []
   },
   "outputs": [
    {
     "name": "stdout",
     "output_type": "stream",
     "text": [
      "\n",
      "Output of linear attribution model\n",
      "\n"
     ]
    },
    {
     "data": {
      "text/html": [
       "<div>\n",
       "<style scoped>\n",
       "    .dataframe tbody tr th:only-of-type {\n",
       "        vertical-align: middle;\n",
       "    }\n",
       "\n",
       "    .dataframe tbody tr th {\n",
       "        vertical-align: top;\n",
       "    }\n",
       "\n",
       "    .dataframe thead th {\n",
       "        text-align: right;\n",
       "    }\n",
       "</style>\n",
       "<table border=\"1\" class=\"dataframe\">\n",
       "  <thead>\n",
       "    <tr style=\"text-align: right;\">\n",
       "      <th></th>\n",
       "      <th>user_id</th>\n",
       "      <th>campaign_id</th>\n",
       "      <th>touchpoint_id</th>\n",
       "      <th>conversion</th>\n",
       "      <th>touchpoint_count</th>\n",
       "      <th>touchpoint_credit</th>\n",
       "    </tr>\n",
       "  </thead>\n",
       "  <tbody>\n",
       "    <tr>\n",
       "      <th>0</th>\n",
       "      <td>31</td>\n",
       "      <td>Campaign_3</td>\n",
       "      <td>Search Ad</td>\n",
       "      <td>1</td>\n",
       "      <td>12</td>\n",
       "      <td>0.083333</td>\n",
       "    </tr>\n",
       "    <tr>\n",
       "      <th>1</th>\n",
       "      <td>79</td>\n",
       "      <td>Campaign_1</td>\n",
       "      <td>Display Ad</td>\n",
       "      <td>0</td>\n",
       "      <td>16</td>\n",
       "      <td>0.000000</td>\n",
       "    </tr>\n",
       "    <tr>\n",
       "      <th>2</th>\n",
       "      <td>51</td>\n",
       "      <td>Campaign_1</td>\n",
       "      <td>Email</td>\n",
       "      <td>0</td>\n",
       "      <td>5</td>\n",
       "      <td>0.000000</td>\n",
       "    </tr>\n",
       "    <tr>\n",
       "      <th>3</th>\n",
       "      <td>14</td>\n",
       "      <td>Campaign_2</td>\n",
       "      <td>Social Media</td>\n",
       "      <td>1</td>\n",
       "      <td>9</td>\n",
       "      <td>0.111111</td>\n",
       "    </tr>\n",
       "    <tr>\n",
       "      <th>4</th>\n",
       "      <td>67</td>\n",
       "      <td>Campaign_2</td>\n",
       "      <td>Search Ad</td>\n",
       "      <td>1</td>\n",
       "      <td>16</td>\n",
       "      <td>0.062500</td>\n",
       "    </tr>\n",
       "    <tr>\n",
       "      <th>...</th>\n",
       "      <td>...</td>\n",
       "      <td>...</td>\n",
       "      <td>...</td>\n",
       "      <td>...</td>\n",
       "      <td>...</td>\n",
       "      <td>...</td>\n",
       "    </tr>\n",
       "    <tr>\n",
       "      <th>995</th>\n",
       "      <td>76</td>\n",
       "      <td>Campaign_2</td>\n",
       "      <td>Search Ad</td>\n",
       "      <td>1</td>\n",
       "      <td>11</td>\n",
       "      <td>0.090909</td>\n",
       "    </tr>\n",
       "    <tr>\n",
       "      <th>996</th>\n",
       "      <td>79</td>\n",
       "      <td>Campaign_2</td>\n",
       "      <td>Display Ad</td>\n",
       "      <td>0</td>\n",
       "      <td>16</td>\n",
       "      <td>0.000000</td>\n",
       "    </tr>\n",
       "    <tr>\n",
       "      <th>997</th>\n",
       "      <td>49</td>\n",
       "      <td>Campaign_2</td>\n",
       "      <td>Social Media</td>\n",
       "      <td>1</td>\n",
       "      <td>9</td>\n",
       "      <td>0.111111</td>\n",
       "    </tr>\n",
       "    <tr>\n",
       "      <th>998</th>\n",
       "      <td>35</td>\n",
       "      <td>Campaign_3</td>\n",
       "      <td>Search Ad</td>\n",
       "      <td>0</td>\n",
       "      <td>13</td>\n",
       "      <td>0.000000</td>\n",
       "    </tr>\n",
       "    <tr>\n",
       "      <th>999</th>\n",
       "      <td>29</td>\n",
       "      <td>Campaign_1</td>\n",
       "      <td>Social Media</td>\n",
       "      <td>1</td>\n",
       "      <td>10</td>\n",
       "      <td>0.100000</td>\n",
       "    </tr>\n",
       "  </tbody>\n",
       "</table>\n",
       "<p>1000 rows × 6 columns</p>\n",
       "</div>"
      ],
      "text/plain": [
       "     user_id campaign_id touchpoint_id  conversion  touchpoint_count  \\\n",
       "0         31  Campaign_3     Search Ad           1                12   \n",
       "1         79  Campaign_1    Display Ad           0                16   \n",
       "2         51  Campaign_1         Email           0                 5   \n",
       "3         14  Campaign_2  Social Media           1                 9   \n",
       "4         67  Campaign_2     Search Ad           1                16   \n",
       "..       ...         ...           ...         ...               ...   \n",
       "995       76  Campaign_2     Search Ad           1                11   \n",
       "996       79  Campaign_2    Display Ad           0                16   \n",
       "997       49  Campaign_2  Social Media           1                 9   \n",
       "998       35  Campaign_3     Search Ad           0                13   \n",
       "999       29  Campaign_1  Social Media           1                10   \n",
       "\n",
       "     touchpoint_credit  \n",
       "0             0.083333  \n",
       "1             0.000000  \n",
       "2             0.000000  \n",
       "3             0.111111  \n",
       "4             0.062500  \n",
       "..                 ...  \n",
       "995           0.090909  \n",
       "996           0.000000  \n",
       "997           0.111111  \n",
       "998           0.000000  \n",
       "999           0.100000  \n",
       "\n",
       "[1000 rows x 6 columns]"
      ]
     },
     "execution_count": 6,
     "metadata": {},
     "output_type": "execute_result"
    }
   ],
   "source": [
    "print(\"\\nOutput of linear attribution model\\n\")\n",
    "df"
   ]
  },
  {
   "cell_type": "markdown",
   "id": "980b90fa",
   "metadata": {},
   "source": [
    "## Channels"
   ]
  },
  {
   "cell_type": "code",
   "execution_count": 7,
   "id": "d85b18ea-e135-4921-b0bc-eebf3ef43207",
   "metadata": {
    "tags": []
   },
   "outputs": [
    {
     "name": "stdout",
     "output_type": "stream",
     "text": [
      "\n",
      "Attributed conversions by touchpoint:\n"
     ]
    },
    {
     "data": {
      "text/html": [
       "<div>\n",
       "<style scoped>\n",
       "    .dataframe tbody tr th:only-of-type {\n",
       "        vertical-align: middle;\n",
       "    }\n",
       "\n",
       "    .dataframe tbody tr th {\n",
       "        vertical-align: top;\n",
       "    }\n",
       "\n",
       "    .dataframe thead th {\n",
       "        text-align: right;\n",
       "    }\n",
       "</style>\n",
       "<table border=\"1\" class=\"dataframe\">\n",
       "  <thead>\n",
       "    <tr style=\"text-align: right;\">\n",
       "      <th></th>\n",
       "      <th>touchpoint_id</th>\n",
       "      <th>touchpoint_credit</th>\n",
       "    </tr>\n",
       "  </thead>\n",
       "  <tbody>\n",
       "    <tr>\n",
       "      <th>0</th>\n",
       "      <td>Search Ad</td>\n",
       "      <td>6.105444</td>\n",
       "    </tr>\n",
       "    <tr>\n",
       "      <th>1</th>\n",
       "      <td>Email</td>\n",
       "      <td>5.050359</td>\n",
       "    </tr>\n",
       "    <tr>\n",
       "      <th>2</th>\n",
       "      <td>Display Ad</td>\n",
       "      <td>4.729050</td>\n",
       "    </tr>\n",
       "    <tr>\n",
       "      <th>3</th>\n",
       "      <td>Social Media</td>\n",
       "      <td>4.037521</td>\n",
       "    </tr>\n",
       "  </tbody>\n",
       "</table>\n",
       "</div>"
      ],
      "text/plain": [
       "  touchpoint_id  touchpoint_credit\n",
       "0     Search Ad           6.105444\n",
       "1         Email           5.050359\n",
       "2    Display Ad           4.729050\n",
       "3  Social Media           4.037521"
      ]
     },
     "execution_count": 7,
     "metadata": {},
     "output_type": "execute_result"
    }
   ],
   "source": [
    "# Calculate total conversions attributed to each touchpoint and each campaign\n",
    "# Group by touchpoint_id to sum up the credit attributed to each touchpoint\n",
    "touchpoint_conversions = df.groupby('touchpoint_id')['touchpoint_credit'].sum().reset_index()\n",
    "\n",
    "# Sort to identify the most effective touchpoints\n",
    "touchpoint_conversions = touchpoint_conversions.sort_values(by='touchpoint_credit', ascending=False)\n",
    "\n",
    "print(\"\\nAttributed conversions by touchpoint:\")\n",
    "touchpoint_conversions.reset_index(drop=True)"
   ]
  },
  {
   "cell_type": "markdown",
   "id": "59690c42",
   "metadata": {},
   "source": [
    "## Campaigns"
   ]
  },
  {
   "cell_type": "code",
   "execution_count": 8,
   "id": "71f51a4f-8a19-4de8-843a-f9fbc56130c0",
   "metadata": {
    "tags": []
   },
   "outputs": [
    {
     "name": "stdout",
     "output_type": "stream",
     "text": [
      "\n",
      "Attributed conversions by campaign:\n"
     ]
    },
    {
     "data": {
      "text/html": [
       "<div>\n",
       "<style scoped>\n",
       "    .dataframe tbody tr th:only-of-type {\n",
       "        vertical-align: middle;\n",
       "    }\n",
       "\n",
       "    .dataframe tbody tr th {\n",
       "        vertical-align: top;\n",
       "    }\n",
       "\n",
       "    .dataframe thead th {\n",
       "        text-align: right;\n",
       "    }\n",
       "</style>\n",
       "<table border=\"1\" class=\"dataframe\">\n",
       "  <thead>\n",
       "    <tr style=\"text-align: right;\">\n",
       "      <th></th>\n",
       "      <th>campaign_id</th>\n",
       "      <th>touchpoint_credit</th>\n",
       "    </tr>\n",
       "  </thead>\n",
       "  <tbody>\n",
       "    <tr>\n",
       "      <th>0</th>\n",
       "      <td>Campaign_3</td>\n",
       "      <td>7.059783</td>\n",
       "    </tr>\n",
       "    <tr>\n",
       "      <th>1</th>\n",
       "      <td>Campaign_1</td>\n",
       "      <td>6.435010</td>\n",
       "    </tr>\n",
       "    <tr>\n",
       "      <th>2</th>\n",
       "      <td>Campaign_2</td>\n",
       "      <td>6.427581</td>\n",
       "    </tr>\n",
       "  </tbody>\n",
       "</table>\n",
       "</div>"
      ],
      "text/plain": [
       "  campaign_id  touchpoint_credit\n",
       "0  Campaign_3           7.059783\n",
       "1  Campaign_1           6.435010\n",
       "2  Campaign_2           6.427581"
      ]
     },
     "execution_count": 8,
     "metadata": {},
     "output_type": "execute_result"
    }
   ],
   "source": [
    "# Similarly, group by campaign_id to calculate attributed conversions per campaign\n",
    "campaign_conversions = df.groupby('campaign_id')['touchpoint_credit'].sum().reset_index()\n",
    "\n",
    "# Sort to identify the most effective campaigns\n",
    "campaign_conversions = campaign_conversions.sort_values(by='touchpoint_credit', ascending=False)\n",
    "\n",
    "print(\"\\nAttributed conversions by campaign:\")\n",
    "campaign_conversions.reset_index(drop=True)"
   ]
  }
 ],
 "metadata": {
  "kernelspec": {
   "display_name": "base",
   "language": "python",
   "name": "python3"
  },
  "language_info": {
   "codemirror_mode": {
    "name": "ipython",
    "version": 3
   },
   "file_extension": ".py",
   "mimetype": "text/x-python",
   "name": "python",
   "nbconvert_exporter": "python",
   "pygments_lexer": "ipython3",
   "version": "3.11.4"
  }
 },
 "nbformat": 4,
 "nbformat_minor": 5
}
